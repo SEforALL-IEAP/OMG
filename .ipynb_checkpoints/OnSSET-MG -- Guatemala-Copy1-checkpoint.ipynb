{
 "cells": [
  {
   "cell_type": "markdown",
   "id": "783afe1a",
   "metadata": {},
   "source": [
    "# Open Source Spatial Electrification Toolkit for Mini Grids (OnSSET-MG)\n",
    "\n",
    "**OnSSET-MG** is a modified version of the Open Source Spatial Electrification Toolkit ([OnSSET](https://github.com/OnSSET)) that is dedicated to the Mini Grid design. The tool performs two key tasks: a) sizing of mini grid components and b) automated design of the distribution network."
   ]
  },
  {
   "cell_type": "markdown",
   "id": "0bd9918a",
   "metadata": {},
   "source": [
    "Developed by: [SEforALL UIEP Team](https://www.seforall.org/programmes/universal-integrated-energy-plans) for the training activity in Guatemala in June 2024!\n",
    "\n",
    "-------------------------------------------"
   ]
  },
  {
   "cell_type": "markdown",
   "id": "871a951a",
   "metadata": {},
   "source": [
    "This notebook is structured as follows: \n",
    "\n",
    "1. **Importing python libraries:** This section outlines the process for importing the required Python libraries or packages needed for the analysis\n",
    "2. **Defining working space:** Define the folder structure for storing and organizing data used in the notebook. This includes specifying locations for downloaded datasets, processed data, and any output files\n",
    "\n",
    "3. **Importing Datasets:** Import the key datasets required to run the code. This includes:\n",
    "    * Community alpha shape (cluster) --> vector polygon\n",
    "    * Building dataset --> vector polygon (or point)\n",
    "    * PV related environmental data --> .csv format\n",
    "    * Load profile -->  .csv format<br>\n",
    "    <br>\n",
    "4. **Technical and economic assumptions:** This section outlines any economic and technical assumptions made during the analysis\n",
    "\n",
    "5. **Optimization for Generation Sizing:** This section describes the optimization process for determining the optimal hybrid generation based on the imported data\n",
    "\n",
    "6. **Distribution Network Sizing:** Here a design of the distribution network for the Mini grid is generated\n",
    "\n",
    "7. **Analysis:** Some analysis are conducted highlighting the flexibility and advantages of using Python\n",
    "\n",
    "8. **Results:** Examples on how to export results from the model are showed\n",
    "\n",
    "--------------------------------------"
   ]
  },
  {
   "cell_type": "markdown",
   "id": "2b72b855",
   "metadata": {},
   "source": [
    "## 1. Importing python libraries required"
   ]
  },
  {
   "cell_type": "code",
   "execution_count": 1,
   "id": "e5322690",
   "metadata": {},
   "outputs": [],
   "source": [
    "## These are some essential Python packages for data science tasks. \n",
    "## They are widely used in various scripts because their combination allows to perform a powerful series of operations on data.\n",
    "\n",
    "import numpy as np\n",
    "import pandas as pd\n",
    "import matplotlib.pyplot as plt\n",
    "import os\n",
    "import time\n",
    "import math\n",
    "import warnings\n",
    "warnings.filterwarnings('ignore')\n",
    "\n",
    "## There are packages related to working with geospatial data and performing spatial analysis. \n",
    "## They allow you to represent and manipulate geographical features and data\n",
    "\n",
    "#import geopandas as gpd\n",
    "import shapely\n",
    "from shapely.geometry import LineString, Point, MultiLineString, Polygon, MultiPoint\n",
    "from shapely.ops import linemerge, nearest_points, unary_union, split, substring, voronoi_diagram\n",
    "from shapely import minimum_rotated_rectangle, unary_union\n",
    "from scipy.spatial import Voronoi, cKDTree\n",
    "import networkx as nx\n",
    "from scipy.optimize import Bounds, differential_evolution"
   ]
  },
  {
   "cell_type": "markdown",
   "id": "e50e71e0",
   "metadata": {},
   "source": [
    "We also need to import some additional functions coded by the developers to:\n",
    "* Optimize MG component sizing --> [Hybrids.py](./Hybrids.py)\n",
    "* Automation of distribution design --> [dist_funcs.py](./dist_funcs.py)"
   ]
  },
  {
   "cell_type": "code",
   "execution_count": 108,
   "id": "13111e65",
   "metadata": {},
   "outputs": [],
   "source": [
    "from hybrids import *\n",
    "from dist_funcs import *"
   ]
  },
  {
   "cell_type": "markdown",
   "id": "89141141",
   "metadata": {},
   "source": [
    " "
   ]
  },
  {
   "cell_type": "markdown",
   "id": "46570d96",
   "metadata": {},
   "source": [
    "## 2. Defining folders"
   ]
  },
  {
   "cell_type": "code",
   "execution_count": 3,
   "id": "6edf2877",
   "metadata": {},
   "outputs": [],
   "source": [
    "## Get the root directory\n",
    "ROOT_DIR = os.path.abspath(os.curdir)\n",
    "\n",
    "## Input folder \n",
    "admin_path = os.path.join(ROOT_DIR, \"Input_data\")\n",
    "if not os.path.exists(admin_path):\n",
    "    os.makedirs(admin_path)\n",
    "    \n",
    "##PV Data Folder\n",
    "pv_data_folder = admin_path + \"\\\\\" + \"pv\"\n",
    "if not os.path.exists(pv_data_folder):\n",
    "    os.makedirs(pv_data_folder)\n",
    "\n",
    "## Output folder \n",
    "outpath = os.path.join(ROOT_DIR, \"Output_Data\")\n",
    "if not os.path.exists(outpath):\n",
    "    os.makedirs(outpath)"
   ]
  },
  {
   "cell_type": "markdown",
   "id": "80a07d8d",
   "metadata": {},
   "source": [
    " "
   ]
  },
  {
   "cell_type": "markdown",
   "id": "8fafe16b",
   "metadata": {},
   "source": [
    "## 3. Importing Datasets"
   ]
  },
  {
   "cell_type": "markdown",
   "id": "a3ed9fdf",
   "metadata": {},
   "source": [
    "The model effectively runs based on four datasets:\n",
    "\n",
    "\n",
    "1. **Community alpha shape (cluster)** --> vector polygon data that characterize the boundary area of the community<br>\n",
    "\n",
    "2. **PV related environmental data** --> .csv format dataset that provides info re the Global Horizontal Irradiation (GHI) and temperature of the location\n",
    "\n",
    "3. **Building dataset**--> vector polygon (or point) data that characterize the structures/buildings withing the community\n",
    "\n",
    "4. **Load profile** --> .csv format dataset that aggregates the total electricity demand for the mini grid"
   ]
  },
  {
   "cell_type": "markdown",
   "id": "6468eb47-ad39-49ee-96b0-b429da750abf",
   "metadata": {},
   "source": [
    "### First, please provide the CRS suitable for your Area of Interest\n",
    "\n",
    "When calculating distances it is important to choose a coordinate system that represents distances correctly in your area of interest. The coordinate system that is given below is the World Mercator, these coordinate system works well for Sub Saharan Africa but the distortions get larger as you move away from the equator.\n",
    "\n",
    "In order to select your own coordinate system go to [epsg.io](http://epsg.io/) and type in your area of interest, this will give you a list of coordinate systems to choose from. Once you have selected your coordinate system replace the numbers below with the numbers from your coordinate system **(keep the \\\"EPSG\\\" part)**.\n",
    "\n",
    "**NOTE** When selecting your projection (target) coordinate system make sure that you select a system with the unit of meters."
   ]
  },
  {
   "cell_type": "code",
   "execution_count": 4,
   "id": "108d221d",
   "metadata": {},
   "outputs": [],
   "source": [
    "origin_crs = 'EPSG:4326'   ### WGS84 \n",
    "target_crs = 'EPSG:32615' ### For Guatemala"
   ]
  },
  {
   "cell_type": "markdown",
   "id": "80c39213",
   "metadata": {},
   "source": [
    "### And the name of the community\n",
    "\n",
    "Note that this should match the name of the community in the GIS layer containing the community boundaries.."
   ]
  },
  {
   "cell_type": "code",
   "execution_count": 5,
   "id": "b68f69ff",
   "metadata": {},
   "outputs": [],
   "source": [
    "community = \"ALDEA MANAJA\""
   ]
  },
  {
   "cell_type": "markdown",
   "id": "acb54d8e-93c1-4966-8aa0-b9be184343a0",
   "metadata": {},
   "source": [
    " "
   ]
  },
  {
   "cell_type": "markdown",
   "id": "61359a72",
   "metadata": {},
   "source": [
    "### 3.1 Community alpha shape (cluster)"
   ]
  },
  {
   "cell_type": "code",
   "execution_count": 6,
   "id": "7e835729",
   "metadata": {},
   "outputs": [],
   "source": [
    "## Read the layer indicating the alpha shape of the community (.shp | .gpkg | .geojson)\n",
    "cluster_polygons = gpd.read_file(r'Input_Data\\{}.gpkg'.format(community))"
   ]
  },
  {
   "cell_type": "markdown",
   "id": "c8ecc1bc",
   "metadata": {},
   "source": [
    "Data exploration is a crucial step in any data analysis process. It allows identification of key characteristics and potential issues within the data. While the data stored in *cluster_polygons* has been preprocessed in QGIS for this specific exercise, the script's functionality relies on a consistent data structure that aligns with its expected input.  From the variable *cluster_polygons*, there are three values that can be extracted: id, COMUNIDAD and geometry, being of interest the use of the geometry column."
   ]
  },
  {
   "cell_type": "code",
   "execution_count": 7,
   "id": "6982e96d",
   "metadata": {},
   "outputs": [
    {
     "data": {
      "text/html": [
       "<div>\n",
       "<style scoped>\n",
       "    .dataframe tbody tr th:only-of-type {\n",
       "        vertical-align: middle;\n",
       "    }\n",
       "\n",
       "    .dataframe tbody tr th {\n",
       "        vertical-align: top;\n",
       "    }\n",
       "\n",
       "    .dataframe thead th {\n",
       "        text-align: right;\n",
       "    }\n",
       "</style>\n",
       "<table border=\"1\" class=\"dataframe\">\n",
       "  <thead>\n",
       "    <tr style=\"text-align: right;\">\n",
       "      <th></th>\n",
       "      <th>id</th>\n",
       "      <th>COMUNIDAD</th>\n",
       "      <th>ÁREA</th>\n",
       "      <th>geometry</th>\n",
       "    </tr>\n",
       "  </thead>\n",
       "  <tbody>\n",
       "    <tr>\n",
       "      <th>0</th>\n",
       "      <td>None</td>\n",
       "      <td>ALDEA MANAJA</td>\n",
       "      <td>None</td>\n",
       "      <td>MULTIPOLYGON (((-91.72597 15.36109, -91.72634 ...</td>\n",
       "    </tr>\n",
       "  </tbody>\n",
       "</table>\n",
       "</div>"
      ],
      "text/plain": [
       "     id     COMUNIDAD  ÁREA                                           geometry\n",
       "0  None  ALDEA MANAJA  None  MULTIPOLYGON (((-91.72597 15.36109, -91.72634 ..."
      ]
     },
     "execution_count": 7,
     "metadata": {},
     "output_type": "execute_result"
    }
   ],
   "source": [
    "cluster_polygons"
   ]
  },
  {
   "cell_type": "code",
   "execution_count": 8,
   "id": "f157ca83",
   "metadata": {},
   "outputs": [
    {
     "data": {
      "image/png": "[encoded data removed]",
      "text/plain": [
       "<Figure size 300x300 with 1 Axes>"
      ]
     },
     "metadata": {},
     "output_type": "display_data"
    }
   ],
   "source": [
    "# Vizualizing the community in focus\n",
    "fig, ax = plt.subplots(figsize=(3, 3))\n",
    "cluster_polygons.plot(ax=ax, edgecolor='black', alpha=0.2)\n",
    "ax.set_aspect('equal', 'box')\n",
    "txt = ax.set_title('{}'.format(community), size=8)\n",
    "ax.tick_params(axis='x', labelcolor='black', labelsize=6)\n",
    "ax.tick_params(axis='y', labelcolor='black', labelsize=6)"
   ]
  },
  {
   "cell_type": "markdown",
   "id": "22e3b4ff-3e41-4187-960e-c3358d6058cc",
   "metadata": {},
   "source": [
    " "
   ]
  },
  {
   "cell_type": "markdown",
   "id": "f4c6c5a1",
   "metadata": {},
   "source": [
    "### 3.2 Environmental characteristics: retrieving GHI and temperature"
   ]
  },
  {
   "cell_type": "markdown",
   "id": "ebb91e4a",
   "metadata": {},
   "source": [
    "The Global Horizontal Irradiation (GHI) and temperature data can be retrieved from [renewables ninja](https://www.renewables.ninja). Before proceeding, please consult the [documentation](https://www.renewables.ninja/documentation) as creating a user account and password is necessary to generate a token for downloading specific data. You can do this by following the steps below:\n",
    "1. Create a free account on the Renewables.ninja [website](https://www.renewables.ninja/register). Once registered, users gain the ability to download datasets and utilize the API for programmatic data retrieval.<br>\n",
    "<br>\n",
    "2. Log in. To access a personal API token, navigate to the profile by clicking on the symbol in the top right corner (usually a profile picture or icon) on [profile](https://www.renewables.ninja/profile).<br>\n",
    "<br>\n",
    "3. Within the profile settings, users can find their unique API token. This token should be copied and pasted between quotation marks (token = 'your_token_here') when using the API in the code."
   ]
  },
  {
   "cell_type": "code",
   "execution_count": 9,
   "id": "f5ea4927",
   "metadata": {},
   "outputs": [],
   "source": [
    "longitude = cluster_polygons.geometry.centroid.x[0]    ## retrieved using the centroid of the polygon\n",
    "latitude = cluster_polygons.geometry.centroid.y[0]     ## retrieved using the centroid of the polygon"
   ]
  },
  {
   "cell_type": "code",
   "execution_count": 10,
   "id": "673ab42e",
   "metadata": {},
   "outputs": [],
   "source": [
    "token = '34ce766540933809df4967bbe4905806dc587bfb'     ## To be retrieved through renewables ninja"
   ]
  },
  {
   "cell_type": "markdown",
   "id": "8c9ce295",
   "metadata": {},
   "source": [
    "**Execute the data acquisition function**"
   ]
  },
  {
   "cell_type": "code",
   "execution_count": 11,
   "id": "caa9a4a7",
   "metadata": {},
   "outputs": [],
   "source": [
    "get_pv_data(latitude, longitude, token, pv_data_folder)"
   ]
  },
  {
   "cell_type": "markdown",
   "id": "8be12bbc",
   "metadata": {},
   "source": [
    "By executing the function a Comma-Separated Values (CSV) file named pv_data_lat_yyyy_long_xxxx.csv should have been downloaded. In case that there have been changes in the latitude, longitude coordinates, the name of the file (yyyy,xxxx) will be different. This file contains the following data:\n",
    "\n",
    "+ time: Structured in hourly format.\n",
    "+ ghi: Units are in watt-hours (Wh).\n",
    "+ temperature: Units are in degrees Celsius (°C)."
   ]
  },
  {
   "cell_type": "markdown",
   "id": "8dc7139b",
   "metadata": {},
   "source": [
    "| time                     | ghi | temperature |\n",
    "|--------------------------|-----|-------------|\n",
    "| 2019-12-31 18:00:00-06:00| 0.0 | 23.407       |\n",
    "| 2019-12-31 19:00:00-06:00| 0.0 | 22.95       |\n"
   ]
  },
  {
   "cell_type": "markdown",
   "id": "6c4bd985",
   "metadata": {},
   "source": [
    "Finally, the read_environmental_data function defines two variables to extract 8,760 values for GHI and temperature. The function is designed to output two NumPy arrays containing this data. \n",
    "\n",
    "**Important Note**: If better access to higher-quality environmental data is available, it should be formatted identically to the expected structure of hourly_ghi and hourly_temp.."
   ]
  },
  {
   "cell_type": "code",
   "execution_count": 12,
   "id": "0c017827",
   "metadata": {},
   "outputs": [],
   "source": [
    "hourly_ghi, hourly_temp = read_environmental_data(os.path.join(pv_data_folder, 'pv_data_lat_{}_long_{}.csv'.format(latitude, longitude)))"
   ]
  },
  {
   "cell_type": "markdown",
   "id": "ca25a8b8",
   "metadata": {},
   "source": [
    " "
   ]
  },
  {
   "cell_type": "markdown",
   "id": "7137c428",
   "metadata": {},
   "source": [
    "### 3.3 Building footprints"
   ]
  },
  {
   "cell_type": "markdown",
   "id": "c0522330",
   "metadata": {},
   "source": [
    "Building footprints provide information on the location of houses to be electrified, which is crucial for determining the size of the minigrid's distribution network. Here, we are using data from [Google-Microsoft Open Buildings by VIDA](https://beta.source.coop/vida/google-microsoft-open-buildings/). The data can be downloaded directly from the link under the Download section on the provided link. \n",
    "\n",
    "The downloaded file will be in .fgb format and is quite large (around 2.2 GB for Guatemala). To optimize local resources, it is a good practice to clip the data in QGIS before using it in a notebook. Sample buildings withing \"Input_Data\" for \"Aldea Manaja\" have already been extracted for this exercise."
   ]
  },
  {
   "cell_type": "code",
   "execution_count": 13,
   "id": "1ff77b2b",
   "metadata": {},
   "outputs": [],
   "source": [
    "households = gpd.read_file(r'Input_Data\\{} blds.gpkg'.format(community))"
   ]
  },
  {
   "cell_type": "code",
   "execution_count": 14,
   "id": "cee16b83",
   "metadata": {},
   "outputs": [
    {
     "data": {
      "text/html": [
       "<div>\n",
       "<style scoped>\n",
       "    .dataframe tbody tr th:only-of-type {\n",
       "        vertical-align: middle;\n",
       "    }\n",
       "\n",
       "    .dataframe tbody tr th {\n",
       "        vertical-align: top;\n",
       "    }\n",
       "\n",
       "    .dataframe thead th {\n",
       "        text-align: right;\n",
       "    }\n",
       "</style>\n",
       "<table border=\"1\" class=\"dataframe\">\n",
       "  <thead>\n",
       "    <tr style=\"text-align: right;\">\n",
       "      <th></th>\n",
       "      <th>boundary_id</th>\n",
       "      <th>bf_source</th>\n",
       "      <th>confidence</th>\n",
       "      <th>area_in_meters</th>\n",
       "      <th>geometry</th>\n",
       "    </tr>\n",
       "  </thead>\n",
       "  <tbody>\n",
       "    <tr>\n",
       "      <th>0</th>\n",
       "      <td>41</td>\n",
       "      <td>google</td>\n",
       "      <td>0.8065</td>\n",
       "      <td>61.6836</td>\n",
       "      <td>POLYGON ((-91.72510 15.36188, -91.72512 15.361...</td>\n",
       "    </tr>\n",
       "    <tr>\n",
       "      <th>1</th>\n",
       "      <td>41</td>\n",
       "      <td>google</td>\n",
       "      <td>0.8895</td>\n",
       "      <td>116.7294</td>\n",
       "      <td>POLYGON ((-91.72493 15.36203, -91.72497 15.362...</td>\n",
       "    </tr>\n",
       "    <tr>\n",
       "      <th>2</th>\n",
       "      <td>41</td>\n",
       "      <td>google</td>\n",
       "      <td>0.7894</td>\n",
       "      <td>16.4130</td>\n",
       "      <td>POLYGON ((-91.72497 15.36262, -91.72498 15.362...</td>\n",
       "    </tr>\n",
       "  </tbody>\n",
       "</table>\n",
       "</div>"
      ],
      "text/plain": [
       "   boundary_id bf_source  confidence  area_in_meters  \\\n",
       "0           41    google      0.8065         61.6836   \n",
       "1           41    google      0.8895        116.7294   \n",
       "2           41    google      0.7894         16.4130   \n",
       "\n",
       "                                            geometry  \n",
       "0  POLYGON ((-91.72510 15.36188, -91.72512 15.361...  \n",
       "1  POLYGON ((-91.72493 15.36203, -91.72497 15.362...  \n",
       "2  POLYGON ((-91.72497 15.36262, -91.72498 15.362...  "
      ]
     },
     "execution_count": 14,
     "metadata": {},
     "output_type": "execute_result"
    }
   ],
   "source": [
    "households.head(3)"
   ]
  },
  {
   "cell_type": "markdown",
   "id": "5d85b689",
   "metadata": {},
   "source": [
    "-----------------------------"
   ]
  },
  {
   "cell_type": "markdown",
   "id": "05e8e627",
   "metadata": {},
   "source": [
    "Another potential resource is [Open Buildings](https://sites.research.google/open-buildings/). One can download the building data by country or by providing the polygon WTK file for the community (see two lines of code below)."
   ]
  },
  {
   "cell_type": "code",
   "execution_count": 15,
   "id": "e2a36865",
   "metadata": {},
   "outputs": [],
   "source": [
    "#wtk = cluster_polygons.geometry.buffer(0.01)\n",
    "#print(wtk[0])"
   ]
  },
  {
   "cell_type": "markdown",
   "id": "0f6c4b11",
   "metadata": {},
   "source": [
    "---------------------------------"
   ]
  },
  {
   "cell_type": "code",
   "execution_count": 16,
   "id": "b0974d36",
   "metadata": {},
   "outputs": [
    {
     "data": {
      "image/png": "[encoded data removed]",
      "text/plain": [
       "<Figure size 500x500 with 1 Axes>"
      ]
     },
     "metadata": {},
     "output_type": "display_data"
    }
   ],
   "source": [
    "# Vizualizing structures within the community in focus\n",
    "fig, ax = plt.subplots(figsize=(5, 5))\n",
    "cluster_polygons.plot(ax=ax, edgecolor='black', alpha=0.2)\n",
    "households.plot(ax=ax, edgecolor='red', alpha=0.2)\n",
    "ax.set_aspect('equal', 'box')\n",
    "txt = ax.set_title('{}'.format(community), size=8)\n",
    "ax.tick_params(axis='x', labelcolor='black', labelsize=6)\n",
    "ax.tick_params(axis='y', labelcolor='black', labelsize=6)"
   ]
  },
  {
   "cell_type": "code",
   "execution_count": 17,
   "id": "696aad32",
   "metadata": {},
   "outputs": [
    {
     "name": "stdout",
     "output_type": "stream",
     "text": [
      "Total structures: 125\n",
      "area_in_meters\n",
      "<20 m2       15\n",
      "20-50 m2     36\n",
      "50-150 m2    63\n",
      ">150 m2      11\n",
      "Name: count, dtype: int64\n"
     ]
    }
   ],
   "source": [
    "# Define bins and labels\n",
    "bins = [0, 20, 50, 150, float('inf')]\n",
    "labels = ['<20 m2', '20-50 m2', '50-150 m2', '>150 m2']\n",
    "\n",
    "# Calculate the statistics without adding a new column\n",
    "area_brackets = pd.cut(households['area_in_meters'], bins=bins, labels=labels, right=False)\n",
    "bracket_stats = area_brackets.value_counts().sort_index()\n",
    "\n",
    "# Add the total sum as value per column\n",
    "for label in labels:\n",
    "    cluster_polygons[label] = bracket_stats[label]\n",
    "\n",
    "\n",
    "print (\"Total structures:\", households.shape[0])\n",
    "print (bracket_stats)"
   ]
  },
  {
   "cell_type": "markdown",
   "id": "47e46210",
   "metadata": {},
   "source": [
    "### 3.2 Demand"
   ]
  },
  {
   "cell_type": "markdown",
   "id": "ce9d353c",
   "metadata": {},
   "source": [
    "There are two primary methods for acquiring demand data:\n",
    "\n",
    "**OPTION 1.** Rough assumption of type of customers (based on developers experience) + indicative load curves per type\n",
    "\n",
    "**OPTION 2.** Site-Specific Data --> more detailed load profile per type of user (if available)"
   ]
  },
  {
   "cell_type": "markdown",
   "id": "89eccdcb",
   "metadata": {},
   "source": [
    " ------------------------------"
   ]
  },
  {
   "cell_type": "markdown",
   "id": "8d680585",
   "metadata": {},
   "source": [
    "#### OPTION 1. Load profile estimation based on predefined archetypes"
   ]
  },
  {
   "cell_type": "markdown",
   "id": "e142fb4e",
   "metadata": {},
   "source": [
    "Under this approach, number of customers and demand load curves per type of customer are derived based on empirical data. You can find the sample load curves in [Input_data](./Input_data)."
   ]
  },
  {
   "cell_type": "markdown",
   "id": "e68d4c08",
   "metadata": {},
   "source": [
    "#### Rough prediction of customer per type (residential bundle A, bundle B, bundle C, SME or PUE)"
   ]
  },
  {
   "cell_type": "code",
   "execution_count": 18,
   "id": "0a3adf15",
   "metadata": {},
   "outputs": [],
   "source": [
    "reasonablecons = 0.7        ## Connectivity rate of structures\n",
    "smeshare = 0.08             ## Share of sme customers as % of total potential connections\n",
    "bundleCshare = 0.08         ## Share of Residential Bundle C customers as % of total potential connections\n",
    "bundleBshare = 0.36         ## Share of Residential Bundle B customers as % of total potential connections\n",
    "\n",
    "\n",
    "cluster_polygons[\"Connections_All\"] = np.ceil(cluster_polygons[\"<20 m2\"] + \n",
    "                               cluster_polygons[\"20-50 m2\"]+ \n",
    "                               cluster_polygons[\"50-150 m2\"]+ \n",
    "                               cluster_polygons[\">150 m2\"]).astype(int)\n",
    "\n",
    "cluster_polygons[\"Potential_Con\"] = np.ceil(cluster_polygons[\"Connections_All\"]*reasonablecons)\n",
    "\n",
    "def assignPUoE(a, b, c, d, e):\n",
    "    puoe = int(round(-2.913362564 + (-0.00415764*a) + (0.008440603*b) + (0.016433547*c) + (0.722331464*d) + (-0.040674586*e),0))\n",
    "    if puoe <=0:\n",
    "        return 0\n",
    "    else:\n",
    "        return puoe\n",
    "\n",
    "cluster_polygons[\"PUoE\"] = cluster_polygons.apply(lambda row: assignPUoE(row[\"<20 m2\"],\n",
    "                                             row[\"20-50 m2\"],\n",
    "                                             row[\"50-150 m2\"],\n",
    "                                             row[\">150 m2\"],\n",
    "                                             0), axis=1)\n",
    "\n",
    "cluster_polygons[\"SME\"] = np.ceil((cluster_polygons[\"Potential_Con\"] - cluster_polygons[\"PUoE\"])*smeshare)\n",
    "    \n",
    "cluster_polygons[\"ResC\"] = np.ceil((cluster_polygons[\"Potential_Con\"] - cluster_polygons[\"PUoE\"])*bundleCshare)\n",
    "                     \n",
    "cluster_polygons[\"ResB\"] = np.ceil((cluster_polygons[\"Potential_Con\"] - cluster_polygons[\"PUoE\"])*bundleBshare)\n",
    "                     \n",
    "cluster_polygons[\"ResA\"] = (cluster_polygons[\"Potential_Con\"] - cluster_polygons[\"PUoE\"] - cluster_polygons[\"SME\"] - cluster_polygons[\"ResC\"]- cluster_polygons[\"ResB\"])"
   ]
  },
  {
   "cell_type": "code",
   "execution_count": 19,
   "id": "bdf328c0",
   "metadata": {},
   "outputs": [
    {
     "data": {
      "text/html": [
       "<div>\n",
       "<style scoped>\n",
       "    .dataframe tbody tr th:only-of-type {\n",
       "        vertical-align: middle;\n",
       "    }\n",
       "\n",
       "    .dataframe tbody tr th {\n",
       "        vertical-align: top;\n",
       "    }\n",
       "\n",
       "    .dataframe thead th {\n",
       "        text-align: right;\n",
       "    }\n",
       "</style>\n",
       "<table border=\"1\" class=\"dataframe\">\n",
       "  <thead>\n",
       "    <tr style=\"text-align: right;\">\n",
       "      <th></th>\n",
       "      <th>id</th>\n",
       "      <th>COMUNIDAD</th>\n",
       "      <th>ÁREA</th>\n",
       "      <th>geometry</th>\n",
       "      <th>&lt;20 m2</th>\n",
       "      <th>20-50 m2</th>\n",
       "      <th>50-150 m2</th>\n",
       "      <th>&gt;150 m2</th>\n",
       "      <th>Connections_All</th>\n",
       "      <th>Potential_Con</th>\n",
       "      <th>PUoE</th>\n",
       "      <th>SME</th>\n",
       "      <th>ResC</th>\n",
       "      <th>ResB</th>\n",
       "      <th>ResA</th>\n",
       "    </tr>\n",
       "  </thead>\n",
       "  <tbody>\n",
       "    <tr>\n",
       "      <th>0</th>\n",
       "      <td>None</td>\n",
       "      <td>ALDEA MANAJA</td>\n",
       "      <td>None</td>\n",
       "      <td>MULTIPOLYGON (((-91.72597 15.36109, -91.72634 ...</td>\n",
       "      <td>15</td>\n",
       "      <td>36</td>\n",
       "      <td>63</td>\n",
       "      <td>11</td>\n",
       "      <td>125</td>\n",
       "      <td>88.0</td>\n",
       "      <td>6</td>\n",
       "      <td>7.0</td>\n",
       "      <td>7.0</td>\n",
       "      <td>30.0</td>\n",
       "      <td>38.0</td>\n",
       "    </tr>\n",
       "  </tbody>\n",
       "</table>\n",
       "</div>"
      ],
      "text/plain": [
       "     id     COMUNIDAD  ÁREA  \\\n",
       "0  None  ALDEA MANAJA  None   \n",
       "\n",
       "                                            geometry  <20 m2  20-50 m2  \\\n",
       "0  MULTIPOLYGON (((-91.72597 15.36109, -91.72634 ...      15        36   \n",
       "\n",
       "   50-150 m2  >150 m2  Connections_All  Potential_Con  PUoE  SME  ResC  ResB  \\\n",
       "0         63       11              125           88.0     6  7.0   7.0  30.0   \n",
       "\n",
       "   ResA  \n",
       "0  38.0  "
      ]
     },
     "execution_count": 19,
     "metadata": {},
     "output_type": "execute_result"
    }
   ],
   "source": [
    "cluster_polygons"
   ]
  },
  {
   "cell_type": "markdown",
   "id": "8dabd53e",
   "metadata": {},
   "source": [
    " "
   ]
  },
  {
   "cell_type": "code",
   "execution_count": 20,
   "id": "d7770c44",
   "metadata": {},
   "outputs": [],
   "source": [
    "#load_curve = calc_load_curve(tier_load, total_demand)\n",
    "load_curve = calc_load_curve(cluster_polygons[\"ResA\"][0],\n",
    "                             cluster_polygons[\"ResB\"][0],\n",
    "                             cluster_polygons[\"ResC\"][0],\n",
    "                             cluster_polygons[\"SME\"][0],\n",
    "                             cluster_polygons[\"PUoE\"][0])"
   ]
  },
  {
   "cell_type": "markdown",
   "id": "9d76c121",
   "metadata": {},
   "source": [
    "----------------------------------"
   ]
  },
  {
   "cell_type": "markdown",
   "id": "9fd63e06",
   "metadata": {
    "jp-MarkdownHeadingCollapsed": true
   },
   "source": [
    "#### OPTION 2. Site-Specific Data (if available)"
   ]
  },
  {
   "cell_type": "markdown",
   "id": "199e2972",
   "metadata": {},
   "source": [
    "This approach requires that demand load curves adhere to a specific data structure to be compatible with the *load_curve* variable. This format requires 8760 hourly values representing hourly consumption in kiloWatts. \n",
    "\n",
    "An example is provided below, utilizing and processing data from an study focused on [electricity demand of rural households](https://www.research-collection.ethz.ch/handle/20.500.11850/533773). This data exemplifies a demand for 30 households located in San Gaspar Ixchil, Huehuetenango. \n",
    "\n",
    "The provided data has undergone pre-processing and incorporates 8760 hourly demand values in kiloWatts, categorized by structure. For this specific scenario, data upload simply involves incorporating the data into the notebook and assigning it to the *load_curve* variable."
   ]
  },
  {
   "cell_type": "markdown",
   "id": "a0c4bc59",
   "metadata": {},
   "source": [
    "First, the number of structures per type should be defined. This describes the total number of structures in the community."
   ]
  },
  {
   "cell_type": "code",
   "execution_count": 21,
   "id": "7f85b3c1",
   "metadata": {},
   "outputs": [],
   "source": [
    "# Dictionary with the number of connections\n",
    "connections = {\n",
    "    'Res_BundleA': 5,     ## no of connections in residential bundle A\n",
    "    'Res_BundleB': 15,    ## no of connections in residential bundle A\n",
    "    'Res_BundleC': 20,    ## no of connections in residential bundle A\n",
    "    'SME': 5,      ## no of SME connections\n",
    "    'PUE': 3       ## no of PUE connections\n",
    "}"
   ]
  },
  {
   "cell_type": "markdown",
   "id": "3cf1e654",
   "metadata": {},
   "source": [
    "Then, we import the demand per structure defined by the user.  The data should follow the format of the sample folder *\"demand_per_connection_type.csv\"* in [Input_data](./Input_data)."
   ]
  },
  {
   "cell_type": "code",
   "execution_count": 22,
   "id": "8dd82bf9",
   "metadata": {},
   "outputs": [
    {
     "data": {
      "text/html": [
       "<div>\n",
       "<style scoped>\n",
       "    .dataframe tbody tr th:only-of-type {\n",
       "        vertical-align: middle;\n",
       "    }\n",
       "\n",
       "    .dataframe tbody tr th {\n",
       "        vertical-align: top;\n",
       "    }\n",
       "\n",
       "    .dataframe thead th {\n",
       "        text-align: right;\n",
       "    }\n",
       "</style>\n",
       "<table border=\"1\" class=\"dataframe\">\n",
       "  <thead>\n",
       "    <tr style=\"text-align: right;\">\n",
       "      <th></th>\n",
       "      <th>Step</th>\n",
       "      <th>Res_BundleA</th>\n",
       "      <th>Res_BundleB</th>\n",
       "      <th>Res_BundleC</th>\n",
       "      <th>SME</th>\n",
       "      <th>PUE</th>\n",
       "    </tr>\n",
       "  </thead>\n",
       "  <tbody>\n",
       "    <tr>\n",
       "      <th>0</th>\n",
       "      <td>1</td>\n",
       "      <td>0.002225</td>\n",
       "      <td>0</td>\n",
       "      <td>0</td>\n",
       "      <td>0</td>\n",
       "      <td>0</td>\n",
       "    </tr>\n",
       "    <tr>\n",
       "      <th>1</th>\n",
       "      <td>2</td>\n",
       "      <td>0.002477</td>\n",
       "      <td>0</td>\n",
       "      <td>0</td>\n",
       "      <td>0</td>\n",
       "      <td>0</td>\n",
       "    </tr>\n",
       "    <tr>\n",
       "      <th>2</th>\n",
       "      <td>3</td>\n",
       "      <td>0.002452</td>\n",
       "      <td>0</td>\n",
       "      <td>0</td>\n",
       "      <td>0</td>\n",
       "      <td>0</td>\n",
       "    </tr>\n",
       "  </tbody>\n",
       "</table>\n",
       "</div>"
      ],
      "text/plain": [
       "   Step  Res_BundleA  Res_BundleB  Res_BundleC  SME  PUE\n",
       "0     1     0.002225            0            0    0    0\n",
       "1     2     0.002477            0            0    0    0\n",
       "2     3     0.002452            0            0    0    0"
      ]
     },
     "execution_count": 22,
     "metadata": {},
     "output_type": "execute_result"
    }
   ],
   "source": [
    "demand_per_con_type = pd.read_csv(r'Input_Data\\demand_per_connection_type.csv')\n",
    "demand_per_con_type.head(3)"
   ]
  },
  {
   "cell_type": "markdown",
   "id": "9292ba1a",
   "metadata": {},
   "source": [
    "...and multiple by number of connection per type"
   ]
  },
  {
   "cell_type": "code",
   "execution_count": 23,
   "id": "da7abc43",
   "metadata": {},
   "outputs": [],
   "source": [
    "for column in demand_per_con_type.columns[1:]:\n",
    "    demand_per_con_type[column] = demand_per_con_type[column] * connections[column]\n",
    "\n",
    "# Create a new column that adds each row\n",
    "demand_per_con_type['tot_demand_kw'] = demand_per_con_type.sum(axis=1)"
   ]
  },
  {
   "cell_type": "markdown",
   "id": "a2cace92",
   "metadata": {},
   "source": [
    "Finally, the *load_curve* variable stores the total demand for the study area in the format required by OnSSET-MG for optimization."
   ]
  },
  {
   "cell_type": "code",
   "execution_count": 24,
   "id": "5bff5c51",
   "metadata": {},
   "outputs": [],
   "source": [
    "load_curve = demand_per_con_type[\"tot_demand_kw\"].values"
   ]
  },
  {
   "cell_type": "markdown",
   "id": "6f6a6858",
   "metadata": {},
   "source": [
    "------------------------------"
   ]
  },
  {
   "cell_type": "markdown",
   "id": "13ef83be",
   "metadata": {},
   "source": [
    "Regardless of the approach used the *annual_demand* is a variable should be specified for the use to calculate LCOE.."
   ]
  },
  {
   "cell_type": "code",
   "execution_count": 25,
   "id": "37c18557",
   "metadata": {},
   "outputs": [],
   "source": [
    "annual_demand = sum(load_curve)"
   ]
  },
  {
   "cell_type": "markdown",
   "id": "3e8c3fe9",
   "metadata": {},
   "source": [
    " "
   ]
  },
  {
   "cell_type": "markdown",
   "id": "177b3c63",
   "metadata": {},
   "source": [
    "## 4. Technical and economic assumptions"
   ]
  },
  {
   "cell_type": "markdown",
   "id": "ffdc591d",
   "metadata": {},
   "source": [
    "### 4.1 Technical and economic assumptions for optimisation of the generation"
   ]
  },
  {
   "cell_type": "markdown",
   "id": "81318c33",
   "metadata": {},
   "source": [
    "The following technical and economic parameters are used for the optimization of generation in the microgrid. Please update these values based on the specific local context of analysis to ensure accurate results. Be mindful of units, as inconsistencies can lead to unexpected outcomes.\n",
    "\n",
    "**General parameters**"
   ]
  },
  {
   "cell_type": "code",
   "execution_count": 26,
   "id": "9d003b70",
   "metadata": {},
   "outputs": [],
   "source": [
    "start_year=2024\n",
    "end_year=2049\n",
    "discount_rate=0.08      ##The annual rate of return expected on an investment over the project's lifetime. This value is expressed as a percentage"
   ]
  },
  {
   "cell_type": "markdown",
   "id": "42ea4bf3",
   "metadata": {},
   "source": [
    "**Diesel generator**"
   ]
  },
  {
   "cell_type": "code",
   "execution_count": 27,
   "id": "6434d7c5",
   "metadata": {},
   "outputs": [],
   "source": [
    "diesel_price=0.872     ## Diesel Price (USD/liter): The cost of diesel fuel used for generator operation\n",
    "diesel_cost=640        ## Diesel Generator Cost (USD/kW): The initial capital cost of purchasing and installing a diesel generator, per kilowatt of rated power\n",
    "diesel_om=32           ## Diesel Operational and mainenance Cost (USD/kW/year): The annual cost of operating and maintaining the diesel generator, per kilowatt of rated power\n",
    "diesel_life=10         ## Diesel Generator Lifetime (years): The expected number of years the diesel generator will be operational before requiring replacement\n",
    "diesel_limit=0.5       ## Diesel Limit (0-1): This value sets the maximum allowable contribution of the diesel generator to the microgrid's annual electricity generation. It is expressed as a decimal between 0 and 1"
   ]
  },
  {
   "cell_type": "markdown",
   "id": "51d428de",
   "metadata": {},
   "source": [
    "**Batteries | Storage**"
   ]
  },
  {
   "cell_type": "code",
   "execution_count": 28,
   "id": "77a825af",
   "metadata": {},
   "outputs": [],
   "source": [
    "battery_cost=620           ## Battery Capital Cost (USD/kWh): The initial capital cost of purchasing and installing a battery storage system, per kilowatt-hour of storage capacity\n",
    "full_life_cycles=2000      ## Battery Lifetime (cycles): The expected number of charge/discharge cycles the battery can undergo before reaching its end of life\n",
    "battery_inverter_cost=608  ## Battery Inverter Cost (USD/kW): The initial capital cost of purchasing and installing a battery inverter, per kilowatt of power\n",
    "battery_inverter_life=20   ## Battery Inverter Lifetime (years): The expected number of years the battery inverter will be operational before requiring replacement\n",
    "n_chg=0.90                 ## Battery Charging Efficiency (0-1): This parameter represents the efficiency of the battery charging process, accounting for energy losses during charging cycles. It is expressed as a decimal between 0 and 1\n",
    "n_dis=0.9                  ## Battery Discharging Efficiency (0-1): This parameter represents the efficiency of the battery discharging process, accounting for energy losses during discharging cycles. It is expressed as a decimal between 0 and 1\n",
    "dod_max=0.9                ## Dept-of-discharge (DOD) (0-1): DOD represents the percentage of a battery's total capacity that has been discharged in a single cycle, relative to its full charge capacity. It is expressed as a decimal between 0 and 1"
   ]
  },
  {
   "cell_type": "markdown",
   "id": "67fc2b5c",
   "metadata": {},
   "source": [
    "**Solar panels  & Inverter**"
   ]
  },
  {
   "cell_type": "code",
   "execution_count": 29,
   "id": "c45c6c87",
   "metadata": {},
   "outputs": [],
   "source": [
    "pv_cost=1600          ## PV Panel Cost (USD/kWp): The initial capital cost of purchasing and installing photovoltaic (PV) panels, per watt-peak (Wp) of rated power output\n",
    "pv_om=0.025           ## PV O&M Cost (USD/kWp/year): The annual cost of operating and maintaining the PV system, per kilowatt-peak of rated power output. This includes costs for cleaning, monitoring, and minor repairs\n",
    "pv_inverter=500       ## PV Inverter Cost (USD/kWp): The initial capital cost of purchasing and installing a solar inverter, per kilowatt-peak (Wp) of PV installed capacity. If this cost is already included in the PV Panel Cost, set this value to 0\n",
    "charge_controller=0   ## Solar Charge Controller Cost (USD/kWp): The initial capital cost of purchasing and installing a solar charge controller, per kilowatt-peak (Wp) of PV panel capacity. If this cost is already included in the PV Panel Cost, set this value to 0\n",
    "pv_life=25            ## PV System Lifetime (years): The expected number of years the PV system (panels and inverter) will be operational before requiring replacement\n",
    "inv_eff=0.93          ## Inverter Efficiency (0-1): This parameter represents the efficiency of the inverter, which accounts for energy losses during conversion from DC to AC"
   ]
  },
  {
   "cell_type": "markdown",
   "id": "6f1ac5d0",
   "metadata": {},
   "source": [
    "**Minigrid parameter**\n",
    "\n",
    "Loss of Power Supply Probability (LPSP): This parameter indicates the reliability of the microgrid in supplying electricity. A lower LPSP signifies a more reliable system with a lower chance of power outages."
   ]
  },
  {
   "cell_type": "code",
   "execution_count": 30,
   "id": "330543ce",
   "metadata": {},
   "outputs": [],
   "source": [
    "lpsp_max=0.005"
   ]
  },
  {
   "cell_type": "markdown",
   "id": "f45cf397",
   "metadata": {},
   "source": [
    "### 4.2 Technical and economic assumptions for optimisation of the generation"
   ]
  },
  {
   "cell_type": "markdown",
   "id": "60e00f4b",
   "metadata": {},
   "source": [
    "The sizing process generates two outputs related to the distribution grid: a GeoJSON file containing detailed information about the designed grid, disaggregated by the type of connection, and a point layer file for poles that specifies their spatial locations. By incorporating capital costs (installation costs) and operational costs into the analysis, it's possible to estimate the Levelized Cost of Energy (LCOE) for the entire distribution network. To calculate the LCOE, you'll need the following variables:"
   ]
  },
  {
   "cell_type": "markdown",
   "id": "38e08994",
   "metadata": {},
   "source": [
    "Cost of distribution lines (USD/km), which refers to the capital cost associated with installing one kilometer of distribution lines within the community"
   ]
  },
  {
   "cell_type": "code",
   "execution_count": 31,
   "id": "c3a18f00",
   "metadata": {},
   "outputs": [],
   "source": [
    "cost_grid_km = 2000     ## LV line (0.2 – 0.4 kV) | Cost of low voltage distribution (approximation) -- overhead line, ABC type 100 mm2 Aluminium"
   ]
  },
  {
   "cell_type": "markdown",
   "id": "fea90abc",
   "metadata": {},
   "source": [
    "Cost of Poles (USD/Pole): which refers to the capital cost associated with installing supporting poles for distribution"
   ]
  },
  {
   "cell_type": "code",
   "execution_count": 32,
   "id": "8e91b59b",
   "metadata": {},
   "outputs": [],
   "source": [
    "cost_pole = 150+26+72.2+34+60     ## pole + overhead accessories + lightning protection + labour cost --> per pole\n",
    "pole_dist = 50                    ## meters"
   ]
  },
  {
   "cell_type": "markdown",
   "id": "d8f08dae",
   "metadata": {},
   "source": [
    "Service drop | Customer connection costs"
   ]
  },
  {
   "cell_type": "code",
   "execution_count": 33,
   "id": "22e0b231",
   "metadata": {},
   "outputs": [],
   "source": [
    "con_cost = 173 # overhead access. | meter | ready board+rectifier"
   ]
  },
  {
   "cell_type": "markdown",
   "id": "c9236d1e",
   "metadata": {},
   "source": [
    "Operational & Maintenance costs (% initial investment): The annual cost of operating and maintaining the grid as percentage of initial investment"
   ]
  },
  {
   "cell_type": "code",
   "execution_count": 34,
   "id": "ae334368",
   "metadata": {},
   "outputs": [],
   "source": [
    "grid_om = 0.05"
   ]
  },
  {
   "cell_type": "markdown",
   "id": "96ad774c",
   "metadata": {},
   "source": [
    "### 4.3 Labour and logistics costs"
   ]
  },
  {
   "cell_type": "code",
   "execution_count": 35,
   "id": "5a9227ec",
   "metadata": {},
   "outputs": [],
   "source": [
    "labour_cost =  100      ## Labour cost ~ 100 USD/kWp\n",
    "trans_cost = 27         ## Transportation of material | 27 USD/connection"
   ]
  },
  {
   "cell_type": "markdown",
   "id": "a261ce5a",
   "metadata": {},
   "source": [
    "### 4.4 Selling general and administrative (SG&A) costs"
   ]
  },
  {
   "cell_type": "code",
   "execution_count": 36,
   "id": "825ec984",
   "metadata": {},
   "outputs": [],
   "source": [
    "sga_cost = 18          ## $/connection/year ($1.5/con/month) which adds to the operation and maintenance costs"
   ]
  },
  {
   "cell_type": "code",
   "execution_count": 37,
   "id": "bf204c79",
   "metadata": {},
   "outputs": [],
   "source": [
    "total_cost_sga = sga_cost*len(households)"
   ]
  },
  {
   "cell_type": "markdown",
   "id": "4baf3838",
   "metadata": {},
   "source": [
    " "
   ]
  },
  {
   "cell_type": "markdown",
   "id": "821f8a26",
   "metadata": {},
   "source": [
    "## 5. Optimization for Generation Sizing"
   ]
  },
  {
   "cell_type": "markdown",
   "id": "368b86bf",
   "metadata": {},
   "source": [
    "The *optimizer_de* function finds the least-cost design for a microgrid system. It considers economic and techincal factors through user-provided data (look step No 4). First, it calculates total electricity demand and defines acceptable ranges for PV, battery, and diesel generator capacities. Then, it creates an objective function (opt_func) that calculates the Levelized Cost of Energy (LCOE) for a specific system configuration. This involves simulating electricity generation from PV, battery usage, and diesel reliance based on hourly data. Finally, it employs a Differential Evolution algorithm to search for the combination of PV, battery, and diesel capacities that minimizes the overall LCOE for the microgrid system. \n",
    "\n",
    "The function returns the optimal system configuration (PV, battery, and diesel capacities) that achieves the minimum LCOE for the microgrid system, as well as other variables that are of interest to analize: unmet demand, diesel generaton share, investment, fuel cost, Operational & Maintenance Cost, battery energy and battery life. "
   ]
  },
  {
   "cell_type": "code",
   "execution_count": 38,
   "id": "e6da0dc5",
   "metadata": {},
   "outputs": [],
   "source": [
    "additional_values_storage = []\n",
    "\n",
    "def optimizer_de(diesel_price,\n",
    "                 hourly_ghi,\n",
    "                 hourly_temp,\n",
    "                 load_curve,\n",
    "                 diesel_cost,  # diesel generator capital cost, USD/kW rated power\n",
    "                 discount_rate,\n",
    "                 n_chg,  # charge efficiency of battery\n",
    "                 n_dis,  # discharge efficiency of battery\n",
    "                 battery_cost,  # battery capital cost, USD/kWh of storage capacity\n",
    "                 pv_cost,  # PV panel capital cost, USD/kW peak power\n",
    "                 charge_controller,  # PV charge controller cost, USD/kW peak power, set to 0 if already included in pv_cost\n",
    "                 pv_inverter,  # PV inverter cost, USD/kW peak power, set to 0 if already included in pv_cost\n",
    "                 pv_life,  # PV panel expected lifetime, years\n",
    "                 diesel_life,  # diesel generator expected lifetime, years\n",
    "                 pv_om,  # annual OM cost of PV panels\n",
    "                 diesel_om,  # annual OM cost of diesel generator\n",
    "                 battery_inverter_cost,\n",
    "                 battery_inverter_life,\n",
    "                 dod_max,  # maximum depth of discharge of battery\n",
    "                 inv_eff,  # inverter_efficiency\n",
    "                 lpsp_max,  # maximum loss of load allowed over the year, in share of kWh\n",
    "                 diesel_limit,\n",
    "                 full_life_cycles,\n",
    "                 start_year,\n",
    "                 end_year,\n",
    "                 ):\n",
    "\n",
    "    demand = load_curve.sum()\n",
    "\n",
    "    # The following lines defines the solution space for the Particle Swarm Optimization (PSO) algorithm\n",
    "    battery_bounds = [0, 5 * demand / 365]\n",
    "    pv_bounds = [0, 5 * max(load_curve)]\n",
    "    diesel_bounds = [0.5, max(load_curve)]\n",
    "    \n",
    "    min_bounds = np.array([pv_bounds[0], battery_bounds[0], diesel_bounds[0]])\n",
    "    max_bounds = np.array([pv_bounds[1], battery_bounds[1], diesel_bounds[1]])\n",
    "    bounds = Bounds(min_bounds, max_bounds)\n",
    "\n",
    "    # Create a series of the hour numbers (0-24) for one year\n",
    "    hour_numbers = np.empty(8760)\n",
    "    for i in range(365):\n",
    "        for j in range(24):\n",
    "            hour_numbers[i * 24 + j] = j\n",
    "\n",
    "    def opt_func(X):\n",
    "        global additional_values_storage  # Use global variable to store additional values\n",
    "        results = find_least_cost_option(X, hourly_temp, hourly_ghi, hour_numbers,\n",
    "                                         load_curve, inv_eff, n_dis, n_chg, dod_max,\n",
    "                                         diesel_price, end_year, start_year, pv_cost, charge_controller, pv_inverter, pv_om,\n",
    "                                         diesel_cost, diesel_om, battery_inverter_life, battery_inverter_cost, diesel_life, pv_life,\n",
    "                                         battery_cost, discount_rate, lpsp_max, diesel_limit, full_life_cycles)\n",
    "        \n",
    "        lcoe = results[0]\n",
    "        additional_values_storage = results[1:]  # Capture additional values\n",
    "        #lcoe, unmet_demand_share, diesel_generation_share, investment, fuel_cost, om_cost, battery, battery_life, pv, diesel, npc\n",
    "                                       \n",
    "        return lcoe\n",
    "\n",
    "    minimizer_kwargs = {\"method\": \"BFGS\"}\n",
    "    pv_init = sum(pv_bounds) / 2\n",
    "    battery_init = sum(battery_bounds) / 2\n",
    "    diesel_init = sum(diesel_bounds) / 2\n",
    "    x0 = [pv_init, battery_init, diesel_init]\n",
    "    \n",
    "    result = differential_evolution(opt_func, bounds, popsize=15, init='latinhypercube')  # init='halton' on newer env\n",
    "\n",
    "    best_solution = result.x\n",
    "    lcoe = opt_func(best_solution)  # This call will also update additional_values_storage\n",
    "    \n",
    "    return {\n",
    "        \"best_solution\": best_solution,\n",
    "        \"lcoe\": lcoe,\n",
    "        \"additional_values\": additional_values_storage\n",
    "    }"
   ]
  },
  {
   "cell_type": "markdown",
   "id": "f81470b0",
   "metadata": {},
   "source": [
    "The following line will execute the function optimizer_de and store the results in the variable ret. It finishes with a message on the expected LCOE and the install capacities for Solar Panels, Batteries and diesel."
   ]
  },
  {
   "cell_type": "code",
   "execution_count": 39,
   "id": "62108d2a",
   "metadata": {},
   "outputs": [],
   "source": [
    "ret = optimizer_de(diesel_price=diesel_price, \n",
    "                   hourly_ghi=hourly_ghi,\n",
    "                   hourly_temp=hourly_temp,\n",
    "                   load_curve=load_curve,\n",
    "                   start_year=start_year,\n",
    "                   end_year=end_year,\n",
    "                   discount_rate=discount_rate,\n",
    "                   diesel_cost=diesel_cost,  \n",
    "                   battery_cost=battery_cost,  \n",
    "                   full_life_cycles=full_life_cycles, \n",
    "                   battery_inverter_cost=battery_inverter_cost,  \n",
    "                   pv_cost=pv_cost,  \n",
    "                   pv_inverter=pv_inverter, \n",
    "                   charge_controller=charge_controller, \n",
    "                   diesel_limit=diesel_limit, \n",
    "                   lpsp_max=lpsp_max,\n",
    "                   inv_eff=inv_eff,\n",
    "                   n_chg=n_chg,\n",
    "                   n_dis=n_dis,\n",
    "                   dod_max=dod_max,\n",
    "                   pv_om=pv_om,\n",
    "                   diesel_om=diesel_om,\n",
    "                   battery_inverter_life=battery_inverter_life,\n",
    "                   pv_life=pv_life,\n",
    "                   diesel_life=diesel_life)  "
   ]
  },
  {
   "cell_type": "markdown",
   "id": "e7ad5509",
   "metadata": {},
   "source": [
    "Examining some parameters within the ret variable provides insight into the optimization's progress."
   ]
  },
  {
   "cell_type": "code",
   "execution_count": 40,
   "id": "392b0295",
   "metadata": {},
   "outputs": [
    {
     "name": "stdout",
     "output_type": "stream",
     "text": [
      "Best LCOE: 0.015 USD/kWh\n",
      "Best PV capacity: 1.4 kW\n",
      "Best Battery capacity: 2.1 kWh\n",
      "Best Diesel capacity: 0.5 kW\n"
     ]
    }
   ],
   "source": [
    "print('Best LCOE: {} USD/kWh'.format(round(ret[\"lcoe\"],3)))\n",
    "print('Best PV capacity: {} kW'.format(round(ret[\"best_solution\"][0],1)))\n",
    "print('Best Battery capacity: {} kWh'.format(round(ret[\"best_solution\"][1],1)))\n",
    "print('Best Diesel capacity: {} kW'.format(round(ret[\"best_solution\"][2],1)))"
   ]
  },
  {
   "cell_type": "code",
   "execution_count": 41,
   "id": "3607ee3b",
   "metadata": {},
   "outputs": [],
   "source": [
    "total_cost_labour = round(ret[\"best_solution\"][0],1) * labour_cost"
   ]
  },
  {
   "cell_type": "markdown",
   "id": "c91c6f8a",
   "metadata": {},
   "source": [
    "## 6. Distribution Network Sizing"
   ]
  },
  {
   "cell_type": "markdown",
   "id": "274d4d75",
   "metadata": {},
   "source": [
    "This section will define quantities for the distribution grid and poles in the minigrid. The required data includes the cluster of the minigrid and the geolocation of the households. The following code explanation will clarify how it can be adapted with own data. The first step involves exploring the data to identify relevant attributes. For instance, the \"Polygones\" file likely contains attributes that describe the polygon geometry of a cluster. We can start by examining the GeoPandas file to understand the available attributes and then retrieve the geometry information for the cluster."
   ]
  },
  {
   "cell_type": "code",
   "execution_count": 42,
   "id": "8322b624",
   "metadata": {},
   "outputs": [
    {
     "data": {
      "text/html": [
       "<div>\n",
       "<style scoped>\n",
       "    .dataframe tbody tr th:only-of-type {\n",
       "        vertical-align: middle;\n",
       "    }\n",
       "\n",
       "    .dataframe tbody tr th {\n",
       "        vertical-align: top;\n",
       "    }\n",
       "\n",
       "    .dataframe thead th {\n",
       "        text-align: right;\n",
       "    }\n",
       "</style>\n",
       "<table border=\"1\" class=\"dataframe\">\n",
       "  <thead>\n",
       "    <tr style=\"text-align: right;\">\n",
       "      <th></th>\n",
       "      <th>id</th>\n",
       "      <th>COMUNIDAD</th>\n",
       "      <th>ÁREA</th>\n",
       "      <th>geometry</th>\n",
       "      <th>&lt;20 m2</th>\n",
       "      <th>20-50 m2</th>\n",
       "      <th>50-150 m2</th>\n",
       "      <th>&gt;150 m2</th>\n",
       "      <th>Connections_All</th>\n",
       "      <th>Potential_Con</th>\n",
       "      <th>PUoE</th>\n",
       "      <th>SME</th>\n",
       "      <th>ResC</th>\n",
       "      <th>ResB</th>\n",
       "      <th>ResA</th>\n",
       "    </tr>\n",
       "  </thead>\n",
       "  <tbody>\n",
       "    <tr>\n",
       "      <th>0</th>\n",
       "      <td>None</td>\n",
       "      <td>ALDEA MANAJA</td>\n",
       "      <td>None</td>\n",
       "      <td>MULTIPOLYGON (((-91.72597 15.36109, -91.72634 ...</td>\n",
       "      <td>15</td>\n",
       "      <td>36</td>\n",
       "      <td>63</td>\n",
       "      <td>11</td>\n",
       "      <td>125</td>\n",
       "      <td>88.0</td>\n",
       "      <td>6</td>\n",
       "      <td>7.0</td>\n",
       "      <td>7.0</td>\n",
       "      <td>30.0</td>\n",
       "      <td>38.0</td>\n",
       "    </tr>\n",
       "  </tbody>\n",
       "</table>\n",
       "</div>"
      ],
      "text/plain": [
       "     id     COMUNIDAD  ÁREA  \\\n",
       "0  None  ALDEA MANAJA  None   \n",
       "\n",
       "                                            geometry  <20 m2  20-50 m2  \\\n",
       "0  MULTIPOLYGON (((-91.72597 15.36109, -91.72634 ...      15        36   \n",
       "\n",
       "   50-150 m2  >150 m2  Connections_All  Potential_Con  PUoE  SME  ResC  ResB  \\\n",
       "0         63       11              125           88.0     6  7.0   7.0  30.0   \n",
       "\n",
       "   ResA  \n",
       "0  38.0  "
      ]
     },
     "execution_count": 42,
     "metadata": {},
     "output_type": "execute_result"
    }
   ],
   "source": [
    "cluster_polygons.head(2)"
   ]
  },
  {
   "cell_type": "markdown",
   "id": "556fa30b",
   "metadata": {},
   "source": [
    "The following steps involve using the \"COMUNIDAD\" column to identify the corresponding multipolygon shape from the \"geometry\" column. As mentioned earlier, the retrieved demand data pertains to a specific community within the administrative area of San Gaspar Ixchil. Therefore, the relevant geometry is the one associated with the community named \"ALDEA MANAJA\" within this area. It's important to note that all the spatial analysis discussed here was conducted  with QGIS."
   ]
  },
  {
   "cell_type": "markdown",
   "id": "1ae5eb4c",
   "metadata": {},
   "source": [
    "### Setting up households layer"
   ]
  },
  {
   "cell_type": "markdown",
   "id": "b6838033",
   "metadata": {},
   "source": [
    "The households layer was previously uploaded as Polygon Layer. The following lines changed the geometry to point and defines a new layer *households_centroids* with the *target_crs* for Guatemala"
   ]
  },
  {
   "cell_type": "code",
   "execution_count": 43,
   "id": "219caee3",
   "metadata": {},
   "outputs": [],
   "source": [
    "households_centroids_crs = households.copy()\n",
    "households_centroids_crs[\"geometry\"] =  households['geometry'].centroid\n",
    "households_centroids = households_centroids_crs.to_crs(target_crs)"
   ]
  },
  {
   "cell_type": "code",
   "execution_count": 44,
   "id": "81f8185a",
   "metadata": {},
   "outputs": [
    {
     "data": {
      "text/html": [
       "<div>\n",
       "<style scoped>\n",
       "    .dataframe tbody tr th:only-of-type {\n",
       "        vertical-align: middle;\n",
       "    }\n",
       "\n",
       "    .dataframe tbody tr th {\n",
       "        vertical-align: top;\n",
       "    }\n",
       "\n",
       "    .dataframe thead th {\n",
       "        text-align: right;\n",
       "    }\n",
       "</style>\n",
       "<table border=\"1\" class=\"dataframe\">\n",
       "  <thead>\n",
       "    <tr style=\"text-align: right;\">\n",
       "      <th></th>\n",
       "      <th>boundary_id</th>\n",
       "      <th>bf_source</th>\n",
       "      <th>confidence</th>\n",
       "      <th>area_in_meters</th>\n",
       "      <th>geometry</th>\n",
       "    </tr>\n",
       "  </thead>\n",
       "  <tbody>\n",
       "    <tr>\n",
       "      <th>0</th>\n",
       "      <td>41</td>\n",
       "      <td>google</td>\n",
       "      <td>0.8065</td>\n",
       "      <td>61.6836</td>\n",
       "      <td>POINT (636831.883 1698755.635)</td>\n",
       "    </tr>\n",
       "    <tr>\n",
       "      <th>1</th>\n",
       "      <td>41</td>\n",
       "      <td>google</td>\n",
       "      <td>0.8895</td>\n",
       "      <td>116.7294</td>\n",
       "      <td>POINT (636847.471 1698772.926)</td>\n",
       "    </tr>\n",
       "    <tr>\n",
       "      <th>2</th>\n",
       "      <td>41</td>\n",
       "      <td>google</td>\n",
       "      <td>0.7894</td>\n",
       "      <td>16.4130</td>\n",
       "      <td>POINT (636848.259 1698838.387)</td>\n",
       "    </tr>\n",
       "    <tr>\n",
       "      <th>3</th>\n",
       "      <td>41</td>\n",
       "      <td>google</td>\n",
       "      <td>0.7838</td>\n",
       "      <td>27.1953</td>\n",
       "      <td>POINT (636857.666 1698841.738)</td>\n",
       "    </tr>\n",
       "    <tr>\n",
       "      <th>4</th>\n",
       "      <td>41</td>\n",
       "      <td>google</td>\n",
       "      <td>0.7518</td>\n",
       "      <td>13.4064</td>\n",
       "      <td>POINT (636864.530 1698843.620)</td>\n",
       "    </tr>\n",
       "  </tbody>\n",
       "</table>\n",
       "</div>"
      ],
      "text/plain": [
       "   boundary_id bf_source  confidence  area_in_meters  \\\n",
       "0           41    google      0.8065         61.6836   \n",
       "1           41    google      0.8895        116.7294   \n",
       "2           41    google      0.7894         16.4130   \n",
       "3           41    google      0.7838         27.1953   \n",
       "4           41    google      0.7518         13.4064   \n",
       "\n",
       "                         geometry  \n",
       "0  POINT (636831.883 1698755.635)  \n",
       "1  POINT (636847.471 1698772.926)  \n",
       "2  POINT (636848.259 1698838.387)  \n",
       "3  POINT (636857.666 1698841.738)  \n",
       "4  POINT (636864.530 1698843.620)  "
      ]
     },
     "execution_count": 44,
     "metadata": {},
     "output_type": "execute_result"
    }
   ],
   "source": [
    "households_centroids.head()"
   ]
  },
  {
   "cell_type": "code",
   "execution_count": 45,
   "id": "4c5fd9c9",
   "metadata": {},
   "outputs": [],
   "source": [
    "#fids define the atribute Site Unique ID (VIDA)_2 to get the Mulytpolygon\n",
    "polygon_data = cluster_polygons.loc[cluster_polygons['COMUNIDAD'] == community]\n",
    "polygon_data = polygon_data.to_crs(target_crs)\n",
    "polygon = polygon_data.geometry.iloc[0]"
   ]
  },
  {
   "cell_type": "markdown",
   "id": "edd3d3ea",
   "metadata": {},
   "source": [
    "#### Trunk Line Generation"
   ]
  },
  {
   "cell_type": "markdown",
   "id": "4598b0c8",
   "metadata": {},
   "source": [
    "This process outlines a method for generating a primary trunk line for settlements represented by polygon boundaries. \n",
    "\n",
    "1. **Boundary Points**: The user defines a spacing distance (default 50 meters) to create a set of evenly spaced points along the settlement polygon boundary.\n",
    "2. **Voronoi Polygons**: These points are used to divide the settlement polygon into smaller regions called Voronoi polygons.\n",
    "3. **Initial Trunk Line**: Edges of the Voronoi polygons are extracted, but any edge touching the settlement boundary is removed. This creates a preliminary version of the primary trunk line.\n",
    "4. **Simplifying the Trunk Line**: Intersections where the trunk line branches off are identified. Only segments of the trunk line meeting these criteria are kept:\n",
    "    * Located between two identified intersections.\n",
    "    * Longer than a user-specified distance threshold.\n",
    "5. **Splitting the Trunk Line**: The identified intersections are used to split the primary trunk line into separate segments. Any remaining long segments exceeding a user-defined distance threshold are also split."
   ]
  },
  {
   "cell_type": "code",
   "execution_count": 109,
   "id": "f4cd2a8e",
   "metadata": {},
   "outputs": [
    {
     "data": {
      "image/png": "[encoded data removed]",
      "text/plain": [
       "<Figure size 640x480 with 1 Axes>"
      ]
     },
     "metadata": {},
     "output_type": "display_data"
    }
   ],
   "source": [
    "# Create trunk line(s)\n",
    "trunk_lines = create_trunk_line(polygon, spacing=100, plot=True)\n",
    "\n",
    "# Simplify the trunk line(s)\n",
    "trunk_lines, intersects = simplify_trunk_lines(trunk_lines, length_removal=200, split_distance=750, plot=False)\n",
    "\n",
    "trunk_lines_gdf = gpd.GeoDataFrame(geometry=trunk_lines)"
   ]
  },
  {
   "cell_type": "code",
   "execution_count": 132,
   "id": "0317892a",
   "metadata": {},
   "outputs": [
    {
     "data": {
      "text/plain": [
       "<Axes: >"
      ]
     },
     "execution_count": 132,
     "metadata": {},
     "output_type": "execute_result"
    },
    {
     "data": {
      "image/png": "[encoded data removed]",
      "text/plain": [
       "<Figure size 640x480 with 1 Axes>"
      ]
     },
     "metadata": {},
     "output_type": "display_data"
    }
   ],
   "source": [
    "trunk_lines_gdf.plot()"
   ]
  },
  {
   "cell_type": "code",
   "execution_count": 110,
   "id": "122ca528",
   "metadata": {},
   "outputs": [
    {
     "data": {
      "image/png": "[encoded data removed]",
      "text/plain": [
       "<Figure size 640x480 with 1 Axes>"
      ]
     },
     "metadata": {},
     "output_type": "display_data"
    }
   ],
   "source": [
    "# Identify which part of the polygon belongs to which part of the trunk line(s)\n",
    "voronois = voronoi_areas(trunk_lines_gdf, polygon, plot=True)"
   ]
  },
  {
   "cell_type": "markdown",
   "id": "5e66070b",
   "metadata": {},
   "source": [
    "#### Pole locations"
   ]
  },
  {
   "cell_type": "markdown",
   "id": "c995a613",
   "metadata": {},
   "source": [
    "With the voronoi areas, now the focus is on identifying poles to where households will be connected. In each sub-area of the settlement polygon:\n",
    "1. A mesh of evenly spaced points (default distance = 50 m) are created\n",
    "2. Points are aligned to the x- and y-axis of the minimum bounding rectangle that can encapsulate the sub-area.\n",
    "3. Any point that is close to the primary trunk line (default distance = 25 m) is excluded, as it is assumed that buildings within this distance would connect to a pole along the primary trunk line.\n",
    "4. Buildings are assigned to the nearest of the candidate poles created in the previous step.\n",
    "5. Finally, a Minimum Spanning Tree is created using NetworkX, to identify the secondary lines. The weights of the MST are assigned to favor in order:\n",
    "    +  lines that are (near) orthogonal to the primary trunk\n",
    "    + lines that are (near) parallel to the primary trunk \n",
    "    + diagonal lines \n",
    "    \n",
    "The MST is run iteratively, testing the removal of poles to which no building was assigned until the shortest MST has been achieved (i.e. no more of the poles without households can be removed)."
   ]
  },
  {
   "cell_type": "code",
   "execution_count": 111,
   "id": "7ecdcbba",
   "metadata": {},
   "outputs": [
    {
     "name": "stdout",
     "output_type": "stream",
     "text": [
      "MultiPoint\n",
      "MultiPoint\n"
     ]
    }
   ],
   "source": [
    "trunk_p = []\n",
    "assigned_p = []\n",
    "lv_l = []\n",
    "service_l = []\n",
    "mst_p = []\n",
    "all_p = []\n",
    "long_services = 0\n",
    "\n",
    "multi_trunks = []\n",
    "multi_trunks_len = []\n",
    "\n",
    "multi_secondary = []\n",
    "multi_secondary_len = []\n",
    "\n",
    "multi_service = []\n",
    "multi_service_len = []\n",
    "\n",
    "multi_poles = []\n",
    "multi_all_poles = []\n",
    "\n",
    "# Iterate over each part of the trunk line \n",
    "for id in range(len(trunk_lines)):\n",
    "    all_poles, trunk_poles, poles, angle_radians_w, angle_radians_l = create_candidate_poles(voronois[id], trunk_lines[id], pole_dist, buffer=25, plot=False)\n",
    "\n",
    "    trunk_p += trunk_poles\n",
    "    all_p += all_poles\n",
    "        \n",
    "    polygon_households = households_centroids.clip(voronois[id])\n",
    "\n",
    "    # Ensure households are not MultiPoint\n",
    "    polygon_households['geometry'] = polygon_households['geometry'].apply(convert_multipoint_to_point)\n",
    "\n",
    "    assigned_poles, service_drops = assign_households(all_poles, polygon_households)\n",
    "\n",
    "    assigned_p += all_poles\n",
    "    service_l += service_drops\n",
    "\n",
    "    for s in service_drops:\n",
    "        if s.length > 70:\n",
    "            long_services += 1\n",
    "\n",
    "    weight = 0.5  # Weighting factor for the MST\n",
    "\n",
    "    lv_lines, mst_poles = lv_lines_mst(all_poles, trunk_poles, assigned_poles, angle_radians_w, angle_radians_l, weight, plot=False)\n",
    "\n",
    "    lv_l += lv_lines\n",
    "    mst_p += mst_poles"
   ]
  },
  {
   "cell_type": "code",
   "execution_count": 133,
   "id": "c7dfecb6",
   "metadata": {},
   "outputs": [],
   "source": [
    "all_poles, trunk_poles, poles, angle_radians_w, angle_radians_l = create_candidate_poles(voronois[1], trunk_lines[1], pole_dist, buffer=25, plot=False)"
   ]
  },
  {
   "cell_type": "code",
   "execution_count": 135,
   "id": "51fae4f0",
   "metadata": {},
   "outputs": [
    {
     "data": {
      "text/plain": [
       "-2.099861756764455"
      ]
     },
     "execution_count": 135,
     "metadata": {},
     "output_type": "execute_result"
    }
   ],
   "source": [
    "angle_radians_w"
   ]
  },
  {
   "cell_type": "code",
   "execution_count": 136,
   "id": "c8c069a3",
   "metadata": {},
   "outputs": [
    {
     "data": {
      "text/plain": [
       "-0.5290654392247741"
      ]
     },
     "execution_count": 136,
     "metadata": {},
     "output_type": "execute_result"
    }
   ],
   "source": [
    "angle_radians_l"
   ]
  },
  {
   "cell_type": "code",
   "execution_count": 129,
   "id": "ae420e7a",
   "metadata": {},
   "outputs": [],
   "source": [
    "all_p_gdf = gpd.GeoDataFrame(geometry = all_p, crs=target_crs)"
   ]
  },
  {
   "cell_type": "code",
   "execution_count": 131,
   "id": "bc54d3db",
   "metadata": {},
   "outputs": [
    {
     "data": {
      "text/plain": [
       "<Axes: >"
      ]
     },
     "execution_count": 131,
     "metadata": {},
     "output_type": "execute_result"
    },
    {
     "data": {
      "image/png": "[encoded data removed]",
      "text/plain": [
       "<Figure size 640x480 with 1 Axes>"
      ]
     },
     "metadata": {},
     "output_type": "display_data"
    }
   ],
   "source": [
    "all_p_gdf.plot()"
   ]
  },
  {
   "cell_type": "code",
   "execution_count": 112,
   "id": "ba1df94f",
   "metadata": {},
   "outputs": [
    {
     "data": {
      "text/plain": [
       "-1.0848235200673704"
      ]
     },
     "execution_count": 112,
     "metadata": {},
     "output_type": "execute_result"
    }
   ],
   "source": [
    "angle_radians_l"
   ]
  },
  {
   "cell_type": "code",
   "execution_count": 107,
   "id": "5f2f0892",
   "metadata": {},
   "outputs": [
    {
     "data": {
      "text/plain": [
       "-2.655619726175097"
      ]
     },
     "execution_count": 107,
     "metadata": {},
     "output_type": "execute_result"
    }
   ],
   "source": [
    "angle_radians_w"
   ]
  },
  {
   "cell_type": "markdown",
   "id": "02529008",
   "metadata": {},
   "source": [
    "### Results"
   ]
  },
  {
   "cell_type": "markdown",
   "id": "af85b846",
   "metadata": {},
   "source": [
    "Geometry results from the sizing model (distribution networ and poles) are appended into a list and then store in geopandas format."
   ]
  },
  {
   "cell_type": "markdown",
   "id": "c72ad47e",
   "metadata": {},
   "source": [
    "Appending geometry results from previous sizing:"
   ]
  },
  {
   "cell_type": "code",
   "execution_count": 113,
   "id": "957d0322",
   "metadata": {},
   "outputs": [],
   "source": [
    "multi_all_poles.append(MultiPoint(all_p))\n",
    "\n",
    "multi_trunks.append(MultiLineString(trunk_lines))\n",
    "multi_trunks_len.append(MultiLineString(trunk_lines).length)\n",
    "\n",
    "multi_secondary.append(MultiLineString(lv_l))\n",
    "multi_secondary_len.append(MultiLineString(lv_l).length)\n",
    "\n",
    "multi_service.append(MultiLineString(service_l))\n",
    "multi_service_len.append(MultiLineString(service_l).length)\n",
    "\n",
    "multi_poles.append(MultiPoint(mst_p))"
   ]
  },
  {
   "cell_type": "markdown",
   "id": "c9b71c53",
   "metadata": {},
   "source": [
    "Assigning appended geometry results to GeoPandas format:"
   ]
  },
  {
   "cell_type": "code",
   "execution_count": 114,
   "id": "ffd72459",
   "metadata": {},
   "outputs": [],
   "source": [
    "trunks_gdf = gpd.GeoDataFrame()\n",
    "trunks_gdf['Length'] = multi_trunks_len\n",
    "trunks_gdf['Type'] = \"Trunk Line\"\n",
    "trunks_gdf.geometry = multi_trunks\n",
    "trunks_gdf.set_crs(target_crs, inplace=True)\n",
    "trunks_gdf['Community'] = community\n",
    "\n",
    "secondary_gdf = gpd.GeoDataFrame()\n",
    "secondary_gdf['Length'] = multi_secondary_len\n",
    "secondary_gdf['Type'] = \"Secondary Line\"\n",
    "secondary_gdf.geometry = multi_secondary\n",
    "secondary_gdf.set_crs(target_crs, inplace=True)\n",
    "secondary_gdf['Community'] = community\n",
    "\n",
    "service_gdf = gpd.GeoDataFrame()\n",
    "service_gdf['Length'] = multi_service_len\n",
    "service_gdf['Type'] = \"Service Line\"\n",
    "service_gdf.geometry = multi_service\n",
    "service_gdf.set_crs(target_crs, inplace=True)\n",
    "service_gdf['Community'] = community\n",
    "\n",
    "poles_gdf = gpd.GeoDataFrame()\n",
    "poles_gdf.geometry = multi_poles\n",
    "for i, multi_pole in enumerate(multi_poles):\n",
    "    num_poles = len(multi_pole.geoms)\n",
    "poles_gdf['No. Poles'] = num_poles\n",
    "poles_gdf.set_crs(target_crs, inplace=True)\n",
    "poles_gdf['Community'] = community\n",
    "poles_gdf.to_crs(4326, inplace=True)"
   ]
  },
  {
   "cell_type": "markdown",
   "id": "17d1422f",
   "metadata": {},
   "source": [
    "Finally, all the individual MultiLineString GeoDataGrames can be merged into a single GeoDataFrame for further analysis."
   ]
  },
  {
   "cell_type": "code",
   "execution_count": 115,
   "id": "a7b8c7ef",
   "metadata": {},
   "outputs": [],
   "source": [
    "total_grid_gdf = gpd.GeoDataFrame(pd.concat([trunks_gdf, secondary_gdf, service_gdf], ignore_index=True))"
   ]
  },
  {
   "cell_type": "markdown",
   "id": "62a134c9",
   "metadata": {},
   "source": [
    "The *total_grid_df* contains the three different kind of connection, and it is one of the main outputs of the OnSSET-MG tool."
   ]
  },
  {
   "cell_type": "markdown",
   "id": "cb8c688a",
   "metadata": {},
   "source": [
    "### Cost of distribution"
   ]
  },
  {
   "cell_type": "markdown",
   "id": "7e15a2f7",
   "metadata": {},
   "source": [
    "Earlier in the notebook *cost_grid_km* was defined. Now, the cost of the distribution grid can be estimated following the next equation:"
   ]
  },
  {
   "cell_type": "code",
   "execution_count": 54,
   "id": "31791935",
   "metadata": {},
   "outputs": [],
   "source": [
    "cost_grid = cost_grid_km * (sum(trunks_gdf[\"Length\"])/1000 + sum(secondary_gdf[\"Length\"])/1000)\n",
    "cost_service_drops = con_cost*(sum(service_gdf['Length'])/1000)"
   ]
  },
  {
   "cell_type": "markdown",
   "id": "c2bcf74a",
   "metadata": {},
   "source": [
    "*Cost_pole* was also defined, and it can also be called in this part to estimate the total cost of installing all the poles."
   ]
  },
  {
   "cell_type": "code",
   "execution_count": 55,
   "id": "adc7a313",
   "metadata": {},
   "outputs": [],
   "source": [
    "total_cost_poles = cost_pole * sum(poles_gdf[\"No. Poles\"])"
   ]
  },
  {
   "cell_type": "markdown",
   "id": "03bf597b",
   "metadata": {},
   "source": [
    "With the two defined variables *cost_grid* and *total_cost_poles*, the total cost of the grid is as follows:"
   ]
  },
  {
   "cell_type": "code",
   "execution_count": 56,
   "id": "985d8e85",
   "metadata": {},
   "outputs": [],
   "source": [
    "total_cost_grid = cost_grid + cost_service_drops + total_cost_poles"
   ]
  },
  {
   "cell_type": "markdown",
   "id": "11915b33",
   "metadata": {},
   "source": [
    "And Finally, the annual cost of Operationan & Maintenance are calculated based on a percentage of the total Capital Costs."
   ]
  },
  {
   "cell_type": "code",
   "execution_count": 57,
   "id": "a8163476",
   "metadata": {},
   "outputs": [],
   "source": [
    "total_om_grid = grid_om * total_cost_grid"
   ]
  },
  {
   "cell_type": "markdown",
   "id": "2dd63d90",
   "metadata": {},
   "source": [
    "The function to define de LCOE for the distribution grid can be calculated from the set of functions available in the OnSSET-MG tool. Notices that within the function, the time life of the grid was set in 30 years."
   ]
  },
  {
   "cell_type": "code",
   "execution_count": 58,
   "id": "a5c69787",
   "metadata": {},
   "outputs": [],
   "source": [
    "lcoe_distribution = calculate_distribution_lcoe(end_year=end_year, \n",
    "                            start_year=start_year, \n",
    "                            annual_demand=annual_demand, \n",
    "                            distribution_cost=total_cost_grid, \n",
    "                            om_costs=total_om_grid, \n",
    "                            distribution_life=30, \n",
    "                            discount_rate=discount_rate)"
   ]
  },
  {
   "cell_type": "markdown",
   "id": "fe121d90",
   "metadata": {},
   "source": [
    "Transportation costs are defined as follows:"
   ]
  },
  {
   "cell_type": "code",
   "execution_count": 59,
   "id": "f25292ac",
   "metadata": {
    "scrolled": true
   },
   "outputs": [],
   "source": [
    "transportation_costs = trans_cost*len(households)"
   ]
  },
  {
   "cell_type": "markdown",
   "id": "1ed53dd9",
   "metadata": {},
   "source": [
    "## 7. Analysis"
   ]
  },
  {
   "cell_type": "markdown",
   "id": "1a7db392",
   "metadata": {},
   "source": [
    "From the previous section there are several outputs of interest, but in this part the focus will be on the variable *ret* and the GeoPandas dataframes *total_grid_gdf* and *poles_gdf*. On this regard, a better presentation of the results could be as:"
   ]
  },
  {
   "cell_type": "code",
   "execution_count": 60,
   "id": "e53dc0a6",
   "metadata": {},
   "outputs": [],
   "source": [
    "results = {\n",
    "    \"Name\": [\"PV Capacity [kWp]\",\n",
    "             \"Battery capacity [kWh]\", \n",
    "             \"Diesel Capacity [kW]\", \n",
    "              \n",
    "             \"Trunk Line [km]\",\n",
    "             \"Secondary Line [km]\",\n",
    "             \"Service Drops [km]\",\n",
    "             \"No Poles\",         \n",
    "             \n",
    "             \"CAPEX generation [USD]\",\n",
    "             \"Cost of Assets [USD]\",\n",
    "             \"Cost of Labour [USD]\",\n",
    "             \"Cost of Transport [USD]\",\n",
    "             \n",
    "             \"CAPEX Distribution [USD]\", \n",
    "             \n",
    "             \"Total CAPEX [USD]\",\n",
    "             \n",
    "             \"LCOE Generation [USD/kWh]\",\n",
    "             \"LCOE Distribution [USD/KWh]\",\n",
    "             \n",
    "            \"Annual OPEX Generation [USD]\",\n",
    "             \"Annual OPEX Distribution [USD]\",\n",
    "             \"Annual OPEX SG&A [USD]\",\n",
    "             \"Total OPEX [USD]\",\n",
    "             \n",
    "             \"NPC [USD]\",\n",
    "       \n",
    "            ],\n",
    "    \n",
    "    \n",
    "    \"Value\": [round(ret[\"best_solution\"][0],1), #PV_Capacity\n",
    "              round(ret[\"best_solution\"][1],1),  #Battery Capacity\n",
    "              round(ret[\"best_solution\"][2],1), #Diesel Capacity\n",
    "              \n",
    "              round(sum(trunks_gdf[\"Length\"])/1000,1), #kilometers_grid_main_line\n",
    "              round(sum(secondary_gdf[\"Length\"])/1000,1), #kilometers_grid_secondary_lines\n",
    "              round(sum(service_gdf[\"Length\"])/1000,1),#kilometers_services_drops\n",
    "              sum(poles_gdf[\"No. Poles\"]), #Number of poles\n",
    "              \n",
    "              math.ceil(round(ret[\"additional_values\"][2],3)/1000)*1000, #Total Investment generation\n",
    "              math.ceil(round(ret[\"additional_values\"][2],3)/1000)*1000 - total_cost_labour - transportation_costs, #Cost of Assets\n",
    "              total_cost_labour, #Cost of Labour\n",
    "              transportation_costs, #Cost of transport\n",
    "              \n",
    "              round(total_cost_grid,0), #total_cost_grid\n",
    "              \n",
    "              (round(total_cost_grid,0) + math.ceil(round(ret[\"additional_values\"][2],3)/1000)*1000), #Total_capex\n",
    "              \n",
    "              round(ret[\"lcoe\"],3), #Lcoe_generation\n",
    "              round(lcoe_distribution[0],3),#lcoe_distribution\n",
    "             \n",
    "              \n",
    "              round(ret[\"additional_values\"][4],0), #Total OM Generation\n",
    "              round(total_om_grid,0), #Total OM Distribution\n",
    "              total_cost_sga,\n",
    "              round(ret[\"additional_values\"][4],0) +  round(total_om_grid,0) + total_cost_sga, #Total OPEX\n",
    "              \n",
    "              \n",
    "              round(ret[\"additional_values\"][9],0), #Net Present Costs\n",
    "              \n",
    "             ]\n",
    "}"
   ]
  },
  {
   "cell_type": "code",
   "execution_count": 61,
   "id": "8f958e5e",
   "metadata": {},
   "outputs": [],
   "source": [
    "results_pd = pd.DataFrame(results, columns=[\"Name\", \"Value\"])"
   ]
  },
  {
   "cell_type": "code",
   "execution_count": 62,
   "id": "5af239b5",
   "metadata": {},
   "outputs": [
    {
     "data": {
      "text/html": [
       "<div>\n",
       "<style scoped>\n",
       "    .dataframe tbody tr th:only-of-type {\n",
       "        vertical-align: middle;\n",
       "    }\n",
       "\n",
       "    .dataframe tbody tr th {\n",
       "        vertical-align: top;\n",
       "    }\n",
       "\n",
       "    .dataframe thead th {\n",
       "        text-align: right;\n",
       "    }\n",
       "</style>\n",
       "<table border=\"1\" class=\"dataframe\">\n",
       "  <thead>\n",
       "    <tr style=\"text-align: right;\">\n",
       "      <th></th>\n",
       "      <th>Name</th>\n",
       "      <th>Value</th>\n",
       "    </tr>\n",
       "  </thead>\n",
       "  <tbody>\n",
       "    <tr>\n",
       "      <th>0</th>\n",
       "      <td>PV Capacity [kWp]</td>\n",
       "      <td>1.400</td>\n",
       "    </tr>\n",
       "    <tr>\n",
       "      <th>1</th>\n",
       "      <td>Battery capacity [kWh]</td>\n",
       "      <td>2.100</td>\n",
       "    </tr>\n",
       "    <tr>\n",
       "      <th>2</th>\n",
       "      <td>Diesel Capacity [kW]</td>\n",
       "      <td>0.500</td>\n",
       "    </tr>\n",
       "    <tr>\n",
       "      <th>3</th>\n",
       "      <td>Trunk Line [km]</td>\n",
       "      <td>1.500</td>\n",
       "    </tr>\n",
       "    <tr>\n",
       "      <th>4</th>\n",
       "      <td>Secondary Line [km]</td>\n",
       "      <td>2.600</td>\n",
       "    </tr>\n",
       "    <tr>\n",
       "      <th>5</th>\n",
       "      <td>Service Drops [km]</td>\n",
       "      <td>6.100</td>\n",
       "    </tr>\n",
       "    <tr>\n",
       "      <th>6</th>\n",
       "      <td>No Poles</td>\n",
       "      <td>48.000</td>\n",
       "    </tr>\n",
       "    <tr>\n",
       "      <th>7</th>\n",
       "      <td>CAPEX generation [USD]</td>\n",
       "      <td>6663000.000</td>\n",
       "    </tr>\n",
       "    <tr>\n",
       "      <th>8</th>\n",
       "      <td>Cost of Assets [USD]</td>\n",
       "      <td>6659485.000</td>\n",
       "    </tr>\n",
       "    <tr>\n",
       "      <th>9</th>\n",
       "      <td>Cost of Labour [USD]</td>\n",
       "      <td>140.000</td>\n",
       "    </tr>\n",
       "    <tr>\n",
       "      <th>10</th>\n",
       "      <td>Cost of Transport [USD]</td>\n",
       "      <td>3375.000</td>\n",
       "    </tr>\n",
       "    <tr>\n",
       "      <th>11</th>\n",
       "      <td>CAPEX Distribution [USD]</td>\n",
       "      <td>25673.000</td>\n",
       "    </tr>\n",
       "    <tr>\n",
       "      <th>12</th>\n",
       "      <td>Total CAPEX [USD]</td>\n",
       "      <td>6688673.000</td>\n",
       "    </tr>\n",
       "    <tr>\n",
       "      <th>13</th>\n",
       "      <td>LCOE Generation [USD/kWh]</td>\n",
       "      <td>0.015</td>\n",
       "    </tr>\n",
       "    <tr>\n",
       "      <th>14</th>\n",
       "      <td>LCOE Distribution [USD/KWh]</td>\n",
       "      <td>0.000</td>\n",
       "    </tr>\n",
       "    <tr>\n",
       "      <th>15</th>\n",
       "      <td>Annual OPEX Generation [USD]</td>\n",
       "      <td>10295.000</td>\n",
       "    </tr>\n",
       "    <tr>\n",
       "      <th>16</th>\n",
       "      <td>Annual OPEX Distribution [USD]</td>\n",
       "      <td>1284.000</td>\n",
       "    </tr>\n",
       "    <tr>\n",
       "      <th>17</th>\n",
       "      <td>Annual OPEX SG&amp;A [USD]</td>\n",
       "      <td>2250.000</td>\n",
       "    </tr>\n",
       "    <tr>\n",
       "      <th>18</th>\n",
       "      <td>Total OPEX [USD]</td>\n",
       "      <td>13829.000</td>\n",
       "    </tr>\n",
       "    <tr>\n",
       "      <th>19</th>\n",
       "      <td>NPC [USD]</td>\n",
       "      <td>6608986.000</td>\n",
       "    </tr>\n",
       "  </tbody>\n",
       "</table>\n",
       "</div>"
      ],
      "text/plain": [
       "                              Name        Value\n",
       "0                PV Capacity [kWp]        1.400\n",
       "1           Battery capacity [kWh]        2.100\n",
       "2             Diesel Capacity [kW]        0.500\n",
       "3                  Trunk Line [km]        1.500\n",
       "4              Secondary Line [km]        2.600\n",
       "5               Service Drops [km]        6.100\n",
       "6                         No Poles       48.000\n",
       "7           CAPEX generation [USD]  6663000.000\n",
       "8             Cost of Assets [USD]  6659485.000\n",
       "9             Cost of Labour [USD]      140.000\n",
       "10         Cost of Transport [USD]     3375.000\n",
       "11        CAPEX Distribution [USD]    25673.000\n",
       "12               Total CAPEX [USD]  6688673.000\n",
       "13       LCOE Generation [USD/kWh]        0.015\n",
       "14     LCOE Distribution [USD/KWh]        0.000\n",
       "15    Annual OPEX Generation [USD]    10295.000\n",
       "16  Annual OPEX Distribution [USD]     1284.000\n",
       "17          Annual OPEX SG&A [USD]     2250.000\n",
       "18                Total OPEX [USD]    13829.000\n",
       "19                       NPC [USD]  6608986.000"
      ]
     },
     "execution_count": 62,
     "metadata": {},
     "output_type": "execute_result"
    }
   ],
   "source": [
    "results_pd"
   ]
  },
  {
   "cell_type": "markdown",
   "id": "d13aec92",
   "metadata": {},
   "source": [
    "The previous table demonstrates the ability to consolidate various relevant values within a single DataFrame for export. However, Python's true strength lies in its flexibility for performing in-depth analysis. In the following steps, we will focus on conducting a thorough analysis to understand the impact of a specific variable on the overall performance of the minigrid."
   ]
  },
  {
   "cell_type": "markdown",
   "id": "3e643862",
   "metadata": {},
   "source": [
    "### 7.1 What-if Analysis"
   ]
  },
  {
   "cell_type": "markdown",
   "id": "c67577f3",
   "metadata": {},
   "source": [
    "Let's suppose that we want to carry out an analysis where the demand is a changing parameter, and we want to analyze how it impacts the LCOE cost for energy generation. For that, a *variations* variable is defined to dynamically change the *load_curve* variable. "
   ]
  },
  {
   "cell_type": "code",
   "execution_count": 63,
   "id": "f0b782cc",
   "metadata": {},
   "outputs": [],
   "source": [
    "variations = np.random.normal(1, 0.2, 10)"
   ]
  },
  {
   "cell_type": "markdown",
   "id": "568ec2a7",
   "metadata": {},
   "source": [
    "Then, a variation of the first variable ret is defined as ret_sensitivity, where all of the parameters remain as defined except for *load_curve*, which iteratively changes through the different proportional variations of the initial *load_curve*."
   ]
  },
  {
   "cell_type": "code",
   "execution_count": 64,
   "id": "b900a15b",
   "metadata": {
    "scrolled": true
   },
   "outputs": [],
   "source": [
    "lcoe_sensitivities = []\n",
    "\n",
    "for variation_values in variations:\n",
    "    load_curve_sensitivity= load_curve*variation_values\n",
    "    ret_sensitivity = optimizer_de(diesel_price=diesel_price, \n",
    "                                   hourly_ghi=hourly_ghi,\n",
    "                                   hourly_temp=hourly_temp,\n",
    "                                   load_curve=load_curve_sensitivity,\n",
    "                                   start_year=start_year,\n",
    "                                   end_year=end_year,\n",
    "                                   discount_rate=discount_rate,\n",
    "                                   diesel_cost=diesel_cost,  \n",
    "                                   battery_cost=battery_cost,  \n",
    "                                   full_life_cycles=full_life_cycles, \n",
    "                                   battery_inverter_cost=battery_inverter_cost,  \n",
    "                                   pv_cost=pv_cost,  \n",
    "                                   pv_inverter=pv_inverter, \n",
    "                                   charge_controller=charge_controller, \n",
    "                                   diesel_limit=diesel_limit, \n",
    "                                   lpsp_max=lpsp_max,\n",
    "                                   inv_eff=inv_eff,\n",
    "                                   n_chg=n_chg,\n",
    "                                   n_dis=n_dis,\n",
    "                                   dod_max=dod_max,\n",
    "                                   pv_om= pv_om,\n",
    "                                   diesel_om=diesel_om,\n",
    "                                   battery_inverter_life=battery_inverter_life,\n",
    "                                   pv_life=pv_life,\n",
    "                                   diesel_life=diesel_life)\n",
    "        \n",
    "    lcoe_sensitivities.append((variation_values, ret_sensitivity[\"lcoe\"], round(ret_sensitivity[\"best_solution\"][0],1),\n",
    "                                 round(ret_sensitivity[\"best_solution\"][1],1), round(ret_sensitivity[\"best_solution\"][2],1)))"
   ]
  },
  {
   "cell_type": "markdown",
   "id": "5a3f9ab6",
   "metadata": {},
   "source": [
    "The results are unitary unpacked for plotting:"
   ]
  },
  {
   "cell_type": "code",
   "execution_count": 65,
   "id": "4435020a",
   "metadata": {},
   "outputs": [],
   "source": [
    "variations_demand, lcoe_values, pv_capacities, battery_capacities, diesel_capacities = zip(*lcoe_sensitivities)"
   ]
  },
  {
   "cell_type": "markdown",
   "id": "92aaa8cd",
   "metadata": {},
   "source": [
    "At first, we explore the relation between installed capacity, LCOE and changes in demand:"
   ]
  },
  {
   "cell_type": "code",
   "execution_count": 66,
   "id": "b2d3b3c0",
   "metadata": {},
   "outputs": [
    {
     "data": {
      "image/png": "[encoded data removed]",
      "text/plain": [
       "<Figure size 1000x600 with 2 Axes>"
      ]
     },
     "metadata": {},
     "output_type": "display_data"
    }
   ],
   "source": [
    "plt.figure(figsize=(10, 6))\n",
    "scatter = plt.scatter(variations_demand, pv_capacities, c=lcoe_values, cmap='plasma')\n",
    "plt.colorbar(scatter, label='LCOE (USD/kWh)')\n",
    "plt.xlabel('Proportional variations in demand')\n",
    "plt.ylabel('Installed capacity PV (kWp)')\n",
    "plt.title('Sensitivity Analysis')\n",
    "plt.show()"
   ]
  },
  {
   "cell_type": "markdown",
   "id": "c1f4414b",
   "metadata": {},
   "source": [
    "Another way of doing it, is by defining a dataframe for the data:"
   ]
  },
  {
   "cell_type": "code",
   "execution_count": 67,
   "id": "8ac51fb6",
   "metadata": {},
   "outputs": [],
   "source": [
    "sensitivity_pd = df = pd.DataFrame(lcoe_sensitivities, columns=['Variations Demand',\n",
    "                                                                \"LCOE [USD/kWh]\", \n",
    "                                                                'PV Cap [kWp]', \n",
    "                                                                'Battery Capacities [kWh]', \n",
    "                                                                \"Diesel Capacities [kWh]\"])"
   ]
  },
  {
   "cell_type": "markdown",
   "id": "638d8bc9",
   "metadata": {},
   "source": [
    "Results are sorted in increasing order based on the column \"Variations Demand\""
   ]
  },
  {
   "cell_type": "code",
   "execution_count": 68,
   "id": "47595565",
   "metadata": {},
   "outputs": [],
   "source": [
    "sensitivity_pd_sorted = sensitivity_pd.sort_values(by='Variations Demand')"
   ]
  },
  {
   "cell_type": "markdown",
   "id": "602b4663",
   "metadata": {},
   "source": [
    "Another type of graphic is defined to understand the capacities of PV, batteries and diesel, based on variations of demand."
   ]
  },
  {
   "cell_type": "code",
   "execution_count": 69,
   "id": "2005b5bb",
   "metadata": {},
   "outputs": [
    {
     "data": {
      "image/png": "[encoded data removed]",
      "text/plain": [
       "<Figure size 1000x600 with 2 Axes>"
      ]
     },
     "metadata": {},
     "output_type": "display_data"
    }
   ],
   "source": [
    "# Number of categories\n",
    "n = len(sensitivity_pd_sorted)\n",
    "\n",
    "# This creates an array with the position of each bar along the x-axis\n",
    "x = np.arange(n)\n",
    "\n",
    "# Width of a single bar\n",
    "width = 0.25\n",
    "\n",
    "# Create the figure and the bar chart\n",
    "fig, ax1 = plt.subplots(figsize=(10, 6))\n",
    "\n",
    "# Position bars in a grouped manner\n",
    "bars1 = ax1.bar(x - width, sensitivity_pd_sorted[\"PV Cap [kWp]\"].values, width, label='PV Capacities (kWp)', color='skyblue')\n",
    "bars2 = ax1.bar(x, sensitivity_pd_sorted[\"Battery Capacities [kWh]\"].values, width, label='Battery Capacities (kWh)', color='lightgreen')\n",
    "bars3 = ax1.bar(x + width, sensitivity_pd_sorted[\"Diesel Capacities [kWh]\"], width, label='Diesel Capacities (kWh)', color='salmon')\n",
    "\n",
    "# Add labels, title, and legend for the bar chart\n",
    "ax1.set_xlabel('Proportional variations in Demand')\n",
    "ax1.set_ylabel('kWp or kWh')\n",
    "ax1.set_title('Sensitivity Analysis')\n",
    "ax1.set_xticks(x)\n",
    "ax1.set_xticklabels([round(num, 2) for num in sensitivity_pd_sorted[\"Variations Demand\"].values])\n",
    "\n",
    "\n",
    "# Create a secondary y-axis\n",
    "ax2 = ax1.twinx()\n",
    "ax2.set_ylabel('LCOE (USD/kWh)')\n",
    "\n",
    "# Plot the secondary data (average values) as a line plot\n",
    "ax2.plot(x, sensitivity_pd_sorted[\"LCOE [USD/kWh]\"].values, color='red', marker='o', label='LCOE')\n",
    "\n",
    "# Add a legend for the secondary plot\n",
    "ax2.legend(loc='upper right')\n",
    "ax1.legend(loc='upper left')\n",
    "\n",
    "# Display the plot\n",
    "plt.show()"
   ]
  },
  {
   "cell_type": "markdown",
   "id": "2fd885f5",
   "metadata": {},
   "source": [
    "### 8. Results"
   ]
  },
  {
   "cell_type": "markdown",
   "id": "b4b9be05",
   "metadata": {},
   "source": [
    "The results can be exported. Specifically, CSV files will be generated from some of the dataframes, and the same process can be applied to the GeoDataFrames. Earlier in the notebook the *outphat* folder was defined to stored out results:"
   ]
  },
  {
   "cell_type": "markdown",
   "id": "26357590",
   "metadata": {},
   "source": [
    "#### Exporting CSV Files:"
   ]
  },
  {
   "cell_type": "markdown",
   "id": "2a5f97ab",
   "metadata": {},
   "source": [
    "Lets say we are interest on exporting the dataframe results_pd:"
   ]
  },
  {
   "cell_type": "code",
   "execution_count": 70,
   "id": "308f51ad",
   "metadata": {},
   "outputs": [],
   "source": [
    "name_file = community + \"_Results\""
   ]
  },
  {
   "cell_type": "code",
   "execution_count": 71,
   "id": "a0ce5722",
   "metadata": {},
   "outputs": [],
   "source": [
    "results_pd.to_csv(outpath + \"\\\\\" + name_file +\".csv\")"
   ]
  },
  {
   "cell_type": "markdown",
   "id": "b450ac3b",
   "metadata": {},
   "source": [
    "#### Exporting .gpkg Files:"
   ]
  },
  {
   "cell_type": "markdown",
   "id": "265d9b8b",
   "metadata": {},
   "source": [
    "Lets say we are interest on exporting the GeoPandasDataframe total_grid_gdf:"
   ]
  },
  {
   "cell_type": "code",
   "execution_count": 72,
   "id": "9b01cea4",
   "metadata": {},
   "outputs": [],
   "source": [
    "name_gpd_file = community + \"_distribution_grid\""
   ]
  },
  {
   "cell_type": "code",
   "execution_count": 73,
   "id": "587fe995",
   "metadata": {},
   "outputs": [],
   "source": [
    "total_grid_gdf.to_file(outpath + \"\\\\\" + name_gpd_file, driver=\"GPKG\")"
   ]
  },
  {
   "cell_type": "code",
   "execution_count": null,
   "id": "d55c425a",
   "metadata": {},
   "outputs": [],
   "source": []
  }
 ],
 "metadata": {
  "kernelspec": {
   "display_name": "Python 3 (ipykernel)",
   "language": "python",
   "name": "python3"
  },
  "language_info": {
   "codemirror_mode": {
    "name": "ipython",
    "version": 3
   },
   "file_extension": ".py",
   "mimetype": "text/x-python",
   "name": "python",
   "nbconvert_exporter": "python",
   "pygments_lexer": "ipython3",
   "version": "3.11.9"
  }
 },
 "nbformat": 4,
 "nbformat_minor": 5
}
