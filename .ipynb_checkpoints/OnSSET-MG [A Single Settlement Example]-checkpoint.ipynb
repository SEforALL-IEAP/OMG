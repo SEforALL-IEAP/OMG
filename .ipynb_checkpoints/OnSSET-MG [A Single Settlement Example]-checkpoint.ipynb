{
 "cells": [
  {
   "cell_type": "markdown",
   "id": "8e346603-82a3-4873-bb0e-0539b9800054",
   "metadata": {},
   "source": [
    "# Open Source Spatial Electrification Toolkit for Mini Grids (OnSSET-MG)"
   ]
  },
  {
   "cell_type": "markdown",
   "id": "508f3b45-2e00-4bbd-b069-23434e852840",
   "metadata": {},
   "source": [
    "Developed by: [UIEP Team](IEP@seforall.org)"
   ]
  },
  {
   "cell_type": "markdown",
   "id": "434b13a4-8953-46e0-ac06-46fbf3db43ef",
   "metadata": {},
   "source": [
    "This Notebook provides an example on how to run the Open-Source Spatial Electrification Toolkit for Mini Grids (OnSSET-MG) optimization for generation and distribution sizing in a single settlement. This notebook is structured as follows: \n",
    "\n",
    "1. Setting Up the Python Environment: This section outlines the process for setting up the required Python environment, including any libraries or packages needed for the analysis. \n",
    "2. Defining Folders: Here, we will define the folder structure for storing and organizing data used in the notebook. This includes specifying locations for downloaded datasets, processed data, and any output files. \n",
    "3. Importing Datasets: After defining folders, we will detail the process of importing the necessary datasets. \n",
    "4. Technical and economic assumptions: This section outlines any economic and technical assumptions made during the analysis. \n",
    "5. Optimization for Generation Sizing: This section describes the optimization process for determining the optimal hybrid generation based on the imported data. \n",
    "6. Distribution Network Sizing: Here a design of the distribution network for the Mini grid is generated. \n",
    "7. Analysis: Some analisis are conducted hihglihgting the flexibility and advantages of using Python.\n",
    "8. Results: Examples on how to export results from the model are showed."
   ]
  },
  {
   "cell_type": "markdown",
   "id": "d2508a60-d8d8-4209-a7e4-eb8bf17512a8",
   "metadata": {},
   "source": [
    "## 1. Setting Up the Python Environment"
   ]
  },
  {
   "cell_type": "markdown",
   "id": "e77e522c-5dfb-4e13-a23f-49c11438171d",
   "metadata": {},
   "source": [
    "These are some essential Python packages for data science tasks. They are widely used in various scripts because their combination allows to perform a powerful range of operations on data."
   ]
  },
  {
   "cell_type": "code",
   "execution_count": 2,
   "id": "655dfebe-15e4-4b67-ba4c-751d637a518e",
   "metadata": {},
   "outputs": [],
   "source": [
    "import numpy as np\n",
    "import pandas as pd\n",
    "import matplotlib.pyplot as plt\n",
    "import os\n",
    "import time\n",
    "import math\n",
    "import warnings\n",
    "warnings.filterwarnings('ignore')"
   ]
  },
  {
   "cell_type": "markdown",
   "id": "fab38d6e-105e-4728-a800-5294099d159a",
   "metadata": {},
   "source": [
    "These packages are essential for working with geospatial data and performing spatial analysis. They allow you to represent and manipulate geographical features and data"
   ]
  },
  {
   "cell_type": "code",
   "execution_count": 3,
   "id": "ab6c601d-98d6-43b2-b673-7fe88cded1fa",
   "metadata": {},
   "outputs": [],
   "source": [
    "import geopandas as gpd\n",
    "from shapely.geometry import LineString, Point, MultiLineString, Polygon, MultiPoint\n",
    "from shapely.ops import linemerge, nearest_points, voronoi_diagram, unary_union, split, substring\n",
    "from shapely import minimum_rotated_rectangle, unary_union"
   ]
  },
  {
   "cell_type": "markdown",
   "id": "bd1ae601-80e0-4ee2-bcc7-c8b475c3ed0e",
   "metadata": {},
   "source": [
    "These are the necesary packages needed to run the optimisation functions of the OnSSET-MG tool. Hybrids is a Python script that contains several functions for the OnSSET-MG tool to operate. It parameterizes the minigrid's behavior based on input data defined later, while also setting and defining the objective function. The SciPy library provides functions and algorithms for optimization problems, which will be used here to find the best combination of resources for the study area. "
   ]
  },
  {
   "cell_type": "code",
   "execution_count": 4,
   "id": "d55ad56b-74c8-4e01-aa1c-fb575f7e6239",
   "metadata": {},
   "outputs": [],
   "source": [
    "from hybrids import *\n",
    "from scipy.optimize import Bounds, differential_evolution"
   ]
  },
  {
   "cell_type": "markdown",
   "id": "6d36786e-6d90-41ff-9690-98cedf222a5f",
   "metadata": {},
   "source": [
    "OnSSET-MG includes a component that aims to automatize mini-grid distribution network design. These are the necesary packages needed to run the distribution sizing functions"
   ]
  },
  {
   "cell_type": "code",
   "execution_count": 5,
   "id": "283b7e7d-e7c7-485d-839a-2dfe95df0f30",
   "metadata": {},
   "outputs": [],
   "source": [
    "from scipy.spatial import Voronoi, cKDTree\n",
    "import networkx as nx\n",
    "from dist_funcs import *"
   ]
  },
  {
   "cell_type": "markdown",
   "id": "b7167643-3353-42b3-8e64-ced10e182ae7",
   "metadata": {},
   "source": [
    "## 2. Defining folders"
   ]
  },
  {
   "cell_type": "markdown",
   "id": "746a44e5-f493-4cd4-aec4-0073338c736b",
   "metadata": {},
   "source": [
    "This line of code obtains the absolute path of the current directory where the script is being executed. It then stores this path in the variable ROOT_DIR. Consequently, any relative paths defined within the script will be interpreted relative to this directory.  If data or other scripts reside in a different directory, adjustments to the paths are necessary. These adjustments can involve providing absolute paths or employing techniques for relative path navigation."
   ]
  },
  {
   "cell_type": "code",
   "execution_count": 6,
   "id": "5a1552f3-4a3c-4cdb-81d3-764fce8d3672",
   "metadata": {},
   "outputs": [],
   "source": [
    "ROOT_DIR = os.path.abspath(os.curdir)"
   ]
  },
  {
   "cell_type": "markdown",
   "id": "71cf9b16-36c1-4f01-a8a2-5ccc0027a26c",
   "metadata": {},
   "source": [
    "### 2.1 Input folder"
   ]
  },
  {
   "cell_type": "markdown",
   "id": "d8f3284a-3d25-44b7-ab08-3d44d9cbbdfb",
   "metadata": {},
   "source": [
    "\"admin_path\" creates the path to a subdirectory named \"Input_Data\" relative to the directory where the script is running (stored in ROOT_DIR). Input_data will contain all files needed for analisis. "
   ]
  },
  {
   "cell_type": "code",
   "execution_count": 7,
   "id": "55f65169-b49a-43ca-bc81-dd7e7a7a2267",
   "metadata": {},
   "outputs": [],
   "source": [
    "admin_path = ROOT_DIR + \"\\\\\" + 'Input_Data'"
   ]
  },
  {
   "cell_type": "markdown",
   "id": "c4c47ef2-b396-4887-a961-ac365b474b97",
   "metadata": {},
   "source": [
    "### 2.2 Output folder"
   ]
  },
  {
   "cell_type": "markdown",
   "id": "2ea78f16-1742-4fa4-8afb-40569a7d67f9",
   "metadata": {},
   "source": [
    "\"outpath\" creates the path to a subdirectory named \"Output_Data\" relative to the directory where the script is running (stored in ROOT_DIR).  This path will be used to store all output data generated by the script's analysis."
   ]
  },
  {
   "cell_type": "code",
   "execution_count": 8,
   "id": "10d61423-4542-4f1b-a486-0aef739e3cdd",
   "metadata": {},
   "outputs": [],
   "source": [
    "outpath= ROOT_DIR + \"\\\\\" + 'Output_Data'"
   ]
  },
  {
   "cell_type": "markdown",
   "id": "bee0bef3-7484-4e0e-9716-5c4dc63ec86b",
   "metadata": {},
   "source": [
    "## 3. Importing Datasets"
   ]
  },
  {
   "cell_type": "markdown",
   "id": "a9632665-10c5-4fde-9fce-64f489819d26",
   "metadata": {},
   "source": [
    "The model effectively runs based on five datasets:\n",
    "\n",
    "1. Environmental characteristics: This dataset provides information about the Global Horizontal Irradiance (GHI) and temperature of the location.\n",
    "2. Demand: This dataset aggregates the total electricity demand for the microgrid.\n",
    "3. Microgrid cluster: This polygon data characterizes the area of the microgrid, encompassing all the places to be electrified.\n",
    "4. Building footprints: This data provides the locations and footprints of buildings within the microgrid, which is essential for sizing the distribution grid infrastructure.\n",
    "5. Technical and economic assumptions: Defined in the next section, these assumptions essentially parametrize the costs and technical behaviors of the microgrid components."
   ]
  },
  {
   "cell_type": "markdown",
   "id": "2723450e-eae3-437a-b445-cee53009cf94",
   "metadata": {},
   "source": [
    "### 3.1 Environmental characteristics: retrieving GHI and temperature"
   ]
  },
  {
   "cell_type": "markdown",
   "id": "73994673-b868-4280-901f-a2c952be4188",
   "metadata": {},
   "source": [
    "The Global Horizontal Irradiance (GHI) and temperature data are retrieved from [renewables ninja](https://www.renewables.ninja). Before proceeding, please consult the [documentation](https://www.renewables.ninja/documentation) as creating a user account and password is necessary to generate a token for downloading specific data."
   ]
  },
  {
   "cell_type": "markdown",
   "id": "1d9429d9-3992-4c33-a4a6-c4f57b52d7ba",
   "metadata": {},
   "source": [
    "The following lines define the arguments for the get_pv_data function. These arguments specify the data required for download:\n",
    "\n",
    "* **Geographical Location**: It is specified by latitude and longitude coordinates. It defines the area of interest for the analysis. Ideally, choose a location that represents the study area well, such as the centroid of a polygon layer that defines the region."
   ]
  },
  {
   "cell_type": "code",
   "execution_count": 9,
   "id": "e834d2f0-980b-4653-88b9-0d988fd74dff",
   "metadata": {},
   "outputs": [],
   "source": [
    "latitude = 16.514\n",
    "longitude = -89.817"
   ]
  },
  {
   "cell_type": "markdown",
   "id": "9a61c602-c610-41b0-bd7b-8b713d0fe1d3",
   "metadata": {},
   "source": [
    "* **Renewables ninja API Token**: An API token is required to access the full capabilities of Renewables.ninja, including downloading photovoltaic (PV)."
   ]
  },
  {
   "cell_type": "markdown",
   "id": "5e5d436f-83ca-4fed-8925-4b0100924928",
   "metadata": {},
   "source": [
    "1. Create a free account on the Renewables.ninja [website](https://www.renewables.ninja/register). Once registered, users gain the ability to download datasets and utilize the API for programmatic data retrieval.\n",
    "2. Log in. To access a personal API token, navigate to the profile by clicking on the symbol in the top right corner (usually a profile picture or icon) on [profile](https://www.renewables.ninja/profile).\n",
    "3. Within the profile settings, users can find their unique API token. This token should be copied and pasted between quotation marks (token = 'your_token_here') when using the API in the code."
   ]
  },
  {
   "cell_type": "code",
   "execution_count": 10,
   "id": "e98f3a2e-5cc6-4b87-87fb-3acd4f4e3e71",
   "metadata": {},
   "outputs": [],
   "source": [
    "token = '34ce766540933809df4967bbe4905806dc587bfb'"
   ]
  },
  {
   "cell_type": "markdown",
   "id": "a602a696-570c-434c-be39-1570d5f3754d",
   "metadata": {},
   "source": [
    "* **PV Data Folder**: This argument defines the folder path where the downloaded PV data (GHI and temperature) will be stored."
   ]
  },
  {
   "cell_type": "code",
   "execution_count": 11,
   "id": "1673369e-0d7b-498e-a7c6-5f080f632c09",
   "metadata": {},
   "outputs": [],
   "source": [
    "pv_data_folder = 'Input_Data/pv'"
   ]
  },
  {
   "cell_type": "markdown",
   "id": "ce11861d-56c8-466a-b01e-95b24419392d",
   "metadata": {},
   "source": [
    "By executing the function *get_pv_data*, a Comma-Separated Values (CSV) file named pv_data_lat_16.514_long_-89.817.csv should have been downloaded. In case that there have been changes in the latitude, longitude coordinates, the name of the file will be different. This file contains the following data:\n",
    "\n",
    "+ time: Structured in hourly format.\n",
    "+ ghi: Units are in watt-hours (Wh).\n",
    "+ temperature: Units are in degrees Celsius (°C)."
   ]
  },
  {
   "cell_type": "markdown",
   "id": "f06092ef-4045-41e4-8a48-f246b4cdb970",
   "metadata": {},
   "source": [
    "| time                     | ghi | temperature |\n",
    "|--------------------------|-----|-------------|\n",
    "| 2019-12-31 18:00:00-06:00| 0.0 | 23.407       |\n",
    "| 2019-12-31 19:00:00-06:00| 0.0 | 22.95       |\n"
   ]
  },
  {
   "cell_type": "code",
   "execution_count": 12,
   "id": "3bedee4f-6356-483c-8446-69834ada2996",
   "metadata": {},
   "outputs": [],
   "source": [
    "get_pv_data(latitude, longitude, token, pv_data_folder)"
   ]
  },
  {
   "cell_type": "markdown",
   "id": "9d5ac4c6-7089-43e3-a364-9d920ed1a17d",
   "metadata": {},
   "source": [
    "Finally, the read_environmental_data function defines two variables to extract 8,760 values for GHI and temperature. The function is designed to output two NumPy arrays containing this data. **Important Note**: If better access to higher-quality environmental data is available, it should be formatted identically to the expected structure of hourly_ghi and hourly_temp,"
   ]
  },
  {
   "cell_type": "code",
   "execution_count": 13,
   "id": "70074d0e-7b0f-4654-b243-b3432be316ca",
   "metadata": {},
   "outputs": [],
   "source": [
    "hourly_ghi, hourly_temp = read_environmental_data(os.path.join(pv_data_folder, 'pv_data_lat_{}_long_{}.csv'.format(latitude, longitude)))"
   ]
  },
  {
   "cell_type": "markdown",
   "id": "9029e85e-202e-4ff5-a8c7-1df39c168216",
   "metadata": {},
   "source": [
    "### 3.2 Demand"
   ]
  },
  {
   "cell_type": "markdown",
   "id": "1c29c684-a82d-4374-9380-6a9223893d7f",
   "metadata": {},
   "source": [
    "There are two primary methods for acquiring demand data:\n",
    "1. Multi-Tier Framework (MTF)\n",
    "2. Site-Specific Data (if available)"
   ]
  },
  {
   "cell_type": "markdown",
   "id": "c39b1ca3-348b-493f-8803-ff8e604fdb9a",
   "metadata": {},
   "source": [
    "#### 3.2.1 Multi-Tier Framework (MTF)"
   ]
  },
  {
   "cell_type": "markdown",
   "id": "7c147e1e-da14-4813-bf4a-e68e11b4d628",
   "metadata": {},
   "source": [
    "Under this approach, demand load curves are derived based on the  [Multi-Tier Framework](https://www.esmap.org/mtf-multi-tier-framework-website). The function requires two parameters:\n",
    "\n",
    "* Total Electricity Demand (kWh): This represents the total annual electricity demand for the location where the microgrid will be installed.\n",
    "* Tier: This refers to the average tier classification of the location based on the Multi-Tier Framework."
   ]
  },
  {
   "cell_type": "code",
   "execution_count": 14,
   "id": "cb72f4b9-d22b-4e29-92e2-7e3cdcde293f",
   "metadata": {},
   "outputs": [],
   "source": [
    "total_demand = 365*361\n",
    "tier=2"
   ]
  },
  {
   "cell_type": "markdown",
   "id": "1428ce19-a089-4cce-b44b-274c31c8cebf",
   "metadata": {},
   "source": [
    "The load_curve function is used to calculate the load curve. However, the script allows for incorporating alternative load curve data if it's available."
   ]
  },
  {
   "cell_type": "code",
   "execution_count": 15,
   "id": "e4a2d83b-0f33-4555-938a-c250dd294bae",
   "metadata": {},
   "outputs": [
    {
     "ename": "TypeError",
     "evalue": "not enough arguments: expected 5, got 2",
     "output_type": "error",
     "traceback": [
      "\u001b[1;31m---------------------------------------------------------------------------\u001b[0m",
      "\u001b[1;31mTypeError\u001b[0m                                 Traceback (most recent call last)",
      "Cell \u001b[1;32mIn[15], line 1\u001b[0m\n\u001b[1;32m----> 1\u001b[0m load_curve \u001b[38;5;241m=\u001b[39m \u001b[43mcalc_load_curve\u001b[49m\u001b[43m(\u001b[49m\u001b[43mtier\u001b[49m\u001b[43m,\u001b[49m\u001b[43m \u001b[49m\u001b[43mtotal_demand\u001b[49m\u001b[43m)\u001b[49m\n",
      "\u001b[1;31mTypeError\u001b[0m: not enough arguments: expected 5, got 2"
     ]
    }
   ],
   "source": [
    "load_curve = calc_load_curve(tier, total_demand)"
   ]
  },
  {
   "cell_type": "markdown",
   "id": "2428f8e4-1ae2-45e2-b5ab-b374f83ac2e9",
   "metadata": {},
   "source": [
    "#### 3.2.2 Site-Specific Data (if available)"
   ]
  },
  {
   "cell_type": "markdown",
   "id": "e86e90b5-864a-4244-aff0-131e01e15e53",
   "metadata": {},
   "source": [
    "This approach necessitates that demand load curves adhere to a specific data structure to be compatible with the *load_curve* variable. This structure requires 8760 hourly values representing hourly consumption in kiloWatts. \n",
    "\n",
    "An example is provided below, utilizing and processing data from an study focused on [electricity demand of rural households](https://www.research-collection.ethz.ch/handle/20.500.11850/533773). This data exemplifies a demand for 30 households located in San Gaspar Ixchil, Huehuetenango. The provided data has undergone pre-processing and incorporates 8760 hourly demand values in kiloWatts, categorized by household. For this specific scenario, data upload simply involves incorporating the data into the notebook and assigning it to the *load_curve* variable."
   ]
  },
  {
   "cell_type": "markdown",
   "id": "049cea67-f7db-435e-a517-f4a8f814c5bd",
   "metadata": {},
   "source": [
    "* First the variable *number_of_houselhods* is defined. It contains the total number of households in the study area (cluster). Notice that there is not commercial or industrial demand, but only household demand."
   ]
  },
  {
   "cell_type": "code",
   "execution_count": null,
   "id": "7f601d28-0717-433e-864e-30541f19e0a5",
   "metadata": {},
   "outputs": [],
   "source": [
    "number_of_households = 300"
   ]
  },
  {
   "cell_type": "markdown",
   "id": "46b3a754-2207-4f3f-8b74-bdfe8968c406",
   "metadata": {},
   "source": [
    "* *demand_per_household*, containts a Pandas Dataframe from the Comma Separated Value file. Its structure is showed afterwards. The data has been preprocssed for 8760 values (hourly demand in one year) in kilo-Watt."
   ]
  },
  {
   "cell_type": "code",
   "execution_count": null,
   "id": "193902f2-1526-40be-a67e-35184970ff18",
   "metadata": {},
   "outputs": [],
   "source": [
    "demand_per_household = pd.read_csv(r'Input_Data\\demand_per_household.csv')"
   ]
  },
  {
   "cell_type": "code",
   "execution_count": null,
   "id": "d1a1a8a9-218c-4e3f-a07e-2c3583c2c893",
   "metadata": {},
   "outputs": [],
   "source": [
    "demand_per_household.head(3)"
   ]
  },
  {
   "cell_type": "markdown",
   "id": "52ca3910-6791-4c78-8910-4741e40a0fab",
   "metadata": {},
   "source": [
    "* The *load_curve* variable stores the total demand for the study area in the format required by OnSSET-MG for optimization."
   ]
  },
  {
   "cell_type": "code",
   "execution_count": null,
   "id": "8f6de86b-ba4b-47e0-a0b4-a45e13583202",
   "metadata": {},
   "outputs": [],
   "source": [
    "load_curve = number_of_households * demand_per_household[\"demand_kw\"].values"
   ]
  },
  {
   "cell_type": "markdown",
   "id": "3ca5b540-7a75-41a0-b544-bcd13f618384",
   "metadata": {},
   "source": [
    "* In case this approache is used,  *annual_demand* is a variable use to calculate LCOE, thus, it needs to be updated accordingly"
   ]
  },
  {
   "cell_type": "code",
   "execution_count": null,
   "id": "36d1902e-ad06-4bf5-a10f-b8b89b304852",
   "metadata": {},
   "outputs": [],
   "source": [
    "annual_demand = sum(load_curve)"
   ]
  },
  {
   "cell_type": "markdown",
   "id": "cfa2ad7a-2c60-4177-ac7e-f15aab3fdb58",
   "metadata": {},
   "source": [
    "### 3.3 Microgrid cluster"
   ]
  },
  {
   "cell_type": "markdown",
   "id": "be12a091-491c-4123-9f07-564633007cb0",
   "metadata": {},
   "source": [
    "Polygon layers, representing the planned electrification zones, are referred to as clusters. Ensure the appropriate local [Coordinate Reference System (CRS)](https://epsg.io/) is loaded before working with these layers. The provided link will return a CRS for the study area. In this notebook, data provided by the Ministry of Energy will be used as input."
   ]
  },
  {
   "cell_type": "code",
   "execution_count": null,
   "id": "0d9ceac5-6870-49c4-bb80-e803aee89c52",
   "metadata": {},
   "outputs": [],
   "source": [
    "target_crs = 'EPSG:32615'"
   ]
  },
  {
   "cell_type": "code",
   "execution_count": null,
   "id": "8e471363-921b-4ca0-9642-bf4b2d145934",
   "metadata": {},
   "outputs": [],
   "source": [
    "cluster_polygons = gpd.read_file(r'Input_Data\\Study_area_Huehuetenango_Polygons.gpkg').to_crs(target_crs)"
   ]
  },
  {
   "cell_type": "markdown",
   "id": "2702c39c-56d9-4f87-ba5c-de7b98580ec1",
   "metadata": {},
   "source": [
    "Data exploration is a crucial step in any data analysis process. It allows identification of key characteristics and potential issues within the data. While the data stored in *cluster_polygons* has been preprocessed in QGIS for this specific exercise, the script's functionality relies on a consistent data structure that aligns with its expected input.  From the variable *cluster_polygons*, there are three values that can be extracted: id, COMUNIDAD and geometry, being of interest the use of the geometry column."
   ]
  },
  {
   "cell_type": "code",
   "execution_count": null,
   "id": "986bd967-003a-4b39-9597-efdb3560ab14",
   "metadata": {},
   "outputs": [],
   "source": [
    "cluster_polygons.head(5)"
   ]
  },
  {
   "cell_type": "markdown",
   "id": "05321cc0-a91d-4a2d-b461-817c8decd18c",
   "metadata": {},
   "source": [
    "**Note**: If higher quality data is available, ensure the geometry consists of polygon shapes."
   ]
  },
  {
   "cell_type": "markdown",
   "id": "e0b027c1-9b7c-4067-90e3-4e4991a344b4",
   "metadata": {},
   "source": [
    "### 3.4 Building footprints"
   ]
  },
  {
   "cell_type": "markdown",
   "id": "ddc56120-f1cc-4c64-8be5-11a19e20ecaf",
   "metadata": {},
   "source": [
    "Building footprints provide information on the location of houses to be electrified, which is crucial for determining the size of the minigrid's distribution network. For this notebook, we will be using data from [Open Buildings](https://sites.research.google/open-buildings/#download). The data can be downloaded directly from the link under the Download section on the provided link. \n",
    "\n",
    "The downloaded file will be in CSV format and is quite large (around 1GB). To optimize local resources, it is a good practice to clip the data in QGIS before using it in a notebook. The data storaged in *households* variable has been already preprocessed in QGIS."
   ]
  },
  {
   "cell_type": "code",
   "execution_count": null,
   "id": "82bccf31-573c-425a-a206-3e10d3c98092",
   "metadata": {},
   "outputs": [],
   "source": [
    "households = gpd.read_file(r'Input_Data\\Study_area_Huehuetenango_households.gpkg').to_crs(target_crs)"
   ]
  },
  {
   "cell_type": "code",
   "execution_count": null,
   "id": "efa21e97-39d2-45c0-9814-05576206bd16",
   "metadata": {},
   "outputs": [],
   "source": [
    "households.head(5)"
   ]
  },
  {
   "cell_type": "markdown",
   "id": "6f5eeadf-bd2c-48d6-a866-1c5c19a4cba5",
   "metadata": {},
   "source": [
    "**Note**: If higher quality data is available, ensure the geometry consists of point or multipoints."
   ]
  },
  {
   "cell_type": "markdown",
   "id": "139f267f-5b78-4385-a6d4-8737d5cecce6",
   "metadata": {},
   "source": [
    "## 4. Technical and economic assumptions"
   ]
  },
  {
   "cell_type": "markdown",
   "id": "add8fc3d-3e7b-4b90-9ed5-79795be3c2f4",
   "metadata": {},
   "source": [
    "### 4.1 Technical and economic assumptions for optimisation of the generation"
   ]
  },
  {
   "cell_type": "markdown",
   "id": "5e202acb-813e-4d51-af64-0940169123bb",
   "metadata": {},
   "source": [
    "The following technical and economic parameters are used for the optimization of generation in the microgrid. Please update these values based on the specific local context of analysis to ensure accurate results. Be mindful of units, as inconsistencies can lead to unexpected outcomes.\n",
    "\n",
    "**General parameters:**\n",
    "* Start Year: The year in which the analysis begins."
   ]
  },
  {
   "cell_type": "code",
   "execution_count": null,
   "id": "9a28e869-723a-44e3-87aa-340e1e440177",
   "metadata": {},
   "outputs": [],
   "source": [
    "start_year=2024"
   ]
  },
  {
   "cell_type": "markdown",
   "id": "d53999cd-13f4-46e9-9bd0-9583d8eb4006",
   "metadata": {},
   "source": [
    "* End Year: The year in which the analysis ends."
   ]
  },
  {
   "cell_type": "code",
   "execution_count": null,
   "id": "a22922b9-8317-4856-b216-440ae6cc0f7c",
   "metadata": {},
   "outputs": [],
   "source": [
    "end_year=2049"
   ]
  },
  {
   "cell_type": "markdown",
   "id": "845c736e-de20-407a-9e74-e5f1b73f9666",
   "metadata": {},
   "source": [
    "* Discount Rate (%): The annual rate of return expected on an investment over the project's lifetime. This value is expressed as a percentage."
   ]
  },
  {
   "cell_type": "code",
   "execution_count": null,
   "id": "fadabc34-c6d1-4e84-b7c5-b1b4a39d5e64",
   "metadata": {},
   "outputs": [],
   "source": [
    "discount_rate=0.08"
   ]
  },
  {
   "cell_type": "markdown",
   "id": "b0fda361-bcfb-44c8-af8b-aa6b53e5976c",
   "metadata": {},
   "source": [
    "**Diesel generator:**\n",
    "* Diesel Price (USD/liter): The cost of diesel fuel used for generator operation."
   ]
  },
  {
   "cell_type": "code",
   "execution_count": null,
   "id": "bd9f52c2-ee3a-486b-b63e-196b7b52fca7",
   "metadata": {},
   "outputs": [],
   "source": [
    "diesel_price=0.872"
   ]
  },
  {
   "cell_type": "markdown",
   "id": "926a4f1f-be0f-4d75-abf4-eae574fc5f19",
   "metadata": {},
   "source": [
    "* Diesel Generator Cost (USD/kW): The initial capital cost of purchasing and installing a diesel generator, per kilowatt of rated power."
   ]
  },
  {
   "cell_type": "code",
   "execution_count": null,
   "id": "ded0355d-528c-4200-9c00-0e869d32ab0b",
   "metadata": {},
   "outputs": [],
   "source": [
    "diesel_cost=640"
   ]
  },
  {
   "cell_type": "markdown",
   "id": "43b52b45-a77b-4a56-bd0a-8e29281f3ec5",
   "metadata": {},
   "source": [
    "* Diesel Operational and mainenance Cost (USD/kW/year): The annual cost of operating and maintaining the diesel generator, per kilowatt of rated power.\n"
   ]
  },
  {
   "cell_type": "code",
   "execution_count": null,
   "id": "dd304c06-2c77-4425-a103-23b87fc50b77",
   "metadata": {},
   "outputs": [],
   "source": [
    "diesel_om=32"
   ]
  },
  {
   "cell_type": "markdown",
   "id": "99ebe28e-8b2b-4cc1-b93e-0c68172eb608",
   "metadata": {},
   "source": [
    "* Diesel Generator Lifetime (years): The expected number of years the diesel generator will be operational before requiring replacement."
   ]
  },
  {
   "cell_type": "code",
   "execution_count": null,
   "id": "2700be82-4416-4ec4-af08-0a4e328939ff",
   "metadata": {},
   "outputs": [],
   "source": [
    "diesel_life=10 "
   ]
  },
  {
   "cell_type": "markdown",
   "id": "bc901878-ac0d-4457-a1a9-1eb19aacbb94",
   "metadata": {},
   "source": [
    "* Diesel Limit (0-1): This value sets the maximum allowable contribution of the diesel generator to the microgrid's annual electricity generation. It is expressed as a decimal between 0 and 1."
   ]
  },
  {
   "cell_type": "code",
   "execution_count": null,
   "id": "ee44a35a-a54a-4c1c-b548-92ad247e5edd",
   "metadata": {},
   "outputs": [],
   "source": [
    "diesel_limit=0.5"
   ]
  },
  {
   "cell_type": "markdown",
   "id": "f2b16d12-6a47-4834-880b-58a271b9eedf",
   "metadata": {},
   "source": [
    "**Batteries**\n",
    "* Battery Capital Cost (USD/kWh): The initial capital cost of purchasing and installing a battery storage system, per kilowatt-hour of storage capacity."
   ]
  },
  {
   "cell_type": "code",
   "execution_count": null,
   "id": "f33debeb-eccb-4879-804c-43a1b586ab92",
   "metadata": {},
   "outputs": [],
   "source": [
    "battery_cost=620"
   ]
  },
  {
   "cell_type": "markdown",
   "id": "2f719c0a-4c47-4088-8e4c-eb358b729a86",
   "metadata": {},
   "source": [
    "* Battery Lifetime (cycles): The expected number of charge/discharge cycles the battery can undergo before reaching its end of life."
   ]
  },
  {
   "cell_type": "code",
   "execution_count": null,
   "id": "dd16adf4-fbc2-4a32-be5c-5fd06b1ba1e9",
   "metadata": {},
   "outputs": [],
   "source": [
    "full_life_cycles=2000"
   ]
  },
  {
   "cell_type": "markdown",
   "id": "2e6c8c5b-00bd-4082-9443-f1bd570fcdf7",
   "metadata": {},
   "source": [
    "* Battery Inverter Cost (USD/kW): The initial capital cost of purchasing and installing a battery inverter, per kilowatt of power."
   ]
  },
  {
   "cell_type": "code",
   "execution_count": null,
   "id": "37f78b21-cdf2-4846-be63-fc3ac454653d",
   "metadata": {},
   "outputs": [],
   "source": [
    "battery_inverter_cost=608  "
   ]
  },
  {
   "cell_type": "markdown",
   "id": "4389ef73-1ad0-4b51-a72d-b70271cf276f",
   "metadata": {},
   "source": [
    "* Battery Inverter Lifetime (years): The expected number of years the battery inverter will be operational before requiring replacement."
   ]
  },
  {
   "cell_type": "code",
   "execution_count": null,
   "id": "32bcb58f-4837-4335-8be2-c6bdc7713de2",
   "metadata": {},
   "outputs": [],
   "source": [
    "battery_inverter_life=20"
   ]
  },
  {
   "cell_type": "markdown",
   "id": "72a165ce-8228-473e-9114-94aafd955d72",
   "metadata": {},
   "source": [
    "* Battery Charging Efficiency (0-1): This parameter represents the efficiency of the battery charging process, accounting for energy losses during charging cycles. It is expressed as a decimal between 0 and 1."
   ]
  },
  {
   "cell_type": "code",
   "execution_count": null,
   "id": "01e99e30-8808-4336-bc36-254e7fbbb70b",
   "metadata": {},
   "outputs": [],
   "source": [
    "n_chg=0.90"
   ]
  },
  {
   "cell_type": "markdown",
   "id": "bfc0956c-6d13-45f0-a89e-e2e3cf113316",
   "metadata": {},
   "source": [
    "* Battery Discharging Efficiency (0-1): This parameter represents the efficiency of the battery discharging process, accounting for energy losses during discharging cycles. It is expressed as a decimal between 0 and 1."
   ]
  },
  {
   "cell_type": "code",
   "execution_count": null,
   "id": "76f4cba3-f8c5-4666-81df-434c21223ff1",
   "metadata": {},
   "outputs": [],
   "source": [
    "n_dis=0.9"
   ]
  },
  {
   "cell_type": "markdown",
   "id": "3dd6be54-c11c-4f4d-a4f8-72ddad1e084a",
   "metadata": {},
   "source": [
    "* Dept-of-discharge (DOD) (0-1): DOD represents the percentage of a battery's total capacity that has been discharged in a single cycle, relative to its full charge capacity. It is expressed as a decimal between 0 and 1."
   ]
  },
  {
   "cell_type": "code",
   "execution_count": null,
   "id": "2db49913-f700-420e-b5d8-8595d43a7e79",
   "metadata": {},
   "outputs": [],
   "source": [
    "dod_max=0.9"
   ]
  },
  {
   "cell_type": "markdown",
   "id": "104b3420-92cb-462e-88f2-4e775a4f1e3f",
   "metadata": {},
   "source": [
    "**Solar panels  & Inverter:**\n",
    "* PV Panel Cost (USD/kWp): The initial capital cost of purchasing and installing photovoltaic (PV) panels, per watt-peak (Wp) of rated power output."
   ]
  },
  {
   "cell_type": "code",
   "execution_count": null,
   "id": "6ea2014e-6fef-49ca-9739-b3c819f66cdd",
   "metadata": {},
   "outputs": [],
   "source": [
    "pv_cost=1600"
   ]
  },
  {
   "cell_type": "markdown",
   "id": "950f7617-197c-4b18-b704-3eaed1e36af9",
   "metadata": {},
   "source": [
    "* PV O&M Cost (USD/kWp/year): The annual cost of operating and maintaining the PV system, per kilowatt-peak of rated power output. This includes costs for cleaning, monitoring, and minor repairs."
   ]
  },
  {
   "cell_type": "code",
   "execution_count": null,
   "id": "b96f5ac5-4e72-4ca3-8cfd-addb1c592cdd",
   "metadata": {},
   "outputs": [],
   "source": [
    "pv_om=0.025"
   ]
  },
  {
   "cell_type": "markdown",
   "id": "0a2fb83c-13df-475c-b31c-5f7381cbdb69",
   "metadata": {},
   "source": [
    "* PV Inverter Cost (USD/kWp): The initial capital cost of purchasing and installing a solar inverter, per kilowatt-peak (Wp) of PV installed capacity. If this cost is already included in the PV Panel Cost, set this value to 0."
   ]
  },
  {
   "cell_type": "code",
   "execution_count": null,
   "id": "7aeff97f-be7f-4d8a-8f07-97c750126851",
   "metadata": {},
   "outputs": [],
   "source": [
    "pv_inverter=500"
   ]
  },
  {
   "cell_type": "markdown",
   "id": "a85488c9-8f43-4a7f-ba10-676e3ee73670",
   "metadata": {},
   "source": [
    "* Solar Charge Controller Cost (USD/kWp): The initial capital cost of purchasing and installing a solar charge controller, per kilowatt-peak (Wp) of PV panel capacity. If this cost is already included in the PV Panel Cost, set this value to 0."
   ]
  },
  {
   "cell_type": "code",
   "execution_count": null,
   "id": "98e9d2e3-6311-4392-a3f2-f084e1594df6",
   "metadata": {},
   "outputs": [],
   "source": [
    "charge_controller=0 "
   ]
  },
  {
   "cell_type": "markdown",
   "id": "904dd020-f4db-4310-9587-f9a4f936a0e3",
   "metadata": {},
   "source": [
    "* PV System Lifetime (years): The expected number of years the PV system (panels and inverter) will be operational before requiring replacement."
   ]
  },
  {
   "cell_type": "code",
   "execution_count": null,
   "id": "105baf7f-bcb9-4c6e-baeb-8d893c2243be",
   "metadata": {},
   "outputs": [],
   "source": [
    "pv_life=25 "
   ]
  },
  {
   "cell_type": "markdown",
   "id": "1456719e-a8b9-4795-9613-ef240a08c1f5",
   "metadata": {},
   "source": [
    "* Inverter Efficiency (0-1): This parameter represents the efficiency of the inverter, which accounts for energy losses during conversion from DC to AC"
   ]
  },
  {
   "cell_type": "code",
   "execution_count": null,
   "id": "5df5e88b-d1db-4901-940f-361b719307ea",
   "metadata": {},
   "outputs": [],
   "source": [
    "inv_eff=0.93"
   ]
  },
  {
   "cell_type": "markdown",
   "id": "bab88821-c3a2-4568-9b69-a4a75ce397a2",
   "metadata": {},
   "source": [
    "**Minigrid parameter:**\n",
    "* Loss of Power Supply Probability (LPSP): This parameter indicates the reliability of the microgrid in supplying electricity. A lower LPSP signifies a more reliable system with a lower chance of power outages."
   ]
  },
  {
   "cell_type": "code",
   "execution_count": null,
   "id": "ff3cae1e-8da6-4fef-8928-f96e31c541af",
   "metadata": {},
   "outputs": [],
   "source": [
    "lpsp_max=0.005"
   ]
  },
  {
   "cell_type": "markdown",
   "id": "c96b1ec0-bc5c-4cb3-9d13-d6c5a7e97499",
   "metadata": {},
   "source": [
    "### 4.2 Economic assumptions for estimating cost of the distribution grid"
   ]
  },
  {
   "cell_type": "markdown",
   "id": "a478ecf7-6b8f-4a57-87d4-af6884716ae0",
   "metadata": {},
   "source": [
    "The sizing process generates two outputs related to the distribution grid: a GeoJSON file containing detailed information about the designed grid, disaggregated by the type of connection, and a point layer file for poles that specifies their spatial locations. By incorporating capital costs (installation costs) and operational costs into the analysis, it's possible to estimate the Levelized Cost of Energy (LCOE) for the entire distribution network. To calculate the LCOE, you'll need the following variables: \n",
    "* Cost of Installation (USD/km), which refers to the capital cost associated with installing one kilometer of grid infrastructure within the study area."
   ]
  },
  {
   "cell_type": "code",
   "execution_count": null,
   "id": "56be8016-5d4a-4309-b627-338ceacc6325",
   "metadata": {},
   "outputs": [],
   "source": [
    "cost_grid_km = 700"
   ]
  },
  {
   "cell_type": "markdown",
   "id": "4a3ad7eb-7ac7-4e4d-aaa2-f9f0c9094260",
   "metadata": {},
   "source": [
    "* Cost of Pole installation (USD/Pole): which refers to the capital cost associated with installing one pole for the grid infrastructure."
   ]
  },
  {
   "cell_type": "code",
   "execution_count": null,
   "id": "2c933a08-846d-4df4-ac61-9f0cc3a61e88",
   "metadata": {},
   "outputs": [],
   "source": [
    "cost_pole = 400"
   ]
  },
  {
   "cell_type": "markdown",
   "id": "419f6f7f-0c85-4621-b5d8-fda35e968c44",
   "metadata": {},
   "source": [
    "* Total Operational & Maintenance costs (% initial investment): The annual cost of operating and maintaining the PV system as percentage of innitial investment."
   ]
  },
  {
   "cell_type": "code",
   "execution_count": null,
   "id": "fbe32f85-5795-4a3a-8fe8-cc4ac4e49ddf",
   "metadata": {},
   "outputs": [],
   "source": [
    "grid_om = 0.02"
   ]
  },
  {
   "cell_type": "markdown",
   "id": "5eeb15a5-0d4c-4805-9021-a4aeed12c062",
   "metadata": {},
   "source": [
    "The lifetime of the project and interest rate are taken from the previous section."
   ]
  },
  {
   "cell_type": "markdown",
   "id": "df0fe2b7-5bad-49fd-a7d2-f95f1988ed94",
   "metadata": {},
   "source": [
    "## 5. Optimization for Generation Sizing"
   ]
  },
  {
   "cell_type": "markdown",
   "id": "1d1f973a-c36f-4438-90a3-f5c78051b783",
   "metadata": {},
   "source": [
    "The *optimizer_de* function finds the least-cost design for a microgrid system. It considers economic and techincal factors through user-provided data (look step No 4). First, it calculates total electricity demand and defines acceptable ranges for PV, battery, and diesel generator capacities. Then, it creates an objective function (opt_func) that calculates the Levelized Cost of Energy (LCOE) for a specific system configuration. This involves simulating electricity generation from PV, battery usage, and diesel reliance based on hourly data. Finally, it employs a Differential Evolution algorithm to search for the combination of PV, battery, and diesel capacities that minimizes the overall LCOE for the microgrid system. \n",
    "\n",
    "The function returns the optimal system configuration (PV, battery, and diesel capacities) that achieves the minimum LCOE for the microgrid system, as well as other variables that are of interest to analize: unmet demand, diesel generaton share, investment, fuel cost, Operational & Maintenance Cost, battery energy and battery life. "
   ]
  },
  {
   "cell_type": "code",
   "execution_count": null,
   "id": "59f59d5a-d361-40f1-aa6b-fbb9310c8579",
   "metadata": {},
   "outputs": [],
   "source": [
    "additional_values_storage = []\n",
    "\n",
    "def optimizer_de(diesel_price,\n",
    "                 hourly_ghi,\n",
    "                 hourly_temp,\n",
    "                 load_curve,\n",
    "                 diesel_cost,  # diesel generator capital cost, USD/kW rated power\n",
    "                 discount_rate,\n",
    "                 n_chg,  # charge efficiency of battery\n",
    "                 n_dis,  # discharge efficiency of battery\n",
    "                 battery_cost,  # battery capital cost, USD/kWh of storage capacity\n",
    "                 pv_cost,  # PV panel capital cost, USD/kW peak power\n",
    "                 charge_controller,  # PV charge controller cost, USD/kW peak power, set to 0 if already included in pv_cost\n",
    "                 pv_inverter,  # PV inverter cost, USD/kW peak power, set to 0 if already included in pv_cost\n",
    "                 pv_life,  # PV panel expected lifetime, years\n",
    "                 diesel_life,  # diesel generator expected lifetime, years\n",
    "                 pv_om,  # annual OM cost of PV panels\n",
    "                 diesel_om,  # annual OM cost of diesel generator\n",
    "                 battery_inverter_cost,\n",
    "                 battery_inverter_life,\n",
    "                 dod_max,  # maximum depth of discharge of battery\n",
    "                 inv_eff,  # inverter_efficiency\n",
    "                 lpsp_max,  # maximum loss of load allowed over the year, in share of kWh\n",
    "                 diesel_limit,\n",
    "                 full_life_cycles,\n",
    "                 start_year,\n",
    "                 end_year,\n",
    "                 ):\n",
    "\n",
    "    demand = load_curve.sum()\n",
    "\n",
    "    # The following lines defines the solution space for the Particle Swarm Optimization (PSO) algorithm\n",
    "    battery_bounds = [0, 5 * demand / 365]\n",
    "    pv_bounds = [0, 5 * max(load_curve)]\n",
    "    diesel_bounds = [0.5, max(load_curve)]\n",
    "    \n",
    "    min_bounds = np.array([pv_bounds[0], battery_bounds[0], diesel_bounds[0]])\n",
    "    max_bounds = np.array([pv_bounds[1], battery_bounds[1], diesel_bounds[1]])\n",
    "    bounds = Bounds(min_bounds, max_bounds)\n",
    "\n",
    "    # Create a series of the hour numbers (0-24) for one year\n",
    "    hour_numbers = np.empty(8760)\n",
    "    for i in range(365):\n",
    "        for j in range(24):\n",
    "            hour_numbers[i * 24 + j] = j\n",
    "\n",
    "    def opt_func(X):\n",
    "        global additional_values_storage  # Use global variable to store additional values\n",
    "        results = find_least_cost_option(X, hourly_temp, hourly_ghi, hour_numbers,\n",
    "                                         load_curve, inv_eff, n_dis, n_chg, dod_max,\n",
    "                                         diesel_price, end_year, start_year, pv_cost, charge_controller, pv_inverter, pv_om,\n",
    "                                         diesel_cost, diesel_om, battery_inverter_life, battery_inverter_cost, diesel_life, pv_life,\n",
    "                                         battery_cost, discount_rate, lpsp_max, diesel_limit, full_life_cycles)\n",
    "        \n",
    "        lcoe = results[0]\n",
    "        additional_values_storage = results[1:]  # Capture additional values\n",
    "        #lcoe, unmet_demand_share, diesel_generation_share, investment, fuel_cost, om_cost, battery, battery_life, pv, diesel, npc\n",
    "                                       \n",
    "        return lcoe\n",
    "\n",
    "    minimizer_kwargs = {\"method\": \"BFGS\"}\n",
    "    pv_init = sum(pv_bounds) / 2\n",
    "    battery_init = sum(battery_bounds) / 2\n",
    "    diesel_init = sum(diesel_bounds) / 2\n",
    "    x0 = [pv_init, battery_init, diesel_init]\n",
    "    \n",
    "    result = differential_evolution(opt_func, bounds, popsize=15, init='latinhypercube')  # init='halton' on newer env\n",
    "\n",
    "    best_solution = result.x\n",
    "    lcoe = opt_func(best_solution)  # This call will also update additional_values_storage\n",
    "    \n",
    "    return {\n",
    "        \"best_solution\": best_solution,\n",
    "        \"lcoe\": lcoe,\n",
    "        \"additional_values\": additional_values_storage\n",
    "    }"
   ]
  },
  {
   "cell_type": "markdown",
   "id": "edb7f95e-4f61-43db-9465-83d124fd206d",
   "metadata": {},
   "source": [
    "The following line will execute the function optimizer_de and store the results in the variable ret. It finishes with a message on the expected LCOE and the install capacities for Solar Panels, Batteries and diesel."
   ]
  },
  {
   "cell_type": "code",
   "execution_count": null,
   "id": "8e21ef94-0425-4df3-8768-9e53d9145815",
   "metadata": {},
   "outputs": [],
   "source": [
    "ret = optimizer_de(diesel_price=diesel_price, \n",
    "                   hourly_ghi=hourly_ghi,\n",
    "                   hourly_temp=hourly_temp,\n",
    "                   load_curve=load_curve,\n",
    "                   start_year=start_year,\n",
    "                   end_year=end_year,\n",
    "                   discount_rate=discount_rate,\n",
    "                   diesel_cost=diesel_cost,  \n",
    "                   battery_cost=battery_cost,  \n",
    "                   full_life_cycles=full_life_cycles, \n",
    "                   battery_inverter_cost=battery_inverter_cost,  \n",
    "                   pv_cost=pv_cost,  \n",
    "                   pv_inverter=pv_inverter, \n",
    "                   charge_controller=charge_controller, \n",
    "                   diesel_limit=diesel_limit, \n",
    "                   lpsp_max=lpsp_max,\n",
    "                   inv_eff=inv_eff,\n",
    "                   n_chg=n_chg,\n",
    "                   n_dis=n_dis,\n",
    "                   dod_max=dod_max,\n",
    "                   pv_om=pv_om,\n",
    "                   diesel_om=diesel_om,\n",
    "                   battery_inverter_life=battery_inverter_life,\n",
    "                   pv_life=pv_life,\n",
    "                   diesel_life=diesel_life)  "
   ]
  },
  {
   "cell_type": "markdown",
   "id": "ffb4308e-172b-4ddd-a6bd-a57fb9b888ca",
   "metadata": {},
   "source": [
    "Examining some parameters within the ret variable provides insight into the optimization's progress."
   ]
  },
  {
   "cell_type": "code",
   "execution_count": null,
   "id": "5faedad4-429c-4b9c-8192-b8fd899992bb",
   "metadata": {},
   "outputs": [],
   "source": [
    "print('Best LCOE: {} USD/kWh'.format(round(ret[\"lcoe\"],3)))\n",
    "print('Best PV capacity: {} kW'.format(round(ret[\"best_solution\"][0],1)))\n",
    "print('Best Battery capacity: {} kWh'.format(round(ret[\"best_solution\"][1],1)))\n",
    "print('Best Diesel capacity: {} kWh'.format(round(ret[\"best_solution\"][2],1)))"
   ]
  },
  {
   "cell_type": "markdown",
   "id": "530e1cee-b3b7-4c41-ade3-517dc0446269",
   "metadata": {},
   "source": [
    "## 6. Distribution Network Sizing"
   ]
  },
  {
   "cell_type": "markdown",
   "id": "f214a36d-35d2-4cd5-a1a7-f23357cb1e92",
   "metadata": {},
   "source": [
    "This section will define quantities for the distribution grid and poles in the minigrid. The required data includes the cluster of the minigrid and the geolocation of the households. The following code explanation will clarify how it can be adapted with own data. The first step involves exploring the data to identify relevant attributes. For instance, the \"Polygones\" file likely contains attributes that describe the polygon geometry of a cluster. We can start by examining the GeoPandas file to understand the available attributes and then retrieve the geometry information for the cluster."
   ]
  },
  {
   "cell_type": "code",
   "execution_count": null,
   "id": "bedaaafe-85d6-4e18-bd0c-89a524596972",
   "metadata": {},
   "outputs": [],
   "source": [
    "cluster_polygons.head(2)"
   ]
  },
  {
   "cell_type": "markdown",
   "id": "ea3afe1b-759b-4e99-b5af-34cc236cdf6e",
   "metadata": {},
   "source": [
    "The following steps involve using the \"COMUNIDAD\" column to identify the corresponding multipolygon shape from the \"geometry\" column. As mentioned earlier, the retrieved demand data pertains to a specific community within the administrative area of San Gaspar Ixchil. Therefore, the relevant geometry is the one associated with the community named \"ALDEA MANAJA\" within this area. It's important to note that all the spatial analysis discussed here was conducted  with QGIS."
   ]
  },
  {
   "cell_type": "code",
   "execution_count": null,
   "id": "91ebeb94-3047-441f-a5be-20101d64f105",
   "metadata": {},
   "outputs": [],
   "source": [
    "#fids define the atribute Site Unique ID (VIDA)_2 to get the Mulytpolygon\n",
    "community = \"ALDEA MANAJA\"\n",
    "polygon_data = cluster_polygons.loc[cluster_polygons['COMUNIDAD'] == community]\n",
    "polygon = polygon_data.geometry.iloc[0]"
   ]
  },
  {
   "cell_type": "markdown",
   "id": "8c613df8-dd27-4ffa-8fab-1fd8b2781151",
   "metadata": {},
   "source": [
    "#### Trunk Line Generation"
   ]
  },
  {
   "cell_type": "markdown",
   "id": "1f7f9c4b-0267-46c3-99c2-f3c85b55b557",
   "metadata": {},
   "source": [
    "This process outlines a method for generating a primary trunk line for settlements represented by polygon boundaries. \n",
    "\n",
    "1. **Boundary Points**: The user defines a spacing distance (default 50 meters) to create a set of evenly spaced points along the settlement polygon boundary.\n",
    "2. **Voronoi Polygons**: These points are used to divide the settlement polygon into smaller regions called Voronoi polygons.\n",
    "3. **Initial Trunk Line**: Edges of the Voronoi polygons are extracted, but any edge touching the settlement boundary is removed. This creates a preliminary version of the primary trunk line.\n",
    "4. **Simplifying the Trunk Line**: Intersections where the trunk line branches off are identified. Only segments of the trunk line meeting these criteria are kept:\n",
    "    * Located between two identified intersections.\n",
    "    * Longer than a user-specified distance threshold.\n",
    "5. **Splitting the Trunk Line**: The identified intersections are used to split the primary trunk line into separate segments. Any remaining long segments exceeding a user-defined distance threshold are also split."
   ]
  },
  {
   "cell_type": "code",
   "execution_count": null,
   "id": "23422920-1c63-43fa-879b-79bd06220166",
   "metadata": {},
   "outputs": [],
   "source": [
    "# Create trunk line(s)\n",
    "trunk_lines = create_trunk_line(polygon, spacing=50, plot=True)\n",
    "\n",
    "# Simplify the trunk line(s)\n",
    "trunk_lines, intersects = simplify_trunk_lines(trunk_lines, length_removal=200, split_distance=750, plot=False)\n",
    "\n",
    "trunk_lines_gdf = gpd.GeoDataFrame(geometry=trunk_lines)"
   ]
  },
  {
   "cell_type": "code",
   "execution_count": null,
   "id": "43636e5e-a2e2-4cb0-bf89-ff2a2d386acd",
   "metadata": {},
   "outputs": [],
   "source": [
    "# Identify which part of the polygon belongs to which part of the trunk line(s)\n",
    "voronois = voronoi_areas(trunk_lines_gdf, polygon, plot=True)\n",
    "# Parameters for perpendicular lines\n",
    "spacing = 50 # Spacing distance between potential candidate poles for buildings to connect to (using target CRS)"
   ]
  },
  {
   "cell_type": "markdown",
   "id": "0187e576-f10a-4ce6-b941-b10901ffe9de",
   "metadata": {},
   "source": [
    "#### Pole locations"
   ]
  },
  {
   "cell_type": "markdown",
   "id": "f1e91417-470f-4504-93d3-216c7b650d1a",
   "metadata": {},
   "source": [
    "With the voronois areas, now the focus is on identifying poles to where households will be conected. In each sub-area of the settlement polygon:\n",
    "1. A mesh of evenly spaced points (default distance = 50m) are created.2. Points are aligned to the x- and y-axis of the minimum bounding rectangle that can encapsule the sub-area.\n",
    "3. Any point that is close to the primary trunk line (default distance = 25m) is excluded, as it is assumed that buildings within this distance would connect to a pole along the primary trunk line.\n",
    "4. Buildings are assigned to the nearest of the candidate poles created in the previous step.\n",
    "5. Finally, a Minimum Spanning Tree is created using NetworkX, to identify the secondary lines. The weights of the MST are assigned to favor in order:\n",
    "    +  lines that are (near) orthogonal to the primary trunk\n",
    "    + lines that are (near) parallel to the primary trunk \n",
    "    + diagonal lines \n",
    "    \n",
    "    The MST is run iteratively, testing the removal of poles to which no building was assigned until the shortest MST has been achieved (i.e. no more of the poles without households can be removed)."
   ]
  },
  {
   "cell_type": "code",
   "execution_count": null,
   "id": "6c9f00d2-e72a-45ec-8fe8-7678ff1964d0",
   "metadata": {},
   "outputs": [],
   "source": [
    "trunk_p = []\n",
    "assigned_p = []\n",
    "lv_l = []\n",
    "service_l = []\n",
    "mst_p = []\n",
    "all_p = []\n",
    "long_services = 0\n",
    "\n",
    "multi_trunks = []\n",
    "multi_trunks_len = []\n",
    "\n",
    "multi_secondary = []\n",
    "multi_secondary_len = []\n",
    "\n",
    "multi_service = []\n",
    "multi_service_len = []\n",
    "\n",
    "multi_poles = []\n",
    "multi_all_poles = []\n",
    "\n",
    "# Iterate over each part of the trunk line \n",
    "for id in range(len(trunk_lines)):\n",
    "    all_poles, trunk_poles, poles, angle_radians_w, angle_radians_l = create_candidate_poles(voronois[id], trunk_lines[id], spacing, buffer=25, plot=False)\n",
    "\n",
    "    trunk_p += trunk_poles\n",
    "    all_p += all_poles\n",
    "        \n",
    "    polygon_households = households.clip(voronois[id])\n",
    "\n",
    "    # Ensure households are not MultiPoint\n",
    "    polygon_households['geometry'] = polygon_households['geometry'].apply(convert_multipoint_to_point)\n",
    "\n",
    "    assigned_poles, service_drops = assign_households(all_poles, polygon_households)\n",
    "\n",
    "    assigned_p += all_poles\n",
    "    service_l += service_drops\n",
    "\n",
    "    for s in service_drops:\n",
    "        if s.length > 70:\n",
    "            long_services += 1\n",
    "\n",
    "    weight = 0.5  # Weighting factor for the MST\n",
    "\n",
    "    lv_lines, mst_poles = lv_lines_mst(all_poles, trunk_poles, assigned_poles, angle_radians_w, angle_radians_l, weight, plot=False)\n",
    "\n",
    "    lv_l += lv_lines\n",
    "    mst_p += mst_poles"
   ]
  },
  {
   "cell_type": "markdown",
   "id": "d08679eb-9e67-443a-980a-41966f7d1ddb",
   "metadata": {},
   "source": [
    "### Results"
   ]
  },
  {
   "cell_type": "markdown",
   "id": "826b2ead-5009-46de-b6e1-cf7ff0ecaa44",
   "metadata": {},
   "source": [
    "Geometry results from the sizing model (distribution networ and poles) are appended into a list and then store in geopandas format."
   ]
  },
  {
   "cell_type": "markdown",
   "id": "a5d0e8bd-2e78-4c6d-a0a9-691645c04124",
   "metadata": {},
   "source": [
    "* Appending geometry results from previous sizing:"
   ]
  },
  {
   "cell_type": "code",
   "execution_count": null,
   "id": "8d4c7080-9a96-4499-b408-0302f4d3a300",
   "metadata": {},
   "outputs": [],
   "source": [
    "multi_all_poles.append(MultiPoint(all_p))\n",
    "\n",
    "multi_trunks.append(MultiLineString(trunk_lines))\n",
    "multi_trunks_len.append(MultiLineString(trunk_lines).length)\n",
    "\n",
    "multi_secondary.append(MultiLineString(lv_l))\n",
    "multi_secondary_len.append(MultiLineString(lv_l).length)\n",
    "\n",
    "multi_service.append(MultiLineString(service_l))\n",
    "multi_service_len.append(MultiLineString(service_l).length)\n",
    "\n",
    "multi_poles.append(MultiPoint(mst_p))"
   ]
  },
  {
   "cell_type": "markdown",
   "id": "471bb650-5fa7-4147-aafa-15f3effa921a",
   "metadata": {},
   "source": [
    "* Assigning appended geometry results to GeoPandas format:"
   ]
  },
  {
   "cell_type": "code",
   "execution_count": null,
   "id": "b8abf387-12fc-42e3-b8fb-39e7b6cb5b6a",
   "metadata": {},
   "outputs": [],
   "source": [
    "trunks_gdf = gpd.GeoDataFrame()\n",
    "trunks_gdf['Length'] = multi_trunks_len\n",
    "trunks_gdf['Type'] = \"Trunk Line\"\n",
    "trunks_gdf.geometry = multi_trunks\n",
    "trunks_gdf.set_crs(target_crs, inplace=True)\n",
    "trunks_gdf['Community'] = community\n",
    "\n",
    "secondary_gdf = gpd.GeoDataFrame()\n",
    "secondary_gdf['Length'] = multi_secondary_len\n",
    "secondary_gdf['Type'] = \"Secondary Line\"\n",
    "secondary_gdf.geometry = multi_secondary\n",
    "secondary_gdf.set_crs(target_crs, inplace=True)\n",
    "secondary_gdf['Community'] = community\n",
    "\n",
    "service_gdf = gpd.GeoDataFrame()\n",
    "service_gdf['Length'] = multi_service_len\n",
    "service_gdf['Type'] = \"Service Line\"\n",
    "service_gdf.geometry = multi_service\n",
    "service_gdf.set_crs(target_crs, inplace=True)\n",
    "service_gdf['Community'] = community\n",
    "\n",
    "poles_gdf = gpd.GeoDataFrame()\n",
    "poles_gdf.geometry = multi_poles\n",
    "for i, multi_pole in enumerate(multi_poles):\n",
    "    num_poles = len(multi_pole.geoms)\n",
    "poles_gdf['No. Poles'] = num_poles\n",
    "poles_gdf.set_crs(target_crs, inplace=True)\n",
    "poles_gdf['Community'] = community\n",
    "poles_gdf.to_crs(4326, inplace=True)"
   ]
  },
  {
   "cell_type": "markdown",
   "id": "521555c6-dca3-4e47-bb14-53cddb455a4f",
   "metadata": {},
   "source": [
    "* Finally, all the individual MultiLineString GeoDataGrames can be merged into a single GeoDataFrame for further analysis."
   ]
  },
  {
   "cell_type": "code",
   "execution_count": null,
   "id": "8ad606f7-543f-4419-a412-7b04c29d1dd3",
   "metadata": {},
   "outputs": [],
   "source": [
    "total_grid_gdf = gpd.GeoDataFrame(pd.concat([trunks_gdf, secondary_gdf, service_gdf], ignore_index=True))"
   ]
  },
  {
   "cell_type": "markdown",
   "id": "d9ec3ad1-8832-404e-acd0-4c7c72b796d1",
   "metadata": {},
   "source": [
    "* *total_grid_df* containts the three different kind of connection, and it is one of the main outputs of the OnSSET-MG tool."
   ]
  },
  {
   "cell_type": "code",
   "execution_count": null,
   "id": "f37b4ca4-69e2-45ea-80a1-dbca4b0ba6ea",
   "metadata": {},
   "outputs": [],
   "source": [
    "total_grid_gdf"
   ]
  },
  {
   "cell_type": "markdown",
   "id": "f726fde8-8e4d-4ff7-8269-600cbb5f5ff3",
   "metadata": {},
   "source": [
    "### Cost of distribution"
   ]
  },
  {
   "cell_type": "markdown",
   "id": "7f51c2c0-c2b4-4c13-82a6-fe7938749460",
   "metadata": {},
   "source": [
    "Earlier in the notebook *cost_grid_km* was defined. Now, the cost of the distribution grid can be estimated following the next equation:"
   ]
  },
  {
   "cell_type": "code",
   "execution_count": null,
   "id": "83802fa9-2e59-4cf3-baa8-3ff1bc17b53e",
   "metadata": {},
   "outputs": [],
   "source": [
    "cost_grid = cost_grid_km * sum(total_grid_gdf[\"Length\"])/1000"
   ]
  },
  {
   "cell_type": "markdown",
   "id": "6c18702c-763f-4550-bcac-3883110a8fd7",
   "metadata": {},
   "source": [
    "*Cost_pole* was also defined, and it can also be called in this part to estimate the total cost of installing all the poles."
   ]
  },
  {
   "cell_type": "code",
   "execution_count": null,
   "id": "1506348e-86d8-43e5-961a-88dc7ee40061",
   "metadata": {},
   "outputs": [],
   "source": [
    "total_cost_poles = cost_pole * sum(poles_gdf[\"No. Poles\"])"
   ]
  },
  {
   "cell_type": "markdown",
   "id": "3a5a20d7-1e34-42d0-b3dc-ea30de761a64",
   "metadata": {},
   "source": [
    "With the two defined variables *cost_grid* and *total_cost_poles*, the total cost of the grid is as follows:"
   ]
  },
  {
   "cell_type": "code",
   "execution_count": null,
   "id": "9d096dc5-3258-4998-b13b-a67a63391357",
   "metadata": {},
   "outputs": [],
   "source": [
    "total_cost_grid = cost_grid + total_cost_poles"
   ]
  },
  {
   "cell_type": "markdown",
   "id": "331eaaf2-4b5a-4bd6-a86a-30f7bbbc427d",
   "metadata": {},
   "source": [
    "And Finally, the annual cost of Operationan & Maintenance are calculated based on a percentage of the total Capital Costs."
   ]
  },
  {
   "cell_type": "code",
   "execution_count": null,
   "id": "b9510006-b1f4-457c-ba7b-0a705cf6d5d3",
   "metadata": {},
   "outputs": [],
   "source": [
    "total_om_grid = grid_om * total_cost_grid"
   ]
  },
  {
   "cell_type": "markdown",
   "id": "f3d38e31-4b99-4152-a870-af768b5499fe",
   "metadata": {},
   "source": [
    "The function to define de LCOE for the distribution grid can be calculated from the set of functions available in the OnSSET-MG tool. Notices that within the function, the time life of the grid was set in 30 years."
   ]
  },
  {
   "cell_type": "code",
   "execution_count": null,
   "id": "0e0c3fe3-282b-4b9a-a5f4-eadcaa426f78",
   "metadata": {},
   "outputs": [],
   "source": [
    "lcoe_distribution = calculate_distribution_lcoe(end_year=end_year, \n",
    "                            start_year=start_year, \n",
    "                            annual_demand=annual_demand, \n",
    "                            distribution_cost=total_cost_grid, \n",
    "                            om_costs=total_om_grid, \n",
    "                            distribution_life=30, \n",
    "                            discount_rate=discount_rate)"
   ]
  },
  {
   "cell_type": "markdown",
   "id": "5a45b300-f86e-4147-b67a-8aeb0305dbaf",
   "metadata": {},
   "source": [
    "## 7. Analysis"
   ]
  },
  {
   "cell_type": "markdown",
   "id": "b60a7d1d-5dd0-4626-8f2d-e88f5e2d7948",
   "metadata": {},
   "source": [
    "From the previous section there are several outputs of interest, but in this part the focus will be on the variable *ret* and the GeoPandas dataframes *total_grid_gdf* and *poles_gdf*. On this regard, a better presentation of the results could be as:"
   ]
  },
  {
   "cell_type": "code",
   "execution_count": null,
   "id": "9445376a-3bae-4a3f-9872-62a05faf6970",
   "metadata": {},
   "outputs": [],
   "source": [
    "results = {\n",
    "    \"Name\": [\"LCOE Generation [USD/kWh]\", \"LCOE Distribution [USD/KWh]\", \"PV Capacity [kWp]\", \"Battery capacity [kWh]\", \"Diesel Capacity [kWh]\", \"Investments\", \"Total cost generation [USD]\",\n",
    "            \"Total cost grid  [USD]\", \"Total Investment [USD]\"],\n",
    "    \"Value\": [round(ret[\"lcoe\"],3), round(lcoe_distribution[0],3),round(ret[\"best_solution\"][0],1), round(ret[\"best_solution\"][1],1), \n",
    "              round(ret[\"best_solution\"][2]), \"--\",round(ret[\"additional_values\"][2],0), round(total_cost_grid,0),\n",
    "              round(total_cost_grid,0) + round(ret[\"additional_values\"][2],0),]\n",
    "}"
   ]
  },
  {
   "cell_type": "code",
   "execution_count": null,
   "id": "5b01612d-c127-47ff-8073-845336e290e0",
   "metadata": {},
   "outputs": [],
   "source": [
    "results_pd = pd.DataFrame(results, columns=[\"Name\", \"Value\"])"
   ]
  },
  {
   "cell_type": "code",
   "execution_count": null,
   "id": "2b50ce7e-ab0e-4b63-951d-7139f3156170",
   "metadata": {},
   "outputs": [],
   "source": [
    "results_pd"
   ]
  },
  {
   "cell_type": "markdown",
   "id": "daeea466-d09b-4987-9b4a-fe47a81e9ffa",
   "metadata": {},
   "source": [
    "The previous table demonstrates the ability to consolidate various relevant values within a single DataFrame for export. However, Python's true strength lies in its flexibility for performing in-depth analysis. In the following steps, we will focus on conducting a thorough analysis to understand the impact of a specific variable on the overall performance of the minigrid."
   ]
  },
  {
   "cell_type": "markdown",
   "id": "03bcf173-0e8e-47e8-89e5-aede351943f0",
   "metadata": {},
   "source": [
    "### 7.1 What-if Analysis"
   ]
  },
  {
   "cell_type": "markdown",
   "id": "d98b3b98-15a7-4f8d-a8a5-925e7bcccd8c",
   "metadata": {},
   "source": [
    "Let's suppose that we want to carry out an analysis where the demand is a changing parameter, and we want to analyse how it impacts the LCOE cost for energy generation. For that, a *variations* variable is defined to dinamcly change the *load_curve* variable. "
   ]
  },
  {
   "cell_type": "code",
   "execution_count": null,
   "id": "e5e1db24-00b6-4ee9-849b-2528bd434806",
   "metadata": {},
   "outputs": [],
   "source": [
    "variations = np.random.normal(1, 0.2, 10)"
   ]
  },
  {
   "cell_type": "markdown",
   "id": "545f6c91-5487-4a5a-a59d-0cfeafa5afa4",
   "metadata": {},
   "source": [
    "Then, a variation of the first variable ret is defined as ret_sensitivity, where all of the parameters remain as defined except for *load_curve*, which iteratively changes through the different proportional variations of the initial *load_curve*."
   ]
  },
  {
   "cell_type": "code",
   "execution_count": null,
   "id": "7dd8b064-b39a-444f-9525-5eb5b359b580",
   "metadata": {
    "scrolled": true
   },
   "outputs": [],
   "source": [
    "lcoe_sensitivities = []\n",
    "\n",
    "for variation_values in variations:\n",
    "    load_curve_sensitivity= load_curve*variation_values\n",
    "    ret_sensitivity = optimizer_de(diesel_price=diesel_price, \n",
    "                                   hourly_ghi=hourly_ghi,\n",
    "                                   hourly_temp=hourly_temp,\n",
    "                                   load_curve=load_curve_sensitivity,\n",
    "                                   start_year=start_year,\n",
    "                                   end_year=end_year,\n",
    "                                   discount_rate=discount_rate,\n",
    "                                   diesel_cost=diesel_cost,  \n",
    "                                   battery_cost=battery_cost,  \n",
    "                                   full_life_cycles=full_life_cycles, \n",
    "                                   battery_inverter_cost=battery_inverter_cost,  \n",
    "                                   pv_cost=pv_cost,  \n",
    "                                   pv_inverter=pv_inverter, \n",
    "                                   charge_controller=charge_controller, \n",
    "                                   diesel_limit=diesel_limit, \n",
    "                                   lpsp_max=lpsp_max,\n",
    "                                   inv_eff=inv_eff,\n",
    "                                   n_chg=n_chg,\n",
    "                                   n_dis=n_dis,\n",
    "                                   dod_max=dod_max,\n",
    "                                   pv_om= pv_om,\n",
    "                                   diesel_om=diesel_om,\n",
    "                                   battery_inverter_life=battery_inverter_life,\n",
    "                                   pv_life=pv_life,\n",
    "                                   diesel_life=diesel_life)\n",
    "        \n",
    "    lcoe_sensitivities.append((variation_values, ret_sensitivity[\"lcoe\"], round(ret_sensitivity[\"best_solution\"][0],1),\n",
    "                                 round(ret_sensitivity[\"best_solution\"][1],1), round(ret_sensitivity[\"best_solution\"][2],1)))"
   ]
  },
  {
   "cell_type": "markdown",
   "id": "6e5e1649-a8da-4f0c-80e1-d0ade754290e",
   "metadata": {},
   "source": [
    "The results are unitary unpacked for plotting:"
   ]
  },
  {
   "cell_type": "code",
   "execution_count": null,
   "id": "655f4ebc-d861-4356-8add-308c80c34ba6",
   "metadata": {},
   "outputs": [],
   "source": [
    "variations_demand, lcoe_values, pv_capacities, battery_capacities, diesel_capacities = zip(*lcoe_sensitivities)"
   ]
  },
  {
   "cell_type": "markdown",
   "id": "57c7ddff-b492-4eab-afc8-f6b56aa74344",
   "metadata": {},
   "source": [
    "At first, we explore the relation between installed capacity, LCOE and changes in demand:"
   ]
  },
  {
   "cell_type": "code",
   "execution_count": null,
   "id": "46a2f0aa-517d-4387-b41d-ae50fe0e428a",
   "metadata": {},
   "outputs": [],
   "source": [
    "plt.figure(figsize=(10, 6))\n",
    "scatter = plt.scatter(variations_demand, pv_capacities, c=lcoe_values, cmap='plasma')\n",
    "plt.colorbar(scatter, label='LCOE (USD/kWh)')\n",
    "plt.xlabel('Proportional variations in demand')\n",
    "plt.ylabel('Installed capacity PV (kWp)')\n",
    "plt.title('Sensitivity Analysis')\n",
    "plt.show()"
   ]
  },
  {
   "cell_type": "markdown",
   "id": "f1e7bafa-2a3c-4354-aac4-3531a0db94fc",
   "metadata": {},
   "source": [
    "Another way of doing it, is by defining a dataframe for the data:"
   ]
  },
  {
   "cell_type": "code",
   "execution_count": null,
   "id": "015d6584-35b8-4c95-bbb6-1614c6740764",
   "metadata": {},
   "outputs": [],
   "source": [
    "sensitivity_pd = df = pd.DataFrame(lcoe_sensitivities, columns=['Variations Demand',\n",
    "                                                                \"LCOE [USD/kWh]\", \n",
    "                                                                'PV Cap [kWp]', \n",
    "                                                                'Battery Capacities [kWh]', \n",
    "                                                                \"Diesel Capacities [kWh]\"])"
   ]
  },
  {
   "cell_type": "markdown",
   "id": "56097655-cf77-40ab-b12b-c8f896653b4e",
   "metadata": {},
   "source": [
    "Results are sorted in increasing order based on the column \"Variations Demand\""
   ]
  },
  {
   "cell_type": "code",
   "execution_count": null,
   "id": "8e8f3988-0cbb-4428-bf3f-b13b75b7412a",
   "metadata": {},
   "outputs": [],
   "source": [
    "sensitivity_pd_sorted = sensitivity_pd.sort_values(by='Variations Demand')"
   ]
  },
  {
   "cell_type": "markdown",
   "id": "15798b97-2566-4687-ae91-35abafbc6f03",
   "metadata": {},
   "source": [
    "Another type of graphic is defined to understand the capacities of PV, batteries and diesel, based on variations of demand."
   ]
  },
  {
   "cell_type": "code",
   "execution_count": null,
   "id": "d032349d-b33d-443d-bf5a-09abc8e262f7",
   "metadata": {},
   "outputs": [],
   "source": [
    "# Number of categories\n",
    "n = len(sensitivity_pd_sorted)\n",
    "\n",
    "# This creates an array with the position of each bar along the x-axis\n",
    "x = np.arange(n)\n",
    "\n",
    "# Width of a single bar\n",
    "width = 0.25\n",
    "\n",
    "# Create the figure and the bar chart\n",
    "fig, ax1 = plt.subplots(figsize=(10, 6))\n",
    "\n",
    "# Position bars in a grouped manner\n",
    "bars1 = ax1.bar(x - width, sensitivity_pd_sorted[\"PV Cap [kWp]\"].values, width, label='PV Capacities (kWp)', color='skyblue')\n",
    "bars2 = ax1.bar(x, sensitivity_pd_sorted[\"Battery Capacities [kWh]\"].values, width, label='Battery Capacities (kWh)', color='lightgreen')\n",
    "bars3 = ax1.bar(x + width, sensitivity_pd_sorted[\"Diesel Capacities [kWh]\"], width, label='Diesel Capacities (kWh)', color='salmon')\n",
    "\n",
    "# Add labels, title, and legend for the bar chart\n",
    "ax1.set_xlabel('Proportional variations in Demand')\n",
    "ax1.set_ylabel('kWp or kWh')\n",
    "ax1.set_title('Sensitivity Analysis')\n",
    "ax1.set_xticks(x)\n",
    "ax1.set_xticklabels([round(num, 2) for num in sensitivity_pd_sorted[\"Variations Demand\"].values])\n",
    "\n",
    "\n",
    "# Create a secondary y-axis\n",
    "ax2 = ax1.twinx()\n",
    "ax2.set_ylabel('LCOE (USD/kWh)')\n",
    "\n",
    "# Plot the secondary data (average values) as a line plot\n",
    "ax2.plot(x, sensitivity_pd_sorted[\"LCOE [USD/kWh]\"].values, color='red', marker='o', label='LCOE')\n",
    "\n",
    "# Add a legend for the secondary plot\n",
    "ax2.legend(loc='upper right')\n",
    "ax1.legend(loc='upper left')\n",
    "\n",
    "# Display the plot\n",
    "plt.show()"
   ]
  },
  {
   "cell_type": "markdown",
   "id": "854c2111-df8e-4a22-bf5e-2b6ab29303b0",
   "metadata": {},
   "source": [
    "### 8. Results"
   ]
  },
  {
   "cell_type": "markdown",
   "id": "1b7eec19-e9cb-4062-bb9d-0d82222d1c9e",
   "metadata": {},
   "source": [
    "The results can be exported. Specifically, CSV files will be generated from some of the dataframes, and the same process can be applied to the GeoDataFrames. Earlier in the notebook the *outphat* folder was defined to stored out results:"
   ]
  },
  {
   "cell_type": "markdown",
   "id": "450d195d-2d82-4f8f-9dd4-026684e41965",
   "metadata": {},
   "source": [
    "#### Exporting CSV Files:"
   ]
  },
  {
   "cell_type": "markdown",
   "id": "c9bb7a63-aec6-4302-ab18-436e0881a48d",
   "metadata": {},
   "source": [
    "Lets say we are interest on exporting the dataframe results_pd:"
   ]
  },
  {
   "cell_type": "code",
   "execution_count": null,
   "id": "612df1d3-b26a-44da-a337-de5bdddca326",
   "metadata": {},
   "outputs": [],
   "source": [
    "name_file = \"results\""
   ]
  },
  {
   "cell_type": "code",
   "execution_count": null,
   "id": "68db1c9b-cb6e-44ea-bccf-f85783e9657f",
   "metadata": {},
   "outputs": [],
   "source": [
    "results_pd.to_csv(outpath + \"\\\\\" + name_file +\".csv\")"
   ]
  },
  {
   "cell_type": "markdown",
   "id": "184e6806-1e67-4056-86d6-8af99163b91a",
   "metadata": {},
   "source": [
    "#### Exporting .gpkg Files:"
   ]
  },
  {
   "cell_type": "markdown",
   "id": "79cc8ce3-5213-4762-af0a-a94e93d39d9f",
   "metadata": {},
   "source": [
    "Lets say we are interest on exporting the GeoPandasDataframe total_grid_gdf:"
   ]
  },
  {
   "cell_type": "code",
   "execution_count": null,
   "id": "b8efc855-0761-401f-9fd5-3bae522ae203",
   "metadata": {},
   "outputs": [],
   "source": [
    "name_gpd_file = \"total_grid\""
   ]
  },
  {
   "cell_type": "code",
   "execution_count": null,
   "id": "01988d90-5bdc-4b35-ade4-7ce8369a2fa4",
   "metadata": {},
   "outputs": [],
   "source": [
    "total_grid_gdf.to_file(outpath + \"\\\\\" + name_gpd_file, driver=\"GPKG\")"
   ]
  }
 ],
 "metadata": {
  "kernelspec": {
   "display_name": "Python 3 (ipykernel)",
   "language": "python",
   "name": "python3"
  },
  "language_info": {
   "codemirror_mode": {
    "name": "ipython",
    "version": 3
   },
   "file_extension": ".py",
   "mimetype": "text/x-python",
   "name": "python",
   "nbconvert_exporter": "python",
   "pygments_lexer": "ipython3",
   "version": "3.11.9"
  }
 },
 "nbformat": 4,
 "nbformat_minor": 5
}
