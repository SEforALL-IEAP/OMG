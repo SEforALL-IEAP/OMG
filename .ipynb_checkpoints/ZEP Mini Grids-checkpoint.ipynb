{
 "cells": [
  {
   "cell_type": "markdown",
   "metadata": {},
   "source": [
    "# Estimating CAPEX for Mini-grids\n",
    "<br>\n",
    "\n",
    "**Conceptualization, Methodology & Code:** [Alexandros Korkovelos](https://github.com/akorkovelos)<br> **Funding:** SEforALL"
   ]
  },
  {
   "cell_type": "markdown",
   "metadata": {},
   "source": [
    "## Rationale\n",
    "\n",
    "... \n",
    "<br>\n",
    "\n",
    "---"
   ]
  },
  {
   "cell_type": "markdown",
   "metadata": {},
   "source": [
    "\n",
    "# Step 1. Setting up python env & Importing datasets"
   ]
  },
  {
   "cell_type": "markdown",
   "metadata": {},
   "source": [
    "## Import necessary modules\n",
    "\n",
    "As part of any modeling exercise in jupyter, the first step requires that the necessary python modules are imported. You may refer to the [requirements.txt]() to check dependencies for this notebook."
   ]
  },
  {
   "cell_type": "code",
   "execution_count": 1,
   "metadata": {
    "code_folding": [
     0
    ]
   },
   "outputs": [],
   "source": [
    "# Import python modules\n",
    "import geopandas as gpd\n",
    "import pandas as pd\n",
    "import pyproj\n",
    "import numpy as np\n",
    "import fiona\n",
    "import time\n",
    "\n",
    "from functools import reduce\n",
    "from shapely.geometry import Point, Polygon, MultiPoint\n",
    "from shapely.ops import nearest_points\n",
    "\n",
    "#import datapane as dp\n",
    "#!datapane login --token=\"yourpersonaltoken\"\n",
    "#!datapane login --token=\"9bde41bfbc4ad14119e32086f9f06d2e5db1d5b8\"\n",
    "\n",
    "import folium\n",
    "from folium.features import GeoJsonTooltip\n",
    "import branca.colormap as cm\n",
    "import os\n",
    "from IPython.display import display, Markdown, HTML, FileLink, FileLinks\n",
    "\n",
    "import matplotlib.pyplot as plt\n",
    "from matplotlib.ticker import MaxNLocator\n",
    "\n",
    "%matplotlib inline"
   ]
  },
  {
   "cell_type": "markdown",
   "metadata": {},
   "source": [
    "## Importing datasets\n",
    "\n",
    "Here we import the datasets that we are going to work with. These include the following three:\n",
    "\n",
    "**1. Administrative boundaries (vector polygon):** This defines the boundary box over our area of interest. In this example we use the administrative boundaries of Mecanhelas, a province in north-western Mozambique. You may retrieve this from [GADM](https://gadm.org/) \n",
    "\n",
    "**2. Locations of health facilities (vector points)**: In this case we use a spatial database of health facilities provided by [Maina et al.](https://www.nature.com/articles/s41597-019-0142-2). The dataset consists of 98745 public health facilities in Sub-Sahara Africa, all of which are geolocated.\n",
    "\n",
    "**3. Population clusters (vector polygons)**: This refers to a vectorized version of built-up areas as described and developed by [Korkovelos et al.](https://www.mdpi.com/1996-1073/12/7/1395). Population clusters for all countries in Sub-Saharan Africa are open access and available at [PopClusters](https://data.mendeley.com/datasets/z9zfhzk8cr/6). (In this exercise we use Version 6 released 01-09-2020).\n",
    "\n",
    "<br>\n",
    "\n",
    "> **Note 1**. For the purposes of this exercise both (2) and (3) have been clipped based on (1) before being imported in the notebook. You may used [geopandas](https://geopandas.org/reference/geopandas.clip.html) or [Qgis](https://docs.qgis.org/2.8/en/docs/user_manual/processing_algs/gdalogr/ogr_geoprocessing/clipvectorsbypolygon.html) to do this.\n",
    "\n",
    "> **Note 2**. All datasets are in WGS84 coordinate systems prior importing. Please make sure that this is the case and correct if otherwise."
   ]
  },
  {
   "cell_type": "code",
   "execution_count": 2,
   "metadata": {},
   "outputs": [],
   "source": [
    "cntry = \"Zambia\"\n",
    "cntryc = \"zm\""
   ]
  },
  {
   "cell_type": "code",
   "execution_count": 32,
   "metadata": {
    "code_folding": []
   },
   "outputs": [],
   "source": [
    "# Define path and name of the file#\n",
    "\n",
    "ROOT_DIR = os.path.abspath(os.curdir)\n",
    "admin_path = ROOT_DIR + \"\\\\\" + 'Input_Data'\n",
    "admin_name = \"{}_admin.gpkg\".format(cntryc)\n",
    "\n",
    "# Define path and name of the file\n",
    "mg_path = ROOT_DIR + \"\\\\\" + 'Input_Data' + '\\\\' + 'VIDA_Oct_18_2023'\n",
    "mg_name = \"VIDA_all_settlements_18102023.gpkg\"\n",
    "\n",
    "# Define path and name of the file\n",
    "clusters_path = ROOT_DIR + \"\\\\\" + 'Input_Data'\n",
    "clusters_name = \"{}-2-0_0_0_0_1_0.csv\".format(cntryc)\n",
    "#clusters_name = \"mw-2-0_0_0_0_1_0.csv\"\n",
    "\n",
    "# Path of solar resource data\n",
    "path = ROOT_DIR + \"\\\\\" + 'Input_Data' + '\\\\' + \"{}-2-pv.csv\".format(cntryc)\n",
    "\n",
    "# Path of result files\n",
    "outpath= ROOT_DIR + \"\\\\\" + 'Output_Data'\n",
    "#outpath= r\"C:\\Users\\alexl\\Dropbox\\Self-employment\\WBG\\Work\\GEP\\WHO_HF\\Literature\\Haiti docs\"\n",
    "\n",
    "## Adding extraction of only last year (2019) of data\n",
    "\n",
    "def read_environmental_data(path):\n",
    "    ghi_curve = pd.read_csv(path, usecols=[3], skiprows=3).values  # * 1000\n",
    "    ghi_curve = ghi_curve[341879:350643]\n",
    "    temp = pd.read_csv(path, usecols=[2], skiprows=3).values\n",
    "    temp = temp[341879:350643]\n",
    "\n",
    "    return ghi_curve, temp\n",
    "\n",
    "ghi_curve, temp = read_environmental_data(path)\n"
   ]
  },
  {
   "cell_type": "markdown",
   "metadata": {},
   "source": [
    "### Importing admin boundary as geodataframe"
   ]
  },
  {
   "cell_type": "code",
   "execution_count": 28,
   "metadata": {},
   "outputs": [],
   "source": [
    "# Create a new geo-dataframe\n",
    "admin_gdf = gpd.read_file(admin_path + \"\\\\\" + admin_name)"
   ]
  },
  {
   "cell_type": "code",
   "execution_count": 29,
   "metadata": {},
   "outputs": [
    {
     "name": "stderr",
     "output_type": "stream",
     "text": [
      "C:\\Users\\alexl\\anaconda3\\envs\\geospatial_env_kepler\\lib\\site-packages\\pyproj\\crs\\crs.py:53: FutureWarning: '+init=<authority>:<code>' syntax is deprecated. '<authority>:<code>' is the preferred initialization method. When making the change, be mindful of axis order changes: https://pyproj4.github.io/pyproj/stable/gotchas.html#axis-order-changes-in-proj-6\n",
      "  return _prepare_from_string(\" \".join(pjargs))\n"
     ]
    }
   ],
   "source": [
    "admin_gdf_proj = admin_gdf.to_crs({'init': \"EPSG:4326\"})"
   ]
  },
  {
   "cell_type": "code",
   "execution_count": 30,
   "metadata": {},
   "outputs": [
    {
     "data": {
      "text/html": [
       "<div>\n",
       "<style scoped>\n",
       "    .dataframe tbody tr th:only-of-type {\n",
       "        vertical-align: middle;\n",
       "    }\n",
       "\n",
       "    .dataframe tbody tr th {\n",
       "        vertical-align: top;\n",
       "    }\n",
       "\n",
       "    .dataframe thead th {\n",
       "        text-align: right;\n",
       "    }\n",
       "</style>\n",
       "<table border=\"1\" class=\"dataframe\">\n",
       "  <thead>\n",
       "    <tr style=\"text-align: right;\">\n",
       "      <th></th>\n",
       "      <th>ADM1_NAME</th>\n",
       "      <th>ADM2_NAME</th>\n",
       "      <th>geometry</th>\n",
       "    </tr>\n",
       "  </thead>\n",
       "  <tbody>\n",
       "    <tr>\n",
       "      <th>0</th>\n",
       "      <td>Central</td>\n",
       "      <td>Chibombo</td>\n",
       "      <td>MULTIPOLYGON (((28.97302 -15.01219, 28.96813 -...</td>\n",
       "    </tr>\n",
       "    <tr>\n",
       "      <th>1</th>\n",
       "      <td>Central</td>\n",
       "      <td>Kabwe</td>\n",
       "      <td>MULTIPOLYGON (((28.58818 -14.31777, 28.59200 -...</td>\n",
       "    </tr>\n",
       "    <tr>\n",
       "      <th>2</th>\n",
       "      <td>Central</td>\n",
       "      <td>Kapiri-Mposhi</td>\n",
       "      <td>MULTIPOLYGON (((28.52884 -13.85634, 28.53400 -...</td>\n",
       "    </tr>\n",
       "    <tr>\n",
       "      <th>3</th>\n",
       "      <td>Central</td>\n",
       "      <td>Mkushi</td>\n",
       "      <td>MULTIPOLYGON (((29.80896 -13.45514, 29.80150 -...</td>\n",
       "    </tr>\n",
       "    <tr>\n",
       "      <th>4</th>\n",
       "      <td>Central</td>\n",
       "      <td>Mumbwa</td>\n",
       "      <td>MULTIPOLYGON (((27.21412 -14.36053, 27.20808 -...</td>\n",
       "    </tr>\n",
       "    <tr>\n",
       "      <th>...</th>\n",
       "      <td>...</td>\n",
       "      <td>...</td>\n",
       "      <td>...</td>\n",
       "    </tr>\n",
       "    <tr>\n",
       "      <th>67</th>\n",
       "      <td>Western</td>\n",
       "      <td>Lukulu</td>\n",
       "      <td>MULTIPOLYGON (((22.33218 -13.73188, 22.36680 -...</td>\n",
       "    </tr>\n",
       "    <tr>\n",
       "      <th>68</th>\n",
       "      <td>Western</td>\n",
       "      <td>Mongu</td>\n",
       "      <td>MULTIPOLYGON (((24.17661 -15.31072, 23.87449 -...</td>\n",
       "    </tr>\n",
       "    <tr>\n",
       "      <th>69</th>\n",
       "      <td>Western</td>\n",
       "      <td>Senanga</td>\n",
       "      <td>MULTIPOLYGON (((24.62678 -15.45531, 24.61988 -...</td>\n",
       "    </tr>\n",
       "    <tr>\n",
       "      <th>70</th>\n",
       "      <td>Western</td>\n",
       "      <td>Sesheke</td>\n",
       "      <td>MULTIPOLYGON (((25.40172 -16.08531, 25.40253 -...</td>\n",
       "    </tr>\n",
       "    <tr>\n",
       "      <th>71</th>\n",
       "      <td>Western</td>\n",
       "      <td>Shang'ombo</td>\n",
       "      <td>MULTIPOLYGON (((23.69835 -16.73452, 23.69610 -...</td>\n",
       "    </tr>\n",
       "  </tbody>\n",
       "</table>\n",
       "<p>72 rows × 3 columns</p>\n",
       "</div>"
      ],
      "text/plain": [
       "   ADM1_NAME      ADM2_NAME                                           geometry\n",
       "0    Central       Chibombo  MULTIPOLYGON (((28.97302 -15.01219, 28.96813 -...\n",
       "1    Central          Kabwe  MULTIPOLYGON (((28.58818 -14.31777, 28.59200 -...\n",
       "2    Central  Kapiri-Mposhi  MULTIPOLYGON (((28.52884 -13.85634, 28.53400 -...\n",
       "3    Central         Mkushi  MULTIPOLYGON (((29.80896 -13.45514, 29.80150 -...\n",
       "4    Central         Mumbwa  MULTIPOLYGON (((27.21412 -14.36053, 27.20808 -...\n",
       "..       ...            ...                                                ...\n",
       "67   Western         Lukulu  MULTIPOLYGON (((22.33218 -13.73188, 22.36680 -...\n",
       "68   Western          Mongu  MULTIPOLYGON (((24.17661 -15.31072, 23.87449 -...\n",
       "69   Western        Senanga  MULTIPOLYGON (((24.62678 -15.45531, 24.61988 -...\n",
       "70   Western        Sesheke  MULTIPOLYGON (((25.40172 -16.08531, 25.40253 -...\n",
       "71   Western     Shang'ombo  MULTIPOLYGON (((23.69835 -16.73452, 23.69610 -...\n",
       "\n",
       "[72 rows x 3 columns]"
      ]
     },
     "execution_count": 30,
     "metadata": {},
     "output_type": "execute_result"
    }
   ],
   "source": [
    "admin_gdf_proj"
   ]
  },
  {
   "cell_type": "code",
   "execution_count": 31,
   "metadata": {
    "code_folding": []
   },
   "outputs": [
    {
     "data": {
      "image/png": "[encoded data removed]",
      "text/plain": [
       "<Figure size 720x720 with 1 Axes>"
      ]
     },
     "metadata": {
      "needs_background": "light"
     },
     "output_type": "display_data"
    }
   ],
   "source": [
    "## Create the axis first\n",
    "fig, ax = plt.subplots(figsize=(10, 10))\n",
    "admin_gdf_proj.plot(ax=ax, edgecolor='black', alpha=0.2)\n",
    "ax.set_aspect('equal', 'box')\n",
    "txt = ax.set_title('Administrative Boundary'.format(\"\"))"
   ]
  },
  {
   "cell_type": "markdown",
   "metadata": {},
   "source": [
    "### Importing health facilities \n",
    "\n",
    "**Note** that for the code below to work properly this should be a \"Point\" layer; in case the geometry is characterized as \"Multipoint\" you should convert it into a \"Point\" to proceed. You may use [Qgis](http://www.saga-gis.org/saga_tool_doc/3.0.0/shapes_points_15.html) to do this."
   ]
  },
  {
   "cell_type": "code",
   "execution_count": 37,
   "metadata": {},
   "outputs": [],
   "source": [
    "# Create a new geo-dataframe\n",
    "#health_gdf = gpd.read_file(mg_path + \"\\\\\" + mg_name)\n",
    "mg_gdf = gpd.read_file(mg_path + \"\\\\\" + mg_name)"
   ]
  },
  {
   "cell_type": "code",
   "execution_count": 38,
   "metadata": {},
   "outputs": [],
   "source": [
    "# Adding an index column\n",
    "#health_gdf['hf_id'] = range(1, len(health_gdf)+1)\n",
    "mg_gdf['mg_id'] = range(1, len(mg_gdf)+1)"
   ]
  },
  {
   "cell_type": "code",
   "execution_count": 39,
   "metadata": {},
   "outputs": [
    {
     "data": {
      "text/plain": [
       "Index(['Lat', 'Lon', 'Site Name', 'Country', 'VIDA_ID', 'Province', 'District',\n",
       "       'Ratio of built-up area', 'Number of buildings',\n",
       "       'Number of large buildings', 'Number of medium buildings',\n",
       "       'Number of small buildings', 'Number of very small structures',\n",
       "       'Population sum', 'Population estimate', 'Customer density',\n",
       "       'Distance to the road [km]', 'Distance to nearest hub [km]',\n",
       "       'Nearest regional hub', 'Distance to railway [km]',\n",
       "       'Healthcare facilities', 'Education facilities',\n",
       "       'Average relative wealth index', 'Total points of interest',\n",
       "       'Top five dominant crops', 'Total crop value [$/year]',\n",
       "       'Total crop yield [kg/ha]', 'Total crop value per hectare [$/ha]',\n",
       "       'Percentage of nightlight overlap [%]', 'Has nightlight?',\n",
       "       'Distance to the nightlight [km]',\n",
       "       'Distance to nearest hydropower source [km]',\n",
       "       'Distance to nearest transformer [km]',\n",
       "       'Distance to nearest substation [km]',\n",
       "       'Distance to nearest HV lines [km]',\n",
       "       'Distance to nearest MV lines [km]', 'Potential number of connections',\n",
       "       'Estimated energy demand [kWh/day]',\n",
       "       'Average demand per connection [kWh/day]',\n",
       "       'Length of minimum spanning tree [km]',\n",
       "       'Total cost for minimum spanning tree [$]',\n",
       "       'Potential PV production [kWh/kWp]',\n",
       "       'Distance to nearest solar mill [Km]',\n",
       "       'Distance to nearest mini-grid site [Km]', 'Mini-grid site status',\n",
       "       'Fatalities within 50 km (battles,riots,violence against civilians,explosions)',\n",
       "       'Fatalities within 25 km (battles,riots,violence against civilians,explosions)',\n",
       "       'Total number of incidents within 25km', 'Security risk', 'Travelhours',\n",
       "       'GHI', 'geometry', 'mg_id'],\n",
       "      dtype='object')"
      ]
     },
     "execution_count": 39,
     "metadata": {},
     "output_type": "execute_result"
    }
   ],
   "source": [
    "mg_gdf.columns"
   ]
  },
  {
   "cell_type": "code",
   "execution_count": 40,
   "metadata": {},
   "outputs": [
    {
     "data": {
      "text/plain": [
       "24552"
      ]
     },
     "execution_count": 40,
     "metadata": {},
     "output_type": "execute_result"
    }
   ],
   "source": [
    "mg_gdf.shape[0]"
   ]
  },
  {
   "cell_type": "code",
   "execution_count": 41,
   "metadata": {},
   "outputs": [
    {
     "name": "stderr",
     "output_type": "stream",
     "text": [
      "C:\\Users\\alexl\\anaconda3\\envs\\geospatial_env_kepler\\lib\\site-packages\\pyproj\\crs\\crs.py:53: FutureWarning: '+init=<authority>:<code>' syntax is deprecated. '<authority>:<code>' is the preferred initialization method. When making the change, be mindful of axis order changes: https://pyproj4.github.io/pyproj/stable/gotchas.html#axis-order-changes-in-proj-6\n",
      "  return _prepare_from_string(\" \".join(pjargs))\n"
     ]
    }
   ],
   "source": [
    "#health_gdf_proj = health_gdf.to_crs({'init': 'epsg:4326'})\n",
    "mg_gdf_proj = mg_gdf.to_crs({'init': 'epsg:4326'})"
   ]
  },
  {
   "cell_type": "code",
   "execution_count": 43,
   "metadata": {},
   "outputs": [
    {
     "data": {
      "text/html": [
       "<div>\n",
       "<style scoped>\n",
       "    .dataframe tbody tr th:only-of-type {\n",
       "        vertical-align: middle;\n",
       "    }\n",
       "\n",
       "    .dataframe tbody tr th {\n",
       "        vertical-align: top;\n",
       "    }\n",
       "\n",
       "    .dataframe thead th {\n",
       "        text-align: right;\n",
       "    }\n",
       "</style>\n",
       "<table border=\"1\" class=\"dataframe\">\n",
       "  <thead>\n",
       "    <tr style=\"text-align: right;\">\n",
       "      <th></th>\n",
       "      <th>Lat</th>\n",
       "      <th>Lon</th>\n",
       "      <th>Site Name</th>\n",
       "      <th>Country</th>\n",
       "      <th>VIDA_ID</th>\n",
       "      <th>Province</th>\n",
       "      <th>District</th>\n",
       "      <th>Ratio of built-up area</th>\n",
       "      <th>Number of buildings</th>\n",
       "      <th>Number of large buildings</th>\n",
       "      <th>...</th>\n",
       "      <th>Distance to nearest mini-grid site [Km]</th>\n",
       "      <th>Mini-grid site status</th>\n",
       "      <th>Fatalities within 50 km (battles,riots,violence against civilians,explosions)</th>\n",
       "      <th>Fatalities within 25 km (battles,riots,violence against civilians,explosions)</th>\n",
       "      <th>Total number of incidents within 25km</th>\n",
       "      <th>Security risk</th>\n",
       "      <th>Travelhours</th>\n",
       "      <th>GHI</th>\n",
       "      <th>geometry</th>\n",
       "      <th>mg_id</th>\n",
       "    </tr>\n",
       "  </thead>\n",
       "  <tbody>\n",
       "    <tr>\n",
       "      <th>0</th>\n",
       "      <td>-9.890335</td>\n",
       "      <td>31.250981</td>\n",
       "      <td>Nseluka</td>\n",
       "      <td>Zambia</td>\n",
       "      <td>24447</td>\n",
       "      <td>Northern</td>\n",
       "      <td>Mungwi</td>\n",
       "      <td>0.01</td>\n",
       "      <td>332.0</td>\n",
       "      <td>0.0</td>\n",
       "      <td>...</td>\n",
       "      <td>27.81</td>\n",
       "      <td>Construction license</td>\n",
       "      <td>0,2,0,0</td>\n",
       "      <td>0,1,0,0</td>\n",
       "      <td>1</td>\n",
       "      <td>high</td>\n",
       "      <td>0.386625</td>\n",
       "      <td>2032.684937</td>\n",
       "      <td>POINT (31.25098 -9.89033)</td>\n",
       "      <td>1</td>\n",
       "    </tr>\n",
       "    <tr>\n",
       "      <th>1</th>\n",
       "      <td>-14.486753</td>\n",
       "      <td>30.866770</td>\n",
       "      <td>None</td>\n",
       "      <td>Zambia</td>\n",
       "      <td>16849</td>\n",
       "      <td>Eastern</td>\n",
       "      <td>Nyimba</td>\n",
       "      <td>0.02</td>\n",
       "      <td>164.0</td>\n",
       "      <td>0.0</td>\n",
       "      <td>...</td>\n",
       "      <td>10.15</td>\n",
       "      <td>Reserved</td>\n",
       "      <td>0,0,0,0</td>\n",
       "      <td>0,0,0,0</td>\n",
       "      <td>0</td>\n",
       "      <td>low</td>\n",
       "      <td>2.183017</td>\n",
       "      <td>1908.004578</td>\n",
       "      <td>POINT (30.86677 -14.48675)</td>\n",
       "      <td>2</td>\n",
       "    </tr>\n",
       "    <tr>\n",
       "      <th>2</th>\n",
       "      <td>-13.495112</td>\n",
       "      <td>25.903903</td>\n",
       "      <td>None</td>\n",
       "      <td>Zambia</td>\n",
       "      <td>5542</td>\n",
       "      <td>North-Western</td>\n",
       "      <td>Kasempa</td>\n",
       "      <td>0.02</td>\n",
       "      <td>283.0</td>\n",
       "      <td>3.0</td>\n",
       "      <td>...</td>\n",
       "      <td>47.53</td>\n",
       "      <td>Reserved</td>\n",
       "      <td>0,0,0,0</td>\n",
       "      <td>0,0,0,0</td>\n",
       "      <td>0</td>\n",
       "      <td>low</td>\n",
       "      <td>3.221642</td>\n",
       "      <td>2007.907740</td>\n",
       "      <td>POINT (25.90390 -13.49511)</td>\n",
       "      <td>3</td>\n",
       "    </tr>\n",
       "  </tbody>\n",
       "</table>\n",
       "<p>3 rows × 53 columns</p>\n",
       "</div>"
      ],
      "text/plain": [
       "         Lat        Lon Site Name Country  VIDA_ID       Province District  \\\n",
       "0  -9.890335  31.250981   Nseluka  Zambia    24447       Northern   Mungwi   \n",
       "1 -14.486753  30.866770      None  Zambia    16849        Eastern   Nyimba   \n",
       "2 -13.495112  25.903903      None  Zambia     5542  North-Western  Kasempa   \n",
       "\n",
       "   Ratio of built-up area  Number of buildings  Number of large buildings  \\\n",
       "0                    0.01                332.0                        0.0   \n",
       "1                    0.02                164.0                        0.0   \n",
       "2                    0.02                283.0                        3.0   \n",
       "\n",
       "   ...  Distance to nearest mini-grid site [Km]  Mini-grid site status  \\\n",
       "0  ...                                    27.81   Construction license   \n",
       "1  ...                                    10.15               Reserved   \n",
       "2  ...                                    47.53               Reserved   \n",
       "\n",
       "   Fatalities within 50 km (battles,riots,violence against civilians,explosions)  \\\n",
       "0                                            0,2,0,0                               \n",
       "1                                            0,0,0,0                               \n",
       "2                                            0,0,0,0                               \n",
       "\n",
       "   Fatalities within 25 km (battles,riots,violence against civilians,explosions)  \\\n",
       "0                                            0,1,0,0                               \n",
       "1                                            0,0,0,0                               \n",
       "2                                            0,0,0,0                               \n",
       "\n",
       "   Total number of incidents within 25km  Security risk  Travelhours  \\\n",
       "0                                      1           high     0.386625   \n",
       "1                                      0            low     2.183017   \n",
       "2                                      0            low     3.221642   \n",
       "\n",
       "           GHI                    geometry  mg_id  \n",
       "0  2032.684937   POINT (31.25098 -9.89033)      1  \n",
       "1  1908.004578  POINT (30.86677 -14.48675)      2  \n",
       "2  2007.907740  POINT (25.90390 -13.49511)      3  \n",
       "\n",
       "[3 rows x 53 columns]"
      ]
     },
     "execution_count": 43,
     "metadata": {},
     "output_type": "execute_result"
    }
   ],
   "source": [
    "mg_gdf_proj.head(3)"
   ]
  },
  {
   "cell_type": "markdown",
   "metadata": {},
   "source": [
    "#### ... and visualizing "
   ]
  },
  {
   "cell_type": "code",
   "execution_count": 44,
   "metadata": {},
   "outputs": [],
   "source": [
    "#fig, ax = plt.subplots(figsize=(10, 10))\n",
    "#\n",
    "##admin_gdf.plot(ax=ax, edgecolor='brown', alpha=0.2)\n",
    "#mg_gdf_proj.plot(ax=ax, legend=True, markersize=3, figsize=(15, 15), alpha=0.5)\n",
    "#\n",
    "#ax.set_aspect('equal', 'box')\n",
    "#txt = ax.set_title('Location of mg sites in AoI'.format(\"\"))"
   ]
  },
  {
   "cell_type": "code",
   "execution_count": 45,
   "metadata": {},
   "outputs": [
    {
     "data": {
      "text/plain": [
       "Index(['Lat', 'Lon', 'Site Name', 'Country', 'VIDA_ID', 'Province', 'District',\n",
       "       'Ratio of built-up area', 'Number of buildings',\n",
       "       'Number of large buildings', 'Number of medium buildings',\n",
       "       'Number of small buildings', 'Number of very small structures',\n",
       "       'Population sum', 'Population estimate', 'Customer density',\n",
       "       'Distance to the road [km]', 'Distance to nearest hub [km]',\n",
       "       'Nearest regional hub', 'Distance to railway [km]',\n",
       "       'Healthcare facilities', 'Education facilities',\n",
       "       'Average relative wealth index', 'Total points of interest',\n",
       "       'Top five dominant crops', 'Total crop value [$/year]',\n",
       "       'Total crop yield [kg/ha]', 'Total crop value per hectare [$/ha]',\n",
       "       'Percentage of nightlight overlap [%]', 'Has nightlight?',\n",
       "       'Distance to the nightlight [km]',\n",
       "       'Distance to nearest hydropower source [km]',\n",
       "       'Distance to nearest transformer [km]',\n",
       "       'Distance to nearest substation [km]',\n",
       "       'Distance to nearest HV lines [km]',\n",
       "       'Distance to nearest MV lines [km]', 'Potential number of connections',\n",
       "       'Estimated energy demand [kWh/day]',\n",
       "       'Average demand per connection [kWh/day]',\n",
       "       'Length of minimum spanning tree [km]',\n",
       "       'Total cost for minimum spanning tree [$]',\n",
       "       'Potential PV production [kWh/kWp]',\n",
       "       'Distance to nearest solar mill [Km]',\n",
       "       'Distance to nearest mini-grid site [Km]', 'Mini-grid site status',\n",
       "       'Fatalities within 50 km (battles,riots,violence against civilians,explosions)',\n",
       "       'Fatalities within 25 km (battles,riots,violence against civilians,explosions)',\n",
       "       'Total number of incidents within 25km', 'Security risk', 'Travelhours',\n",
       "       'GHI', 'geometry', 'mg_id'],\n",
       "      dtype='object')"
      ]
     },
     "execution_count": 45,
     "metadata": {},
     "output_type": "execute_result"
    }
   ],
   "source": [
    "mg_gdf_proj.columns"
   ]
  },
  {
   "cell_type": "code",
   "execution_count": 46,
   "metadata": {},
   "outputs": [
    {
     "data": {
      "text/plain": [
       "Eastern          5801\n",
       "Western          3042\n",
       "Central          2873\n",
       "Southern         2569\n",
       "Northern         2416\n",
       "Muchinga         1745\n",
       "North-Western    1695\n",
       "Lusaka           1535\n",
       "Luapula          1520\n",
       "Copperbelt       1356\n",
       "Name: Province, dtype: int64"
      ]
     },
     "execution_count": 46,
     "metadata": {},
     "output_type": "execute_result"
    }
   ],
   "source": [
    "mg_gdf_proj[\"Province\"].value_counts()"
   ]
  },
  {
   "cell_type": "code",
   "execution_count": 47,
   "metadata": {},
   "outputs": [
    {
     "data": {
      "text/plain": [
       "array(['Northern', 'Eastern', 'North-Western', 'Muchinga', 'Central',\n",
       "       'Copperbelt', 'Lusaka', 'Western', 'Luapula', 'Southern'],\n",
       "      dtype=object)"
      ]
     },
     "execution_count": 47,
     "metadata": {},
     "output_type": "execute_result"
    }
   ],
   "source": [
    "mg_gdf_proj[\"Province\"].unique()"
   ]
  },
  {
   "cell_type": "markdown",
   "metadata": {},
   "source": [
    "### Importing population clusters"
   ]
  },
  {
   "cell_type": "code",
   "execution_count": 36,
   "metadata": {},
   "outputs": [],
   "source": [
    "#clusters_gdf = pd.read_csv(clusters_path + \"\\\\\" + clusters_name)"
   ]
  },
  {
   "cell_type": "code",
   "execution_count": 37,
   "metadata": {},
   "outputs": [],
   "source": [
    "#clusters_gdf.head(2)"
   ]
  },
  {
   "cell_type": "code",
   "execution_count": 38,
   "metadata": {},
   "outputs": [],
   "source": [
    "#for i in clusters_gdf.columns:\n",
    "#    print (i)"
   ]
  },
  {
   "cell_type": "markdown",
   "metadata": {},
   "source": [
    " "
   ]
  },
  {
   "cell_type": "markdown",
   "metadata": {},
   "source": [
    "#### Assign result to the mg df to proceed as usual"
   ]
  },
  {
   "cell_type": "code",
   "execution_count": 48,
   "metadata": {},
   "outputs": [],
   "source": [
    "#MG = result_df\n",
    "MG = mg_gdf_proj"
   ]
  },
  {
   "cell_type": "code",
   "execution_count": 49,
   "metadata": {},
   "outputs": [
    {
     "data": {
      "text/plain": [
       "Index(['Lat', 'Lon', 'Site Name', 'Country', 'VIDA_ID', 'Province', 'District',\n",
       "       'Ratio of built-up area', 'Number of buildings',\n",
       "       'Number of large buildings', 'Number of medium buildings',\n",
       "       'Number of small buildings', 'Number of very small structures',\n",
       "       'Population sum', 'Population estimate', 'Customer density',\n",
       "       'Distance to the road [km]', 'Distance to nearest hub [km]',\n",
       "       'Nearest regional hub', 'Distance to railway [km]',\n",
       "       'Healthcare facilities', 'Education facilities',\n",
       "       'Average relative wealth index', 'Total points of interest',\n",
       "       'Top five dominant crops', 'Total crop value [$/year]',\n",
       "       'Total crop yield [kg/ha]', 'Total crop value per hectare [$/ha]',\n",
       "       'Percentage of nightlight overlap [%]', 'Has nightlight?',\n",
       "       'Distance to the nightlight [km]',\n",
       "       'Distance to nearest hydropower source [km]',\n",
       "       'Distance to nearest transformer [km]',\n",
       "       'Distance to nearest substation [km]',\n",
       "       'Distance to nearest HV lines [km]',\n",
       "       'Distance to nearest MV lines [km]', 'Potential number of connections',\n",
       "       'Estimated energy demand [kWh/day]',\n",
       "       'Average demand per connection [kWh/day]',\n",
       "       'Length of minimum spanning tree [km]',\n",
       "       'Total cost for minimum spanning tree [$]',\n",
       "       'Potential PV production [kWh/kWp]',\n",
       "       'Distance to nearest solar mill [Km]',\n",
       "       'Distance to nearest mini-grid site [Km]', 'Mini-grid site status',\n",
       "       'Fatalities within 50 km (battles,riots,violence against civilians,explosions)',\n",
       "       'Fatalities within 25 km (battles,riots,violence against civilians,explosions)',\n",
       "       'Total number of incidents within 25km', 'Security risk', 'Travelhours',\n",
       "       'GHI', 'geometry', 'mg_id'],\n",
       "      dtype='object')"
      ]
     },
     "execution_count": 49,
     "metadata": {},
     "output_type": "execute_result"
    }
   ],
   "source": [
    "MG.columns"
   ]
  },
  {
   "cell_type": "markdown",
   "metadata": {},
   "source": [
    " "
   ]
  },
  {
   "cell_type": "markdown",
   "metadata": {},
   "source": [
    "\n",
    "### Invest & Cap estimation"
   ]
  },
  {
   "cell_type": "code",
   "execution_count": 50,
   "metadata": {
    "code_folding": [
     0
    ]
   },
   "outputs": [],
   "source": [
    "def assignLoadFactor(cs):\n",
    "    if (cs == '1'):\n",
    "        return 0.15\n",
    "    elif (cs == '2'):\n",
    "        return 0.16\n",
    "    elif (cs == '3'):\n",
    "        return 0.21\n",
    "    else:\n",
    "        return 0    "
   ]
  },
  {
   "cell_type": "code",
   "execution_count": 51,
   "metadata": {
    "code_folding": [
     0
    ]
   },
   "outputs": [],
   "source": [
    "def assignLoadTier(cs):\n",
    "    if (cs == '1'):\n",
    "        return 1\n",
    "    elif (cs == '2'):\n",
    "        return 2\n",
    "    elif (cs == '3'):\n",
    "        return 3\n",
    "    else:\n",
    "        return 0"
   ]
  },
  {
   "cell_type": "markdown",
   "metadata": {},
   "source": [
    "### Estimate PV-diesel MG configuration for HF"
   ]
  },
  {
   "cell_type": "code",
   "execution_count": 52,
   "metadata": {
    "code_folding": [
     0
    ]
   },
   "outputs": [],
   "source": [
    "def pv_diesel_hybrid(\n",
    "        bba, \n",
    "        bbb, \n",
    "        bbc, \n",
    "        bbpme, \n",
    "        bbprod, \n",
    "        ghi,  \n",
    "        diesel_price,\n",
    "        ghi_curve,\n",
    "        temp,\n",
    "        start_year,\n",
    "        end_year,\n",
    "        pv_cost_factor,\n",
    "        diesel_cost=325,  # diesel generator capital cost, USD/kWA rated power\n",
    "        pv_no=1,  # number of PV panel sizes simulated\n",
    "        diesel_no=1,  # number of diesel generators simulated\n",
    "        discount_rate=0.138,\n",
    "):\n",
    "    n_chg = 0.92  # charge efficiency of battery\n",
    "    n_dis = 0.92  # discharge efficiency of battery\n",
    "    lpsp_max = 0.01  # maximum loss of load allowed over the year, in share of kWh ## 0.0001\n",
    "    battery_cost = 593  # battery capital capital cost, USD/kWh of storage capacity\n",
    "    pv_cost = 720 * 1  # PV panel capital cost, USD/kW peak power\n",
    "    pv_life = 25  # PV panel expected lifetime, years\n",
    "    diesel_life = 10  # diesel generator expected lifetime, years\n",
    "    pv_om = 0.015  # annual OM cost of PV panels\n",
    "    diesel_om = 0.1  # annual OM cost of diesel generator\n",
    "    k_t = 0.005  # temperature factor of PV panels\n",
    "    inverter_cost = 230\n",
    "    inverter_life = 10\n",
    "    inv_eff = 0.92  # inverter_efficiency\n",
    "    charge_controller = 250\n",
    "    sgna = 18 # $/connection/year\n",
    "\n",
    "    ghi = ghi_curve * ghi * 1000 / ghi_curve.sum()\n",
    "    hour_numbers = (0, 1, 2, 3, 4, 5, 6, 7, 8, 9, 10, 11, 12, 13, 14, 15, 16, 17, 18, 19, 20, 21, 22, 23) * 365\n",
    "    dod_max = 0.8  # maximum depth of discharge of battery\n",
    "\n",
    "    def load_curves(bba, bbb, bbc, bbpme, bbprod):\n",
    "        # the values below define the load curve for the five tiers. The values reflect the share of the daily demand\n",
    "        # expected in each hour of the day (sum of all values for one tier = 1)\n",
    "        ba_load_curve = [0.988074348, 0.83234137, 0.780348447, 0.895071886, 1.29452897, 1.427317285,\n",
    "                         1.427143895, 2.036533853, 2.788021073, 3.132621618, 3.398067297, 3.597146625,\n",
    "                         3.749088177, 3.619622164, 3.645379008, 3.798564636, 4.140905488, 6.288317305,\n",
    "                         9.012611343, 8.343100334, 6.300316324, 3.931731497, 2.193525721, 1.379620337]\n",
    "        \n",
    "        bb_load_curve = [3.184482155, 2.873016199, 2.769030352, 2.99847723, 3.797391399, 4.062968029, \n",
    "                         4.062621248, 5.281401164, 6.784375605, 7.473576694, 8.004468052, 8.402626707, \n",
    "                         8.706509811, 8.447577786, 8.499091475, 8.805462731, 9.490144434, 13.78496807, \n",
    "                         19.23355614, 17.89453413, 13.80896611, 9.071796452, 5.5953849, 3.967574132]\n",
    "        \n",
    "        bc_load_curve = [8.923873354, 8.047396638, 7.614331638, 7.763438133, 9.507818801, 12.4321089,\n",
    "                         13.48321774, 14.41446325, 15.87567906, 16.28469545, 17.16546017, 17.7633564,\n",
    "                         18.49249621, 19.22393746, 19.1473699, 18.37923754, 17.41429094, 23.6968058, \n",
    "                         40.54912477, 48.55186439, 44.0975794, 32.05947574, 19.32369079, 11.78828855]\n",
    "        \n",
    "        bpme_load_curve = [0.250823098, 0.250823098, 0.250823098, 0.250823098, 0.250823098, 0.250823098,\n",
    "                           7.645880133, 18.30034088, 30.36078872, 42.83318642, 49.9405017, 52.93860082,\n",
    "                           49.93452555, 44.38491667, 35.85872985, 27.40653484, 20.76932651, 32.56118326,\n",
    "                           62.28781859, 74.50081552, 62.8359663, 36.32711164, 17.17269706, 4.690252421]\n",
    "        \n",
    "        bprod_load_curve = [12.51341557,  12.49088602, 12.47672647, 16.65231446, 21.62811274, 73.12221043, \n",
    "                            307.3487742, 619.3246364, 907.5906364, 919.5741762, 1038.177627, 1124.612654,\n",
    "                            1022.608964, 896.7845886, 959.4059058, 857.2820323, 729.2917592, 482.4635076,\n",
    "                            108.3151878, 50.78451089, 60.39546483, 26.100591, 13.54589784, 12.50942015]\n",
    "\n",
    "        \n",
    "        ba_load_curve = [i * bba for i in ba_load_curve]\n",
    "        bb_load_curve = [i * bbb for i in bb_load_curve]\n",
    "        bc_load_curve = [i * bbc for i in bc_load_curve]\n",
    "        bpme_load_curve = [i * bbpme for i in bpme_load_curve]\n",
    "        bprod_load_curve = [i * bbprod for i in bprod_load_curve]\n",
    "        \n",
    "        load_curve = [sum(x) for x in zip(ba_load_curve, bb_load_curve, bc_load_curve, bpme_load_curve, bprod_load_curve )] * 365\n",
    "\n",
    "        load_curve = [i / 1000 for i in load_curve]\n",
    "        \n",
    "        return np.array(load_curve) \n",
    "    \n",
    "    load_curve = load_curves(bba, bbb, bbc, bbpme, bbprod)\n",
    "    energy_per_hh = (sum(load_curves(bba, bbb, bbc, bbpme, bbprod)))\n",
    "\n",
    "    def pv_diesel_capacities(pv_capacity, battery_size, diesel_capacity, pv_no, diesel_no, battery_no):\n",
    "        dod = np.zeros(shape=(24, battery_no, pv_no, diesel_no))\n",
    "        battery_use = np.zeros(shape=(24, battery_no, pv_no, diesel_no))  # Stores the amount of battery discharge during the day\n",
    "        fuel_result = np.zeros(shape=(battery_no, pv_no, diesel_no))\n",
    "        battery_life = np.zeros(shape=(battery_no, pv_no, diesel_no))\n",
    "        soc = np.ones(shape=(battery_no, pv_no, diesel_no)) * 0.5\n",
    "        unmet_demand = np.zeros(shape=(battery_no, pv_no, diesel_no))\n",
    "        excess_gen = np.zeros(shape=(battery_no, pv_no, diesel_no))  # TODO\n",
    "        annual_diesel_gen = np.zeros(shape=(battery_no, pv_no, diesel_no))\n",
    "        dod_max = np.ones(shape=(battery_no, pv_no, diesel_no)) * 0.6\n",
    "\n",
    "        for i in range(8760):\n",
    "\n",
    "            # Battery self-discharge (0.02% per hour)\n",
    "            battery_use[hour_numbers[i], :, :] = 0.0002 * soc\n",
    "            soc *= 0.9998\n",
    "\n",
    "            # Calculation of PV gen and net load\n",
    "            t_cell = temp[i] + 0.0256 * ghi[i]  # PV cell temperature\n",
    "            pv_gen = pv_capacity * 0.9 * ghi[i] / 1000 * (1 - k_t * (t_cell - 25))  # PV generation in the hour\n",
    "            net_load = load_curve[hour_numbers[i]] - pv_gen * inv_eff  # remaining load not met by PV panels\n",
    "\n",
    "            # Dispatchable energy from battery available to meet load\n",
    "            battery_dispatchable = soc * battery_size * n_dis * inv_eff\n",
    "            # Energy required to fully charge battery\n",
    "            battery_chargeable = (1 - soc) * battery_size / n_chg / inv_eff\n",
    "\n",
    "            # Below is the dispatch strategy for the diesel generator as described in word document\n",
    "\n",
    "            if 4 < hour_numbers[i] <= 17:\n",
    "                # During the morning and day, the batteries are dispatched primarily.\n",
    "                # The diesel generator, if needed, is run at the lowest possible capacity\n",
    "\n",
    "                # Minimum diesel capacity to cover the net load after batteries.\n",
    "                # Diesel genrator limited by lowest possible capacity (40%) and rated capacity\n",
    "                min_diesel = np.minimum(\n",
    "                    np.maximum(net_load - battery_dispatchable, 0.4 * diesel_capacity),\n",
    "                    diesel_capacity)\n",
    "\n",
    "                diesel_gen = np.where(net_load > battery_dispatchable, min_diesel, 0)\n",
    "\n",
    "            elif 17 > hour_numbers[i] > 23:\n",
    "                # During the evening, the diesel generator is dispatched primarily, at max_diesel.\n",
    "                # Batteries are dispatched if diesel generation is insufficient.\n",
    "\n",
    "                #  Maximum amount of diesel needed to supply load and charge battery\n",
    "                # Diesel genrator limited by lowest possible capacity (40%) and rated capacity\n",
    "                max_diesel = np.maximum(\n",
    "                    np.minimum(net_load + battery_chargeable, diesel_capacity),\n",
    "                    0.4 * diesel_capacity)\n",
    "\n",
    "                diesel_gen = np.where(net_load > 0, max_diesel, 0)\n",
    "            else:\n",
    "                # During night, batteries are dispatched primarily.\n",
    "                # The diesel generator is used at max_diesel if load is larger than battery capacity\n",
    "\n",
    "                #  Maximum amount of diesel needed to supply load and charge battery\n",
    "                # Diesel genrator limited by lowest possible capacity (40%) and rated capacity\n",
    "                max_diesel = np.maximum(\n",
    "                    np.minimum(net_load + battery_chargeable, diesel_capacity),\n",
    "                    0.4 * diesel_capacity)\n",
    "\n",
    "                diesel_gen = np.where(net_load > battery_dispatchable, max_diesel, 0)\n",
    "\n",
    "            fuel_result += np.where(diesel_gen > 0, diesel_capacity * 0.08145 + diesel_gen * 0.246, 0)\n",
    "            annual_diesel_gen += diesel_gen\n",
    "\n",
    "            # Reamining load after diesel generator\n",
    "            net_load = net_load - diesel_gen\n",
    "\n",
    "            # If diesel generation is used, but is smaller than load, battery is discharged\n",
    "            soc -= np.where((net_load > 0) & (diesel_gen > 0),\n",
    "                            net_load / n_dis / inv_eff / battery_size,\n",
    "                            0)\n",
    "\n",
    "            # If diesel generation is used, and is larger than load, battery is charged\n",
    "            soc -= np.where((net_load < 0) & (diesel_gen > 0),\n",
    "                            net_load * n_chg * inv_eff / battery_size,\n",
    "                            0)\n",
    "\n",
    "            # If net load is positive and no diesel is used, battery is discharged\n",
    "            soc -= np.where((net_load > 0) & (diesel_gen == 0),\n",
    "                            net_load / n_dis / battery_size,\n",
    "                            0)\n",
    "\n",
    "            # If net load is negative, and no diesel has been used, excess PV gen is used to charge battery\n",
    "            soc -= np.where((net_load < 0) & (diesel_gen == 0),\n",
    "                            net_load * n_chg / battery_size,\n",
    "                            0)\n",
    "\n",
    "\n",
    "            # The amount of battery discharge in the hour is stored (measured in State Of Charge)\n",
    "            battery_use[hour_numbers[i], :, :] = \\\n",
    "                np.minimum(np.where(net_load > 0,\n",
    "                                    net_load / n_dis / battery_size,\n",
    "                                    0),\n",
    "                           soc)\n",
    "\n",
    "            # If State of charge is negative, that means there's demand that could not be met.\n",
    "            unmet_demand += np.where(soc < 0,\n",
    "                                     -soc / n_dis * battery_size,\n",
    "                                     0)\n",
    "            soc = np.maximum(soc, 0)\n",
    "\n",
    "            # If State of Charge is larger than 1, that means there was excess PV/diesel generation\n",
    "            excess_gen += np.where(soc > 1,\n",
    "                                   (soc - 1) / n_chg * battery_size,\n",
    "                                   0)\n",
    "            # TODO\n",
    "            soc = np.minimum(soc, 1)\n",
    "\n",
    "            dod[hour_numbers[i], :, :] = 1 - soc  # The depth of discharge in every hour of the day is stored\n",
    "            if hour_numbers[i] == 23:  # The battery wear during the last day is calculated\n",
    "                battery_used = np.where(dod.max(axis=0) > 0, 1, 0)\n",
    "                battery_life += battery_use.sum(axis=0) / (\n",
    "                        531.52764 * np.maximum(0.1, dod.max(axis=0) * dod_max) ** -1.12297) * battery_used\n",
    "\n",
    "        condition = unmet_demand / energy_per_hh  # LPSP is calculated\n",
    "        excess_gen = excess_gen / energy_per_hh\n",
    "        battery_life = np.round(1 / battery_life)\n",
    "        diesel_share = annual_diesel_gen / energy_per_hh\n",
    "\n",
    "        return diesel_share, battery_life, condition, fuel_result, excess_gen\n",
    "\n",
    "    # This section creates the range of PV capacities, diesel capacities and battery sizes to be simulated\n",
    "    ref = 5 * load_curve[19]\n",
    "\n",
    "    battery_sizes = [energy_per_hh / 365]\n",
    "    pv_caps = []\n",
    "    diesel_caps = []\n",
    "    diesel_extend = np.ones(pv_no)\n",
    "    pv_extend = np.ones(diesel_no)\n",
    "\n",
    "    for i in range(pv_no):\n",
    "        pv_caps.append(ref * (pv_no - i) / pv_no)\n",
    "\n",
    "    for j in range(diesel_no):\n",
    "        diesel_caps.append(j * max(load_curve) / diesel_no)\n",
    "\n",
    "    pv_caps = np.outer(np.array(pv_caps), pv_extend)\n",
    "    diesel_caps = np.outer(diesel_extend, np.array(diesel_caps))\n",
    "\n",
    "    # This section creates 2d-arrays to store information on PV capacities, diesel capacities, battery sizes,\n",
    "    # fuel usage, battery life and LPSP\n",
    "\n",
    "    battery_size = np.ones((len(battery_sizes), pv_no, diesel_no))\n",
    "    pv_panel_size = np.zeros((len(battery_sizes), pv_no, diesel_no))\n",
    "    diesel_capacity = np.zeros((len(battery_sizes), pv_no, diesel_no))\n",
    "\n",
    "    for j in range(len(battery_sizes)):\n",
    "        battery_size[j, :, :] *= battery_sizes[j]\n",
    "        pv_panel_size[j, :, :] = pv_caps\n",
    "        diesel_capacity[j, :, :] = diesel_caps\n",
    "\n",
    "    # For the number of diesel, pv and battery capacities the lpsp, battery lifetime, fuel usage and LPSP is calculated\n",
    "    diesel_share, battery_life, lpsp, fuel_usage, excess_gen = \\\n",
    "        pv_diesel_capacities(pv_panel_size, battery_size, diesel_capacity, pv_no, diesel_no, len(battery_sizes))\n",
    "    battery_life = np.minimum(20, battery_life)\n",
    "\n",
    "    def calculate_hybrid_lcoe(diesel_price):\n",
    "        # Necessary information for calculation of LCOE is defined\n",
    "        project_life = end_year - start_year\n",
    "        generation = np.ones(project_life) * energy_per_hh\n",
    "        generation[0] = 0\n",
    "\n",
    "        # Calculate LCOE\n",
    "        sum_costs = np.zeros((len(battery_sizes), pv_no, diesel_no))\n",
    "        sum_el_gen = np.zeros((len(battery_sizes), pv_no, diesel_no))\n",
    "        investment = np.zeros((len(battery_sizes), pv_no, diesel_no))\n",
    "        gen_opex = np.zeros((len(battery_sizes), pv_no, diesel_no))\n",
    "        sgna_opex = np.zeros((len(battery_sizes), pv_no, diesel_no))\n",
    "\n",
    "        for year in range(project_life + 1):\n",
    "            salvage = np.zeros((len(battery_sizes), pv_no, diesel_no))\n",
    "\n",
    "            fuel_costs = fuel_usage * diesel_price\n",
    "            om_costs = (pv_panel_size * (pv_cost + charge_controller) * pv_om + diesel_capacity * diesel_cost * diesel_om)\n",
    "            sgna_costs = (bba+bbb+bbc+bbpme+bbprod)*sgna\n",
    "            om_costsy1 = (pv_panel_size * (pv_cost + charge_controller) * pv_om + diesel_capacity * diesel_cost * diesel_om)[0][0][0]\n",
    "            sgna_costsy1 = (bba+bbb+bbc+bbpme+bbprod)*sgna\n",
    "            \n",
    "            #print (om_costsy1, sgna_costsy1)\n",
    "\n",
    "            inverter_investment = np.where(year % inverter_life == 0, max(load_curve) * inverter_cost, 0)\n",
    "            diesel_investment = np.where(year % diesel_life == 0, diesel_capacity * diesel_cost, 0)\n",
    "            pv_investment = np.where(year % pv_life == 0, pv_panel_size * (pv_cost + charge_controller), 0)\n",
    "            battery_investment = np.where(year % battery_life == 0, battery_size * battery_cost / dod_max, 0)  # TODO Include dod_max here?\n",
    "\n",
    "            if year == project_life:\n",
    "                salvage = (1 - (project_life % battery_life) / battery_life) * battery_cost * battery_size / dod_max + \\\n",
    "                          (1 - (project_life % diesel_life) / diesel_life) * diesel_capacity * diesel_cost + \\\n",
    "                          (1 - (project_life % pv_life) / pv_life) * pv_panel_size * (pv_cost + charge_controller) + \\\n",
    "                          (1 - (project_life % inverter_life) / inverter_life) * max(load_curve) * inverter_cost\n",
    "\n",
    "            #investment += diesel_investment + pv_investment + battery_investment + inverter_investment - salvage\n",
    "            investment += (diesel_investment + pv_investment + battery_investment + inverter_investment - salvage) / ((1 + discount_rate) ** year)\n",
    "            \n",
    "            #gen_opex and sgna opex\n",
    "            gen_opex += om_costs / ((1 + discount_rate) ** year)\n",
    "            sgna_opex += sgna_costs / ((1 + discount_rate) ** year)\n",
    "            \n",
    "            sum_costs += (fuel_costs + om_costs + sgna_costs + diesel_investment + pv_investment + battery_investment + inverter_investment - salvage) / ((1 + discount_rate) ** year)\n",
    "                \n",
    "            if year > 0:\n",
    "                sum_el_gen += energy_per_hh / ((1 + discount_rate) ** year)\n",
    "        \n",
    "        return sum_costs / sum_el_gen, investment, gen_opex, om_costsy1, sgna_opex, sgna_costsy1, sum_costs, fuel_usage     ### use \"sum_costs\" to get the NPV of all lifetime costs; change to \"investment\" to get the CAPEX (second option discounted)\n",
    "\n",
    "    diesel_limit = 0.5\n",
    "\n",
    "    min_lcoe_range = []\n",
    "    investment_range = []\n",
    "    opex_gen_range = []\n",
    "    opex_geny1_range = []\n",
    "    opex_sgna_range = []\n",
    "    opex_sgnay1_range = []\n",
    "    npv_costs_range = []\n",
    "    capacity_range = []\n",
    "    ren_share_range = []\n",
    "    #diesel_cap_range = []\n",
    "    bat_size_range = []\n",
    "    fuel_usage_range = []\n",
    "    \n",
    "    diesel_range = [diesel_price]\n",
    "\n",
    "    for d in diesel_range:\n",
    "\n",
    "        lcoe, investment, gen_opex, gen_opexy1, sgna_opex, sgna_opexy1, npv_costs, fuel_u = calculate_hybrid_lcoe(d)\n",
    "        lcoe = np.where(lpsp > lpsp_max, 999999, lcoe)\n",
    "        lcoe = np.where(diesel_share > diesel_limit, 999999, lcoe)\n",
    "\n",
    "        min_lcoe = np.min(lcoe)\n",
    "        min_lcoe_combination = np.unravel_index(np.argmin(lcoe, axis=None), lcoe.shape)\n",
    "        ren_share = 1 - diesel_share[min_lcoe_combination]\n",
    "        capacity = pv_panel_size[min_lcoe_combination] + diesel_capacity[min_lcoe_combination]\n",
    "        ren_capacity = pv_panel_size[min_lcoe_combination]\n",
    "        diesel_capacity = diesel_capacity[min_lcoe_combination]\n",
    "        bat_size = battery_size[min_lcoe_combination]\n",
    "        excess_gen = excess_gen[min_lcoe_combination]\n",
    "        #fu = fu[min_lcoe_combination]\n",
    "\n",
    "        min_lcoe_range.append(min_lcoe)\n",
    "        investment_range.append(investment[min_lcoe_combination])\n",
    "        opex_gen_range.append(gen_opex[min_lcoe_combination])\n",
    "        opex_geny1_range.append(gen_opexy1)\n",
    "        opex_sgna_range.append(sgna_opex[min_lcoe_combination])\n",
    "        opex_sgnay1_range.append(sgna_opexy1)\n",
    "        npv_costs_range.append(npv_costs[min_lcoe_combination])\n",
    "        capacity_range.append(capacity)\n",
    "        ren_share_range.append(ren_share)\n",
    "        #diesel_cap_range.append(diesel_capacity)\n",
    "        bat_size_range.append(bat_size)\n",
    "        fuel_usage_range.append(fuel_u[min_lcoe_combination])\n",
    "        \n",
    "        lcoe_hmg = round(min_lcoe_range[0], 4)\n",
    "        inv_hmg = round(investment_range[0], 2)\n",
    "        opexgen_hmg = round(opex_gen_range[0], 2)\n",
    "        opexgeny1_hmg = round(opex_geny1_range[0], 2)\n",
    "        opexsgna_hmg = round(opex_sgna_range[0], 2)\n",
    "        opexsgnay1_hmg = round(opex_sgnay1_range[0], 2)\n",
    "        npv_hmg = round(npv_costs_range[0], 2)\n",
    "        cap_hmg = round(capacity_range[0], 2)\n",
    "        ren_share_hmg = round(ren_share_range[0], 3)\n",
    "        bat_size_hmg = round(bat_size_range[0], 2)\n",
    "        fu_hmg = round(fuel_usage_range[0], 2)\n",
    "\n",
    "    #return min_lcoe_range, investment_range, capacity_range, ren_capacity, diesel_capacity, ren_share_range, excess_gen.\n",
    "    return list((lcoe_hmg, inv_hmg, opexgen_hmg, opexgeny1_hmg, opexsgna_hmg, opexsgnay1_hmg, npv_hmg, cap_hmg, \n",
    "                 round(ren_capacity,2), round(diesel_capacity,3), ren_share_hmg, bat_size_hmg, fu_hmg, round(energy_per_hh,2)))"
   ]
  },
  {
   "cell_type": "code",
   "execution_count": 53,
   "metadata": {
    "code_folding": []
   },
   "outputs": [],
   "source": [
    "def MG_diesel_fuel_cost(diesel_price, travel_hours):\n",
    "    '''\n",
    "    Szabo formula is: p = (p_d + 2*p_d*consumption*time/volume)*(1/mu)*(1/LHVd)\n",
    "    \n",
    "    '''\n",
    "    diesel_truck_consumption = 14\n",
    "    diesel_truck_volume = 300\n",
    "    LHV_DIESEL = 9.9445485\n",
    "    efficiency = 0.33\n",
    "    \n",
    "    fuel_cost = (diesel_price + \n",
    "                 (2 * diesel_price * diesel_truck_consumption * travel_hours / diesel_truck_volume / LHV_DIESEL) / efficiency)\n",
    "    \n",
    "    return fuel_cost"
   ]
  },
  {
   "cell_type": "code",
   "execution_count": 54,
   "metadata": {},
   "outputs": [],
   "source": [
    "MG[\"avg_diesel_price\"] = 1"
   ]
  },
  {
   "cell_type": "code",
   "execution_count": 55,
   "metadata": {},
   "outputs": [],
   "source": [
    "MG[\"MG_diesel_cost\"] = MG.apply(lambda row: MG_diesel_fuel_cost(row[\"avg_diesel_price\"], row[\"Travelhours\"]), axis=1)"
   ]
  },
  {
   "cell_type": "code",
   "execution_count": 56,
   "metadata": {},
   "outputs": [],
   "source": [
    "reasonablecons = 0.7\n",
    "smeshare = 0.08\n",
    "bundleCshare = 0.08\n",
    "bundleBshare = 0.36\n",
    "\n",
    "\n",
    "MG[\"VIDA_Conn_All\"] = np.ceil(MG[\"Number of very small structures\"] + \n",
    "                               MG[\"Number of small buildings\"]+ \n",
    "                               MG[\"Number of medium buildings\"]+ \n",
    "                               MG[\"Number of large buildings\"]).astype(int)\n",
    "\n",
    "MG[\"VIDA_Pot_Con\"] = np.ceil(MG[\"VIDA_Conn_All\"]*reasonablecons)\n",
    "\n",
    "def assignPUoE(a, b, c, d, e):\n",
    "    puoe = int(round(-2.913362564 + (-0.00415764*a) + (0.008440603*b) + (0.016433547*c) + (0.722331464*d) + (-0.040674586*e),0))\n",
    "    if puoe <=0:\n",
    "        return 0\n",
    "    else:\n",
    "        return puoe\n",
    "\n",
    "MG[\"PUoE\"] = MG.apply(lambda row: assignPUoE(row[\"Number of very small structures\"],\n",
    "                                             row[\"Number of small buildings\"],\n",
    "                                             row[\"Number of medium buildings\"],\n",
    "                                             row[\"Number of large buildings\"],\n",
    "                                             row[\"Distance to nearest solar mill [Km]\"]), axis=1)\n",
    "\n",
    "MG[\"SME\"] = np.ceil((MG[\"VIDA_Pot_Con\"] - MG[\"PUoE\"])*smeshare)\n",
    "    \n",
    "MG[\"ResC\"] = np.ceil((MG[\"VIDA_Pot_Con\"] - MG[\"PUoE\"])*bundleCshare)\n",
    "                     \n",
    "MG[\"ResB\"] = np.ceil((MG[\"VIDA_Pot_Con\"] - MG[\"PUoE\"])*bundleBshare)\n",
    "                     \n",
    "MG[\"ResA\"] = (MG[\"VIDA_Pot_Con\"] - MG[\"PUoE\"] - MG[\"SME\"] - MG[\"ResC\"]- MG[\"ResB\"])"
   ]
  },
  {
   "cell_type": "code",
   "execution_count": 57,
   "metadata": {},
   "outputs": [
    {
     "data": {
      "text/html": [
       "<div>\n",
       "<style scoped>\n",
       "    .dataframe tbody tr th:only-of-type {\n",
       "        vertical-align: middle;\n",
       "    }\n",
       "\n",
       "    .dataframe tbody tr th {\n",
       "        vertical-align: top;\n",
       "    }\n",
       "\n",
       "    .dataframe thead th {\n",
       "        text-align: right;\n",
       "    }\n",
       "</style>\n",
       "<table border=\"1\" class=\"dataframe\">\n",
       "  <thead>\n",
       "    <tr style=\"text-align: right;\">\n",
       "      <th></th>\n",
       "      <th>Lat</th>\n",
       "      <th>Lon</th>\n",
       "      <th>Site Name</th>\n",
       "      <th>Country</th>\n",
       "      <th>VIDA_ID</th>\n",
       "      <th>Province</th>\n",
       "      <th>District</th>\n",
       "      <th>Ratio of built-up area</th>\n",
       "      <th>Number of buildings</th>\n",
       "      <th>Number of large buildings</th>\n",
       "      <th>...</th>\n",
       "      <th>mg_id</th>\n",
       "      <th>avg_diesel_price</th>\n",
       "      <th>MG_diesel_cost</th>\n",
       "      <th>VIDA_Conn_All</th>\n",
       "      <th>VIDA_Pot_Con</th>\n",
       "      <th>PUoE</th>\n",
       "      <th>SME</th>\n",
       "      <th>ResC</th>\n",
       "      <th>ResB</th>\n",
       "      <th>ResA</th>\n",
       "    </tr>\n",
       "  </thead>\n",
       "  <tbody>\n",
       "    <tr>\n",
       "      <th>0</th>\n",
       "      <td>-9.890335</td>\n",
       "      <td>31.250981</td>\n",
       "      <td>Nseluka</td>\n",
       "      <td>Zambia</td>\n",
       "      <td>24447</td>\n",
       "      <td>Northern</td>\n",
       "      <td>Mungwi</td>\n",
       "      <td>0.01</td>\n",
       "      <td>332.0</td>\n",
       "      <td>0.0</td>\n",
       "      <td>...</td>\n",
       "      <td>1</td>\n",
       "      <td>1</td>\n",
       "      <td>1.010996</td>\n",
       "      <td>413</td>\n",
       "      <td>290.0</td>\n",
       "      <td>0</td>\n",
       "      <td>24.0</td>\n",
       "      <td>24.0</td>\n",
       "      <td>105.0</td>\n",
       "      <td>137.0</td>\n",
       "    </tr>\n",
       "    <tr>\n",
       "      <th>1</th>\n",
       "      <td>-14.486753</td>\n",
       "      <td>30.866770</td>\n",
       "      <td>None</td>\n",
       "      <td>Zambia</td>\n",
       "      <td>16849</td>\n",
       "      <td>Eastern</td>\n",
       "      <td>Nyimba</td>\n",
       "      <td>0.02</td>\n",
       "      <td>164.0</td>\n",
       "      <td>0.0</td>\n",
       "      <td>...</td>\n",
       "      <td>2</td>\n",
       "      <td>1</td>\n",
       "      <td>1.062086</td>\n",
       "      <td>205</td>\n",
       "      <td>144.0</td>\n",
       "      <td>0</td>\n",
       "      <td>12.0</td>\n",
       "      <td>12.0</td>\n",
       "      <td>52.0</td>\n",
       "      <td>68.0</td>\n",
       "    </tr>\n",
       "    <tr>\n",
       "      <th>2</th>\n",
       "      <td>-13.495112</td>\n",
       "      <td>25.903903</td>\n",
       "      <td>None</td>\n",
       "      <td>Zambia</td>\n",
       "      <td>5542</td>\n",
       "      <td>North-Western</td>\n",
       "      <td>Kasempa</td>\n",
       "      <td>0.02</td>\n",
       "      <td>283.0</td>\n",
       "      <td>3.0</td>\n",
       "      <td>...</td>\n",
       "      <td>3</td>\n",
       "      <td>1</td>\n",
       "      <td>1.091625</td>\n",
       "      <td>396</td>\n",
       "      <td>278.0</td>\n",
       "      <td>1</td>\n",
       "      <td>23.0</td>\n",
       "      <td>23.0</td>\n",
       "      <td>100.0</td>\n",
       "      <td>131.0</td>\n",
       "    </tr>\n",
       "    <tr>\n",
       "      <th>3</th>\n",
       "      <td>-13.334729</td>\n",
       "      <td>32.929618</td>\n",
       "      <td>None</td>\n",
       "      <td>Zambia</td>\n",
       "      <td>22782</td>\n",
       "      <td>Eastern</td>\n",
       "      <td>Chipangali</td>\n",
       "      <td>0.10</td>\n",
       "      <td>25.0</td>\n",
       "      <td>3.0</td>\n",
       "      <td>...</td>\n",
       "      <td>4</td>\n",
       "      <td>1</td>\n",
       "      <td>1.059361</td>\n",
       "      <td>30</td>\n",
       "      <td>21.0</td>\n",
       "      <td>0</td>\n",
       "      <td>2.0</td>\n",
       "      <td>2.0</td>\n",
       "      <td>8.0</td>\n",
       "      <td>9.0</td>\n",
       "    </tr>\n",
       "  </tbody>\n",
       "</table>\n",
       "<p>4 rows × 62 columns</p>\n",
       "</div>"
      ],
      "text/plain": [
       "         Lat        Lon Site Name Country  VIDA_ID       Province    District  \\\n",
       "0  -9.890335  31.250981   Nseluka  Zambia    24447       Northern      Mungwi   \n",
       "1 -14.486753  30.866770      None  Zambia    16849        Eastern      Nyimba   \n",
       "2 -13.495112  25.903903      None  Zambia     5542  North-Western     Kasempa   \n",
       "3 -13.334729  32.929618      None  Zambia    22782        Eastern  Chipangali   \n",
       "\n",
       "   Ratio of built-up area  Number of buildings  Number of large buildings  \\\n",
       "0                    0.01                332.0                        0.0   \n",
       "1                    0.02                164.0                        0.0   \n",
       "2                    0.02                283.0                        3.0   \n",
       "3                    0.10                 25.0                        3.0   \n",
       "\n",
       "   ...  mg_id  avg_diesel_price  MG_diesel_cost  VIDA_Conn_All  VIDA_Pot_Con  \\\n",
       "0  ...      1                 1        1.010996            413         290.0   \n",
       "1  ...      2                 1        1.062086            205         144.0   \n",
       "2  ...      3                 1        1.091625            396         278.0   \n",
       "3  ...      4                 1        1.059361             30          21.0   \n",
       "\n",
       "   PUoE   SME  ResC   ResB   ResA  \n",
       "0     0  24.0  24.0  105.0  137.0  \n",
       "1     0  12.0  12.0   52.0   68.0  \n",
       "2     1  23.0  23.0  100.0  131.0  \n",
       "3     0   2.0   2.0    8.0    9.0  \n",
       "\n",
       "[4 rows x 62 columns]"
      ]
     },
     "execution_count": 57,
     "metadata": {},
     "output_type": "execute_result"
    }
   ],
   "source": [
    "MG.head(4)"
   ]
  },
  {
   "cell_type": "code",
   "execution_count": null,
   "metadata": {},
   "outputs": [],
   "source": []
  },
  {
   "cell_type": "markdown",
   "metadata": {},
   "source": [
    "## Filtering sites"
   ]
  },
  {
   "cell_type": "code",
   "execution_count": 58,
   "metadata": {},
   "outputs": [],
   "source": [
    "MG = MG[(MG[\"Number of buildings\"] >= 100) & (MG[\"Number of buildings\"] < 50000)]"
   ]
  },
  {
   "cell_type": "code",
   "execution_count": 59,
   "metadata": {},
   "outputs": [
    {
     "data": {
      "text/plain": [
       "5082"
      ]
     },
     "execution_count": 59,
     "metadata": {},
     "output_type": "execute_result"
    }
   ],
   "source": [
    "MG.shape[0]"
   ]
  },
  {
   "cell_type": "code",
   "execution_count": null,
   "metadata": {},
   "outputs": [],
   "source": []
  },
  {
   "cell_type": "code",
   "execution_count": 60,
   "metadata": {
    "code_folding": []
   },
   "outputs": [
    {
     "name": "stdout",
     "output_type": "stream",
     "text": [
      "88.8588674346606 min\n"
     ]
    },
    {
     "name": "stderr",
     "output_type": "stream",
     "text": [
      "C:\\Users\\alexl\\anaconda3\\envs\\geospatial_env_kepler\\lib\\site-packages\\geopandas\\geodataframe.py:853: SettingWithCopyWarning: \n",
      "A value is trying to be set on a copy of a slice from a DataFrame.\n",
      "Try using .loc[row_indexer,col_indexer] = value instead\n",
      "\n",
      "See the caveats in the documentation: https://pandas.pydata.org/pandas-docs/stable/user_guide/indexing.html#returning-a-view-versus-a-copy\n",
      "  super(GeoDataFrame, self).__setitem__(key, value)\n"
     ]
    }
   ],
   "source": [
    "start = time.time()\n",
    "MG[\"hybrids\"] = MG.apply(lambda row: pv_diesel_hybrid(row[\"ResA\"],\n",
    "                                                      row[\"ResB\"],\n",
    "                                                      row[\"ResC\"],\n",
    "                                                      row[\"SME\"],\n",
    "                                                      row[\"PUoE\"],\n",
    "                                                      row[\"GHI\"],\n",
    "                                                      row[\"MG_diesel_cost\"],\n",
    "                                                      ghi_curve,\n",
    "                                                      temp,\n",
    "                                                      2023,\n",
    "                                                      2043,\n",
    "                                                      1, \n",
    "                                                      diesel_cost=325, \n",
    "                                                      pv_no=20, \n",
    "                                                      diesel_no=20, \n",
    "                                                      discount_rate=0.13), axis=1)\n",
    "end = time.time()\n",
    "print((end - start)/60, \"min\")"
   ]
  },
  {
   "cell_type": "code",
   "execution_count": 61,
   "metadata": {},
   "outputs": [
    {
     "name": "stdout",
     "output_type": "stream",
     "text": [
      "0.0002341628074645996 min\n"
     ]
    }
   ],
   "source": [
    "start = time.time()\n",
    "\n",
    "MG[['HGM_lcoe','HMG_Inv', 'HMG_GenOpex', 'HMG_GenOpex_y', 'HMG_SGnAOpex', 'HMG_SGnAOpex_y', \n",
    "    'HMG_npv_cost', 'HMG_cap', 'HMG_ren_cap', 'HMG_dl_cap', 'HMG_ren_share', 'HMG_bat_size', 'HMG_fuel_usage', \n",
    "    'Est_dem_kWh_year']] = pd.DataFrame(MG.hybrids.tolist(), index= MG.index)\n",
    "\n",
    "end = time.time()\n",
    "print((end - start)/60, \"min\")"
   ]
  },
  {
   "cell_type": "code",
   "execution_count": null,
   "metadata": {},
   "outputs": [],
   "source": []
  },
  {
   "cell_type": "code",
   "execution_count": 86,
   "metadata": {},
   "outputs": [],
   "source": [
    "#for i in HF.columns:\n",
    "#    print (i)"
   ]
  },
  {
   "cell_type": "code",
   "execution_count": null,
   "metadata": {},
   "outputs": [],
   "source": []
  },
  {
   "cell_type": "markdown",
   "metadata": {},
   "source": [
    "### Fixing sites with lcoe bug"
   ]
  },
  {
   "cell_type": "code",
   "execution_count": 62,
   "metadata": {},
   "outputs": [],
   "source": [
    "MG_diesel = MG[MG[\"HGM_lcoe\"] > 10]"
   ]
  },
  {
   "cell_type": "code",
   "execution_count": 63,
   "metadata": {},
   "outputs": [
    {
     "name": "stderr",
     "output_type": "stream",
     "text": [
      "C:\\Users\\alexl\\anaconda3\\envs\\geospatial_env_kepler\\lib\\site-packages\\pandas\\core\\frame.py:3990: SettingWithCopyWarning: \n",
      "A value is trying to be set on a copy of a slice from a DataFrame\n",
      "\n",
      "See the caveats in the documentation: https://pandas.pydata.org/pandas-docs/stable/user_guide/indexing.html#returning-a-view-versus-a-copy\n",
      "  return super().drop(\n"
     ]
    }
   ],
   "source": [
    "MG_diesel.drop(['hybrids', 'HGM_lcoe','HMG_Inv', 'HMG_GenOpex', 'HMG_GenOpex_y', 'HMG_SGnAOpex', 'HMG_SGnAOpex_y', \n",
    "    'HMG_npv_cost', 'HMG_cap', 'HMG_ren_cap', 'HMG_dl_cap', 'HMG_ren_share', 'HMG_bat_size', 'HMG_fuel_usage', \n",
    "    'Est_dem_kWh_year'], axis=1, inplace=True)"
   ]
  },
  {
   "cell_type": "code",
   "execution_count": 64,
   "metadata": {
    "code_folding": []
   },
   "outputs": [],
   "source": [
    "def pv_diesel_hybrid(\n",
    "        bba, \n",
    "        bbb, \n",
    "        bbc, \n",
    "        bbpme, \n",
    "        bbprod, \n",
    "        ghi,  \n",
    "        diesel_price,\n",
    "        ghi_curve,\n",
    "        temp,\n",
    "        start_year,\n",
    "        end_year,\n",
    "        pv_cost_factor,\n",
    "        diesel_cost=325,  # diesel generator capital cost, USD/kWA rated power\n",
    "        pv_no=1,  # number of PV panel sizes simulated\n",
    "        diesel_no=1,  # number of diesel generators simulated\n",
    "        discount_rate=0.138,\n",
    "):\n",
    "    n_chg = 0.92  # charge efficiency of battery\n",
    "    n_dis = 0.92  # discharge efficiency of battery\n",
    "    lpsp_max = 0.01  # maximum loss of load allowed over the year, in share of kWh ## 0.0001\n",
    "    battery_cost = 593  # battery capital capital cost, USD/kWh of storage capacity\n",
    "    pv_cost = 720 * 1  # PV panel capital cost, USD/kW peak power\n",
    "    pv_life = 25  # PV panel expected lifetime, years\n",
    "    diesel_life = 10  # diesel generator expected lifetime, years\n",
    "    pv_om = 0.015  # annual OM cost of PV panels\n",
    "    diesel_om = 0.1  # annual OM cost of diesel generator\n",
    "    k_t = 0.005  # temperature factor of PV panels\n",
    "    inverter_cost = 230\n",
    "    inverter_life = 10\n",
    "    inv_eff = 0.92  # inverter_efficiency\n",
    "    charge_controller = 250\n",
    "    sgna = 18 # $/connection/year\n",
    "\n",
    "    ghi = ghi_curve * ghi * 1000 / ghi_curve.sum()\n",
    "    hour_numbers = (0, 1, 2, 3, 4, 5, 6, 7, 8, 9, 10, 11, 12, 13, 14, 15, 16, 17, 18, 19, 20, 21, 22, 23) * 365\n",
    "    dod_max = 0.8  # maximum depth of discharge of battery\n",
    "\n",
    "    def load_curves(bba, bbb, bbc, bbpme, bbprod):\n",
    "        # the values below define the load curve for the five tiers. The values reflect the share of the daily demand\n",
    "        # expected in each hour of the day (sum of all values for one tier = 1)\n",
    "        ba_load_curve = [0.988074348, 0.83234137, 0.780348447, 0.895071886, 1.29452897, 1.427317285,\n",
    "                         1.427143895, 2.036533853, 2.788021073, 3.132621618, 3.398067297, 3.597146625,\n",
    "                         3.749088177, 3.619622164, 3.645379008, 3.798564636, 4.140905488, 6.288317305,\n",
    "                         9.012611343, 8.343100334, 6.300316324, 3.931731497, 2.193525721, 1.379620337]\n",
    "        \n",
    "        bb_load_curve = [3.184482155, 2.873016199, 2.769030352, 2.99847723, 3.797391399, 4.062968029, \n",
    "                         4.062621248, 5.281401164, 6.784375605, 7.473576694, 8.004468052, 8.402626707, \n",
    "                         8.706509811, 8.447577786, 8.499091475, 8.805462731, 9.490144434, 13.78496807, \n",
    "                         19.23355614, 17.89453413, 13.80896611, 9.071796452, 5.5953849, 3.967574132]\n",
    "        \n",
    "        bc_load_curve = [8.923873354, 8.047396638, 7.614331638, 7.763438133, 9.507818801, 12.4321089,\n",
    "                         13.48321774, 14.41446325, 15.87567906, 16.28469545, 17.16546017, 17.7633564,\n",
    "                         18.49249621, 19.22393746, 19.1473699, 18.37923754, 17.41429094, 23.6968058, \n",
    "                         40.54912477, 48.55186439, 44.0975794, 32.05947574, 19.32369079, 11.78828855]\n",
    "        \n",
    "        bpme_load_curve = [0.250823098, 0.250823098, 0.250823098, 0.250823098, 0.250823098, 0.250823098,\n",
    "                           7.645880133, 18.30034088, 30.36078872, 42.83318642, 49.9405017, 52.93860082,\n",
    "                           49.93452555, 44.38491667, 35.85872985, 27.40653484, 20.76932651, 32.56118326,\n",
    "                           62.28781859, 74.50081552, 62.8359663, 36.32711164, 17.17269706, 4.690252421]\n",
    "        \n",
    "        bprod_load_curve = [12.51341557,  12.49088602, 12.47672647, 16.65231446, 21.62811274, 73.12221043, \n",
    "                            307.3487742, 619.3246364, 907.5906364, 919.5741762, 1038.177627, 1124.612654,\n",
    "                            1022.608964, 896.7845886, 959.4059058, 857.2820323, 729.2917592, 482.4635076,\n",
    "                            108.3151878, 50.78451089, 60.39546483, 26.100591, 13.54589784, 12.50942015]\n",
    "\n",
    "        \n",
    "        ba_load_curve = [i * bba for i in ba_load_curve]\n",
    "        bb_load_curve = [i * bbb for i in bb_load_curve]\n",
    "        bc_load_curve = [i * bbc for i in bc_load_curve]\n",
    "        bpme_load_curve = [i * bbpme for i in bpme_load_curve]\n",
    "        bprod_load_curve = [i * bbprod for i in bprod_load_curve]\n",
    "        \n",
    "        load_curve = [sum(x) for x in zip(ba_load_curve, bb_load_curve, bc_load_curve, bpme_load_curve, bprod_load_curve )] * 365\n",
    "\n",
    "        load_curve = [i / 1000 for i in load_curve]\n",
    "        \n",
    "        return np.array(load_curve) \n",
    "    \n",
    "    load_curve = load_curves(bba, bbb, bbc, bbpme, bbprod)\n",
    "    energy_per_hh = (sum(load_curves(bba, bbb, bbc, bbpme, bbprod)))\n",
    "\n",
    "    def pv_diesel_capacities(pv_capacity, battery_size, diesel_capacity, pv_no, diesel_no, battery_no):\n",
    "        dod = np.zeros(shape=(24, battery_no, pv_no, diesel_no))\n",
    "        battery_use = np.zeros(shape=(24, battery_no, pv_no, diesel_no))  # Stores the amount of battery discharge during the day\n",
    "        fuel_result = np.zeros(shape=(battery_no, pv_no, diesel_no))\n",
    "        battery_life = np.zeros(shape=(battery_no, pv_no, diesel_no))\n",
    "        soc = np.ones(shape=(battery_no, pv_no, diesel_no)) * 0.5\n",
    "        unmet_demand = np.zeros(shape=(battery_no, pv_no, diesel_no))\n",
    "        excess_gen = np.zeros(shape=(battery_no, pv_no, diesel_no))  # TODO\n",
    "        annual_diesel_gen = np.zeros(shape=(battery_no, pv_no, diesel_no))\n",
    "        dod_max = np.ones(shape=(battery_no, pv_no, diesel_no)) * 0.6\n",
    "\n",
    "        for i in range(8760):\n",
    "\n",
    "            # Battery self-discharge (0.02% per hour)\n",
    "            battery_use[hour_numbers[i], :, :] = 0.0002 * soc\n",
    "            soc *= 0.9998\n",
    "\n",
    "            # Calculation of PV gen and net load\n",
    "            t_cell = temp[i] + 0.0256 * ghi[i]  # PV cell temperature\n",
    "            pv_gen = pv_capacity * 0.9 * ghi[i] / 1000 * (1 - k_t * (t_cell - 25))  # PV generation in the hour\n",
    "            net_load = load_curve[hour_numbers[i]] - pv_gen * inv_eff  # remaining load not met by PV panels\n",
    "\n",
    "            # Dispatchable energy from battery available to meet load\n",
    "            battery_dispatchable = soc * battery_size * n_dis * inv_eff\n",
    "            # Energy required to fully charge battery\n",
    "            battery_chargeable = (1 - soc) * battery_size / n_chg / inv_eff\n",
    "\n",
    "            # Below is the dispatch strategy for the diesel generator as described in word document\n",
    "\n",
    "            if 4 < hour_numbers[i] <= 17:\n",
    "                # During the morning and day, the batteries are dispatched primarily.\n",
    "                # The diesel generator, if needed, is run at the lowest possible capacity\n",
    "\n",
    "                # Minimum diesel capacity to cover the net load after batteries.\n",
    "                # Diesel genrator limited by lowest possible capacity (40%) and rated capacity\n",
    "                min_diesel = np.minimum(\n",
    "                    np.maximum(net_load - battery_dispatchable, 0.4 * diesel_capacity),\n",
    "                    diesel_capacity)\n",
    "\n",
    "                diesel_gen = np.where(net_load > battery_dispatchable, min_diesel, 0)\n",
    "\n",
    "            elif 17 > hour_numbers[i] > 23:\n",
    "                # During the evening, the diesel generator is dispatched primarily, at max_diesel.\n",
    "                # Batteries are dispatched if diesel generation is insufficient.\n",
    "\n",
    "                #  Maximum amount of diesel needed to supply load and charge battery\n",
    "                # Diesel genrator limited by lowest possible capacity (40%) and rated capacity\n",
    "                max_diesel = np.maximum(\n",
    "                    np.minimum(net_load + battery_chargeable, diesel_capacity),\n",
    "                    0.4 * diesel_capacity)\n",
    "\n",
    "                diesel_gen = np.where(net_load > 0, max_diesel, 0)\n",
    "            else:\n",
    "                # During night, batteries are dispatched primarily.\n",
    "                # The diesel generator is used at max_diesel if load is larger than battery capacity\n",
    "\n",
    "                #  Maximum amount of diesel needed to supply load and charge battery\n",
    "                # Diesel genrator limited by lowest possible capacity (40%) and rated capacity\n",
    "                max_diesel = np.maximum(\n",
    "                    np.minimum(net_load + battery_chargeable, diesel_capacity),\n",
    "                    0.4 * diesel_capacity)\n",
    "\n",
    "                diesel_gen = np.where(net_load > battery_dispatchable, max_diesel, 0)\n",
    "\n",
    "            fuel_result += np.where(diesel_gen > 0, diesel_capacity * 0.08145 + diesel_gen * 0.246, 0)\n",
    "            annual_diesel_gen += diesel_gen\n",
    "\n",
    "            # Reamining load after diesel generator\n",
    "            net_load = net_load - diesel_gen\n",
    "\n",
    "            # If diesel generation is used, but is smaller than load, battery is discharged\n",
    "            soc -= np.where((net_load > 0) & (diesel_gen > 0),\n",
    "                            net_load / n_dis / inv_eff / battery_size,\n",
    "                            0)\n",
    "\n",
    "            # If diesel generation is used, and is larger than load, battery is charged\n",
    "            soc -= np.where((net_load < 0) & (diesel_gen > 0),\n",
    "                            net_load * n_chg * inv_eff / battery_size,\n",
    "                            0)\n",
    "\n",
    "            # If net load is positive and no diesel is used, battery is discharged\n",
    "            soc -= np.where((net_load > 0) & (diesel_gen == 0),\n",
    "                            net_load / n_dis / battery_size,\n",
    "                            0)\n",
    "\n",
    "            # If net load is negative, and no diesel has been used, excess PV gen is used to charge battery\n",
    "            soc -= np.where((net_load < 0) & (diesel_gen == 0),\n",
    "                            net_load * n_chg / battery_size,\n",
    "                            0)\n",
    "\n",
    "\n",
    "            # The amount of battery discharge in the hour is stored (measured in State Of Charge)\n",
    "            battery_use[hour_numbers[i], :, :] = \\\n",
    "                np.minimum(np.where(net_load > 0,\n",
    "                                    net_load / n_dis / battery_size,\n",
    "                                    0),\n",
    "                           soc)\n",
    "\n",
    "            # If State of charge is negative, that means there's demand that could not be met.\n",
    "            unmet_demand += np.where(soc < 0,\n",
    "                                     -soc / n_dis * battery_size,\n",
    "                                     0)\n",
    "            soc = np.maximum(soc, 0)\n",
    "\n",
    "            # If State of Charge is larger than 1, that means there was excess PV/diesel generation\n",
    "            excess_gen += np.where(soc > 1,\n",
    "                                   (soc - 1) / n_chg * battery_size,\n",
    "                                   0)\n",
    "            # TODO\n",
    "            soc = np.minimum(soc, 1)\n",
    "\n",
    "            dod[hour_numbers[i], :, :] = 1 - soc  # The depth of discharge in every hour of the day is stored\n",
    "            if hour_numbers[i] == 23:  # The battery wear during the last day is calculated\n",
    "                battery_used = np.where(dod.max(axis=0) > 0, 1, 0)\n",
    "                battery_life += battery_use.sum(axis=0) / (\n",
    "                        531.52764 * np.maximum(0.1, dod.max(axis=0) * dod_max) ** -1.12297) * battery_used\n",
    "\n",
    "        condition = unmet_demand / energy_per_hh  # LPSP is calculated\n",
    "        excess_gen = excess_gen / energy_per_hh\n",
    "        battery_life = np.round(1 / battery_life)\n",
    "        diesel_share = annual_diesel_gen / energy_per_hh\n",
    "\n",
    "        return diesel_share, battery_life, condition, fuel_result, excess_gen\n",
    "\n",
    "    # This section creates the range of PV capacities, diesel capacities and battery sizes to be simulated\n",
    "    ref = 5 * load_curve[19]\n",
    "\n",
    "    battery_sizes = [energy_per_hh / 365]\n",
    "    pv_caps = []\n",
    "    diesel_caps = []\n",
    "    diesel_extend = np.ones(pv_no)\n",
    "    pv_extend = np.ones(diesel_no)\n",
    "\n",
    "    for i in range(pv_no):\n",
    "        pv_caps.append(ref * (pv_no - i) / pv_no)\n",
    "\n",
    "    for j in range(diesel_no):\n",
    "        diesel_caps.append(j * max(load_curve) / diesel_no)\n",
    "\n",
    "    pv_caps = np.outer(np.array(pv_caps), pv_extend)\n",
    "    diesel_caps = np.outer(diesel_extend, np.array(diesel_caps))\n",
    "\n",
    "    # This section creates 2d-arrays to store information on PV capacities, diesel capacities, battery sizes,\n",
    "    # fuel usage, battery life and LPSP\n",
    "\n",
    "    battery_size = np.ones((len(battery_sizes), pv_no, diesel_no))\n",
    "    pv_panel_size = np.zeros((len(battery_sizes), pv_no, diesel_no))\n",
    "    diesel_capacity = np.zeros((len(battery_sizes), pv_no, diesel_no))\n",
    "\n",
    "    for j in range(len(battery_sizes)):\n",
    "        battery_size[j, :, :] *= battery_sizes[j]\n",
    "        pv_panel_size[j, :, :] = pv_caps\n",
    "        diesel_capacity[j, :, :] = diesel_caps\n",
    "\n",
    "    # For the number of diesel, pv and battery capacities the lpsp, battery lifetime, fuel usage and LPSP is calculated\n",
    "    diesel_share, battery_life, lpsp, fuel_usage, excess_gen = \\\n",
    "        pv_diesel_capacities(pv_panel_size, battery_size, diesel_capacity, pv_no, diesel_no, len(battery_sizes))\n",
    "    battery_life = np.minimum(20, battery_life)\n",
    "\n",
    "    def calculate_hybrid_lcoe(diesel_price):\n",
    "        # Necessary information for calculation of LCOE is defined\n",
    "        project_life = end_year - start_year\n",
    "        generation = np.ones(project_life) * energy_per_hh\n",
    "        generation[0] = 0\n",
    "\n",
    "        # Calculate LCOE\n",
    "        sum_costs = np.zeros((len(battery_sizes), pv_no, diesel_no))\n",
    "        sum_el_gen = np.zeros((len(battery_sizes), pv_no, diesel_no))\n",
    "        investment = np.zeros((len(battery_sizes), pv_no, diesel_no))\n",
    "        gen_opex = np.zeros((len(battery_sizes), pv_no, diesel_no))\n",
    "        sgna_opex = np.zeros((len(battery_sizes), pv_no, diesel_no))\n",
    "\n",
    "        for year in range(project_life + 1):\n",
    "            salvage = np.zeros((len(battery_sizes), pv_no, diesel_no))\n",
    "\n",
    "            fuel_costs = fuel_usage * diesel_price\n",
    "            om_costs = (pv_panel_size * (pv_cost + charge_controller) * pv_om + diesel_capacity * diesel_cost * diesel_om)\n",
    "            sgna_costs = (bba+bbb+bbc+bbpme+bbprod)*sgna\n",
    "            om_costsy1 = (pv_panel_size * (pv_cost + charge_controller) * pv_om + diesel_capacity * diesel_cost * diesel_om)[0][0][0]\n",
    "            sgna_costsy1 = (bba+bbb+bbc+bbpme+bbprod)*sgna\n",
    "            \n",
    "            #print (om_costsy1, sgna_costsy1)\n",
    "\n",
    "            inverter_investment = np.where(year % inverter_life == 0, max(load_curve) * inverter_cost, 0)\n",
    "            diesel_investment = np.where(year % diesel_life == 0, diesel_capacity * diesel_cost, 0)\n",
    "            pv_investment = np.where(year % pv_life == 0, pv_panel_size * (pv_cost + charge_controller), 0)\n",
    "            battery_investment = np.where(year % battery_life == 0, battery_size * battery_cost / dod_max, 0)  # TODO Include dod_max here?\n",
    "\n",
    "            if year == project_life:\n",
    "                salvage = (1 - (project_life % battery_life) / battery_life) * battery_cost * battery_size / dod_max + \\\n",
    "                          (1 - (project_life % diesel_life) / diesel_life) * diesel_capacity * diesel_cost + \\\n",
    "                          (1 - (project_life % pv_life) / pv_life) * pv_panel_size * (pv_cost + charge_controller) + \\\n",
    "                          (1 - (project_life % inverter_life) / inverter_life) * max(load_curve) * inverter_cost\n",
    "\n",
    "            #investment += diesel_investment + pv_investment + battery_investment + inverter_investment - salvage\n",
    "            investment += (diesel_investment + pv_investment + battery_investment + inverter_investment - salvage) / ((1 + discount_rate) ** year)\n",
    "            \n",
    "            #gen_opex and sgna opex\n",
    "            gen_opex += om_costs / ((1 + discount_rate) ** year)\n",
    "            sgna_opex += sgna_costs / ((1 + discount_rate) ** year)\n",
    "            \n",
    "            sum_costs += (fuel_costs + om_costs + sgna_costs + diesel_investment + pv_investment + battery_investment + inverter_investment - salvage) / ((1 + discount_rate) ** year)\n",
    "                \n",
    "            if year > 0:\n",
    "                sum_el_gen += energy_per_hh / ((1 + discount_rate) ** year)\n",
    "        \n",
    "        return sum_costs / sum_el_gen, investment, gen_opex, om_costsy1, sgna_opex, sgna_costsy1, sum_costs, fuel_usage     ### use \"sum_costs\" to get the NPV of all lifetime costs; change to \"investment\" to get the CAPEX (second option discounted)\n",
    "\n",
    "    diesel_limit = 1\n",
    "\n",
    "    min_lcoe_range = []\n",
    "    investment_range = []\n",
    "    opex_gen_range = []\n",
    "    opex_geny1_range = []\n",
    "    opex_sgna_range = []\n",
    "    opex_sgnay1_range = []\n",
    "    npv_costs_range = []\n",
    "    capacity_range = []\n",
    "    ren_share_range = []\n",
    "    #diesel_cap_range = []\n",
    "    bat_size_range = []\n",
    "    fuel_usage_range = []\n",
    "    \n",
    "    diesel_range = [diesel_price]\n",
    "\n",
    "    for d in diesel_range:\n",
    "\n",
    "        lcoe, investment, gen_opex, gen_opexy1, sgna_opex, sgna_opexy1, npv_costs, fuel_u = calculate_hybrid_lcoe(d)\n",
    "        lcoe = np.where(lpsp > lpsp_max, 999999, lcoe)\n",
    "        lcoe = np.where(diesel_share > diesel_limit, 999999, lcoe)\n",
    "\n",
    "        min_lcoe = np.min(lcoe)\n",
    "        min_lcoe_combination = np.unravel_index(np.argmin(lcoe, axis=None), lcoe.shape)\n",
    "        ren_share = 1 - diesel_share[min_lcoe_combination]\n",
    "        capacity = pv_panel_size[min_lcoe_combination] + diesel_capacity[min_lcoe_combination]\n",
    "        ren_capacity = pv_panel_size[min_lcoe_combination]\n",
    "        diesel_capacity = diesel_capacity[min_lcoe_combination]\n",
    "        bat_size = battery_size[min_lcoe_combination]\n",
    "        excess_gen = excess_gen[min_lcoe_combination]\n",
    "        #fu = fu[min_lcoe_combination]\n",
    "\n",
    "        min_lcoe_range.append(min_lcoe)\n",
    "        investment_range.append(investment[min_lcoe_combination])\n",
    "        opex_gen_range.append(gen_opex[min_lcoe_combination])\n",
    "        opex_geny1_range.append(gen_opexy1)\n",
    "        opex_sgna_range.append(sgna_opex[min_lcoe_combination])\n",
    "        opex_sgnay1_range.append(sgna_opexy1)\n",
    "        npv_costs_range.append(npv_costs[min_lcoe_combination])\n",
    "        capacity_range.append(capacity)\n",
    "        ren_share_range.append(ren_share)\n",
    "        #diesel_cap_range.append(diesel_capacity)\n",
    "        bat_size_range.append(bat_size)\n",
    "        fuel_usage_range.append(fuel_u[min_lcoe_combination])\n",
    "        \n",
    "        lcoe_hmg = round(min_lcoe_range[0], 4)\n",
    "        inv_hmg = round(investment_range[0], 2)\n",
    "        opexgen_hmg = round(opex_gen_range[0], 2)\n",
    "        opexgeny1_hmg = round(opex_geny1_range[0], 2)\n",
    "        opexsgna_hmg = round(opex_sgna_range[0], 2)\n",
    "        opexsgnay1_hmg = round(opex_sgnay1_range[0], 2)\n",
    "        npv_hmg = round(npv_costs_range[0], 2)\n",
    "        cap_hmg = round(capacity_range[0], 2)\n",
    "        ren_share_hmg = round(ren_share_range[0], 3)\n",
    "        bat_size_hmg = round(bat_size_range[0], 2)\n",
    "        fu_hmg = round(fuel_usage_range[0], 2)\n",
    "\n",
    "    #return min_lcoe_range, investment_range, capacity_range, ren_capacity, diesel_capacity, ren_share_range, excess_gen.\n",
    "    return list((lcoe_hmg, inv_hmg, opexgen_hmg, opexgeny1_hmg, opexsgna_hmg, opexsgnay1_hmg, npv_hmg, cap_hmg, \n",
    "                 round(ren_capacity,2), round(diesel_capacity,3), ren_share_hmg, bat_size_hmg, fu_hmg, round(energy_per_hh,2)))"
   ]
  },
  {
   "cell_type": "code",
   "execution_count": 65,
   "metadata": {},
   "outputs": [
    {
     "name": "stdout",
     "output_type": "stream",
     "text": [
      "5.058902835845947 min\n"
     ]
    }
   ],
   "source": [
    "start = time.time()\n",
    "MG_diesel[\"hybrids\"] = MG_diesel.apply(lambda row: pv_diesel_hybrid(row[\"ResA\"],\n",
    "                                                      row[\"ResB\"],\n",
    "                                                      row[\"ResC\"],\n",
    "                                                      row[\"SME\"],\n",
    "                                                      row[\"PUoE\"],\n",
    "                                                      row[\"GHI\"],\n",
    "                                                      row[\"MG_diesel_cost\"],\n",
    "                                                      ghi_curve,\n",
    "                                                      temp,\n",
    "                                                      2023,\n",
    "                                                      2043,\n",
    "                                                      1, \n",
    "                                                      diesel_cost=325, \n",
    "                                                      pv_no=20, \n",
    "                                                      diesel_no=20, \n",
    "                                                      discount_rate=0.13), axis=1)\n",
    "end = time.time()\n",
    "print((end - start)/60, \"min\")"
   ]
  },
  {
   "cell_type": "code",
   "execution_count": null,
   "metadata": {},
   "outputs": [],
   "source": [
    "start = time.time()\n",
    "\n",
    "MG_diesel[['HGM_lcoe','HMG_Inv', 'HMG_GenOpex', 'HMG_GenOpex_y', 'HMG_SGnAOpex', 'HMG_SGnAOpex_y', \n",
    "    'HMG_npv_cost', 'HMG_cap', 'HMG_ren_cap', 'HMG_dl_cap', 'HMG_ren_share', 'HMG_bat_size', 'HMG_fuel_usage', \n",
    "    'Est_dem_kWh_year']] = pd.DataFrame(MG_diesel.hybrids.tolist(), index= MG_diesel.index)\n",
    "\n",
    "end = time.time()\n",
    "print((end - start)/60, \"min\")"
   ]
  },
  {
   "cell_type": "code",
   "execution_count": null,
   "metadata": {},
   "outputs": [],
   "source": [
    "# Set the ID column as the index for both data frames\n",
    "MG.set_index('VIDA_ID', inplace=True)\n",
    "MG_diesel.set_index('VIDA_ID', inplace=True)\n",
    "\n",
    "# Update the first data frame with values from the second data frame\n",
    "MG.update(MG_diesel)\n",
    "\n",
    "# Reset the index of the first data frame if needed\n",
    "MG.reset_index(inplace=True)\n",
    "MG_diesel.reset_index(inplace=True)"
   ]
  },
  {
   "cell_type": "code",
   "execution_count": 93,
   "metadata": {},
   "outputs": [],
   "source": [
    "#HF.columns.tolist()"
   ]
  },
  {
   "cell_type": "code",
   "execution_count": 94,
   "metadata": {
    "code_folding": [
     0
    ]
   },
   "outputs": [],
   "source": [
    "#HF.drop([ 'No_of_poles',\n",
    "# 'Poles_CAPEX',\n",
    "# 'Cable_CAPEX',\n",
    "# 'Dist_CAPEX',\n",
    "# 'Conn_CAPEX',\n",
    "# 'TdxLC',\n",
    "# 'PSLC',\n",
    "# 'Transp_of_mat',\n",
    "# 'LogInstCAPEX',\n",
    "# 'Tot_CAPEX',\n",
    "# 'SGandA_y',\n",
    "# 'gen_OPEX',\n",
    "# 'ResAConskWh_y',\n",
    "# 'ResBConskWh_y',\n",
    "# 'ResCConskWh_y',\n",
    "# 'ResSMEConskWh_y',\n",
    "# 'ResPUoEConskWh_y',\n",
    "# 'ResARev_y',\n",
    "# 'ResBRev_y',\n",
    "# 'ResCRev_y',\n",
    "# 'ResSMERev_y',\n",
    "# 'ResPUoERev_y',\n",
    "# 'ResARev_y_d2',\n",
    "# 'ResBRev_y_d2',\n",
    "# 'ResCRev_y_d2',\n",
    "# 'ResSMERev_y_d2',\n",
    "# 'ResPUoERev_y_d2',\n",
    "# 'TotalRev2',\n",
    "# 'CAPEX_GAP2',\n",
    "# 'CAPEX_subsidy2',\n",
    "# 'SGandA_y2',\n",
    "# 'gen_OPEX_y2',\n",
    "# 'OPEX_y2',\n",
    "# 'Total_subsidy2',\n",
    "# 'ResARev_y_d5',\n",
    "# 'ResBRev_y_d5',\n",
    "# 'ResCRev_y_d5',\n",
    "# 'ResSMERev_y_d5',\n",
    "# 'ResPUoERev_y_d5',\n",
    "# 'TotalRev5',\n",
    "# 'CAPEX_GAP5',\n",
    "# 'CAPEX_subsidy5',\n",
    "# 'SGandA_y5',\n",
    "# 'gen_OPEX_y5',\n",
    "# 'OPEX_y5',\n",
    "# 'Total_subsidy5',\n",
    "# 'ResARev_y_d15',\n",
    "# 'ResBRev_y_d15',\n",
    "# 'ResCRev_y_d15',\n",
    "# 'ResSMERev_y_d15',\n",
    "# 'ResPUoERev_y_d15',\n",
    "# 'TotalRev15',\n",
    "# 'CAPEX_GAP15',\n",
    "# 'CAPEX_subsidy15',\n",
    "# 'SGandA_y15',\n",
    "# 'gen_OPEX_y15',\n",
    "# 'OPEX_y15',\n",
    "# 'Total_subsidy15'], axis=1, inplace=True)"
   ]
  },
  {
   "cell_type": "code",
   "execution_count": null,
   "metadata": {},
   "outputs": [],
   "source": []
  },
  {
   "cell_type": "code",
   "execution_count": null,
   "metadata": {},
   "outputs": [],
   "source": []
  },
  {
   "cell_type": "code",
   "execution_count": 95,
   "metadata": {},
   "outputs": [],
   "source": [
    "#HF.to_csv(\"UG_test_original_0percentdiesel.csv\")"
   ]
  },
  {
   "cell_type": "code",
   "execution_count": 96,
   "metadata": {},
   "outputs": [],
   "source": [
    "#HF[HF.id == 191587]"
   ]
  },
  {
   "cell_type": "code",
   "execution_count": null,
   "metadata": {},
   "outputs": [],
   "source": [
    "MG.head(2)"
   ]
  },
  {
   "cell_type": "code",
   "execution_count": null,
   "metadata": {},
   "outputs": [],
   "source": []
  },
  {
   "cell_type": "code",
   "execution_count": null,
   "metadata": {},
   "outputs": [],
   "source": []
  },
  {
   "cell_type": "code",
   "execution_count": null,
   "metadata": {},
   "outputs": [],
   "source": []
  },
  {
   "cell_type": "code",
   "execution_count": null,
   "metadata": {},
   "outputs": [],
   "source": []
  },
  {
   "cell_type": "markdown",
   "metadata": {},
   "source": [
    "### Adding distribution costs"
   ]
  },
  {
   "cell_type": "code",
   "execution_count": 67,
   "metadata": {},
   "outputs": [],
   "source": [
    "## Poles\n",
    "pole_dist = 40 #meters\n",
    "cost_per_pole = 150+26+72.2+34 ## pole + overhead accessories + lightning protection\n",
    "MG[\"No_of_poles\"] = round(MG['Length of minimum spanning tree [km]']*1000/pole_dist,0)\n",
    "MG[\"Poles_CAPEX\"] = MG[\"No_of_poles\"]*cost_per_pole\n",
    "\n",
    "## Cables\n",
    "trunk_line_cost = 2 #$/meter\n",
    "MG[\"Cable_CAPEX\"] = round(MG['Length of minimum spanning tree [km]']*1000*trunk_line_cost,0)\n",
    "\n",
    "## Total sum\n",
    "MG[\"Dist_CAPEX\"] = MG[\"Poles_CAPEX\"]+MG[\"Cable_CAPEX\"]"
   ]
  },
  {
   "cell_type": "markdown",
   "metadata": {},
   "source": [
    "### Adding Service drop | Customer connection costs"
   ]
  },
  {
   "cell_type": "code",
   "execution_count": 70,
   "metadata": {},
   "outputs": [],
   "source": [
    "con_cost = 173 # overhead access. | meter | ready board+rectifier\n",
    "MG[\"Conn_CAPEX\"] = MG[\"VIDA_Pot_Con\"]*con_cost"
   ]
  },
  {
   "cell_type": "markdown",
   "metadata": {},
   "source": [
    "### Logistics & installation costs"
   ]
  },
  {
   "cell_type": "code",
   "execution_count": 71,
   "metadata": {},
   "outputs": [],
   "source": [
    "MG[\"TdxLC\"] = MG[\"No_of_poles\"] * 60  ## Distribution grid labour cost | 60 USD/pole\n",
    "MG[\"PSLC\"] = MG[\"HMG_cap\"] * 100  ## Distribution grid labour cost | 100 USD/kWp\n",
    "MG[\"Transp_of_mat\"] = MG[\"VIDA_Pot_Con\"]*27  ## Transportation of material | 27 USD/connection\n",
    "\n",
    "## Total sum\n",
    "MG[\"LogInstCAPEX\"] = MG[\"TdxLC\"]+MG[\"PSLC\"]+MG[\"Transp_of_mat\"]"
   ]
  },
  {
   "cell_type": "markdown",
   "metadata": {},
   "source": [
    "### Total CAPEX"
   ]
  },
  {
   "cell_type": "code",
   "execution_count": 72,
   "metadata": {},
   "outputs": [],
   "source": [
    "MG[\"Tot_CAPEX\"] = MG['HMG_Inv'] + MG[\"Dist_CAPEX\"] + MG[\"Conn_CAPEX\"] + MG[\"LogInstCAPEX\"]"
   ]
  },
  {
   "cell_type": "markdown",
   "metadata": {},
   "source": [
    "## OPEX"
   ]
  },
  {
   "cell_type": "markdown",
   "metadata": {},
   "source": [
    "### Selling general and administrative (SG&A) costs"
   ]
  },
  {
   "cell_type": "code",
   "execution_count": 102,
   "metadata": {},
   "outputs": [],
   "source": [
    "#sganda_cost_per_con = 18 ## $/connection/year ($1.5/con/month)\n",
    "#HF[\"SGandA_y\"] = HF[\"VIDA_Pot_Con\"]*sganda_cost_per_con"
   ]
  },
  {
   "cell_type": "markdown",
   "metadata": {},
   "source": [
    "### Extracting discounted generation OPEX from NPC"
   ]
  },
  {
   "cell_type": "code",
   "execution_count": 103,
   "metadata": {},
   "outputs": [],
   "source": [
    "#HF[\"gen_OPEX\"] = HF[\"HMG_npv_cost\"] - HF[\"HMG_Inv\"]"
   ]
  },
  {
   "cell_type": "code",
   "execution_count": null,
   "metadata": {},
   "outputs": [],
   "source": []
  },
  {
   "cell_type": "code",
   "execution_count": null,
   "metadata": {},
   "outputs": [],
   "source": []
  },
  {
   "cell_type": "code",
   "execution_count": null,
   "metadata": {},
   "outputs": [],
   "source": []
  },
  {
   "cell_type": "code",
   "execution_count": 104,
   "metadata": {},
   "outputs": [],
   "source": [
    "#HF = pd.read_csv(r\"C:\\Users\\alexl\\Dropbox\\Self-employment\\SEforALL\\Work\\Zambia\\MG_assess_code\\VIDA 5k sites SEforALL sizing and costing estimates Oct2023-new.csv\")"
   ]
  },
  {
   "cell_type": "code",
   "execution_count": 105,
   "metadata": {},
   "outputs": [],
   "source": [
    "#HF.columns"
   ]
  },
  {
   "cell_type": "code",
   "execution_count": 106,
   "metadata": {},
   "outputs": [],
   "source": [
    "#HF = pd.read_csv(r\"C:\\Users\\alexl\\Dropbox\\Self-employment\\SEforALL\\Work\\Zambia\\MG_assess_code\\VIDA 5k sites SEforALL sizing and costing estimates Oct2023.csv\")\n",
    "#HF.drop(['ResAConskWh_y',\n",
    "#       'ResBConskWh_y', 'ResCConskWh_y', 'ResSMEConskWh_y', 'ResPUoEConskWh_y',\n",
    "#       'ResARev_y', 'ResBRev_y', 'ResCRev_y', 'ResSMERev_y', 'ResPUoERev_y',\n",
    "#       'ResARev_y_d', 'ResBRev_y_d', 'ResCRev_y_d', 'ResSMERev_y_d',\n",
    "#       'ResPUoERev_y_d', 'TotalRev', 'CAPEX_GAP', 'CAPEX_subsidy'], axis=1, inplace=True)"
   ]
  },
  {
   "cell_type": "markdown",
   "metadata": {},
   "source": [
    "### Subsidy calculation"
   ]
  },
  {
   "cell_type": "code",
   "execution_count": 73,
   "metadata": {
    "code_folding": [
     0
    ]
   },
   "outputs": [],
   "source": [
    "def calculate_total_revenue(yearly_revenue:float, discount_rate:float, years:int) -> float:\n",
    "    \"\"\"\n",
    "    Calculates the discounted yearly revenue over the next 15 years given a fixed rate.\n",
    "    :param discount_rate: The fixed rate.\n",
    "    :param yearly_revenue: the yearly revenue.\n",
    "    :param years: the number of years\n",
    "    :return: The discounted revenue.\n",
    "    \"\"\"\n",
    "    \n",
    "    total_revenue = 0\n",
    "    for year in range(1, years + 1):\n",
    "        present_value = yearly_revenue / ((1 + discount_rate) ** year)\n",
    "        total_revenue += present_value\n",
    "    return total_revenue"
   ]
  },
  {
   "cell_type": "code",
   "execution_count": 74,
   "metadata": {
    "code_folding": [
     0
    ]
   },
   "outputs": [],
   "source": [
    "def calculate_sga_opex_npc(yearly_opex:float, discount_rate:float, years:int) -> float:\n",
    "    npv = 0\n",
    "    for year in range(1, years + 1):\n",
    "        present_value = yearly_opex / ((1 + discount_rate) ** year)\n",
    "        npv += present_value\n",
    "    return npv"
   ]
  },
  {
   "cell_type": "code",
   "execution_count": 75,
   "metadata": {
    "code_folding": [
     0
    ]
   },
   "outputs": [],
   "source": [
    "def estimate_annual_gen_opex_costs(npv, discount_rate, num_years, year_stop):\n",
    "    annual_cost = npv * (discount_rate / (1 - (1 + discount_rate) ** -num_years))\n",
    "    annual_costs = []\n",
    "    total_costs = 0\n",
    "    for current_year in range(1, num_years + 1):\n",
    "        present_value = annual_cost / ((1 + discount_rate) ** current_year)\n",
    "        annual_costs.append(present_value)\n",
    "        if current_year <= year_stop:\n",
    "            total_costs += present_value\n",
    "    return total_costs"
   ]
  },
  {
   "cell_type": "code",
   "execution_count": 76,
   "metadata": {},
   "outputs": [],
   "source": [
    "## Consumption per Bundle per year\n",
    "MG[\"ResAConskWh_y\"] = MG[\"ResA\"]*78.999999001/1000*365\n",
    "MG[\"ResBConskWh_y\"] = MG[\"ResB\"]*187.00000100500003/1000*365\n",
    "MG[\"ResCConskWh_y\"] = MG[\"ResC\"]*462.00000102399997/1000*365\n",
    "MG[\"ResSMEConskWh_y\"] = MG[\"SME\"]*672.254115472/1000*365\n",
    "MG[\"ResPUoEConskWh_y\"] = MG[\"PUoE\"]*10284.999999900001/1000*365"
   ]
  },
  {
   "cell_type": "code",
   "execution_count": 77,
   "metadata": {},
   "outputs": [],
   "source": [
    "## Revenew per Bundle per year\n",
    "MG[\"ResARev_y\"] = MG[\"ResAConskWh_y\"]*1.45 \n",
    "MG[\"ResBRev_y\"] = MG[\"ResBConskWh_y\"]*1.17\n",
    "MG[\"ResCRev_y\"] = MG[\"ResCConskWh_y\"]*0.66\n",
    "MG[\"ResSMERev_y\"] = MG[\"ResSMEConskWh_y\"]*0.65\n",
    "MG[\"ResPUoERev_y\"] = MG[\"ResPUoEConskWh_y\"]*0.24"
   ]
  },
  {
   "cell_type": "code",
   "execution_count": 112,
   "metadata": {
    "code_folding": [
     0
    ]
   },
   "outputs": [],
   "source": [
    "#disc_rate = 0.05\n",
    "#HF[\"ResARev_y_d\"] = HF.apply(lambda row: calculate_total_revenue(row[\"ResARev_y\"], disc_rate, 15), axis=1)\n",
    "#HF[\"ResBRev_y_d\"] = HF.apply(lambda row: calculate_total_revenue(row[\"ResBRev_y\"], disc_rate, 15), axis=1)\n",
    "#HF[\"ResCRev_y_d\"] = HF.apply(lambda row: calculate_total_revenue(row[\"ResCRev_y\"], disc_rate, 15), axis=1)\n",
    "#HF[\"ResSMERev_y_d\"] = HF.apply(lambda row: calculate_total_revenue(row[\"ResSMERev_y\"], disc_rate, 15), axis=1)\n",
    "#HF[\"ResPUoERev_y_d\"] = HF.apply(lambda row: calculate_total_revenue(row[\"ResPUoERev_y\"], disc_rate, 15), axis=1)\n",
    "#\n",
    "#HF[\"TotalRev\"] = (HF[\"ResARev_y_d\"] + \n",
    "#                  HF[\"ResBRev_y_d\"] + \n",
    "#                  HF[\"ResCRev_y_d\"] + \n",
    "#                  HF[\"ResSMERev_y_d\"]+\n",
    "#                  HF[\"ResPUoERev_y_d\"])\n",
    "\n",
    "#HF[\"CAPEX_GAP\"] = HF[\"Tot_CAPEX\"] - HF[\"TotalRev\"]\n",
    "#HF[\"CAPEX_subsidy\"] = HF[\"CAPEX_GAP\"]/HF[\"VIDA_Pot_Con\"]"
   ]
  },
  {
   "cell_type": "markdown",
   "metadata": {},
   "source": [
    "#### Functions creating the conversions from real to nominal terms & currency exchange"
   ]
  },
  {
   "cell_type": "code",
   "execution_count": 78,
   "metadata": {
    "code_folding": [
     11,
     13,
     19,
     28,
     48
    ]
   },
   "outputs": [],
   "source": [
    "# Create the infl_dict dictionary\n",
    "# source: Bank of Zambia \n",
    "# data source https://www.statista.com/statistics/457704/inflation-rate-in-zambia/    https://knoema.es/kyaewad/us-inflation-forecast-2022-2023-and-long-term-to-2030-data-and-charts\n",
    "\n",
    "infl_dict = {\n",
    "    \"Year\": list(range(2022, 2051)),\n",
    "    \"Year_index\": list(range(0, 29)),\n",
    "    \"infl_zm\": [0.069, 0.056, 0.056, 0.056, 0.050, 0.050, 0.050, 0.050, 0.050, 0.050, 0.050, 0.050, 0.050, 0.050, 0.050, 0.050, 0.050, 0.050, 0.050, 0.050, 0.050, 0.050, 0.050, 0.050, 0.050, 0.050, 0.050, 0.050, 0.050, 0.050],\n",
    "    \"infl_eur\": [0.013, 0.016, 0.018, 0.018, 0.019, 0.019, 0.019, 0.019, 0.019, 0.019, 0.019, 0.019, 0.019, 0.019, 0.019, 0.019, 0.019, 0.019, 0.019, 0.019, 0.019, 0.019, 0.019, 0.019, 0.019, 0.019, 0.019, 0.019, 0.019, 0.019],\n",
    "    \"infl_usd\": [0.020, 0.019, 0.019, 0.021, 0.022, 0.022, 0.022, 0.021, 0.021, 0.020, 0.020, 0.020, 0.020, 0.020, 0.020, 0.021, 0.021, 0.021, 0.021, 0.021, 0.021, 0.021, 0.021, 0.021, 0.021, 0.021, 0.021, 0.021, 0.021, 0.021],\n",
    "}\n",
    "\n",
    "# Calculate the multiplier index for each currency\n",
    "multiplier_infl_dict = {}\n",
    "for currency in ['infl_zm', 'infl_eur', 'infl_usd']:\n",
    "    multiplier_infl_dict[currency + '_multiplier'] = [1.0]\n",
    "    for i in range(1, len(infl_dict[currency])):\n",
    "        previous_multiplier = multiplier_infl_dict[currency + '_multiplier'][-1]\n",
    "        new_multiplier = previous_multiplier + (1 * infl_dict[currency][i])\n",
    "        multiplier_infl_dict[currency + '_multiplier'].append(new_multiplier)\n",
    "\n",
    "# Add the multiplier index to the original infl_dict dictionary\n",
    "for currency in ['infl_zm', 'infl_eur', 'infl_usd']:\n",
    "    infl_dict[currency + '_multiplier'] = multiplier_infl_dict[currency + '_multiplier']\n",
    "\n",
    "# Add the additional columns\n",
    "infl_dict[\"exr_KwToEur\"] = [19.65] + [0] * 28\n",
    "infl_dict[\"exr_KwToUsd\"] = [17.66] + [0] * 28\n",
    "infl_dict[\"exr_UsdToEur\"] = [1.11] + [0] * 28\n",
    "\n",
    "# Calculate the exchange rate values from index 1 onward\n",
    "for i in range(1, len(infl_dict[\"Year_index\"])):\n",
    "    previous_year_exr_kWToEur = infl_dict[\"exr_KwToEur\"][i - 1]\n",
    "    previous_year_exr_kWToUsd = infl_dict[\"exr_KwToUsd\"][i - 1]\n",
    "    previous_year_exr_UsdToEur = infl_dict[\"exr_UsdToEur\"][i - 1]\n",
    "    \n",
    "    infl_diff_kWToEur = infl_dict[\"infl_zm\"][i] - infl_dict[\"infl_eur\"][i]\n",
    "    infl_diff_kWToUsd = infl_dict[\"infl_zm\"][i] - infl_dict[\"infl_usd\"][i]\n",
    "    infl_diff_UsdToEur = infl_dict[\"infl_usd\"][i] - infl_dict[\"infl_eur\"][i]\n",
    "    \n",
    "    infl_dict[\"exr_KwToEur\"][i] = previous_year_exr_kWToEur + previous_year_exr_kWToEur * infl_diff_kWToEur\n",
    "    infl_dict[\"exr_KwToUsd\"][i] = previous_year_exr_kWToUsd + previous_year_exr_kWToUsd * infl_diff_kWToUsd\n",
    "    infl_dict[\"exr_UsdToEur\"][i] = previous_year_exr_UsdToEur + previous_year_exr_UsdToEur * infl_diff_UsdToEur\n",
    "    \n",
    "# Convert the infl_dict dictionary into a infl_dict\n",
    "#infl_df = pd.infl_dict(infl_dict)\n",
    "infl_df = pd.DataFrame.from_dict(infl_dict, orient='index')\n",
    "infl_df = infl_df.transpose()\n",
    "infl_df.drop(infl_df.tail(1).index, inplace = True)\n",
    "infl_df.Year = infl_df.Year.astype(int)\n",
    "\n",
    "def adjust_fin_flows(value, input_currency, output_currency, year_index, infl_df):\n",
    "    if input_currency == output_currency:\n",
    "        # Adjust value using the relevant multiplier\n",
    "        if input_currency == 'zw':\n",
    "            multiplier = infl_df.at[year_index, 'infl_zm_multiplier']\n",
    "        elif input_currency == 'eur':\n",
    "            multiplier = infl_df.at[year_index, 'infl_eur_multiplier']\n",
    "        elif input_currency == 'usd':\n",
    "            multiplier = infl_df.at[year_index, 'infl_usd_multiplier']\n",
    "        return value * multiplier\n",
    "    else:\n",
    "        # Adjust value using the relevant multiplier and exchange rate\n",
    "        if input_currency == 'zw':\n",
    "            multiplier = infl_df.at[year_index, 'infl_zm_multiplier']\n",
    "            if output_currency == 'eur':\n",
    "                exchange_rate = infl_df.at[year_index, 'exr_KwToEur']\n",
    "            elif output_currency == 'usd':\n",
    "                exchange_rate = infl_df.at[year_index, 'exr_KwToUsd']\n",
    "        elif input_currency == 'eur':\n",
    "            multiplier = infl_df.at[year_index, 'infl_eur_multiplier']\n",
    "            if output_currency == 'zw':\n",
    "                exchange_rate = 1 / infl_df.at[year_index, 'exr_KwToEur']\n",
    "            elif output_currency == 'usd':\n",
    "                exchange_rate = infl_df.at[year_index, 'exr_UsdToEur']\n",
    "        elif input_currency == 'usd':\n",
    "            multiplier = infl_df.at[year_index, 'infl_usd_multiplier']\n",
    "            if output_currency == 'zw':\n",
    "                exchange_rate = 1 / infl_df.at[year_index, 'exr_KwToUsd']\n",
    "            elif output_currency == 'eur':\n",
    "                exchange_rate = 1 / infl_df.at[year_index, 'exr_UsdToEur']\n",
    "        return (value * multiplier) / exchange_rate\n",
    "    \n",
    "def calculate_adjusted_values(df, Out_Name, Col_Name, input_currency, output_currency, year_index):\n",
    "    df[Out_Name] = 0\n",
    "    for i in range(1, year_index+1):\n",
    "        df[Out_Name] += df.apply(lambda row: adjust_fin_flows(row[Col_Name], input_currency, output_currency, i, infl_df), axis=1)"
   ]
  },
  {
   "cell_type": "markdown",
   "metadata": {},
   "source": [
    "### Calculate Revenue & Costs in a given year (X)"
   ]
  },
  {
   "cell_type": "code",
   "execution_count": 79,
   "metadata": {},
   "outputs": [
    {
     "data": {
      "text/plain": [
       "['Lat',\n",
       " 'Lon',\n",
       " 'Site Name',\n",
       " 'Country',\n",
       " 'VIDA_ID',\n",
       " 'Province',\n",
       " 'District',\n",
       " 'Ratio of built-up area',\n",
       " 'Number of buildings',\n",
       " 'Number of large buildings',\n",
       " 'Number of medium buildings',\n",
       " 'Number of small buildings',\n",
       " 'Number of very small structures',\n",
       " 'Population sum',\n",
       " 'Population estimate',\n",
       " 'Customer density',\n",
       " 'Distance to the road [km]',\n",
       " 'Distance to nearest hub [km]',\n",
       " 'Nearest regional hub',\n",
       " 'Distance to railway [km]',\n",
       " 'Healthcare facilities',\n",
       " 'Education facilities',\n",
       " 'Average relative wealth index',\n",
       " 'Total points of interest',\n",
       " 'Top five dominant crops',\n",
       " 'Total crop value [$/year]',\n",
       " 'Total crop yield [kg/ha]',\n",
       " 'Total crop value per hectare [$/ha]',\n",
       " 'Percentage of nightlight overlap [%]',\n",
       " 'Has nightlight?',\n",
       " 'Distance to the nightlight [km]',\n",
       " 'Distance to nearest hydropower source [km]',\n",
       " 'Distance to nearest transformer [km]',\n",
       " 'Distance to nearest substation [km]',\n",
       " 'Distance to nearest HV lines [km]',\n",
       " 'Distance to nearest MV lines [km]',\n",
       " 'Potential number of connections',\n",
       " 'Estimated energy demand [kWh/day]',\n",
       " 'Average demand per connection [kWh/day]',\n",
       " 'Length of minimum spanning tree [km]',\n",
       " 'Total cost for minimum spanning tree [$]',\n",
       " 'Potential PV production [kWh/kWp]',\n",
       " 'Distance to nearest solar mill [Km]',\n",
       " 'Distance to nearest mini-grid site [Km]',\n",
       " 'Mini-grid site status',\n",
       " 'Fatalities within 50 km (battles,riots,violence against civilians,explosions)',\n",
       " 'Fatalities within 25 km (battles,riots,violence against civilians,explosions)',\n",
       " 'Total number of incidents within 25km',\n",
       " 'Security risk',\n",
       " 'Travelhours',\n",
       " 'GHI',\n",
       " 'geometry',\n",
       " 'mg_id',\n",
       " 'avg_diesel_price',\n",
       " 'MG_diesel_cost',\n",
       " 'VIDA_Conn_All',\n",
       " 'VIDA_Pot_Con',\n",
       " 'PUoE',\n",
       " 'SME',\n",
       " 'ResC',\n",
       " 'ResB',\n",
       " 'ResA',\n",
       " 'hybrids',\n",
       " 'HGM_lcoe',\n",
       " 'HMG_Inv',\n",
       " 'HMG_GenOpex',\n",
       " 'HMG_GenOpex_y',\n",
       " 'HMG_SGnAOpex',\n",
       " 'HMG_SGnAOpex_y',\n",
       " 'HMG_npv_cost',\n",
       " 'HMG_cap',\n",
       " 'HMG_ren_cap',\n",
       " 'HMG_dl_cap',\n",
       " 'HMG_ren_share',\n",
       " 'HMG_bat_size',\n",
       " 'HMG_fuel_usage',\n",
       " 'Est_dem_kWh_year',\n",
       " 'No_of_poles',\n",
       " 'Poles_CAPEX',\n",
       " 'Cable_CAPEX',\n",
       " 'Dist_CAPEX',\n",
       " 'TdxLC',\n",
       " 'PSLC',\n",
       " 'Transp_of_mat',\n",
       " 'LogInstCAPEX',\n",
       " 'Conn_CAPEX',\n",
       " 'Tot_CAPEX',\n",
       " 'ResAConskWh_y',\n",
       " 'ResBConskWh_y',\n",
       " 'ResCConskWh_y',\n",
       " 'ResSMEConskWh_y',\n",
       " 'ResPUoEConskWh_y',\n",
       " 'ResARev_y',\n",
       " 'ResBRev_y',\n",
       " 'ResCRev_y',\n",
       " 'ResSMERev_y',\n",
       " 'ResPUoERev_y']"
      ]
     },
     "execution_count": 79,
     "metadata": {},
     "output_type": "execute_result"
    }
   ],
   "source": [
    "MG.columns.to_list()"
   ]
  },
  {
   "cell_type": "code",
   "execution_count": 80,
   "metadata": {
    "code_folding": []
   },
   "outputs": [],
   "source": [
    "## Year = 2\n",
    "calculate_adjusted_values(MG, \"ResARev_y2\", \"ResARev_y\", 'usd', 'usd', 2)\n",
    "calculate_adjusted_values(MG, \"ResBRev_y2\", \"ResBRev_y\", 'usd', 'usd', 2)\n",
    "calculate_adjusted_values(MG, \"ResCRev_y2\", \"ResCRev_y\", 'usd', 'usd', 2)\n",
    "calculate_adjusted_values(MG, \"ResSMERev_y2\", \"ResSMERev_y\", 'usd', 'usd', 2)\n",
    "calculate_adjusted_values(MG, \"ResPUoERev_y2\", \"ResPUoERev_y\", 'usd', 'usd', 2)\n",
    "\n",
    "calculate_adjusted_values(MG, \"gen_opex_y2\", \"HMG_GenOpex_y\", 'usd', 'usd', 2)\n",
    "calculate_adjusted_values(MG, \"sgna_opex_y2\", \"HMG_SGnAOpex_y\", 'usd', 'usd', 2)\n",
    "\n",
    "## Sum Revenue for the year\n",
    "MG[\"TotalRev2\"] = (MG[\"ResARev_y2\"] + \n",
    "                  MG[\"ResBRev_y2\"] + \n",
    "                  MG[\"ResCRev_y2\"] + \n",
    "                  MG[\"ResSMERev_y2\"]+\n",
    "                  MG[\"ResPUoERev_y2\"])\n",
    "\n",
    "## Sum Opex for the year\n",
    "MG[\"TotalOpex2\"] = (MG[\"gen_opex_y2\"] + MG[\"sgna_opex_y2\"])\n",
    "\n",
    "\n",
    "MG[\"CAPEX_GAP2\"] = MG[\"Tot_CAPEX\"] - MG[\"TotalRev2\"]\n",
    "MG[\"CAPEX_subsidy2\"] = MG[\"CAPEX_GAP2\"]/MG[\"VIDA_Pot_Con\"]\n",
    "MG[\"Total_subsidy2\"] = (MG[\"Tot_CAPEX\"] + MG['TotalOpex2'] - MG[\"TotalRev2\"])/MG[\"VIDA_Pot_Con\"]"
   ]
  },
  {
   "cell_type": "code",
   "execution_count": 81,
   "metadata": {
    "code_folding": []
   },
   "outputs": [],
   "source": [
    "## Year = 5\n",
    "calculate_adjusted_values(MG, \"ResARev_y5\", \"ResARev_y\", 'usd', 'usd', 5)\n",
    "calculate_adjusted_values(MG, \"ResBRev_y5\", \"ResBRev_y\", 'usd', 'usd', 5)\n",
    "calculate_adjusted_values(MG, \"ResCRev_y5\", \"ResCRev_y\", 'usd', 'usd', 5)\n",
    "calculate_adjusted_values(MG, \"ResSMERev_y5\", \"ResSMERev_y\", 'usd', 'usd', 5)\n",
    "calculate_adjusted_values(MG, \"ResPUoERev_y5\", \"ResPUoERev_y\", 'usd', 'usd', 5)\n",
    "\n",
    "calculate_adjusted_values(MG, \"gen_opex_y5\", \"HMG_GenOpex_y\", 'usd', 'usd', 5)\n",
    "calculate_adjusted_values(MG, \"sgna_opex_y5\", \"HMG_SGnAOpex_y\", 'usd', 'usd', 5)\n",
    "\n",
    "## Sum Revenue for the year\n",
    "MG[\"TotalRev5\"] = (MG[\"ResARev_y5\"] + \n",
    "                  MG[\"ResBRev_y5\"] + \n",
    "                  MG[\"ResCRev_y5\"] + \n",
    "                  MG[\"ResSMERev_y5\"]+\n",
    "                  MG[\"ResPUoERev_y5\"])\n",
    "\n",
    "## Sum Opex for the year\n",
    "MG[\"TotalOpex5\"] = (MG[\"gen_opex_y5\"] + MG[\"sgna_opex_y5\"])\n",
    "\n",
    "\n",
    "MG[\"CAPEX_GAP5\"] = MG[\"Tot_CAPEX\"] - MG[\"TotalRev5\"]\n",
    "MG[\"CAPEX_subsidy5\"] = MG[\"CAPEX_GAP5\"]/MG[\"VIDA_Pot_Con\"]\n",
    "MG[\"Total_subsidy5\"] = (MG[\"Tot_CAPEX\"] + MG['TotalOpex5'] - MG[\"TotalRev5\"])/MG[\"VIDA_Pot_Con\"]"
   ]
  },
  {
   "cell_type": "code",
   "execution_count": 82,
   "metadata": {
    "code_folding": []
   },
   "outputs": [],
   "source": [
    "## Year = 7\n",
    "calculate_adjusted_values(MG, \"ResARev_y7\", \"ResARev_y\", 'usd', 'usd', 7)\n",
    "calculate_adjusted_values(MG, \"ResBRev_y7\", \"ResBRev_y\", 'usd', 'usd', 7)\n",
    "calculate_adjusted_values(MG, \"ResCRev_y7\", \"ResCRev_y\", 'usd', 'usd', 7)\n",
    "calculate_adjusted_values(MG, \"ResSMERev_y7\", \"ResSMERev_y\", 'usd', 'usd', 7)\n",
    "calculate_adjusted_values(MG, \"ResPUoERev_y7\", \"ResPUoERev_y\", 'usd', 'usd', 7)\n",
    "\n",
    "calculate_adjusted_values(MG, \"gen_opex_y7\", \"HMG_GenOpex_y\", 'usd', 'usd', 7)\n",
    "calculate_adjusted_values(MG, \"sgna_opex_y7\", \"HMG_SGnAOpex_y\", 'usd', 'usd', 7)\n",
    "\n",
    "## Sum Revenue for the year\n",
    "MG[\"TotalRev7\"] = (MG[\"ResARev_y7\"] + \n",
    "                  MG[\"ResBRev_y7\"] + \n",
    "                  MG[\"ResCRev_y7\"] + \n",
    "                  MG[\"ResSMERev_y7\"]+\n",
    "                  MG[\"ResPUoERev_y7\"])\n",
    "\n",
    "## Sum Opex for the year\n",
    "MG[\"TotalOpex7\"] = (MG[\"gen_opex_y7\"] + MG[\"sgna_opex_y7\"])\n",
    "\n",
    "\n",
    "MG[\"CAPEX_GAP7\"] = MG[\"Tot_CAPEX\"] - MG[\"TotalRev7\"]\n",
    "MG[\"CAPEX_subsidy7\"] = MG[\"CAPEX_GAP7\"]/MG[\"VIDA_Pot_Con\"]\n",
    "MG[\"Total_subsidy7\"] = (MG[\"Tot_CAPEX\"] + MG['TotalOpex7'] - MG[\"TotalRev7\"])/MG[\"VIDA_Pot_Con\"]"
   ]
  },
  {
   "cell_type": "code",
   "execution_count": null,
   "metadata": {},
   "outputs": [],
   "source": []
  },
  {
   "cell_type": "code",
   "execution_count": 118,
   "metadata": {},
   "outputs": [],
   "source": [
    "#HF_backup = HF"
   ]
  },
  {
   "cell_type": "code",
   "execution_count": 119,
   "metadata": {
    "code_folding": [
     0
    ]
   },
   "outputs": [],
   "source": [
    "#HF[\"Res. BundleA Rev. [$/y]\"] = HF[\"Res. BundleA Rev. [$/y]\"].astype(float)\n",
    "#HF[\"Res. BundleB Rev. [$/y]\"] = HF[\"Res. BundleB Rev. [$/y]\"].astype(float)\n",
    "#HF[\"Res. BundleC Rev. [$/y]\"] = HF[\"Res. BundleC Rev. [$/y]\"].astype(float)\n",
    "#HF[\"SME Rev. [$/y]\"] = HF[\"SME Rev. [$/y]\"].astype(float)\n",
    "#HF[\"PUoE Rev. [$/year]\"] = HF[\"PUoE Rev. [$/year]\"].astype(float)"
   ]
  },
  {
   "cell_type": "code",
   "execution_count": 120,
   "metadata": {
    "code_folding": [
     0
    ]
   },
   "outputs": [],
   "source": [
    "#disc_rate = 0.05\n",
    "#HF[\"ResARev_y_d2\"] = HF.apply(lambda row: calculate_total_revenue(row[\"ResARev_y\"], disc_rate, 2), axis=1)\n",
    "#HF[\"ResBRev_y_d2\"] = HF.apply(lambda row: calculate_total_revenue(row[\"ResBRev_y\"], disc_rate, 2), axis=1)\n",
    "#HF[\"ResCRev_y_d2\"] = HF.apply(lambda row: calculate_total_revenue(row[\"ResCRev_y\"], disc_rate, 2), axis=1)\n",
    "#HF[\"ResSMERev_y_d2\"] = HF.apply(lambda row: calculate_total_revenue(row[\"ResSMERev_y\"], disc_rate, 2), axis=1)\n",
    "#HF[\"ResPUoERev_y_d2\"] = HF.apply(lambda row: calculate_total_revenue(row[\"ResPUoERev_y\"], disc_rate, 2), axis=1)\n",
    "#\n",
    "#HF[\"TotalRev2\"] = (HF[\"ResARev_y_d2\"] + \n",
    "#                  HF[\"ResBRev_y_d2\"] + \n",
    "#                  HF[\"ResCRev_y_d2\"] + \n",
    "#                  HF[\"ResSMERev_y_d2\"]+\n",
    "#                  HF[\"ResPUoERev_y_d2\"])\n",
    "#\n",
    "#HF[\"CAPEX_GAP2\"] = HF[\"Tot_CAPEX\"] - HF[\"TotalRev2\"]\n",
    "#HF[\"CAPEX_subsidy2\"] = HF[\"CAPEX_GAP2\"]/HF[\"VIDA_Pot_Con\"]\n",
    "#\n",
    "### OPEX for the period\n",
    "#HF[\"SGandA_y2\"] = HF.apply(lambda row: calculate_sga_opex_npc(row[\"SGandA_y\"], disc_rate, 2), axis=1)\n",
    "#HF[\"gen_OPEX_y2\"] = HF.apply(lambda row: estimate_annual_gen_opex_costs(row[\"gen_OPEX\"], disc_rate, 15, 2), axis=1)\n",
    "#HF['OPEX_y2'] = HF[\"SGandA_y2\"] + HF[\"gen_OPEX_y2\"]\n",
    "#\n",
    "#HF[\"Total_subsidy2\"] = (HF[\"CAPEX_GAP2\"] + HF['OPEX_y2'])/HF[\"VIDA_Pot_Con\"]"
   ]
  },
  {
   "cell_type": "code",
   "execution_count": 121,
   "metadata": {
    "code_folding": [
     0
    ]
   },
   "outputs": [],
   "source": [
    "#disc_rate = 0.05\n",
    "#HF[\"ResARev_y_d5\"] = HF.apply(lambda row: calculate_total_revenue(row[\"ResARev_y\"], disc_rate, 5), axis=1)\n",
    "#HF[\"ResBRev_y_d5\"] = HF.apply(lambda row: calculate_total_revenue(row[\"ResBRev_y\"], disc_rate, 5), axis=1)\n",
    "#HF[\"ResCRev_y_d5\"] = HF.apply(lambda row: calculate_total_revenue(row[\"ResCRev_y\"], disc_rate, 5), axis=1)\n",
    "#HF[\"ResSMERev_y_d5\"] = HF.apply(lambda row: calculate_total_revenue(row[\"ResSMERev_y\"], disc_rate, 5), axis=1)\n",
    "#HF[\"ResPUoERev_y_d5\"] = HF.apply(lambda row: calculate_total_revenue(row[\"ResPUoERev_y\"], disc_rate, 5), axis=1)\n",
    "#\n",
    "#HF[\"TotalRev5\"] = (HF[\"ResARev_y_d5\"] + \n",
    "#                  HF[\"ResBRev_y_d5\"] + \n",
    "#                  HF[\"ResCRev_y_d5\"] + \n",
    "#                  HF[\"ResSMERev_y_d5\"]+\n",
    "#                  HF[\"ResPUoERev_y_d5\"])\n",
    "#HF[\"CAPEX_GAP5\"] = HF[\"Tot_CAPEX\"] - HF[\"TotalRev5\"]\n",
    "#HF[\"CAPEX_subsidy5\"] = HF[\"CAPEX_GAP5\"]/HF[\"VIDA_Pot_Con\"]\n",
    "#\n",
    "### OPEX for the period\n",
    "#HF[\"SGandA_y5\"] = HF.apply(lambda row: calculate_sga_opex_npc(row[\"SGandA_y\"], disc_rate, 5), axis=1)\n",
    "#HF[\"gen_OPEX_y5\"] = HF.apply(lambda row: estimate_annual_gen_opex_costs(row[\"gen_OPEX\"], disc_rate, 15, 5), axis=1)\n",
    "#HF['OPEX_y5'] = HF[\"SGandA_y5\"] + HF[\"gen_OPEX_y5\"]\n",
    "#\n",
    "#HF[\"Total_subsidy5\"] = (HF[\"CAPEX_GAP5\"] + HF['OPEX_y5'])/HF[\"VIDA_Pot_Con\"]"
   ]
  },
  {
   "cell_type": "code",
   "execution_count": 122,
   "metadata": {
    "code_folding": [
     0
    ]
   },
   "outputs": [],
   "source": [
    "#disc_rate = 0.05\n",
    "#HF[\"ResARev_y_d15\"] = HF.apply(lambda row: calculate_total_revenue(row[\"ResARev_y\"], disc_rate, 15), axis=1)\n",
    "#HF[\"ResBRev_y_d15\"] = HF.apply(lambda row: calculate_total_revenue(row[\"ResBRev_y\"], disc_rate, 15), axis=1)\n",
    "#HF[\"ResCRev_y_d15\"] = HF.apply(lambda row: calculate_total_revenue(row[\"ResCRev_y\"], disc_rate, 15), axis=1)\n",
    "#HF[\"ResSMERev_y_d15\"] = HF.apply(lambda row: calculate_total_revenue(row[\"ResSMERev_y\"], disc_rate, 15), axis=1)\n",
    "#HF[\"ResPUoERev_y_d15\"] = HF.apply(lambda row: calculate_total_revenue(row[\"ResPUoERev_y\"], disc_rate, 15), axis=1)\n",
    "#\n",
    "#HF[\"TotalRev15\"] = (HF[\"ResARev_y_d15\"] + \n",
    "#                  HF[\"ResBRev_y_d15\"] + \n",
    "#                  HF[\"ResCRev_y_d15\"] + \n",
    "#                  HF[\"ResSMERev_y_d15\"]+\n",
    "#                  HF[\"ResPUoERev_y_d15\"])\n",
    "#HF[\"CAPEX_GAP15\"] = HF[\"Tot_CAPEX\"] - HF[\"TotalRev15\"]\n",
    "#HF[\"CAPEX_subsidy15\"] = HF[\"CAPEX_GAP15\"]/HF[\"VIDA_Pot_Con\"]\n",
    "#\n",
    "### OPEX for the period\n",
    "#HF[\"SGandA_y15\"] = HF.apply(lambda row: calculate_sga_opex_npc(row[\"SGandA_y\"], disc_rate, 15), axis=1)\n",
    "#HF[\"gen_OPEX_y15\"] = HF.apply(lambda row: estimate_annual_gen_opex_costs(row[\"gen_OPEX\"], disc_rate, 15, 15), axis=1)\n",
    "#HF['OPEX_y15'] = HF[\"SGandA_y15\"] + HF[\"gen_OPEX_y15\"]\n",
    "#\n",
    "#HF[\"Total_subsidy15\"] = (HF[\"CAPEX_GAP15\"] + HF['OPEX_y15'])/HF[\"VIDA_Pot_Con\"]"
   ]
  },
  {
   "cell_type": "code",
   "execution_count": 83,
   "metadata": {},
   "outputs": [
    {
     "data": {
      "text/html": [
       "<div>\n",
       "<style scoped>\n",
       "    .dataframe tbody tr th:only-of-type {\n",
       "        vertical-align: middle;\n",
       "    }\n",
       "\n",
       "    .dataframe tbody tr th {\n",
       "        vertical-align: top;\n",
       "    }\n",
       "\n",
       "    .dataframe thead th {\n",
       "        text-align: right;\n",
       "    }\n",
       "</style>\n",
       "<table border=\"1\" class=\"dataframe\">\n",
       "  <thead>\n",
       "    <tr style=\"text-align: right;\">\n",
       "      <th></th>\n",
       "      <th>Lat</th>\n",
       "      <th>Lon</th>\n",
       "      <th>Site Name</th>\n",
       "      <th>Country</th>\n",
       "      <th>VIDA_ID</th>\n",
       "      <th>Province</th>\n",
       "      <th>District</th>\n",
       "      <th>Ratio of built-up area</th>\n",
       "      <th>Number of buildings</th>\n",
       "      <th>Number of large buildings</th>\n",
       "      <th>...</th>\n",
       "      <th>ResCRev_y7</th>\n",
       "      <th>ResSMERev_y7</th>\n",
       "      <th>ResPUoERev_y7</th>\n",
       "      <th>gen_opex_y7</th>\n",
       "      <th>sgna_opex_y7</th>\n",
       "      <th>TotalRev7</th>\n",
       "      <th>TotalOpex7</th>\n",
       "      <th>CAPEX_GAP7</th>\n",
       "      <th>CAPEX_subsidy7</th>\n",
       "      <th>Total_subsidy7</th>\n",
       "    </tr>\n",
       "  </thead>\n",
       "  <tbody>\n",
       "    <tr>\n",
       "      <th>0</th>\n",
       "      <td>-9.890335</td>\n",
       "      <td>31.250981</td>\n",
       "      <td>Nseluka</td>\n",
       "      <td>Zambia</td>\n",
       "      <td>24447</td>\n",
       "      <td>Northern</td>\n",
       "      <td>Mungwi</td>\n",
       "      <td>0.01</td>\n",
       "      <td>332.0</td>\n",
       "      <td>0.0</td>\n",
       "      <td>...</td>\n",
       "      <td>20222.892088</td>\n",
       "      <td>28980.386862</td>\n",
       "      <td>0.000000</td>\n",
       "      <td>3291.11370</td>\n",
       "      <td>39520.620</td>\n",
       "      <td>156054.312157</td>\n",
       "      <td>42811.73370</td>\n",
       "      <td>104863.557843</td>\n",
       "      <td>361.598475</td>\n",
       "      <td>509.225143</td>\n",
       "    </tr>\n",
       "    <tr>\n",
       "      <th>1</th>\n",
       "      <td>-14.486753</td>\n",
       "      <td>30.866770</td>\n",
       "      <td>None</td>\n",
       "      <td>Zambia</td>\n",
       "      <td>16849</td>\n",
       "      <td>Eastern</td>\n",
       "      <td>Nyimba</td>\n",
       "      <td>0.02</td>\n",
       "      <td>164.0</td>\n",
       "      <td>0.0</td>\n",
       "      <td>...</td>\n",
       "      <td>10111.446044</td>\n",
       "      <td>14490.193431</td>\n",
       "      <td>0.000000</td>\n",
       "      <td>1638.28869</td>\n",
       "      <td>19624.032</td>\n",
       "      <td>77566.577701</td>\n",
       "      <td>21262.32069</td>\n",
       "      <td>39479.372299</td>\n",
       "      <td>274.162308</td>\n",
       "      <td>421.817312</td>\n",
       "    </tr>\n",
       "    <tr>\n",
       "      <th>2</th>\n",
       "      <td>-13.495112</td>\n",
       "      <td>25.903903</td>\n",
       "      <td>None</td>\n",
       "      <td>Zambia</td>\n",
       "      <td>5542</td>\n",
       "      <td>North-Western</td>\n",
       "      <td>Kasempa</td>\n",
       "      <td>0.02</td>\n",
       "      <td>283.0</td>\n",
       "      <td>3.0</td>\n",
       "      <td>...</td>\n",
       "      <td>19380.271584</td>\n",
       "      <td>27772.870742</td>\n",
       "      <td>6821.213586</td>\n",
       "      <td>3174.44459</td>\n",
       "      <td>37885.284</td>\n",
       "      <td>155903.056159</td>\n",
       "      <td>41059.72859</td>\n",
       "      <td>81077.233841</td>\n",
       "      <td>291.644726</td>\n",
       "      <td>439.341591</td>\n",
       "    </tr>\n",
       "  </tbody>\n",
       "</table>\n",
       "<p>3 rows × 133 columns</p>\n",
       "</div>"
      ],
      "text/plain": [
       "         Lat        Lon Site Name Country  VIDA_ID       Province District  \\\n",
       "0  -9.890335  31.250981   Nseluka  Zambia    24447       Northern   Mungwi   \n",
       "1 -14.486753  30.866770      None  Zambia    16849        Eastern   Nyimba   \n",
       "2 -13.495112  25.903903      None  Zambia     5542  North-Western  Kasempa   \n",
       "\n",
       "   Ratio of built-up area  Number of buildings  Number of large buildings  \\\n",
       "0                    0.01                332.0                        0.0   \n",
       "1                    0.02                164.0                        0.0   \n",
       "2                    0.02                283.0                        3.0   \n",
       "\n",
       "   ...    ResCRev_y7  ResSMERev_y7  ResPUoERev_y7  gen_opex_y7  sgna_opex_y7  \\\n",
       "0  ...  20222.892088  28980.386862       0.000000   3291.11370     39520.620   \n",
       "1  ...  10111.446044  14490.193431       0.000000   1638.28869     19624.032   \n",
       "2  ...  19380.271584  27772.870742    6821.213586   3174.44459     37885.284   \n",
       "\n",
       "       TotalRev7   TotalOpex7     CAPEX_GAP7 CAPEX_subsidy7  Total_subsidy7  \n",
       "0  156054.312157  42811.73370  104863.557843     361.598475      509.225143  \n",
       "1   77566.577701  21262.32069   39479.372299     274.162308      421.817312  \n",
       "2  155903.056159  41059.72859   81077.233841     291.644726      439.341591  \n",
       "\n",
       "[3 rows x 133 columns]"
      ]
     },
     "execution_count": 83,
     "metadata": {},
     "output_type": "execute_result"
    }
   ],
   "source": [
    "MG.head(3)"
   ]
  },
  {
   "cell_type": "code",
   "execution_count": null,
   "metadata": {},
   "outputs": [],
   "source": []
  },
  {
   "cell_type": "code",
   "execution_count": 84,
   "metadata": {},
   "outputs": [
    {
     "data": {
      "text/html": [
       "<div>\n",
       "<style scoped>\n",
       "    .dataframe tbody tr th:only-of-type {\n",
       "        vertical-align: middle;\n",
       "    }\n",
       "\n",
       "    .dataframe tbody tr th {\n",
       "        vertical-align: top;\n",
       "    }\n",
       "\n",
       "    .dataframe thead th {\n",
       "        text-align: right;\n",
       "    }\n",
       "</style>\n",
       "<table border=\"1\" class=\"dataframe\">\n",
       "  <thead>\n",
       "    <tr style=\"text-align: right;\">\n",
       "      <th></th>\n",
       "      <th>Est_dem_kWh_year</th>\n",
       "      <th>HMG_cap</th>\n",
       "      <th>HMG_Inv</th>\n",
       "    </tr>\n",
       "  </thead>\n",
       "  <tbody>\n",
       "    <tr>\n",
       "      <th>0</th>\n",
       "      <td>21053.24</td>\n",
       "      <td>17.33</td>\n",
       "      <td>85942.27</td>\n",
       "    </tr>\n",
       "    <tr>\n",
       "      <th>1</th>\n",
       "      <td>10478.07</td>\n",
       "      <td>9.22</td>\n",
       "      <td>43421.15</td>\n",
       "    </tr>\n",
       "    <tr>\n",
       "      <th>2</th>\n",
       "      <td>23878.97</td>\n",
       "      <td>23.05</td>\n",
       "      <td>90427.29</td>\n",
       "    </tr>\n",
       "    <tr>\n",
       "      <th>4</th>\n",
       "      <td>20124.95</td>\n",
       "      <td>16.57</td>\n",
       "      <td>82155.49</td>\n",
       "    </tr>\n",
       "    <tr>\n",
       "      <th>5</th>\n",
       "      <td>27552.70</td>\n",
       "      <td>27.22</td>\n",
       "      <td>104972.74</td>\n",
       "    </tr>\n",
       "  </tbody>\n",
       "</table>\n",
       "</div>"
      ],
      "text/plain": [
       "   Est_dem_kWh_year  HMG_cap    HMG_Inv\n",
       "0          21053.24    17.33   85942.27\n",
       "1          10478.07     9.22   43421.15\n",
       "2          23878.97    23.05   90427.29\n",
       "4          20124.95    16.57   82155.49\n",
       "5          27552.70    27.22  104972.74"
      ]
     },
     "execution_count": 84,
     "metadata": {},
     "output_type": "execute_result"
    }
   ],
   "source": [
    "MG[[\"Est_dem_kWh_year\",\"HMG_cap\", \"HMG_Inv\"]].head(5)"
   ]
  },
  {
   "cell_type": "code",
   "execution_count": 85,
   "metadata": {},
   "outputs": [],
   "source": [
    "#outpath= r\"C:\\Users\\alexl\\Dropbox\\Self-employment\\WBG\\Work\\GEP\\WHO_HF\\Output\"\n",
    "MG.to_csv(os.path.join(outpath,r\"{}-sample_output.csv\").format(MG[\"Country\"].mode()[0]), index=False)"
   ]
  },
  {
   "cell_type": "code",
   "execution_count": null,
   "metadata": {},
   "outputs": [],
   "source": []
  },
  {
   "cell_type": "code",
   "execution_count": null,
   "metadata": {},
   "outputs": [],
   "source": []
  },
  {
   "cell_type": "markdown",
   "metadata": {},
   "source": [
    "## Testing space"
   ]
  },
  {
   "cell_type": "code",
   "execution_count": null,
   "metadata": {},
   "outputs": [],
   "source": []
  },
  {
   "cell_type": "code",
   "execution_count": 150,
   "metadata": {
    "code_folding": [
     0
    ]
   },
   "outputs": [],
   "source": [
    "def load_curve(tier, energy_per_hh):\n",
    "        # the values below define the load curve for the five tiers. The values reflect the share of the daily demand\n",
    "        # expected in each hour of the day (sum of all values for one tier = 1)\n",
    "        tier5_load_curve = [0.021008403, 0.021008403, 0.021008403, 0.021008403, 0.027310924, 0.037815126,\n",
    "                            0.042016807, 0.042016807, 0.042016807, 0.042016807, 0.042016807, 0.042016807,\n",
    "                            0.042016807, 0.042016807, 0.042016807, 0.042016807, 0.046218487, 0.050420168,\n",
    "                            0.067226891, 0.084033613, 0.073529412, 0.052521008, 0.033613445, 0.023109244]\n",
    "        tier4_load_curve = [0.017167382, 0.017167382, 0.017167382, 0.017167382, 0.025751073, 0.038626609,\n",
    "                            0.042918455, 0.042918455, 0.042918455, 0.042918455, 0.042918455, 0.042918455,\n",
    "                            0.042918455, 0.042918455, 0.042918455, 0.042918455, 0.0472103, 0.051502146,\n",
    "                            0.068669528, 0.08583691, 0.075107296, 0.053648069, 0.034334764, 0.021459227]\n",
    "        tier3_load_curve = [0.013297872, 0.013297872, 0.013297872, 0.013297872, 0.019060284, 0.034574468,\n",
    "                            0.044326241, 0.044326241, 0.044326241, 0.044326241, 0.044326241, 0.044326241,\n",
    "                            0.044326241, 0.044326241, 0.044326241, 0.044326241, 0.048758865, 0.053191489,\n",
    "                            0.070921986, 0.088652482, 0.077570922, 0.055407801, 0.035460993, 0.019946809]\n",
    "        tier2_load_curve = [0.010224949, 0.010224949, 0.010224949, 0.010224949, 0.019427403, 0.034764826,\n",
    "                            0.040899796, 0.040899796, 0.040899796, 0.040899796, 0.040899796, 0.040899796,\n",
    "                            0.040899796, 0.040899796, 0.040899796, 0.040899796, 0.04601227, 0.056237219,\n",
    "                            0.081799591, 0.102249489, 0.089468303, 0.06390593, 0.038343558, 0.017893661]\n",
    "        tier1_load_curve = [0, 0, 0, 0, 0.012578616, 0.031446541, 0.037735849, 0.037735849, 0.037735849,\n",
    "                            0.037735849, 0.037735849, 0.037735849, 0.037735849, 0.037735849, 0.037735849,\n",
    "                            0.037735849, 0.044025157, 0.062893082, 0.100628931, 0.125786164, 0.110062893,\n",
    "                            0.078616352, 0.044025157, 0.012578616]\n",
    "\n",
    "        if tier == 1:\n",
    "            load_curve = tier1_load_curve * 365\n",
    "        elif tier == 2:\n",
    "            load_curve = tier2_load_curve * 365\n",
    "        elif tier == 3:\n",
    "            load_curve = tier3_load_curve * 365\n",
    "        elif tier == 4:\n",
    "            load_curve = tier4_load_curve * 365\n",
    "        else:\n",
    "            load_curve = tier5_load_curve * 365\n",
    "\n",
    "        return np.array(load_curve) * energy_per_hh / 365"
   ]
  },
  {
   "cell_type": "code",
   "execution_count": 151,
   "metadata": {},
   "outputs": [],
   "source": [
    "load_curve = load_curve(1, 1000)"
   ]
  },
  {
   "cell_type": "code",
   "execution_count": null,
   "metadata": {},
   "outputs": [],
   "source": []
  },
  {
   "cell_type": "code",
   "execution_count": 152,
   "metadata": {},
   "outputs": [],
   "source": [
    "discount_rate = 0.13"
   ]
  },
  {
   "cell_type": "code",
   "execution_count": 153,
   "metadata": {},
   "outputs": [
    {
     "data": {
      "text/plain": [
       "6490.1255540130605"
      ]
     },
     "execution_count": 153,
     "metadata": {},
     "output_type": "execute_result"
    }
   ],
   "source": [
    "40591 / ((1 + discount_rate) ** 15)"
   ]
  },
  {
   "cell_type": "code",
   "execution_count": 154,
   "metadata": {
    "code_folding": []
   },
   "outputs": [
    {
     "ename": "NameError",
     "evalue": "name 'sang_costs' is not defined",
     "output_type": "error",
     "traceback": [
      "\u001b[1;31m---------------------------------------------------------------------------\u001b[0m",
      "\u001b[1;31mNameError\u001b[0m                                 Traceback (most recent call last)",
      "\u001b[1;32m<ipython-input-154-b94854c1c827>\u001b[0m in \u001b[0;36m<module>\u001b[1;34m\u001b[0m\n\u001b[0;32m      1\u001b[0m \u001b[1;32mfor\u001b[0m \u001b[0myear\u001b[0m \u001b[1;32min\u001b[0m \u001b[0mrange\u001b[0m\u001b[1;33m(\u001b[0m\u001b[1;36m16\u001b[0m\u001b[1;33m)\u001b[0m\u001b[1;33m:\u001b[0m\u001b[1;33m\u001b[0m\u001b[1;33m\u001b[0m\u001b[0m\n\u001b[1;32m----> 2\u001b[1;33m     \u001b[0msang_costs\u001b[0m \u001b[1;33m+=\u001b[0m \u001b[1;36m40591\u001b[0m \u001b[1;33m/\u001b[0m \u001b[1;33m(\u001b[0m\u001b[1;33m(\u001b[0m\u001b[1;36m1\u001b[0m \u001b[1;33m+\u001b[0m \u001b[0mdiscount_rate\u001b[0m\u001b[1;33m)\u001b[0m \u001b[1;33m**\u001b[0m \u001b[0myear\u001b[0m\u001b[1;33m)\u001b[0m\u001b[1;33m\u001b[0m\u001b[1;33m\u001b[0m\u001b[0m\n\u001b[0m\u001b[0;32m      3\u001b[0m \u001b[0mprint\u001b[0m\u001b[1;33m(\u001b[0m\u001b[0msang_costs\u001b[0m\u001b[1;33m)\u001b[0m\u001b[1;33m\u001b[0m\u001b[1;33m\u001b[0m\u001b[0m\n",
      "\u001b[1;31mNameError\u001b[0m: name 'sang_costs' is not defined"
     ]
    }
   ],
   "source": [
    "for year in range(16):\n",
    "    sang_costs += 40591 / ((1 + discount_rate) ** year)\n",
    "print(sang_costs)"
   ]
  },
  {
   "cell_type": "code",
   "execution_count": 325,
   "metadata": {},
   "outputs": [
    {
     "data": {
      "text/plain": [
       "369.73699566640926"
      ]
     },
     "execution_count": 325,
     "metadata": {},
     "output_type": "execute_result"
    }
   ],
   "source": [
    "estimate_annual_gen_opex_costs(2700, 0.13, 15, 1)"
   ]
  },
  {
   "cell_type": "code",
   "execution_count": 396,
   "metadata": {},
   "outputs": [
    {
     "name": "stdout",
     "output_type": "stream",
     "text": [
      "The annual cost is approximately $2706.12 for each year.\n"
     ]
    }
   ],
   "source": [
    "def calculate_annual_cost(npv, discount_rate, num_years):\n",
    "    annual_cost = npv * (discount_rate / (1 - (1 + discount_rate) ** -num_years))\n",
    "    return annual_cost\n",
    "\n",
    "# Example usage:\n",
    "npv = 17488  # Replace with your NPV value\n",
    "discount_rate = 0.13  # Replace with your discount rate\n",
    "num_years = 15  # Replace with the number of years\n",
    "\n",
    "annual_cost = calculate_annual_cost(npv, discount_rate, num_years)\n",
    "print(f\"The annual cost is approximately ${annual_cost:.2f} for each year.\")\n"
   ]
  },
  {
   "cell_type": "code",
   "execution_count": 397,
   "metadata": {},
   "outputs": [
    {
     "data": {
      "text/plain": [
       "40591.799999999996"
      ]
     },
     "execution_count": 397,
     "metadata": {},
     "output_type": "execute_result"
    }
   ],
   "source": [
    "2706.12*15"
   ]
  },
  {
   "cell_type": "code",
   "execution_count": 129,
   "metadata": {
    "code_folding": []
   },
   "outputs": [],
   "source": [
    "def estimate_annual_gen_opex_costs(npv, discount_rate, num_years, year_stop):\n",
    "    annual_cost = npv * (discount_rate / (1 - (1 + discount_rate) ** -num_years))\n",
    "    annual_costs = []\n",
    "    total_costs = 0\n",
    "    for current_year in range(1, num_years + 1):\n",
    "        present_value = annual_cost / ((1 + discount_rate) ** current_year)\n",
    "        annual_costs.append(present_value)\n",
    "        if current_year <= year_stop:\n",
    "            total_costs += present_value\n",
    "    return total_costs"
   ]
  },
  {
   "cell_type": "code",
   "execution_count": 130,
   "metadata": {},
   "outputs": [],
   "source": [
    "# Example usage:\n",
    "npv = 17448.422822824465  # Replace with your NPV value\n",
    "discount_rate = 0.13  # Replace with your discount rate\n",
    "num_years = 15  # Replace with the number of years\n",
    "year = 1\n",
    "\n",
    "annual_costs = estimate_annual_gen_opex_costs(npv, discount_rate, num_years, year)\n",
    "#print (sum(total_costs))\n",
    "#for year, cost in enumerate(total_costs, 1):\n",
    "#    print(f\"Year {year}: ${cost:.2f}\")"
   ]
  },
  {
   "cell_type": "code",
   "execution_count": 133,
   "metadata": {},
   "outputs": [
    {
     "data": {
      "text/plain": [
       "5730.5977836215325"
      ]
     },
     "execution_count": 133,
     "metadata": {},
     "output_type": "execute_result"
    }
   ],
   "source": [
    "annual_costs*15 / ((1 + 0.13) ** 15)"
   ]
  },
  {
   "cell_type": "code",
   "execution_count": null,
   "metadata": {},
   "outputs": [],
   "source": [
    "17448.42282282448\n",
    "Year 1: $2389.38\n",
    "Year 2: $2114.50\n",
    "Year 3: $1871.24\n",
    "Year 4: $1655.96\n",
    "Year 5: $1465.45\n",
    "Year 6: $1296.86\n",
    "Year 7: $1147.66\n",
    "Year 8: $1015.63\n",
    "Year 9: $898.79\n",
    "Year 10: $795.39\n",
    "Year 11: $703.88\n",
    "Year 12: $622.91\n",
    "Year 13: $551.24\n",
    "Year 14: $487.83\n",
    "Year 15: $431.71"
   ]
  },
  {
   "cell_type": "code",
   "execution_count": null,
   "metadata": {},
   "outputs": [],
   "source": []
  },
  {
   "cell_type": "code",
   "execution_count": 215,
   "metadata": {},
   "outputs": [],
   "source": [
    "test = [15441.082144092448,\n",
    " 13664.674463798628,\n",
    " 12092.632268848343,\n",
    " 10701.4444857065,\n",
    " 9470.304854607524,\n",
    " 8380.800756289846,\n",
    " 7416.637837424642,\n",
    " 6563.396316304993,\n",
    " 5808.315324163711,\n",
    " 5140.102056782046,\n",
    " 4548.762882108006,\n",
    " 4025.4538779716872,\n",
    " 3562.3485645767146,\n",
    " 3152.5208536077125,\n",
    " 2789.841463369657]"
   ]
  },
  {
   "cell_type": "code",
   "execution_count": 229,
   "metadata": {},
   "outputs": [
    {
     "data": {
      "text/plain": [
       "112758.31814965245"
      ]
     },
     "execution_count": 229,
     "metadata": {},
     "output_type": "execute_result"
    }
   ],
   "source": [
    "sum(test[0:15])"
   ]
  },
  {
   "cell_type": "code",
   "execution_count": 202,
   "metadata": {},
   "outputs": [
    {
     "data": {
      "text/plain": [
       "17448.422822824465"
      ]
     },
     "execution_count": 202,
     "metadata": {},
     "output_type": "execute_result"
    }
   ],
   "source": [
    "calculate_opex_npc(150*18, 0.13, 15)"
   ]
  },
  {
   "cell_type": "code",
   "execution_count": null,
   "metadata": {},
   "outputs": [],
   "source": []
  },
  {
   "cell_type": "code",
   "execution_count": null,
   "metadata": {},
   "outputs": [],
   "source": []
  },
  {
   "cell_type": "code",
   "execution_count": 48,
   "metadata": {
    "code_folding": [
     0
    ]
   },
   "outputs": [],
   "source": [
    "def load_curve(bba, bbb, bbc, bbpme, bbprod):\n",
    "        # the values below define the load curve for the five tiers. The values reflect the share of the daily demand\n",
    "        # expected in each hour of the day (sum of all values for one tier = 1)\n",
    "        ba_load_curve = [0.988074348, 0.83234137, 0.780348447, 0.895071886, 1.29452897, 1.427317285,\n",
    "                         1.427143895, 2.036533853, 2.788021073, 3.132621618, 3.398067297, 3.597146625,\n",
    "                         3.749088177, 3.619622164, 3.645379008, 3.798564636, 4.140905488, 6.288317305,\n",
    "                         9.012611343, 8.343100334, 6.300316324, 3.931731497, 2.193525721, 1.379620337]\n",
    "        \n",
    "        bb_load_curve = [3.184482155, 2.873016199, 2.769030352, 2.99847723, 3.797391399, 4.062968029, \n",
    "                         4.062621248, 5.281401164, 6.784375605, 7.473576694, 8.004468052, 8.402626707, \n",
    "                         8.706509811, 8.447577786, 8.499091475, 8.805462731, 9.490144434, 13.78496807, \n",
    "                         19.23355614, 17.89453413, 13.80896611, 9.071796452, 5.5953849, 3.967574132]\n",
    "        \n",
    "        bc_load_curve = [8.923873354, 8.047396638, 7.614331638, 7.763438133, 9.507818801, 12.4321089,\n",
    "                         13.48321774, 14.41446325, 15.87567906, 16.28469545, 17.16546017, 17.7633564,\n",
    "                         18.49249621, 19.22393746, 19.1473699, 18.37923754, 17.41429094, 23.6968058, \n",
    "                         40.54912477, 48.55186439, 44.0975794, 32.05947574, 19.32369079, 11.78828855]\n",
    "        \n",
    "        bpme_load_curve = [0.250823098, 0.250823098, 0.250823098, 0.250823098, 0.250823098, 0.250823098,\n",
    "                           7.645880133, 18.30034088, 30.36078872, 42.83318642, 49.9405017, 52.93860082,\n",
    "                           49.93452555, 44.38491667, 35.85872985, 27.40653484, 20.76932651, 32.56118326,\n",
    "                           62.28781859, 74.50081552, 62.8359663, 36.32711164, 17.17269706, 4.690252421]\n",
    "        \n",
    "        bprod_load_curve = [12.51341557,  12.49088602, 12.47672647, 16.65231446, 21.62811274, 73.12221043, \n",
    "                            307.3487742, 619.3246364, 907.5906364, 919.5741762, 1038.177627, 1124.612654,\n",
    "                            1022.608964, 896.7845886, 959.4059058, 857.2820323, 729.2917592, 482.4635076,\n",
    "                            108.3151878, 50.78451089, 60.39546483, 26.100591, 13.54589784, 12.50942015]\n",
    "\n",
    "        \n",
    "        ba_load_curve = [i * bba for i in ba_load_curve]\n",
    "        bb_load_curve = [i * bbb for i in bb_load_curve]\n",
    "        bc_load_curve = [i * bbc for i in bc_load_curve]\n",
    "        bpme_load_curve = [i * bbpme for i in bpme_load_curve]\n",
    "        bprod_load_curve = [i * bbprod for i in bprod_load_curve]\n",
    "        \n",
    "        load_curve = [sum(x) for x in zip(ba_load_curve, bb_load_curve, bc_load_curve, bpme_load_curve, bprod_load_curve )] * 365\n",
    "\n",
    "        load_curve = [i / 1000 for i in load_curve]\n",
    "        \n",
    "        return np.array(load_curve) "
   ]
  },
  {
   "cell_type": "code",
   "execution_count": 50,
   "metadata": {},
   "outputs": [
    {
     "data": {
      "text/plain": [
       "31707.128296431823"
      ]
     },
     "execution_count": 50,
     "metadata": {},
     "output_type": "execute_result"
    }
   ],
   "source": [
    "sum(load_curve(135,103,23,23,3))"
   ]
  },
  {
   "cell_type": "code",
   "execution_count": null,
   "metadata": {},
   "outputs": [],
   "source": [
    "ba_load_curve = [0.988074348, 0.83234137, 0.780348447, 0.895071886, 1.29452897, 1.427317285,\n",
    "                         1.427143895, 2.036533853, 2.788021073, 3.132621618, 3.398067297, 3.597146625,\n",
    "                         3.749088177, 3.619622164, 3.645379008, 3.798564636, 4.140905488, 6.288317305,\n",
    "                         9.012611343, 8.343100334, 6.300316324, 3.931731497, 2.193525721, 1.379620337]"
   ]
  },
  {
   "cell_type": "code",
   "execution_count": null,
   "metadata": {},
   "outputs": [],
   "source": []
  },
  {
   "cell_type": "code",
   "execution_count": null,
   "metadata": {},
   "outputs": [],
   "source": []
  },
  {
   "cell_type": "code",
   "execution_count": 9,
   "metadata": {},
   "outputs": [
    {
     "data": {
      "text/plain": [
       "78.999999001"
      ]
     },
     "execution_count": 9,
     "metadata": {},
     "output_type": "execute_result"
    }
   ],
   "source": [
    "ba_load_curve = [0.988074348, 0.83234137, 0.780348447, 0.895071886, 1.29452897, 1.427317285,\n",
    "                         1.427143895, 2.036533853, 2.788021073, 3.132621618, 3.398067297, 3.597146625,\n",
    "                         3.749088177, 3.619622164, 3.645379008, 3.798564636, 4.140905488, 6.288317305,\n",
    "                         9.012611343, 8.343100334, 6.300316324, 3.931731497, 2.193525721, 1.379620337]\n",
    "sum(ba_load_curve)"
   ]
  },
  {
   "cell_type": "code",
   "execution_count": 12,
   "metadata": {},
   "outputs": [
    {
     "data": {
      "text/plain": [
       "187.00000100500003"
      ]
     },
     "execution_count": 12,
     "metadata": {},
     "output_type": "execute_result"
    }
   ],
   "source": [
    "bb_load_curve = [3.184482155, 2.873016199, 2.769030352, 2.99847723, 3.797391399, 4.062968029, \n",
    "                         4.062621248, 5.281401164, 6.784375605, 7.473576694, 8.004468052, 8.402626707, \n",
    "                         8.706509811, 8.447577786, 8.499091475, 8.805462731, 9.490144434, 13.78496807, \n",
    "                         19.23355614, 17.89453413, 13.80896611, 9.071796452, 5.5953849, 3.967574132]\n",
    "\n",
    "\n",
    "\n",
    "sum(bb_load_curve)"
   ]
  },
  {
   "cell_type": "code",
   "execution_count": 13,
   "metadata": {},
   "outputs": [
    {
     "data": {
      "text/plain": [
       "462.00000102399997"
      ]
     },
     "execution_count": 13,
     "metadata": {},
     "output_type": "execute_result"
    }
   ],
   "source": [
    "bc_load_curve = [8.923873354, 8.047396638, 7.614331638, 7.763438133, 9.507818801, 12.4321089,\n",
    "                         13.48321774, 14.41446325, 15.87567906, 16.28469545, 17.16546017, 17.7633564,\n",
    "                         18.49249621, 19.22393746, 19.1473699, 18.37923754, 17.41429094, 23.6968058, \n",
    "                         40.54912477, 48.55186439, 44.0975794, 32.05947574, 19.32369079, 11.78828855]\n",
    "\n",
    "sum(bc_load_curve)"
   ]
  },
  {
   "cell_type": "code",
   "execution_count": 14,
   "metadata": {},
   "outputs": [
    {
     "data": {
      "text/plain": [
       "672.254115472"
      ]
     },
     "execution_count": 14,
     "metadata": {},
     "output_type": "execute_result"
    }
   ],
   "source": [
    "bpme_load_curve = [0.250823098, 0.250823098, 0.250823098, 0.250823098, 0.250823098, 0.250823098,\n",
    "                           7.645880133, 18.30034088, 30.36078872, 42.83318642, 49.9405017, 52.93860082,\n",
    "                           49.93452555, 44.38491667, 35.85872985, 27.40653484, 20.76932651, 32.56118326,\n",
    "                           62.28781859, 74.50081552, 62.8359663, 36.32711164, 17.17269706, 4.690252421]\n",
    "\n",
    "sum(bpme_load_curve)"
   ]
  },
  {
   "cell_type": "code",
   "execution_count": 15,
   "metadata": {},
   "outputs": [
    {
     "data": {
      "text/plain": [
       "10284.999999900001"
      ]
     },
     "execution_count": 15,
     "metadata": {},
     "output_type": "execute_result"
    }
   ],
   "source": [
    "bprod_load_curve = [12.51341557,  12.49088602, 12.47672647, 16.65231446, 21.62811274, 73.12221043, \n",
    "                            307.3487742, 619.3246364, 907.5906364, 919.5741762, 1038.177627, 1124.612654,\n",
    "                            1022.608964, 896.7845886, 959.4059058, 857.2820323, 729.2917592, 482.4635076,\n",
    "                            108.3151878, 50.78451089, 60.39546483, 26.100591, 13.54589784, 12.50942015]\n",
    "\n",
    "\n",
    "sum(bprod_load_curve)"
   ]
  },
  {
   "cell_type": "code",
   "execution_count": 57,
   "metadata": {},
   "outputs": [
    {
     "data": {
      "text/plain": [
       "31707.5135"
      ]
     },
     "execution_count": 57,
     "metadata": {},
     "output_type": "execute_result"
    }
   ],
   "source": [
    "135*79/1000*365 + 103*187.0/1000*365 + 23*462.0/1000*365+ 23*672.3/1000*365+3*10285/1000*365"
   ]
  },
  {
   "cell_type": "code",
   "execution_count": 110,
   "metadata": {},
   "outputs": [
    {
     "name": "stdout",
     "output_type": "stream",
     "text": [
      "LCOE: 0.4299248743249196\n"
     ]
    }
   ],
   "source": [
    "def calculate_lcoe(Ct, Cr, Cm, E, T):\n",
    "    LCOE = (Ct + Cr + Cm) / (E * (1 - T))\n",
    "    return LCOE\n",
    "\n",
    "# Example usage:\n",
    "capital_costs = 832810.258710727  # $1,000,000\n",
    "recurring_costs = 0  # $50,000 per year\n",
    "financing_costs = 0  # $200,000\n",
    "electricity_generated = 2226559.169052446 # 500,000 MWh over the lifetime\n",
    "effective_tax_rate = 0.13  # 30% effective tax rate\n",
    "\n",
    "lcoe = calculate_lcoe(capital_costs, recurring_costs, financing_costs, electricity_generated, effective_tax_rate)\n",
    "print(\"LCOE:\", lcoe)\n"
   ]
  },
  {
   "cell_type": "code",
   "execution_count": 116,
   "metadata": {},
   "outputs": [
    {
     "data": {
      "text/plain": [
       "4556.406533227035"
      ]
     },
     "execution_count": 116,
     "metadata": {},
     "output_type": "execute_result"
    }
   ],
   "source": [
    "303760.435548469*15/1000"
   ]
  },
  {
   "cell_type": "code",
   "execution_count": 81,
   "metadata": {},
   "outputs": [],
   "source": [
    "def calculate_total_revenue(yearly_revenue:float, discount_rate:float, years:int) -> float:\n",
    "    \"\"\"\n",
    "    Calculates the discounted yearly revenue over the next 15 years given a fixed rate.\n",
    "    :param discount_rate: The fixed rate.\n",
    "    :param yearly_revenue: the yearly revenue.\n",
    "    :param years: the number of years\n",
    "    :return: The discounted revenue.\n",
    "    \"\"\"\n",
    "    \n",
    "    total_revenue = 0\n",
    "    for year in range(1, years + 1):\n",
    "        present_value = yearly_revenue / ((1 + discount_rate) ** year)\n",
    "        total_revenue += present_value\n",
    "    return total_revenue"
   ]
  },
  {
   "cell_type": "code",
   "execution_count": 124,
   "metadata": {},
   "outputs": [
    {
     "data": {
      "text/plain": [
       "29445.182870339762"
      ]
     },
     "execution_count": 124,
     "metadata": {},
     "output_type": "execute_result"
    }
   ],
   "source": [
    "calculate_total_revenue(4556.4,0.13,15)"
   ]
  },
  {
   "cell_type": "code",
   "execution_count": 125,
   "metadata": {},
   "outputs": [
    {
     "name": "stdout",
     "output_type": "stream",
     "text": [
      "LCOE: 6.501952249656956\n"
     ]
    }
   ],
   "source": [
    "def calculate_lcoe(Ct, Cr, Cm, E, T, project_lifetime):\n",
    "    LCOE = (Ct + Cr + Cm) / (E * project_lifetime * (1 - T))\n",
    "    return LCOE\n",
    "\n",
    "# Example usage:\n",
    "capital_costs = 832810.258710727  # $1,000,000\n",
    "recurring_costs_per_year = 0  # $50,000 per year\n",
    "financing_costs = 0  # $200,000\n",
    "electricity_generated = 29445.1  # 500,000 MWh over the lifetime\n",
    "effective_tax_rate = 0.13  # 30% effective tax rate\n",
    "project_lifetime = 5  # 15 years\n",
    "\n",
    "# Calculate LCOE\n",
    "lcoe = calculate_lcoe(capital_costs, recurring_costs_per_year, financing_costs, electricity_generated, effective_tax_rate, project_lifetime)\n",
    "print(\"LCOE:\", lcoe)\n"
   ]
  },
  {
   "cell_type": "code",
   "execution_count": 101,
   "metadata": {},
   "outputs": [],
   "source": [
    "def calculate_sga_opex_npc(yearly_opex:float, discount_rate:float, years:int) -> float:\n",
    "    npv = 0\n",
    "    for year in range(0, years):\n",
    "        yearly_opex *= 1.05\n",
    "        present_value = yearly_opex / ((1 + discount_rate) ** year)\n",
    "        print (present_value)\n",
    "        npv += present_value\n",
    "    return npv"
   ]
  },
  {
   "cell_type": "code",
   "execution_count": 105,
   "metadata": {},
   "outputs": [
    {
     "name": "stdout",
     "output_type": "stream",
     "text": [
      "774.9\n",
      "739.6772727272727\n",
      "706.0555785123967\n",
      "673.9621431254694\n",
      "643.32750025613\n",
      "614.0853411535786\n",
      "586.1723711011432\n",
      "559.5281724147275\n",
      "534.0950736686035\n",
      "509.81802486548514\n",
      "486.6444782806903\n",
      "464.5242747224772\n",
      "443.40953496236455\n",
      "423.2545561004389\n",
      "404.01571264132804\n",
      "385.6513620667222\n",
      "368.121754700053\n",
      "351.38894766823233\n",
      "335.41672277422174\n",
      "320.17050810266625\n"
     ]
    },
    {
     "data": {
      "text/plain": [
       "10324.219329844003"
      ]
     },
     "execution_count": 105,
     "metadata": {},
     "output_type": "execute_result"
    }
   ],
   "source": [
    "calculate_sga_opex_npc(738, 0.1, 20)"
   ]
  }
 ],
 "metadata": {
  "kernelspec": {
   "display_name": "Python 3",
   "language": "python",
   "name": "python3"
  },
  "language_info": {
   "codemirror_mode": {
    "name": "ipython",
    "version": 3
   },
   "file_extension": ".py",
   "mimetype": "text/x-python",
   "name": "python",
   "nbconvert_exporter": "python",
   "pygments_lexer": "ipython3",
   "version": "3.8.5"
  }
 },
 "nbformat": 4,
 "nbformat_minor": 4
}
