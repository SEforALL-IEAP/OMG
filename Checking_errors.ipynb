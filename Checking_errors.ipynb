{
 "cells": [
  {
   "cell_type": "markdown",
   "id": "783afe1a",
   "metadata": {},
   "source": [
    "# Open Source Spatial Electrification Toolkit for Mini Grids (OnSSET-MG)\n",
    "\n",
    "**OnSSET-MG** is a modified version of the Open Source Spatial Electrification Toolkit ([OnSSET](https://github.com/OnSSET)) that is dedicated to the Mini Grid design. The tool performs two key tasks: a) sizing of mini grid components and b) automated design of the distribution network."
   ]
  },
  {
   "cell_type": "markdown",
   "id": "0bd9918a",
   "metadata": {},
   "source": [
    "Developed by: [SEforALL UIEP Team](https://www.seforall.org/programmes/universal-integrated-energy-plans) \n",
    "\n",
    "-------------------------------------------"
   ]
  },
  {
   "cell_type": "markdown",
   "id": "871a951a",
   "metadata": {},
   "source": [
    "This notebook is structured as follows: \n",
    "\n",
    "1. **Importing python libraries:** This section outlines the process for importing the required Python libraries or packages needed for the analysis\n",
    "2. **Defining working space:** Define the folder structure for storing and organizing data used in the notebook. This includes specifying locations for downloaded datasets, processed data, and any output files\n",
    "\n",
    "3. **Importing Datasets:** Import the key datasets required to run the code. This includes:\n",
    "    * Community alpha shape (cluster) --> vector polygon\n",
    "    * Building dataset --> vector polygon (or point)\n",
    "    * PV related environmental data --> .csv format\n",
    "    * Load profile -->  .csv format<br>\n",
    "    <br>\n",
    "4. **Technical and economic assumptions:** This section outlines any economic and technical assumptions made during the analysis\n",
    "\n",
    "5. **Optimization for Generation Sizing:** This section describes the optimization process for determining the optimal hybrid generation based on the imported data\n",
    "\n",
    "6. **Distribution Network Sizing:** Here a design of the distribution network for the Mini grid is generated\n",
    "\n",
    "7. **Analysis:** Some analysis are conducted highlighting the flexibility and advantages of using Python\n",
    "\n",
    "8. **Results:** Examples on how to export results from the model are showed\n",
    "\n",
    "--------------------------------------"
   ]
  },
  {
   "cell_type": "markdown",
   "id": "2b72b855",
   "metadata": {},
   "source": [
    "## 1. Importing python libraries required"
   ]
  },
  {
   "cell_type": "code",
   "execution_count": 1,
   "id": "e5322690",
   "metadata": {},
   "outputs": [],
   "source": [
    "## These are some essential Python packages for data science tasks. \n",
    "## They are widely used in various scripts because their combination allows to perform a powerful series of operations on data.\n",
    "\n",
    "import numpy as np\n",
    "import pandas as pd\n",
    "import matplotlib.pyplot as plt\n",
    "import os\n",
    "import time\n",
    "import math\n",
    "import warnings\n",
    "warnings.filterwarnings('ignore')\n",
    "\n",
    "## There are packages related to working with geospatial data and performing spatial analysis. \n",
    "## They allow you to represent and manipulate geographical features and data\n",
    "\n",
    "#import geopandas as gpd\n",
    "import shapely\n",
    "from shapely.geometry import LineString, Point, MultiLineString, Polygon, MultiPoint\n",
    "from shapely.ops import linemerge, nearest_points, unary_union, split, substring, voronoi_diagram\n",
    "from shapely import minimum_rotated_rectangle, unary_union\n",
    "from scipy.spatial import Voronoi, cKDTree\n",
    "import networkx as nx\n",
    "from scipy.optimize import Bounds, differential_evolution"
   ]
  },
  {
   "cell_type": "markdown",
   "id": "e50e71e0",
   "metadata": {},
   "source": [
    "We also need to import some additional functions coded by the developers to:\n",
    "* Optimize MG component sizing --> [Hybrids.py](./Hybrids.py)\n",
    "* Automation of distribution design --> [dist_funcs.py](./dist_funcs.py)"
   ]
  },
  {
   "cell_type": "code",
   "execution_count": 2,
   "id": "13111e65",
   "metadata": {},
   "outputs": [],
   "source": [
    "from hybrids import *\n",
    "from dist_funcs import *"
   ]
  },
  {
   "cell_type": "markdown",
   "id": "89141141",
   "metadata": {},
   "source": [
    " "
   ]
  },
  {
   "cell_type": "markdown",
   "id": "46570d96",
   "metadata": {},
   "source": [
    "## 2. Defining folders"
   ]
  },
  {
   "cell_type": "code",
   "execution_count": 3,
   "id": "6edf2877",
   "metadata": {},
   "outputs": [],
   "source": [
    "## Get the root directory\n",
    "ROOT_DIR = os.path.abspath(os.curdir)\n",
    "\n",
    "## Input folder \n",
    "admin_path = os.path.join(ROOT_DIR, \"Input_data\")\n",
    "if not os.path.exists(admin_path):\n",
    "    os.makedirs(admin_path)\n",
    "    \n",
    "##PV Data Folder\n",
    "pv_data_folder = admin_path + \"\\\\\" + \"pv\"\n",
    "if not os.path.exists(pv_data_folder):\n",
    "    os.makedirs(pv_data_folder)\n",
    "\n",
    "## Output folder \n",
    "outpath = os.path.join(ROOT_DIR, \"Output_Data\")\n",
    "if not os.path.exists(outpath):\n",
    "    os.makedirs(outpath)"
   ]
  },
  {
   "cell_type": "markdown",
   "id": "80a07d8d",
   "metadata": {},
   "source": [
    " "
   ]
  },
  {
   "cell_type": "markdown",
   "id": "8fafe16b",
   "metadata": {},
   "source": [
    "## 3. Importing Datasets"
   ]
  },
  {
   "cell_type": "markdown",
   "id": "a3ed9fdf",
   "metadata": {},
   "source": [
    "The model effectively runs based on four datasets:\n",
    "\n",
    "\n",
    "1. **Community alpha shape (cluster)** --> vector polygon data that characterize the boundary area of the community<br>\n",
    "\n",
    "2. **PV related environmental data** --> .csv format dataset that provides info re the Global Horizontal Irradiation (GHI) and temperature of the location\n",
    "\n",
    "3. **Building dataset**--> vector polygon (or point) data that characterize the structures/buildings withing the community\n",
    "\n",
    "4. **Load profile** --> .csv format dataset that aggregates the total electricity demand for the mini grid"
   ]
  },
  {
   "cell_type": "markdown",
   "id": "6468eb47-ad39-49ee-96b0-b429da750abf",
   "metadata": {},
   "source": [
    "### First, please provide the CRS suitable for your Area of Interest\n",
    "\n",
    "When calculating distances it is important to choose a coordinate system that represents distances correctly in your area of interest. The coordinate system that is given below is the World Mercator, these coordinate system works well for Sub Saharan Africa but the distortions get larger as you move away from the equator.\n",
    "\n",
    "In order to select your own coordinate system go to [epsg.io](http://epsg.io/) and type in your area of interest, this will give you a list of coordinate systems to choose from. Once you have selected your coordinate system replace the numbers below with the numbers from your coordinate system **(keep the \\\"EPSG\\\" part)**.\n",
    "\n",
    "**NOTE** When selecting your projection (target) coordinate system make sure that you select a system with the unit of meters."
   ]
  },
  {
   "cell_type": "code",
   "execution_count": 4,
   "id": "108d221d",
   "metadata": {},
   "outputs": [],
   "source": [
    "origin_crs = 'EPSG:4326'   ### WGS84 \n",
    "target_crs = 'EPSG:32615' ### For Guatemala"
   ]
  },
  {
   "cell_type": "markdown",
   "id": "80c39213",
   "metadata": {},
   "source": [
    "### And the name of the community\n",
    "\n",
    "Note that this should match the name of the community in the GIS layer containing the community boundaries."
   ]
  },
  {
   "cell_type": "code",
   "execution_count": 5,
   "id": "b68f69ff",
   "metadata": {},
   "outputs": [],
   "source": [
    "community = \"ALDEA EL PLATANAL\""
   ]
  },
  {
   "cell_type": "markdown",
   "id": "acb54d8e-93c1-4966-8aa0-b9be184343a0",
   "metadata": {},
   "source": [
    " "
   ]
  },
  {
   "cell_type": "markdown",
   "id": "61359a72",
   "metadata": {},
   "source": [
    "### 3.1 Community alpha shape (cluster)"
   ]
  },
  {
   "cell_type": "code",
   "execution_count": 6,
   "id": "7e835729",
   "metadata": {},
   "outputs": [],
   "source": [
    "## Read the layer indicating the alpha shape of the community (.shp | .gpkg | .geojson)\n",
    "cluster_polygons = gpd.read_file(r'Input_Data\\{}.gpkg'.format(community))"
   ]
  },
  {
   "cell_type": "markdown",
   "id": "c8ecc1bc",
   "metadata": {},
   "source": [
    "Data exploration is a crucial step in any data analysis process. It allows identification of key characteristics and potential issues within the data. While the data stored in *cluster_polygons* has been preprocessed in QGIS for this specific exercise, the script's functionality relies on a consistent data structure that aligns with its expected input.  From the variable *cluster_polygons*, there are three values that can be extracted: id, COMUNIDAD and geometry, being of interest the use of the geometry column."
   ]
  },
  {
   "cell_type": "code",
   "execution_count": 7,
   "id": "6982e96d",
   "metadata": {},
   "outputs": [
    {
     "data": {
      "text/html": [
       "<div>\n",
       "<style scoped>\n",
       "    .dataframe tbody tr th:only-of-type {\n",
       "        vertical-align: middle;\n",
       "    }\n",
       "\n",
       "    .dataframe tbody tr th {\n",
       "        vertical-align: top;\n",
       "    }\n",
       "\n",
       "    .dataframe thead th {\n",
       "        text-align: right;\n",
       "    }\n",
       "</style>\n",
       "<table border=\"1\" class=\"dataframe\">\n",
       "  <thead>\n",
       "    <tr style=\"text-align: right;\">\n",
       "      <th></th>\n",
       "      <th>id</th>\n",
       "      <th>COMUNIDAD</th>\n",
       "      <th>area_m2</th>\n",
       "      <th>NUMPOINTS</th>\n",
       "      <th>geometry</th>\n",
       "    </tr>\n",
       "  </thead>\n",
       "  <tbody>\n",
       "    <tr>\n",
       "      <th>0</th>\n",
       "      <td>2</td>\n",
       "      <td>ALDEA EL PLATANAL</td>\n",
       "      <td>1.8076404433573485</td>\n",
       "      <td>611.0</td>\n",
       "      <td>MULTIPOLYGON (((-91.39990 16.06588, -91.39627 ...</td>\n",
       "    </tr>\n",
       "  </tbody>\n",
       "</table>\n",
       "</div>"
      ],
      "text/plain": [
       "   id          COMUNIDAD             area_m2  NUMPOINTS  \\\n",
       "0   2  ALDEA EL PLATANAL  1.8076404433573485      611.0   \n",
       "\n",
       "                                            geometry  \n",
       "0  MULTIPOLYGON (((-91.39990 16.06588, -91.39627 ...  "
      ]
     },
     "execution_count": 7,
     "metadata": {},
     "output_type": "execute_result"
    }
   ],
   "source": [
    "cluster_polygons"
   ]
  },
  {
   "cell_type": "code",
   "execution_count": 8,
   "id": "f157ca83",
   "metadata": {},
   "outputs": [
    {
     "data": {
      "image/png": "[encoded data removed]",
      "text/plain": [
       "<Figure size 300x300 with 1 Axes>"
      ]
     },
     "metadata": {},
     "output_type": "display_data"
    }
   ],
   "source": [
    "# Vizualizing the community in focus\n",
    "fig, ax = plt.subplots(figsize=(3, 3))\n",
    "cluster_polygons.plot(ax=ax, edgecolor='black', alpha=0.2)\n",
    "ax.set_aspect('equal', 'box')\n",
    "txt = ax.set_title('{}'.format(community), size=8)\n",
    "ax.tick_params(axis='x', labelcolor='black', labelsize=6)\n",
    "ax.tick_params(axis='y', labelcolor='black', labelsize=6)"
   ]
  },
  {
   "cell_type": "markdown",
   "id": "22e3b4ff-3e41-4187-960e-c3358d6058cc",
   "metadata": {},
   "source": [
    " "
   ]
  },
  {
   "cell_type": "markdown",
   "id": "f4c6c5a1",
   "metadata": {},
   "source": [
    "### 3.2 Environmental characteristics: retrieving GHI and temperature"
   ]
  },
  {
   "cell_type": "markdown",
   "id": "ebb91e4a",
   "metadata": {},
   "source": [
    "The Global Horizontal Irradiation (GHI) and temperature data can be retrieved from [renewables ninja](https://www.renewables.ninja). Before proceeding, please consult the [documentation](https://www.renewables.ninja/documentation) as creating a user account and password is necessary to generate a token for downloading specific data. You can do this by following the steps below:\n",
    "1. Create a free account on the Renewables.ninja [website](https://www.renewables.ninja/register). Once registered, users gain the ability to download datasets and utilize the API for programmatic data retrieval.<br>\n",
    "<br>\n",
    "2. Log in. To access a personal API token, navigate to the profile by clicking on the symbol in the top right corner (usually a profile picture or icon) on [profile](https://www.renewables.ninja/profile).<br>\n",
    "<br>\n",
    "3. Within the profile settings, users can find their unique API token. This token should be copied and pasted between quotation marks (token = 'your_token_here') when using the API in the code."
   ]
  },
  {
   "cell_type": "code",
   "execution_count": 9,
   "id": "f5ea4927",
   "metadata": {},
   "outputs": [],
   "source": [
    "longitude = cluster_polygons.geometry.centroid.x[0]    ## retrieved using the centroid of the polygon\n",
    "latitude = cluster_polygons.geometry.centroid.y[0]     ## retrieved using the centroid of the polygon"
   ]
  },
  {
   "cell_type": "code",
   "execution_count": 10,
   "id": "673ab42e",
   "metadata": {},
   "outputs": [],
   "source": [
    "token = 'bef88efbac26a0e099542c98fc261c09d8d88ea5 '     ## To be retrieved through renewables ninja"
   ]
  },
  {
   "cell_type": "markdown",
   "id": "8c9ce295",
   "metadata": {},
   "source": [
    "**Execute the data acquisition function**"
   ]
  },
  {
   "cell_type": "code",
   "execution_count": 11,
   "id": "caa9a4a7",
   "metadata": {},
   "outputs": [],
   "source": [
    "get_pv_data(latitude, longitude, token, pv_data_folder)"
   ]
  },
  {
   "cell_type": "markdown",
   "id": "8be12bbc",
   "metadata": {},
   "source": [
    "By executing the function a Comma-Separated Values (CSV) file named pv_data_lat_yyyy_long_xxxx.csv should have been downloaded. In case that there have been changes in the latitude, longitude coordinates, the name of the file (yyyy,xxxx) will be different. This file contains the following data:\n",
    "\n",
    "+ time: Structured in hourly format.\n",
    "+ ghi: Units are in watt-hours (Wh).\n",
    "+ temperature: Units are in degrees Celsius (°C)."
   ]
  },
  {
   "cell_type": "markdown",
   "id": "8dc7139b",
   "metadata": {},
   "source": [
    "| time                     | ghi | temperature |\n",
    "|--------------------------|-----|-------------|\n",
    "| 2019-12-31 18:00:00-06:00| 0.0 | 23.407       |\n",
    "| 2019-12-31 19:00:00-06:00| 0.0 | 22.95       |\n"
   ]
  },
  {
   "cell_type": "markdown",
   "id": "6c4bd985",
   "metadata": {},
   "source": [
    "Finally, the read_environmental_data function defines two variables to extract 8,760 values for GHI and temperature. The function is designed to output two NumPy arrays containing this data. \n",
    "\n",
    "**Important Note**: If better access to higher-quality environmental data is available, it should be formatted identically to the expected structure of hourly_ghi and hourly_temp.."
   ]
  },
  {
   "cell_type": "code",
   "execution_count": 12,
   "id": "0c017827",
   "metadata": {},
   "outputs": [],
   "source": [
    "hourly_ghi, hourly_temp = read_environmental_data(os.path.join(pv_data_folder, 'pv_data_lat_{}_long_{}.csv'.format(latitude, longitude)))"
   ]
  },
  {
   "cell_type": "code",
   "execution_count": 13,
   "id": "1a0f1011",
   "metadata": {
    "code_folding": [
     0
    ]
   },
   "outputs": [
    {
     "data": {
      "image/png": "[encoded data removed]",
      "text/plain": [
       "<Figure size 800x400 with 1 Axes>"
      ]
     },
     "metadata": {},
     "output_type": "display_data"
    }
   ],
   "source": [
    "# Generate the array for hours of the year\n",
    "hours_of_year = np.arange(8760)  # Array from 0 to 8759\n",
    "# Create the plot\n",
    "plt.figure(figsize=(8, 4))\n",
    "plt.plot(hours_of_year, hourly_ghi, marker='', linestyle='-', color='b')\n",
    "# Labeling the axes\n",
    "plt.xlabel('Hours of the Year')\n",
    "plt.ylabel('Hourly GHI (W/m²)')\n",
    "# Adding a title\n",
    "plt.title('Hourly GHI over the Year for {}'.format(community))\n",
    "# Show grid\n",
    "plt.grid(True)\n",
    "# Display the plot\n",
    "plt.show()"
   ]
  },
  {
   "cell_type": "markdown",
   "id": "ca25a8b8",
   "metadata": {},
   "source": [
    " "
   ]
  },
  {
   "cell_type": "markdown",
   "id": "7137c428",
   "metadata": {},
   "source": [
    "### 3.3 Building footprints"
   ]
  },
  {
   "cell_type": "markdown",
   "id": "c0522330",
   "metadata": {},
   "source": [
    "Building footprints provide information on the location of houses to be electrified, which is crucial for determining the size of the minigrid's distribution network. Here, we are using data from [Google-Microsoft Open Buildings by VIDA](https://beta.source.coop/vida/google-microsoft-open-buildings/). The data can be downloaded directly from the link under the Download section on the provided link. \n",
    "\n",
    "The downloaded file will be in .fgb format and is quite large (around 2.2 GB for Guatemala). To optimize local resources, it is a good practice to clip the data in QGIS before using it in a notebook. Sample buildings withing \"Input_Data\" for \"Aldea Manaja\" have already been extracted for this exercise."
   ]
  },
  {
   "cell_type": "code",
   "execution_count": 14,
   "id": "1ff77b2b",
   "metadata": {},
   "outputs": [
    {
     "data": {
      "text/html": [
       "<div>\n",
       "<style scoped>\n",
       "    .dataframe tbody tr th:only-of-type {\n",
       "        vertical-align: middle;\n",
       "    }\n",
       "\n",
       "    .dataframe tbody tr th {\n",
       "        vertical-align: top;\n",
       "    }\n",
       "\n",
       "    .dataframe thead th {\n",
       "        text-align: right;\n",
       "    }\n",
       "</style>\n",
       "<table border=\"1\" class=\"dataframe\">\n",
       "  <thead>\n",
       "    <tr style=\"text-align: right;\">\n",
       "      <th></th>\n",
       "      <th>boundary_id</th>\n",
       "      <th>bf_source</th>\n",
       "      <th>confidence</th>\n",
       "      <th>area_in_meters</th>\n",
       "      <th>geometry</th>\n",
       "    </tr>\n",
       "  </thead>\n",
       "  <tbody>\n",
       "    <tr>\n",
       "      <th>0</th>\n",
       "      <td>41</td>\n",
       "      <td>google</td>\n",
       "      <td>0.6780</td>\n",
       "      <td>9.4854</td>\n",
       "      <td>MULTIPOLYGON (((-91.38341 16.06464, -91.38342 ...</td>\n",
       "    </tr>\n",
       "    <tr>\n",
       "      <th>1</th>\n",
       "      <td>41</td>\n",
       "      <td>google</td>\n",
       "      <td>0.8439</td>\n",
       "      <td>103.1116</td>\n",
       "      <td>MULTIPOLYGON (((-91.38474 16.06413, -91.38474 ...</td>\n",
       "    </tr>\n",
       "    <tr>\n",
       "      <th>2</th>\n",
       "      <td>41</td>\n",
       "      <td>google</td>\n",
       "      <td>0.8845</td>\n",
       "      <td>88.2280</td>\n",
       "      <td>MULTIPOLYGON (((-91.38483 16.06401, -91.38474 ...</td>\n",
       "    </tr>\n",
       "  </tbody>\n",
       "</table>\n",
       "</div>"
      ],
      "text/plain": [
       "   boundary_id bf_source  confidence  area_in_meters  \\\n",
       "0           41    google      0.6780          9.4854   \n",
       "1           41    google      0.8439        103.1116   \n",
       "2           41    google      0.8845         88.2280   \n",
       "\n",
       "                                            geometry  \n",
       "0  MULTIPOLYGON (((-91.38341 16.06464, -91.38342 ...  \n",
       "1  MULTIPOLYGON (((-91.38474 16.06413, -91.38474 ...  \n",
       "2  MULTIPOLYGON (((-91.38483 16.06401, -91.38474 ...  "
      ]
     },
     "execution_count": 14,
     "metadata": {},
     "output_type": "execute_result"
    }
   ],
   "source": [
    "households = gpd.read_file(r'Input_Data\\{} blds.gpkg'.format(community))\n",
    "households.head(3)"
   ]
  },
  {
   "cell_type": "markdown",
   "id": "0f6c4b11",
   "metadata": {},
   "source": [
    "---------------------------------"
   ]
  },
  {
   "cell_type": "code",
   "execution_count": 15,
   "id": "b0974d36",
   "metadata": {},
   "outputs": [
    {
     "data": {
      "image/png": "[encoded data removed]",
      "text/plain": [
       "<Figure size 500x500 with 1 Axes>"
      ]
     },
     "metadata": {},
     "output_type": "display_data"
    }
   ],
   "source": [
    "# Vizualizing structures within the community in focus\n",
    "fig, ax = plt.subplots(figsize=(5, 5))\n",
    "cluster_polygons.plot(ax=ax, edgecolor='black', alpha=0.2)\n",
    "households.plot(ax=ax, edgecolor='red', alpha=0.2)\n",
    "ax.set_aspect('equal', 'box')\n",
    "txt = ax.set_title('{}'.format(community), size=8)\n",
    "ax.tick_params(axis='x', labelcolor='black', labelsize=6)\n",
    "ax.tick_params(axis='y', labelcolor='black', labelsize=6)"
   ]
  },
  {
   "cell_type": "code",
   "execution_count": 16,
   "id": "696aad32",
   "metadata": {},
   "outputs": [
    {
     "name": "stdout",
     "output_type": "stream",
     "text": [
      "Total structures: 611\n",
      "area_in_meters\n",
      "<20 m2        70\n",
      "20-50 m2     162\n",
      "50-150 m2    336\n",
      ">150 m2       43\n",
      "Name: count, dtype: int64\n"
     ]
    }
   ],
   "source": [
    "# Define bins and labels\n",
    "bins = [0, 20, 50, 150, float('inf')]\n",
    "labels = ['<20 m2', '20-50 m2', '50-150 m2', '>150 m2']\n",
    "\n",
    "# Calculate the statistics without adding a new column\n",
    "area_brackets = pd.cut(households['area_in_meters'], bins=bins, labels=labels, right=False)\n",
    "bracket_stats = area_brackets.value_counts().sort_index()\n",
    "\n",
    "# Add the total sum as value per column\n",
    "for label in labels:\n",
    "    cluster_polygons[label] = bracket_stats[label]\n",
    "\n",
    "\n",
    "print (\"Total structures:\", households.shape[0])\n",
    "print (bracket_stats)"
   ]
  },
  {
   "cell_type": "markdown",
   "id": "47e46210",
   "metadata": {},
   "source": [
    "### 3.2 Demand"
   ]
  },
  {
   "cell_type": "markdown",
   "id": "ce9d353c",
   "metadata": {},
   "source": [
    "There are two primary methods for acquiring demand data:\n",
    "\n",
    "**OPTION 1.** Rough assumption of type of customers (based on developers experience) + indicative load curves per type\n",
    "\n",
    "**OPTION 2.** Site-Specific Data --> more detailed load profile per type of user (if available)"
   ]
  },
  {
   "cell_type": "markdown",
   "id": "89eccdcb",
   "metadata": {},
   "source": [
    " ------------------------------"
   ]
  },
  {
   "cell_type": "markdown",
   "id": "8d680585",
   "metadata": {},
   "source": [
    "#### OPTION 1. Load profile estimation based on predefined archetypes"
   ]
  },
  {
   "cell_type": "markdown",
   "id": "e142fb4e",
   "metadata": {},
   "source": [
    "Under this approach, number of customers and demand load curves per type of customer are derived based on empirical data. You can find the sample load curves in [Input_data](./Input_data)."
   ]
  },
  {
   "cell_type": "markdown",
   "id": "e68d4c08",
   "metadata": {},
   "source": [
    "#### Rough prediction of customer per type (residential bundle A, bundle B, bundle C, SME or PUE)"
   ]
  },
  {
   "cell_type": "code",
   "execution_count": 17,
   "id": "0a3adf15",
   "metadata": {},
   "outputs": [],
   "source": [
    "reasonablecons = 1        ## Connectivity rate of structures - for now this value should not be changed \n",
    "smeshare = 0.08             ## Share of sme customers as % of total potential connections\n",
    "bundleCshare = 0.08         ## Share of Residential Bundle C customers as % of total potential connections\n",
    "bundleBshare = 0.36         ## Share of Residential Bundle B customers as % of total potential connections\n",
    "\n",
    "cluster_polygons[\"Connections_All\"] = np.ceil(cluster_polygons[\"<20 m2\"] + \n",
    "                               cluster_polygons[\"20-50 m2\"]+ \n",
    "                               cluster_polygons[\"50-150 m2\"]+ \n",
    "                               cluster_polygons[\">150 m2\"]).astype(int)\n",
    "\n",
    "cluster_polygons[\"Potential_Con\"] = np.ceil(cluster_polygons[\"Connections_All\"]*reasonablecons)\n",
    "\n",
    "def assignPUoE(a, b, c, d, e):\n",
    "    puoe = int(round(-2.913362564 + (-0.00415764*a) + (0.008440603*b) + (0.016433547*c) + (0.722331464*d) + (-0.040674586*e),0))\n",
    "    if puoe <=0:\n",
    "        return 0\n",
    "    else:\n",
    "        return puoe\n",
    "\n",
    "cluster_polygons[\"PUoE\"] = cluster_polygons.apply(lambda row: assignPUoE(row[\"<20 m2\"],\n",
    "                                             row[\"20-50 m2\"],\n",
    "                                             row[\"50-150 m2\"],\n",
    "                                             row[\">150 m2\"],\n",
    "                                             0), axis=1)\n",
    "\n",
    "cluster_polygons[\"SME\"] = np.ceil((cluster_polygons[\"Potential_Con\"] - cluster_polygons[\"PUoE\"])*smeshare)\n",
    "    \n",
    "cluster_polygons[\"ResC\"] = np.ceil((cluster_polygons[\"Potential_Con\"] - cluster_polygons[\"PUoE\"])*bundleCshare)\n",
    "                     \n",
    "cluster_polygons[\"ResB\"] = np.ceil((cluster_polygons[\"Potential_Con\"] - cluster_polygons[\"PUoE\"])*bundleBshare)\n",
    "                     \n",
    "cluster_polygons[\"ResA\"] = (cluster_polygons[\"Potential_Con\"] - cluster_polygons[\"PUoE\"] - cluster_polygons[\"SME\"] - cluster_polygons[\"ResC\"]- cluster_polygons[\"ResB\"])"
   ]
  },
  {
   "cell_type": "code",
   "execution_count": 18,
   "id": "bdf328c0",
   "metadata": {},
   "outputs": [
    {
     "data": {
      "text/html": [
       "<div>\n",
       "<style scoped>\n",
       "    .dataframe tbody tr th:only-of-type {\n",
       "        vertical-align: middle;\n",
       "    }\n",
       "\n",
       "    .dataframe tbody tr th {\n",
       "        vertical-align: top;\n",
       "    }\n",
       "\n",
       "    .dataframe thead th {\n",
       "        text-align: right;\n",
       "    }\n",
       "</style>\n",
       "<table border=\"1\" class=\"dataframe\">\n",
       "  <thead>\n",
       "    <tr style=\"text-align: right;\">\n",
       "      <th></th>\n",
       "      <th>id</th>\n",
       "      <th>COMUNIDAD</th>\n",
       "      <th>area_m2</th>\n",
       "      <th>NUMPOINTS</th>\n",
       "      <th>geometry</th>\n",
       "      <th>&lt;20 m2</th>\n",
       "      <th>20-50 m2</th>\n",
       "      <th>50-150 m2</th>\n",
       "      <th>&gt;150 m2</th>\n",
       "      <th>Connections_All</th>\n",
       "      <th>Potential_Con</th>\n",
       "      <th>PUoE</th>\n",
       "      <th>SME</th>\n",
       "      <th>ResC</th>\n",
       "      <th>ResB</th>\n",
       "      <th>ResA</th>\n",
       "    </tr>\n",
       "  </thead>\n",
       "  <tbody>\n",
       "    <tr>\n",
       "      <th>0</th>\n",
       "      <td>2</td>\n",
       "      <td>ALDEA EL PLATANAL</td>\n",
       "      <td>1.8076404433573485</td>\n",
       "      <td>611.0</td>\n",
       "      <td>MULTIPOLYGON (((-91.39990 16.06588, -91.39627 ...</td>\n",
       "      <td>70</td>\n",
       "      <td>162</td>\n",
       "      <td>336</td>\n",
       "      <td>43</td>\n",
       "      <td>611</td>\n",
       "      <td>611.0</td>\n",
       "      <td>35</td>\n",
       "      <td>47.0</td>\n",
       "      <td>47.0</td>\n",
       "      <td>208.0</td>\n",
       "      <td>274.0</td>\n",
       "    </tr>\n",
       "  </tbody>\n",
       "</table>\n",
       "</div>"
      ],
      "text/plain": [
       "   id          COMUNIDAD             area_m2  NUMPOINTS  \\\n",
       "0   2  ALDEA EL PLATANAL  1.8076404433573485      611.0   \n",
       "\n",
       "                                            geometry  <20 m2  20-50 m2  \\\n",
       "0  MULTIPOLYGON (((-91.39990 16.06588, -91.39627 ...      70       162   \n",
       "\n",
       "   50-150 m2  >150 m2  Connections_All  Potential_Con  PUoE   SME  ResC  \\\n",
       "0        336       43              611          611.0    35  47.0  47.0   \n",
       "\n",
       "    ResB   ResA  \n",
       "0  208.0  274.0  "
      ]
     },
     "execution_count": 18,
     "metadata": {},
     "output_type": "execute_result"
    }
   ],
   "source": [
    "cluster_polygons"
   ]
  },
  {
   "cell_type": "markdown",
   "id": "8dabd53e",
   "metadata": {},
   "source": [
    " "
   ]
  },
  {
   "cell_type": "code",
   "execution_count": 19,
   "id": "d7770c44",
   "metadata": {},
   "outputs": [],
   "source": [
    "#load_curve = calc_load_curve(tier_load, total_demand)\n",
    "load_curve = calc_load_curve(cluster_polygons[\"ResA\"][0],\n",
    "                             cluster_polygons[\"ResB\"][0],\n",
    "                             cluster_polygons[\"ResC\"][0],\n",
    "                             cluster_polygons[\"SME\"][0],\n",
    "                             cluster_polygons[\"PUoE\"][0])"
   ]
  },
  {
   "cell_type": "markdown",
   "id": "9d76c121",
   "metadata": {},
   "source": [
    "----------------------------------"
   ]
  },
  {
   "cell_type": "markdown",
   "id": "9fd63e06",
   "metadata": {},
   "source": [
    "#### OPTION 2. Site-Specific Data (if available)"
   ]
  },
  {
   "cell_type": "markdown",
   "id": "199e2972",
   "metadata": {},
   "source": [
    "This approach requires that demand load curves adhere to a specific data structure to be compatible with the *load_curve* variable. This format requires 8760 hourly values representing hourly consumption in kW. "
   ]
  },
  {
   "cell_type": "code",
   "execution_count": 20,
   "id": "7f85b3c1",
   "metadata": {
    "code_folding": []
   },
   "outputs": [],
   "source": [
    "# demand_csv = pd.read_csv('PATH_TO_CSV')\n",
    "# load_curve = demand_csv['Demand_col']"
   ]
  },
  {
   "cell_type": "markdown",
   "id": "6f6a6858",
   "metadata": {},
   "source": [
    "------------------------------"
   ]
  },
  {
   "cell_type": "markdown",
   "id": "13ef83be",
   "metadata": {},
   "source": [
    "Regardless of the approach used the *annual_demand* is a variable should be specified for the use to calculate LCOE.."
   ]
  },
  {
   "cell_type": "code",
   "execution_count": 21,
   "id": "37c18557",
   "metadata": {},
   "outputs": [],
   "source": [
    "annual_demand = sum(load_curve)"
   ]
  },
  {
   "cell_type": "markdown",
   "id": "3e8c3fe9",
   "metadata": {},
   "source": [
    " "
   ]
  },
  {
   "cell_type": "markdown",
   "id": "177b3c63",
   "metadata": {},
   "source": [
    "## 4. Technical and economic assumptions"
   ]
  },
  {
   "cell_type": "markdown",
   "id": "ffdc591d",
   "metadata": {},
   "source": [
    "### 4.1 Technical and economic assumptions for optimisation of the generation"
   ]
  },
  {
   "cell_type": "markdown",
   "id": "81318c33",
   "metadata": {},
   "source": [
    "The following technical and economic parameters are used for the optimization of generation in the microgrid. Please update these values based on the specific local context of analysis to ensure accurate results. Be mindful of units, as inconsistencies can lead to unexpected outcomes.\n",
    "\n",
    "**General parameters**"
   ]
  },
  {
   "cell_type": "code",
   "execution_count": 22,
   "id": "9d003b70",
   "metadata": {},
   "outputs": [],
   "source": [
    "start_year=2024\n",
    "end_year=2049\n",
    "discount_rate=0.08      ##The annual rate of return expected on an investment over the project's lifetime. This value is expressed as a percentage"
   ]
  },
  {
   "cell_type": "markdown",
   "id": "42ea4bf3",
   "metadata": {},
   "source": [
    "**Diesel generator**"
   ]
  },
  {
   "cell_type": "code",
   "execution_count": 23,
   "id": "6434d7c5",
   "metadata": {},
   "outputs": [],
   "source": [
    "diesel_price=0.872     ## Diesel Price (USD/liter): The cost of diesel fuel used for generator operation\n",
    "diesel_cost=350        ## Diesel Generator Cost (USD/kW): The initial capital cost of purchasing and installing a diesel generator, per kilowatt of rated power\n",
    "diesel_om=0.1           ## Diesel Operational and mainenance Cost (USD/kW/year): The annual cost of operating and maintaining the diesel generator, share of CAPEX\n",
    "diesel_life=10         ## Diesel Generator Lifetime (years): The expected number of years the diesel generator will be operational before requiring replacement\n",
    "diesel_limit=0.5       ## Diesel Limit (0-1): This value sets the maximum allowable contribution of the diesel generator to the microgrid's annual electricity generation. It is expressed as a decimal between 0 and 1"
   ]
  },
  {
   "cell_type": "markdown",
   "id": "51d428de",
   "metadata": {},
   "source": [
    "**Batteries | Storage**"
   ]
  },
  {
   "cell_type": "code",
   "execution_count": 24,
   "id": "77a825af",
   "metadata": {},
   "outputs": [],
   "source": [
    "battery_cost=400           ## Battery Capital Cost (USD/kWh): The initial capital cost of purchasing and installing a battery storage system, per kilowatt-hour of storage capacity\n",
    "full_life_cycles=2000      ## Battery Lifetime (cycles): The expected number of full charge/discharge cycles the battery can undergo before reaching its end of life\n",
    "battery_inverter_cost=250  ## Battery Inverter Cost (USD/kW): The initial capital cost of purchasing and installing a battery inverter, per kilowatt of power\n",
    "battery_inverter_life=20   ## Battery Inverter Lifetime (years): The expected number of years the battery inverter will be operational before requiring replacement\n",
    "n_chg=0.90                 ## Battery Charging Efficiency (0-1): This parameter represents the efficiency of the battery charging process, accounting for energy losses during charging cycles. It is expressed as a decimal between 0 and 1\n",
    "n_dis=0.9                  ## Battery Discharging Efficiency (0-1): This parameter represents the efficiency of the battery discharging process, accounting for energy losses during discharging cycles. It is expressed as a decimal between 0 and 1\n",
    "dod_max=0.9                ## Dept-of-discharge (DOD) (0-1): DOD represents the percentage of a battery's total capacity that has been discharged in a single cycle, relative to its full charge capacity. It is expressed as a decimal between 0 and 1"
   ]
  },
  {
   "cell_type": "markdown",
   "id": "67fc2b5c",
   "metadata": {},
   "source": [
    "**Solar panels  & Inverter**"
   ]
  },
  {
   "cell_type": "code",
   "execution_count": 25,
   "id": "c45c6c87",
   "metadata": {},
   "outputs": [],
   "source": [
    "pv_cost=1200          ## PV Panel Cost (USD/kWp): The initial capital cost of purchasing and installing photovoltaic (PV) panels, per watt-peak (Wp) of rated power output\n",
    "pv_om=0.025           ## PV O&M Cost (USD/kWp/year): The annual cost of operating and maintaining the PV system, share of CAPEX. This includes costs for cleaning, monitoring, and minor repairs\n",
    "pv_inverter=175       ## PV Inverter Cost (USD/kWp): The initial capital cost of purchasing and installing a solar inverter, per kilowatt-peak (Wp) of PV installed capacity. If this cost is already included in the PV Panel Cost, set this value to 0\n",
    "charge_controller=0   ## Solar Charge Controller Cost (USD/kWp): The initial capital cost of purchasing and installing a solar charge controller, per kilowatt-peak (Wp) of PV panel capacity. If this cost is already included in the PV Panel Cost, set this value to 0\n",
    "pv_life=25            ## PV System Lifetime (years): The expected number of years the PV system (panels and inverter) will be operational before requiring replacement\n",
    "inv_eff=0.93          ## Inverter Efficiency (0-1): This parameter represents the efficiency of the inverter, which accounts for energy losses during conversion from DC to AC"
   ]
  },
  {
   "cell_type": "markdown",
   "id": "6f1ac5d0",
   "metadata": {},
   "source": [
    "**Minigrid parameter**\n",
    "\n",
    "Loss of Power Supply Probability (LPSP): This parameter indicates the reliability of the microgrid in supplying electricity. A lower LPSP signifies a more reliable system with a lower chance of power outages."
   ]
  },
  {
   "cell_type": "code",
   "execution_count": 26,
   "id": "330543ce",
   "metadata": {},
   "outputs": [],
   "source": [
    "lpsp_max=0.005"
   ]
  },
  {
   "cell_type": "markdown",
   "id": "f45cf397",
   "metadata": {},
   "source": [
    "### 4.2 Technical and economic assumptions for optimisation of the generation"
   ]
  },
  {
   "cell_type": "markdown",
   "id": "60e00f4b",
   "metadata": {},
   "source": [
    "The sizing process generates two outputs related to the distribution grid: a GeoJSON file containing detailed information about the designed grid, disaggregated by the type of line (trunk, lateral, service drop), and a point layer file for poles that specifies their spatial locations. By incorporating capital costs (installation costs) and operational costs into the analysis, it's possible to estimate the Levelized Cost of Energy (LCOE) for the entire distribution network. To calculate the LCOE, you'll need the following variables:"
   ]
  },
  {
   "cell_type": "markdown",
   "id": "38e08994",
   "metadata": {},
   "source": [
    "Cost of distribution lines (USD/km), which refers to the capital cost associated with installing one kilometer of distribution lines within the community"
   ]
  },
  {
   "cell_type": "code",
   "execution_count": 27,
   "id": "c3a18f00",
   "metadata": {},
   "outputs": [],
   "source": [
    "cost_grid_km = 2000     ## LV line (0.2 – 0.4 kV) | Cost of low voltage distribution (approximation) -- overhead line, ABC type 100 mm2 Aluminium"
   ]
  },
  {
   "cell_type": "markdown",
   "id": "fea90abc",
   "metadata": {},
   "source": [
    "Cost of Poles (USD/Pole): which refers to the capital cost associated with installing supporting poles for distribution"
   ]
  },
  {
   "cell_type": "code",
   "execution_count": 28,
   "id": "8e91b59b",
   "metadata": {},
   "outputs": [],
   "source": [
    "cost_pole = 150+26+72.2+34+60     ## pole + overhead accessories + lightning protection + labour cost --> per pole\n",
    "pole_dist = 50                    ## meters"
   ]
  },
  {
   "cell_type": "markdown",
   "id": "d8f08dae",
   "metadata": {},
   "source": [
    "Service drop | Customer connection costs"
   ]
  },
  {
   "cell_type": "code",
   "execution_count": 29,
   "id": "22e0b231",
   "metadata": {},
   "outputs": [],
   "source": [
    "con_cost = 173 # overhead access. | meter | ready board+rectifier"
   ]
  },
  {
   "cell_type": "markdown",
   "id": "c9236d1e",
   "metadata": {},
   "source": [
    "Operational & Maintenance costs (% initial investment): The annual cost of operating and maintaining the grid as percentage of initial investment"
   ]
  },
  {
   "cell_type": "code",
   "execution_count": 30,
   "id": "ae334368",
   "metadata": {},
   "outputs": [],
   "source": [
    "grid_om = 0.05"
   ]
  },
  {
   "cell_type": "markdown",
   "id": "96ad774c",
   "metadata": {},
   "source": [
    "### 4.3 Labour and logistics costs"
   ]
  },
  {
   "cell_type": "code",
   "execution_count": 31,
   "id": "5a9227ec",
   "metadata": {},
   "outputs": [],
   "source": [
    "labour_cost =  100      ## Labour cost ~ 100 USD/kWp\n",
    "trans_cost = 27         ## Transportation of material | 27 USD/connection"
   ]
  },
  {
   "cell_type": "markdown",
   "id": "a261ce5a",
   "metadata": {},
   "source": [
    "### 4.4 Selling general and administrative (SG&A) costs"
   ]
  },
  {
   "cell_type": "code",
   "execution_count": 32,
   "id": "825ec984",
   "metadata": {},
   "outputs": [],
   "source": [
    "sga_cost = 18          ## $/connection/year ($1.5/con/month) which adds to the operation and maintenance costs"
   ]
  },
  {
   "cell_type": "code",
   "execution_count": 33,
   "id": "bf204c79",
   "metadata": {},
   "outputs": [],
   "source": [
    "total_cost_sga = sga_cost*len(households)"
   ]
  },
  {
   "cell_type": "markdown",
   "id": "4baf3838",
   "metadata": {},
   "source": [
    " "
   ]
  },
  {
   "cell_type": "markdown",
   "id": "821f8a26",
   "metadata": {},
   "source": [
    "## 5. Optimization for Generation Sizing"
   ]
  },
  {
   "cell_type": "markdown",
   "id": "368b86bf",
   "metadata": {},
   "source": [
    "The *optimizer_de* function finds the least-cost design for a microgrid system. It considers economic and techincal factors through user-provided data (look step No 4). First, it calculates total electricity demand and defines acceptable ranges for PV, battery, and diesel generator capacities. Then, it creates an objective function (opt_func) that calculates the Levelized Cost of Energy (LCOE) for a specific system configuration. This involves simulating electricity generation from PV, battery usage, and diesel reliance based on hourly data. Finally, it employs a Differential Evolution algorithm to search for the combination of PV, battery, and diesel capacities that minimizes the overall LCOE for the microgrid system. \n",
    "\n",
    "The function returns the optimal system configuration (PV, battery, and diesel capacities) that achieves the minimum LCOE for the microgrid system, as well as other variables that are of interest to analize: unmet demand, diesel generaton share, investment, fuel cost, Operational & Maintenance Cost, battery energy and battery life. "
   ]
  },
  {
   "cell_type": "code",
   "execution_count": 34,
   "id": "e6da0dc5",
   "metadata": {},
   "outputs": [],
   "source": [
    "additional_values_storage = []\n",
    "\n",
    "def optimizer_de(diesel_price,\n",
    "                 hourly_ghi,\n",
    "                 hourly_temp,\n",
    "                 load_curve,\n",
    "                 diesel_cost,  # diesel generator capital cost, USD/kW rated power\n",
    "                 discount_rate,\n",
    "                 n_chg,  # charge efficiency of battery\n",
    "                 n_dis,  # discharge efficiency of battery\n",
    "                 battery_cost,  # battery capital cost, USD/kWh of storage capacity\n",
    "                 pv_cost,  # PV panel capital cost, USD/kW peak power\n",
    "                 charge_controller,  # PV charge controller cost, USD/kW peak power, set to 0 if already included in pv_cost\n",
    "                 pv_inverter,  # PV inverter cost, USD/kW peak power, set to 0 if already included in pv_cost\n",
    "                 pv_life,  # PV panel expected lifetime, years\n",
    "                 diesel_life,  # diesel generator expected lifetime, years\n",
    "                 pv_om,  # annual OM cost of PV panels\n",
    "                 diesel_om,  # annual OM cost of diesel generator\n",
    "                 battery_inverter_cost,\n",
    "                 battery_inverter_life,\n",
    "                 dod_max,  # maximum depth of discharge of battery\n",
    "                 inv_eff,  # inverter_efficiency\n",
    "                 lpsp_max,  # maximum loss of load allowed over the year, in share of kWh\n",
    "                 diesel_limit,\n",
    "                 full_life_cycles,\n",
    "                 start_year,\n",
    "                 end_year,\n",
    "                 ):\n",
    "\n",
    "    demand = load_curve.sum()\n",
    "\n",
    "    # The following lines defines the solution space for the Particle Swarm Optimization (PSO) algorithm\n",
    "    battery_bounds = [0, 5 * demand / 365]\n",
    "    pv_bounds = [0, 5 * max(load_curve)]\n",
    "    diesel_bounds = [0.5, max(load_curve)]\n",
    "    \n",
    "    min_bounds = np.array([pv_bounds[0], battery_bounds[0], diesel_bounds[0]])\n",
    "    max_bounds = np.array([pv_bounds[1], battery_bounds[1], diesel_bounds[1]])\n",
    "    bounds = Bounds(min_bounds, max_bounds)\n",
    "\n",
    "    # Create a series of the hour numbers (0-24) for one year\n",
    "    hour_numbers = np.empty(8760)\n",
    "    for i in range(365):\n",
    "        for j in range(24):\n",
    "            hour_numbers[i * 24 + j] = j\n",
    "\n",
    "    def opt_func(X):\n",
    "        global additional_values_storage  # Use global variable to store additional values\n",
    "        results = find_least_cost_option(X, hourly_temp, hourly_ghi, hour_numbers,\n",
    "                                         load_curve, inv_eff, n_dis, n_chg, dod_max,\n",
    "                                         diesel_price, end_year, start_year, pv_cost, charge_controller, pv_inverter, pv_om,\n",
    "                                         diesel_cost, diesel_om, battery_inverter_life, battery_inverter_cost, diesel_life, pv_life,\n",
    "                                         battery_cost, discount_rate, lpsp_max, diesel_limit, full_life_cycles)\n",
    "        \n",
    "        lcoe = results[0]\n",
    "        additional_values_storage = results[1:]  # Capture additional values\n",
    "                                       \n",
    "        return lcoe\n",
    "\n",
    "    minimizer_kwargs = {\"method\": \"BFGS\"}\n",
    "    pv_init = sum(pv_bounds) / 2\n",
    "    battery_init = sum(battery_bounds) / 2\n",
    "    diesel_init = sum(diesel_bounds) / 2\n",
    "    x0 = [pv_init, battery_init, diesel_init]\n",
    "    \n",
    "    result = differential_evolution(opt_func, bounds, popsize=15, init='latinhypercube')  # init='halton' on newer env\n",
    "\n",
    "    best_solution = result.x\n",
    "    lcoe = opt_func(best_solution)  # This call will also update additional_values_storage\n",
    "    \n",
    "    return {\n",
    "        \"best_solution\": best_solution,\n",
    "        \"lcoe\": lcoe,\n",
    "        \"additional_values\": additional_values_storage\n",
    "    }"
   ]
  },
  {
   "cell_type": "markdown",
   "id": "f81470b0",
   "metadata": {},
   "source": [
    "The following line will execute the function optimizer_de and store the results in the variable ret. It finishes with a message on the expected LCOE and the install capacities for Solar Panels, Batteries and diesel."
   ]
  },
  {
   "cell_type": "code",
   "execution_count": 35,
   "id": "62108d2a",
   "metadata": {},
   "outputs": [],
   "source": [
    "ret = optimizer_de(diesel_price=diesel_price, \n",
    "                   hourly_ghi=hourly_ghi,\n",
    "                   hourly_temp=hourly_temp,\n",
    "                   load_curve=load_curve,\n",
    "                   start_year=start_year,\n",
    "                   end_year=end_year,\n",
    "                   discount_rate=discount_rate,\n",
    "                   diesel_cost=diesel_cost,  \n",
    "                   battery_cost=battery_cost,  \n",
    "                   full_life_cycles=full_life_cycles, \n",
    "                   battery_inverter_cost=battery_inverter_cost,  \n",
    "                   pv_cost=pv_cost,  \n",
    "                   pv_inverter=pv_inverter, \n",
    "                   charge_controller=charge_controller, \n",
    "                   diesel_limit=diesel_limit, \n",
    "                   lpsp_max=lpsp_max,\n",
    "                   inv_eff=inv_eff,\n",
    "                   n_chg=n_chg,\n",
    "                   n_dis=n_dis,\n",
    "                   dod_max=dod_max,\n",
    "                   pv_om=pv_om,\n",
    "                   diesel_om=diesel_om,\n",
    "                   battery_inverter_life=battery_inverter_life,\n",
    "                   pv_life=pv_life,\n",
    "                   diesel_life=diesel_life)  "
   ]
  },
  {
   "cell_type": "markdown",
   "id": "e7ad5509",
   "metadata": {},
   "source": [
    "Examining some parameters within the ret variable provides insight into the optimization's progress."
   ]
  },
  {
   "cell_type": "code",
   "execution_count": 36,
   "id": "392b0295",
   "metadata": {},
   "outputs": [
    {
     "name": "stdout",
     "output_type": "stream",
     "text": [
      "Best LCOE: 0.283 USD/kWh\n",
      "Best PV capacity: 103.9 kW\n",
      "Best Battery capacity: 349.6 kWh\n",
      "Best Diesel capacity: 2.8 kW\n"
     ]
    }
   ],
   "source": [
    "print('Best LCOE: {} USD/kWh'.format(round(ret[\"lcoe\"],3)))\n",
    "print('Best PV capacity: {} kW'.format(round(ret[\"best_solution\"][0],1)))\n",
    "print('Best Battery capacity: {} kWh'.format(round(ret[\"best_solution\"][1],1)))\n",
    "print('Best Diesel capacity: {} kW'.format(round(ret[\"best_solution\"][2],1)))"
   ]
  },
  {
   "cell_type": "code",
   "execution_count": 37,
   "id": "3607ee3b",
   "metadata": {},
   "outputs": [],
   "source": [
    "total_cost_labour = round(ret[\"best_solution\"][0],1) * labour_cost"
   ]
  },
  {
   "cell_type": "markdown",
   "id": "c91c6f8a",
   "metadata": {},
   "source": [
    "## 6. Distribution Network Sizing"
   ]
  },
  {
   "cell_type": "markdown",
   "id": "274d4d75",
   "metadata": {},
   "source": [
    "This section will define quantities for the distribution grid and poles in the minigrid. The required data includes the cluster of the minigrid and the geolocation of the households. The following code explanation will clarify how it can be adapted with own data. The first step involves exploring the data to identify relevant attributes. For instance, the \"Polygones\" file likely contains attributes that describe the polygon geometry of a cluster. We can start by examining the GeoPandas file to understand the available attributes and then retrieve the geometry information for the cluster."
   ]
  },
  {
   "cell_type": "code",
   "execution_count": 38,
   "id": "8322b624",
   "metadata": {},
   "outputs": [
    {
     "data": {
      "text/html": [
       "<div>\n",
       "<style scoped>\n",
       "    .dataframe tbody tr th:only-of-type {\n",
       "        vertical-align: middle;\n",
       "    }\n",
       "\n",
       "    .dataframe tbody tr th {\n",
       "        vertical-align: top;\n",
       "    }\n",
       "\n",
       "    .dataframe thead th {\n",
       "        text-align: right;\n",
       "    }\n",
       "</style>\n",
       "<table border=\"1\" class=\"dataframe\">\n",
       "  <thead>\n",
       "    <tr style=\"text-align: right;\">\n",
       "      <th></th>\n",
       "      <th>id</th>\n",
       "      <th>COMUNIDAD</th>\n",
       "      <th>area_m2</th>\n",
       "      <th>NUMPOINTS</th>\n",
       "      <th>geometry</th>\n",
       "      <th>&lt;20 m2</th>\n",
       "      <th>20-50 m2</th>\n",
       "      <th>50-150 m2</th>\n",
       "      <th>&gt;150 m2</th>\n",
       "      <th>Connections_All</th>\n",
       "      <th>Potential_Con</th>\n",
       "      <th>PUoE</th>\n",
       "      <th>SME</th>\n",
       "      <th>ResC</th>\n",
       "      <th>ResB</th>\n",
       "      <th>ResA</th>\n",
       "    </tr>\n",
       "  </thead>\n",
       "  <tbody>\n",
       "    <tr>\n",
       "      <th>0</th>\n",
       "      <td>2</td>\n",
       "      <td>ALDEA EL PLATANAL</td>\n",
       "      <td>1.8076404433573485</td>\n",
       "      <td>611.0</td>\n",
       "      <td>MULTIPOLYGON (((-91.39990 16.06588, -91.39627 ...</td>\n",
       "      <td>70</td>\n",
       "      <td>162</td>\n",
       "      <td>336</td>\n",
       "      <td>43</td>\n",
       "      <td>611</td>\n",
       "      <td>611.0</td>\n",
       "      <td>35</td>\n",
       "      <td>47.0</td>\n",
       "      <td>47.0</td>\n",
       "      <td>208.0</td>\n",
       "      <td>274.0</td>\n",
       "    </tr>\n",
       "  </tbody>\n",
       "</table>\n",
       "</div>"
      ],
      "text/plain": [
       "   id          COMUNIDAD             area_m2  NUMPOINTS  \\\n",
       "0   2  ALDEA EL PLATANAL  1.8076404433573485      611.0   \n",
       "\n",
       "                                            geometry  <20 m2  20-50 m2  \\\n",
       "0  MULTIPOLYGON (((-91.39990 16.06588, -91.39627 ...      70       162   \n",
       "\n",
       "   50-150 m2  >150 m2  Connections_All  Potential_Con  PUoE   SME  ResC  \\\n",
       "0        336       43              611          611.0    35  47.0  47.0   \n",
       "\n",
       "    ResB   ResA  \n",
       "0  208.0  274.0  "
      ]
     },
     "execution_count": 38,
     "metadata": {},
     "output_type": "execute_result"
    }
   ],
   "source": [
    "cluster_polygons.head(2)"
   ]
  },
  {
   "cell_type": "markdown",
   "id": "556fa30b",
   "metadata": {},
   "source": [
    "The following steps involve using the \"COMUNIDAD\" column to identify the corresponding multipolygon shape from the \"geometry\" column. As mentioned earlier, the retrieved demand data pertains to a specific community within the administrative area of San Gaspar Ixchil. Therefore, the relevant geometry is the one associated with the community named \"ALDEA MANAJA\" within this area. It's important to note that all the spatial analysis discussed here was conducted  with QGIS."
   ]
  },
  {
   "cell_type": "markdown",
   "id": "1ae5eb4c",
   "metadata": {},
   "source": [
    "### Setting up households layer"
   ]
  },
  {
   "cell_type": "markdown",
   "id": "b6838033",
   "metadata": {},
   "source": [
    "The households layer was previously uploaded as Polygon Layer. The following lines changed the geometry to point and defines a new layer *households_centroids* with the *target_crs* for Guatemala"
   ]
  },
  {
   "cell_type": "code",
   "execution_count": 39,
   "id": "219caee3",
   "metadata": {},
   "outputs": [
    {
     "data": {
      "text/html": [
       "<div>\n",
       "<style scoped>\n",
       "    .dataframe tbody tr th:only-of-type {\n",
       "        vertical-align: middle;\n",
       "    }\n",
       "\n",
       "    .dataframe tbody tr th {\n",
       "        vertical-align: top;\n",
       "    }\n",
       "\n",
       "    .dataframe thead th {\n",
       "        text-align: right;\n",
       "    }\n",
       "</style>\n",
       "<table border=\"1\" class=\"dataframe\">\n",
       "  <thead>\n",
       "    <tr style=\"text-align: right;\">\n",
       "      <th></th>\n",
       "      <th>boundary_id</th>\n",
       "      <th>bf_source</th>\n",
       "      <th>confidence</th>\n",
       "      <th>area_in_meters</th>\n",
       "      <th>geometry</th>\n",
       "    </tr>\n",
       "  </thead>\n",
       "  <tbody>\n",
       "    <tr>\n",
       "      <th>0</th>\n",
       "      <td>41</td>\n",
       "      <td>google</td>\n",
       "      <td>0.6780</td>\n",
       "      <td>9.4854</td>\n",
       "      <td>POINT (672923.619 1776761.323)</td>\n",
       "    </tr>\n",
       "    <tr>\n",
       "      <th>1</th>\n",
       "      <td>41</td>\n",
       "      <td>google</td>\n",
       "      <td>0.8439</td>\n",
       "      <td>103.1116</td>\n",
       "      <td>POINT (672778.036 1776707.872)</td>\n",
       "    </tr>\n",
       "    <tr>\n",
       "      <th>2</th>\n",
       "      <td>41</td>\n",
       "      <td>google</td>\n",
       "      <td>0.8845</td>\n",
       "      <td>88.2280</td>\n",
       "      <td>POINT (672780.520 1776688.703)</td>\n",
       "    </tr>\n",
       "    <tr>\n",
       "      <th>3</th>\n",
       "      <td>41</td>\n",
       "      <td>google</td>\n",
       "      <td>0.7647</td>\n",
       "      <td>50.3426</td>\n",
       "      <td>POINT (672752.328 1776720.612)</td>\n",
       "    </tr>\n",
       "    <tr>\n",
       "      <th>4</th>\n",
       "      <td>41</td>\n",
       "      <td>google</td>\n",
       "      <td>0.8186</td>\n",
       "      <td>150.8796</td>\n",
       "      <td>POINT (672761.814 1776721.708)</td>\n",
       "    </tr>\n",
       "  </tbody>\n",
       "</table>\n",
       "</div>"
      ],
      "text/plain": [
       "   boundary_id bf_source  confidence  area_in_meters  \\\n",
       "0           41    google      0.6780          9.4854   \n",
       "1           41    google      0.8439        103.1116   \n",
       "2           41    google      0.8845         88.2280   \n",
       "3           41    google      0.7647         50.3426   \n",
       "4           41    google      0.8186        150.8796   \n",
       "\n",
       "                         geometry  \n",
       "0  POINT (672923.619 1776761.323)  \n",
       "1  POINT (672778.036 1776707.872)  \n",
       "2  POINT (672780.520 1776688.703)  \n",
       "3  POINT (672752.328 1776720.612)  \n",
       "4  POINT (672761.814 1776721.708)  "
      ]
     },
     "execution_count": 39,
     "metadata": {},
     "output_type": "execute_result"
    }
   ],
   "source": [
    "households_centroids_crs = households.copy()\n",
    "households_centroids_crs[\"geometry\"] =  households['geometry'].centroid\n",
    "households_centroids = households_centroids_crs.to_crs(target_crs)\n",
    "households_centroids.head()"
   ]
  },
  {
   "cell_type": "code",
   "execution_count": 41,
   "id": "4c5fd9c9",
   "metadata": {},
   "outputs": [],
   "source": [
    "# This will retrieve the polygon with the attribute 'COMUNIDAD' equal to the community name. This may need updating if working with another dataset\n",
    "polygon_data = cluster_polygons.loc[cluster_polygons['COMUNIDAD'] == community]\n",
    "polygon_data = polygon_data.to_crs(target_crs)\n",
    "polygon = polygon_data.geometry.iloc[0]"
   ]
  },
  {
   "cell_type": "code",
   "execution_count": 42,
   "id": "684576b7-c3ea-4a82-b773-3b9145d88263",
   "metadata": {},
   "outputs": [
    {
     "data": {
      "text/html": [
       "<div>\n",
       "<style scoped>\n",
       "    .dataframe tbody tr th:only-of-type {\n",
       "        vertical-align: middle;\n",
       "    }\n",
       "\n",
       "    .dataframe tbody tr th {\n",
       "        vertical-align: top;\n",
       "    }\n",
       "\n",
       "    .dataframe thead th {\n",
       "        text-align: right;\n",
       "    }\n",
       "</style>\n",
       "<table border=\"1\" class=\"dataframe\">\n",
       "  <thead>\n",
       "    <tr style=\"text-align: right;\">\n",
       "      <th></th>\n",
       "      <th>id</th>\n",
       "      <th>COMUNIDAD</th>\n",
       "      <th>area_m2</th>\n",
       "      <th>NUMPOINTS</th>\n",
       "      <th>geometry</th>\n",
       "      <th>&lt;20 m2</th>\n",
       "      <th>20-50 m2</th>\n",
       "      <th>50-150 m2</th>\n",
       "      <th>&gt;150 m2</th>\n",
       "      <th>Connections_All</th>\n",
       "      <th>Potential_Con</th>\n",
       "      <th>PUoE</th>\n",
       "      <th>SME</th>\n",
       "      <th>ResC</th>\n",
       "      <th>ResB</th>\n",
       "      <th>ResA</th>\n",
       "    </tr>\n",
       "  </thead>\n",
       "  <tbody>\n",
       "    <tr>\n",
       "      <th>0</th>\n",
       "      <td>2</td>\n",
       "      <td>ALDEA EL PLATANAL</td>\n",
       "      <td>1.8076404433573485</td>\n",
       "      <td>611.0</td>\n",
       "      <td>MULTIPOLYGON (((671159.594 1776884.537, 671546...</td>\n",
       "      <td>70</td>\n",
       "      <td>162</td>\n",
       "      <td>336</td>\n",
       "      <td>43</td>\n",
       "      <td>611</td>\n",
       "      <td>611.0</td>\n",
       "      <td>35</td>\n",
       "      <td>47.0</td>\n",
       "      <td>47.0</td>\n",
       "      <td>208.0</td>\n",
       "      <td>274.0</td>\n",
       "    </tr>\n",
       "  </tbody>\n",
       "</table>\n",
       "</div>"
      ],
      "text/plain": [
       "   id          COMUNIDAD             area_m2  NUMPOINTS  \\\n",
       "0   2  ALDEA EL PLATANAL  1.8076404433573485      611.0   \n",
       "\n",
       "                                            geometry  <20 m2  20-50 m2  \\\n",
       "0  MULTIPOLYGON (((671159.594 1776884.537, 671546...      70       162   \n",
       "\n",
       "   50-150 m2  >150 m2  Connections_All  Potential_Con  PUoE   SME  ResC  \\\n",
       "0        336       43              611          611.0    35  47.0  47.0   \n",
       "\n",
       "    ResB   ResA  \n",
       "0  208.0  274.0  "
      ]
     },
     "execution_count": 42,
     "metadata": {},
     "output_type": "execute_result"
    }
   ],
   "source": [
    "polygon_data"
   ]
  },
  {
   "cell_type": "markdown",
   "id": "edd3d3ea",
   "metadata": {},
   "source": [
    "#### Trunk Line Generation"
   ]
  },
  {
   "cell_type": "markdown",
   "id": "4598b0c8",
   "metadata": {},
   "source": [
    "This process outlines a method for generating a primary trunk line for settlements represented by polygon boundaries. \n",
    "\n",
    "1. **Boundary Points**: The user defines a spacing distance (default 50 meters) to create a set of evenly spaced points along the settlement polygon boundary.\n",
    "2. **Voronoi Polygons**: These points are used to divide the settlement polygon into smaller regions called Voronoi polygons.\n",
    "3. **Initial Trunk Line**: Edges of the Voronoi polygons are extracted, but any edge touching the settlement boundary is removed. This creates a preliminary version of the primary trunk line.\n",
    "4. **Simplifying the Trunk Line**: Intersections where the trunk line branches off are identified. Only segments of the trunk line meeting these criteria are kept:\n",
    "    * Located between two identified intersections.\n",
    "    * Longer than a user-specified distance threshold.\n",
    "5. **Splitting the Trunk Line**: The identified intersections are used to split the primary trunk line into separate segments. Any remaining long segments exceeding a user-defined distance threshold are also split."
   ]
  },
  {
   "cell_type": "code",
   "execution_count": 65,
   "id": "f4cd2a8e",
   "metadata": {},
   "outputs": [
    {
     "data": {
      "image/png": "[encoded data removed]",
      "text/plain": [
       "<Figure size 640x480 with 1 Axes>"
      ]
     },
     "metadata": {},
     "output_type": "display_data"
    }
   ],
   "source": [
    "# Create trunk line(s)\n",
    "trunk_lines = create_trunk_line(polygon, spacing=50, plot=True)\n",
    "\n",
    "# Simplify the trunk line(s)\n",
    "trunk_lines, intersects = simplify_trunk_lines(trunk_lines, length_removal=200, split_distance=750, plot=False)\n",
    "\n",
    "trunk_lines_gdf = gpd.GeoDataFrame(geometry=trunk_lines)"
   ]
  },
  {
   "cell_type": "code",
   "execution_count": 61,
   "id": "dde6a95c",
   "metadata": {},
   "outputs": [
    {
     "data": {
      "image/png": "[encoded data removed]",
      "text/plain": [
       "<Figure size 640x480 with 1 Axes>"
      ]
     },
     "metadata": {},
     "output_type": "display_data"
    }
   ],
   "source": [
    "# Identify which part of the polygon belongs to which part of the trunk line(s)\n",
    "voronois = voronoi_areas(trunk_lines_gdf, polygon, plot=True)"
   ]
  },
  {
   "cell_type": "markdown",
   "id": "5e66070b",
   "metadata": {},
   "source": [
    "#### Pole locations"
   ]
  },
  {
   "cell_type": "markdown",
   "id": "c995a613",
   "metadata": {},
   "source": [
    "With the voronoi areas, now the focus is on identifying poles to where households will be connected. In each sub-area of the settlement polygon:\n",
    "1. A mesh of evenly spaced points (default distance = 50 m) are created\n",
    "2. Points are aligned to the x- and y-axis of the minimum bounding rectangle that can encapsulate the sub-area.\n",
    "3. Any point that is close to the primary trunk line (default distance = 25 m) is excluded, as it is assumed that buildings within this distance would connect to a pole along the primary trunk line.\n",
    "4. Buildings are assigned to the nearest of the candidate poles created in the previous step.\n",
    "5. Finally, a Minimum Spanning Tree is created using NetworkX, to identify the secondary lines. The weights of the MST are assigned to favor in order:\n",
    "    +  lines that are (near) orthogonal to the primary trunk\n",
    "    + lines that are (near) parallel to the primary trunk \n",
    "    + diagonal lines \n",
    "    \n",
    "The MST is run iteratively, testing the removal of poles to which no building was assigned until the shortest MST has been achieved (i.e. no more of the poles without households can be removed)."
   ]
  },
  {
   "cell_type": "code",
   "execution_count": 66,
   "id": "7ecdcbba",
   "metadata": {},
   "outputs": [],
   "source": [
    "trunk_p = []\n",
    "assigned_p = []\n",
    "lv_l = []\n",
    "service_l = []\n",
    "mst_p = []\n",
    "all_p = []\n",
    "long_services = 0\n",
    "\n",
    "multi_trunks = []\n",
    "multi_trunks_len = []\n",
    "\n",
    "multi_secondary = []\n",
    "multi_secondary_len = []\n",
    "\n",
    "multi_service = []\n",
    "multi_service_len = []\n",
    "\n",
    "multi_poles = []\n",
    "multi_all_poles = []\n",
    "\n",
    "# Iterate over each part of the trunk line \n",
    "for id in range(len(trunk_lines)):\n",
    "    all_poles, trunk_poles, poles, angle_radians_w, angle_radians_l = create_candidate_poles_old(voronois[id], trunk_lines[id], pole_dist, buffer=25, plot=False)\n",
    "\n",
    "    trunk_p += trunk_poles\n",
    "    all_p += all_poles\n",
    "        \n",
    "    polygon_households = households_centroids.clip(voronois[id])\n",
    "\n",
    "    # Ensure households are not MultiPoint\n",
    "    polygon_households['geometry'] = polygon_households['geometry'].apply(convert_multipoint_to_point)\n",
    "\n",
    "    assigned_poles, service_drops = assign_households(all_poles, polygon_households)\n",
    "\n",
    "    assigned_p += all_poles\n",
    "    service_l += service_drops\n",
    "\n",
    "    for s in service_drops:\n",
    "        if s.length > 70:\n",
    "            long_services += 1\n",
    "\n",
    "    weight = 0.5  # Weighting factor for the MST\n",
    "\n",
    "    lv_lines, mst_poles = lv_lines_mst(all_poles, trunk_poles, assigned_poles, angle_radians_w, angle_radians_l, weight, plot=False)\n",
    "\n",
    "    lv_l += lv_lines\n",
    "    mst_p += mst_poles"
   ]
  },
  {
   "cell_type": "markdown",
   "id": "02529008",
   "metadata": {},
   "source": [
    "### Results"
   ]
  },
  {
   "cell_type": "markdown",
   "id": "af85b846",
   "metadata": {},
   "source": [
    "Geometry results from the sizing model (distribution networ and poles) are appended into a list and then store in geopandas format."
   ]
  },
  {
   "cell_type": "markdown",
   "id": "c72ad47e",
   "metadata": {},
   "source": [
    "Appending geometry results from previous sizing:"
   ]
  },
  {
   "cell_type": "code",
   "execution_count": 46,
   "id": "957d0322",
   "metadata": {},
   "outputs": [],
   "source": [
    "multi_all_poles.append(MultiPoint(all_p))\n",
    "\n",
    "multi_trunks.append(MultiLineString(trunk_lines))\n",
    "multi_trunks_len.append(MultiLineString(trunk_lines).length)\n",
    "\n",
    "multi_secondary.append(MultiLineString(lv_l))\n",
    "multi_secondary_len.append(MultiLineString(lv_l).length)\n",
    "\n",
    "multi_service.append(MultiLineString(service_l))\n",
    "multi_service_len.append(MultiLineString(service_l).length)\n",
    "\n",
    "multi_poles.append(MultiPoint(mst_p))"
   ]
  },
  {
   "cell_type": "markdown",
   "id": "c9b71c53",
   "metadata": {},
   "source": [
    "Assigning appended geometry results to GeoPandas format:"
   ]
  },
  {
   "cell_type": "code",
   "execution_count": 47,
   "id": "ffd72459",
   "metadata": {},
   "outputs": [],
   "source": [
    "trunks_gdf = gpd.GeoDataFrame()\n",
    "trunks_gdf['Length'] = multi_trunks_len\n",
    "trunks_gdf['Type'] = \"Trunk Line\"\n",
    "trunks_gdf.geometry = multi_trunks\n",
    "trunks_gdf.set_crs(target_crs, inplace=True)\n",
    "trunks_gdf['Community'] = community\n",
    "\n",
    "secondary_gdf = gpd.GeoDataFrame()\n",
    "secondary_gdf['Length'] = multi_secondary_len\n",
    "secondary_gdf['Type'] = \"Secondary Line\"\n",
    "secondary_gdf.geometry = multi_secondary\n",
    "secondary_gdf.set_crs(target_crs, inplace=True)\n",
    "secondary_gdf['Community'] = community\n",
    "\n",
    "service_gdf = gpd.GeoDataFrame()\n",
    "service_gdf['Length'] = multi_service_len\n",
    "service_gdf['Type'] = \"Service Line\"\n",
    "service_gdf.geometry = multi_service\n",
    "service_gdf.set_crs(target_crs, inplace=True)\n",
    "service_gdf['Community'] = community\n",
    "\n",
    "poles_gdf = gpd.GeoDataFrame()\n",
    "poles_gdf.geometry = multi_poles\n",
    "for i, multi_pole in enumerate(multi_poles):\n",
    "    num_poles = len(multi_pole.geoms)\n",
    "poles_gdf['No. Poles'] = num_poles\n",
    "poles_gdf.set_crs(target_crs, inplace=True)\n",
    "poles_gdf['Community'] = community\n",
    "poles_gdf.to_crs(4326, inplace=True)"
   ]
  },
  {
   "cell_type": "markdown",
   "id": "17d1422f",
   "metadata": {},
   "source": [
    "Finally, all the individual MultiLineString GeoDataGrames can be merged into a single GeoDataFrame for further analysis."
   ]
  },
  {
   "cell_type": "code",
   "execution_count": 48,
   "id": "a7b8c7ef",
   "metadata": {},
   "outputs": [],
   "source": [
    "total_grid_gdf = gpd.GeoDataFrame(pd.concat([trunks_gdf, secondary_gdf, service_gdf], ignore_index=True))"
   ]
  },
  {
   "cell_type": "markdown",
   "id": "62a134c9",
   "metadata": {},
   "source": [
    "The *total_grid_df* contains the three different kind of connection, and it is one of the main outputs of the OnSSET-MG tool."
   ]
  },
  {
   "cell_type": "markdown",
   "id": "cb8c688a",
   "metadata": {},
   "source": [
    "### Cost of distribution"
   ]
  },
  {
   "cell_type": "markdown",
   "id": "7e15a2f7",
   "metadata": {},
   "source": [
    "Earlier in the notebook *cost_grid_km* was defined. Now, the cost of the distribution grid can be estimated following the next equation:"
   ]
  },
  {
   "cell_type": "code",
   "execution_count": 49,
   "id": "31791935",
   "metadata": {},
   "outputs": [],
   "source": [
    "cost_grid = cost_grid_km * (sum(trunks_gdf[\"Length\"])/1000 + sum(secondary_gdf[\"Length\"])/1000)\n",
    "cost_service_drops = con_cost*(sum(service_gdf['Length'])/1000)"
   ]
  },
  {
   "cell_type": "markdown",
   "id": "c2bcf74a",
   "metadata": {},
   "source": [
    "*Cost_pole* was also defined, and it can also be called in this part to estimate the total cost of installing all the poles."
   ]
  },
  {
   "cell_type": "code",
   "execution_count": 50,
   "id": "adc7a313",
   "metadata": {},
   "outputs": [],
   "source": [
    "total_cost_poles = cost_pole * sum(poles_gdf[\"No. Poles\"])"
   ]
  },
  {
   "cell_type": "markdown",
   "id": "03bf597b",
   "metadata": {},
   "source": [
    "With the two defined variables *cost_grid* and *total_cost_poles*, the total cost of the grid is as follows:"
   ]
  },
  {
   "cell_type": "code",
   "execution_count": 51,
   "id": "985d8e85",
   "metadata": {},
   "outputs": [],
   "source": [
    "total_cost_grid = cost_grid + cost_service_drops + total_cost_poles"
   ]
  },
  {
   "cell_type": "markdown",
   "id": "11915b33",
   "metadata": {},
   "source": [
    "And Finally, the annual cost of Operationan & Maintenance are calculated based on a percentage of the total Capital Costs."
   ]
  },
  {
   "cell_type": "code",
   "execution_count": 52,
   "id": "a8163476",
   "metadata": {},
   "outputs": [],
   "source": [
    "total_om_grid = grid_om * total_cost_grid"
   ]
  },
  {
   "cell_type": "markdown",
   "id": "2dd63d90",
   "metadata": {},
   "source": [
    "The function to define de LCOE for the distribution grid can be calculated from the set of functions available in the OnSSET-MG tool. Notices that within the function, the time life of the grid was set in 30 years."
   ]
  },
  {
   "cell_type": "code",
   "execution_count": 53,
   "id": "a5c69787",
   "metadata": {},
   "outputs": [],
   "source": [
    "lcoe_distribution = calculate_distribution_lcoe(end_year=end_year, \n",
    "                            start_year=start_year, \n",
    "                            annual_demand=annual_demand, \n",
    "                            distribution_cost=total_cost_grid, \n",
    "                            om_costs=total_om_grid, \n",
    "                            distribution_life=30, \n",
    "                            discount_rate=discount_rate)"
   ]
  },
  {
   "cell_type": "code",
   "execution_count": 54,
   "id": "b28f9439-5db3-48a4-985d-c4a8f48ee51e",
   "metadata": {},
   "outputs": [],
   "source": [
    "project_life = end_year - start_year\n",
    "total_sga = 0\n",
    "for year in range(project_life):\n",
    "    total_sga += total_cost_sga / ((1 + discount_rate) ** year)"
   ]
  },
  {
   "cell_type": "markdown",
   "id": "fe121d90",
   "metadata": {},
   "source": [
    "Transportation costs are defined as follows:"
   ]
  },
  {
   "cell_type": "code",
   "execution_count": 55,
   "id": "f25292ac",
   "metadata": {
    "scrolled": true
   },
   "outputs": [],
   "source": [
    "transportation_costs = trans_cost*len(households)"
   ]
  },
  {
   "cell_type": "markdown",
   "id": "1ed53dd9",
   "metadata": {},
   "source": [
    "## 7. Analysis"
   ]
  },
  {
   "cell_type": "markdown",
   "id": "1a7db392",
   "metadata": {},
   "source": [
    "From the previous section there are several outputs of interest, but in this part the focus will be on the variable *ret* and the GeoPandas dataframes *total_grid_gdf* and *poles_gdf*. On this regard, a better presentation of the results could be as:"
   ]
  },
  {
   "cell_type": "code",
   "execution_count": 56,
   "id": "e53dc0a6",
   "metadata": {},
   "outputs": [
    {
     "data": {
      "text/html": [
       "<div>\n",
       "<style scoped>\n",
       "    .dataframe tbody tr th:only-of-type {\n",
       "        vertical-align: middle;\n",
       "    }\n",
       "\n",
       "    .dataframe tbody tr th {\n",
       "        vertical-align: top;\n",
       "    }\n",
       "\n",
       "    .dataframe thead th {\n",
       "        text-align: right;\n",
       "    }\n",
       "</style>\n",
       "<table border=\"1\" class=\"dataframe\">\n",
       "  <thead>\n",
       "    <tr style=\"text-align: right;\">\n",
       "      <th></th>\n",
       "      <th>Name</th>\n",
       "      <th>Value</th>\n",
       "    </tr>\n",
       "  </thead>\n",
       "  <tbody>\n",
       "    <tr>\n",
       "      <th>0</th>\n",
       "      <td>PV Capacity [kWp]</td>\n",
       "      <td>103.900</td>\n",
       "    </tr>\n",
       "    <tr>\n",
       "      <th>1</th>\n",
       "      <td>Battery capacity [kWh]</td>\n",
       "      <td>349.600</td>\n",
       "    </tr>\n",
       "    <tr>\n",
       "      <th>2</th>\n",
       "      <td>Diesel Capacity [kW]</td>\n",
       "      <td>2.800</td>\n",
       "    </tr>\n",
       "    <tr>\n",
       "      <th>3</th>\n",
       "      <td>Annual diesel fuel usage [litre]</td>\n",
       "      <td>388.330</td>\n",
       "    </tr>\n",
       "    <tr>\n",
       "      <th>4</th>\n",
       "      <td>Trunk Line [km]</td>\n",
       "      <td>4.700</td>\n",
       "    </tr>\n",
       "    <tr>\n",
       "      <th>5</th>\n",
       "      <td>Laterals [km]</td>\n",
       "      <td>13.000</td>\n",
       "    </tr>\n",
       "    <tr>\n",
       "      <th>6</th>\n",
       "      <td>Service lines [km]</td>\n",
       "      <td>13.100</td>\n",
       "    </tr>\n",
       "    <tr>\n",
       "      <th>7</th>\n",
       "      <td>No Poles</td>\n",
       "      <td>280.000</td>\n",
       "    </tr>\n",
       "    <tr>\n",
       "      <th>8</th>\n",
       "      <td>CAPEX generation [USD]</td>\n",
       "      <td>519608.635</td>\n",
       "    </tr>\n",
       "    <tr>\n",
       "      <th>9</th>\n",
       "      <td>CAPEX Distribution [USD]</td>\n",
       "      <td>133536.000</td>\n",
       "    </tr>\n",
       "    <tr>\n",
       "      <th>10</th>\n",
       "      <td>Cost of Labour [USD]</td>\n",
       "      <td>10390.000</td>\n",
       "    </tr>\n",
       "    <tr>\n",
       "      <th>11</th>\n",
       "      <td>Cost of Transport [USD]</td>\n",
       "      <td>16497.000</td>\n",
       "    </tr>\n",
       "    <tr>\n",
       "      <th>12</th>\n",
       "      <td>Total CAPEX [USD]</td>\n",
       "      <td>680032.000</td>\n",
       "    </tr>\n",
       "    <tr>\n",
       "      <th>13</th>\n",
       "      <td>OPEX Generation [USD]</td>\n",
       "      <td>41468.000</td>\n",
       "    </tr>\n",
       "    <tr>\n",
       "      <th>14</th>\n",
       "      <td>OPEX Distribution [USD]</td>\n",
       "      <td>77950.000</td>\n",
       "    </tr>\n",
       "    <tr>\n",
       "      <th>15</th>\n",
       "      <td>OPEX SG&amp;A [USD]</td>\n",
       "      <td>126793.000</td>\n",
       "    </tr>\n",
       "    <tr>\n",
       "      <th>16</th>\n",
       "      <td>Total OPEX [USD]</td>\n",
       "      <td>246212.000</td>\n",
       "    </tr>\n",
       "    <tr>\n",
       "      <th>17</th>\n",
       "      <td>Annual OPEX [USD]</td>\n",
       "      <td>21227.000</td>\n",
       "    </tr>\n",
       "    <tr>\n",
       "      <th>18</th>\n",
       "      <td>NPC [USD]</td>\n",
       "      <td>926244.000</td>\n",
       "    </tr>\n",
       "    <tr>\n",
       "      <th>19</th>\n",
       "      <td>lcoe [USD/kWh]</td>\n",
       "      <td>0.396</td>\n",
       "    </tr>\n",
       "  </tbody>\n",
       "</table>\n",
       "</div>"
      ],
      "text/plain": [
       "                                Name       Value\n",
       "0                  PV Capacity [kWp]     103.900\n",
       "1             Battery capacity [kWh]     349.600\n",
       "2               Diesel Capacity [kW]       2.800\n",
       "3   Annual diesel fuel usage [litre]     388.330\n",
       "4                    Trunk Line [km]       4.700\n",
       "5                      Laterals [km]      13.000\n",
       "6                 Service lines [km]      13.100\n",
       "7                           No Poles     280.000\n",
       "8             CAPEX generation [USD]  519608.635\n",
       "9           CAPEX Distribution [USD]  133536.000\n",
       "10              Cost of Labour [USD]   10390.000\n",
       "11           Cost of Transport [USD]   16497.000\n",
       "12                 Total CAPEX [USD]  680032.000\n",
       "13             OPEX Generation [USD]   41468.000\n",
       "14           OPEX Distribution [USD]   77950.000\n",
       "15                   OPEX SG&A [USD]  126793.000\n",
       "16                  Total OPEX [USD]  246212.000\n",
       "17                 Annual OPEX [USD]   21227.000\n",
       "18                         NPC [USD]  926244.000\n",
       "19                    lcoe [USD/kWh]       0.396"
      ]
     },
     "execution_count": 56,
     "metadata": {},
     "output_type": "execute_result"
    }
   ],
   "source": [
    "results = {\n",
    "    \"Name\": [\"PV Capacity [kWp]\",\n",
    "             \"Battery capacity [kWh]\", \n",
    "             \"Diesel Capacity [kW]\",\n",
    "             \"Annual diesel fuel usage [litre]\",\n",
    "              \n",
    "             \"Trunk Line [km]\",\n",
    "             \"Laterals [km]\",\n",
    "             \"Service lines [km]\",\n",
    "             \"No Poles\",         \n",
    "             \n",
    "             \"CAPEX generation [USD]\",\n",
    "             \"CAPEX Distribution [USD]\",\n",
    "             \"Cost of Labour [USD]\",\n",
    "             \"Cost of Transport [USD]\",\n",
    "             \"Total CAPEX [USD]\",\n",
    "             \n",
    "             \"OPEX Generation [USD]\",\n",
    "             \"OPEX Distribution [USD]\",\n",
    "             \"OPEX SG&A [USD]\",\n",
    "             \"Total OPEX [USD]\",\n",
    "             \"Annual OPEX [USD]\",\n",
    "             \"NPC [USD]\",\n",
    "             \n",
    "             \"lcoe [USD/kWh]\",\n",
    "       \n",
    "            ],\n",
    "    \n",
    "    \n",
    "    \"Value\": [round(ret[\"best_solution\"][0],1), #PV_Capacity\n",
    "              round(ret[\"best_solution\"][1],1),  #Battery Capacity\n",
    "              round(ret[\"best_solution\"][2],1), #Diesel Capacity\n",
    "              round(ret[\"additional_values\"][10],2), #Diesel fuel usage\n",
    "              \n",
    "              round(sum(trunks_gdf[\"Length\"])/1000,1), #kilometers_grid_main_line\n",
    "              round(sum(secondary_gdf[\"Length\"])/1000,1), #kilometers_grid_secondary_lines\n",
    "              round(sum(service_gdf[\"Length\"])/1000,1),#kilometers_services_drops\n",
    "              sum(poles_gdf[\"No. Poles\"]), #Number of poles\n",
    "              \n",
    "              round(ret[\"additional_values\"][2],3), # CAPEX of generation - total_cost_labour - transportation_costs, #Cost of Assets\n",
    "              round(total_cost_grid,0), # CAPEX of distribution\n",
    "              total_cost_labour, #Cost of Labour\n",
    "              transportation_costs, #Cost of transport\n",
    "              round(total_cost_grid,0) + math.ceil(round(ret[\"additional_values\"][2],3)) + total_cost_labour + transportation_costs, #Total_capex\n",
    "              \n",
    "              round(ret[\"additional_values\"][4],0) + round(ret[\"additional_values\"][3],0), #Total OPEX Generation\n",
    "              round(lcoe_distribution[2],0), #Total OPEX Distribution\n",
    "              round(total_sga, 0),\n",
    "              round(ret[\"additional_values\"][4] + ret[\"additional_values\"][3] + lcoe_distribution[2] + total_sga, 0), #Total OPEX\n",
    "              round(ret[\"additional_values\"][-1] + lcoe_distribution[-1] + total_cost_sga, 0), #Annual OPEX\n",
    "              round(ret[\"additional_values\"][9] + lcoe_distribution[3] + total_sga + total_cost_labour + transportation_costs, 0), # Net Present Costs\n",
    "              \n",
    "              round(ret[\"lcoe\"],3) + round(lcoe_distribution[0],3), #lcoe_generation + lcoe_distribution\n",
    "             ]\n",
    "}\n",
    "\n",
    "results_pd = pd.DataFrame(results, columns=[\"Name\", \"Value\"])\n",
    "\n",
    "# Assign result columns to the original community aplha shape\n",
    "for key, value in results_pd.set_index('Name')['Value'].to_dict().items():\n",
    "    cluster_polygons[key] = value\n",
    "\n",
    "results_pd"
   ]
  },
  {
   "cell_type": "markdown",
   "id": "2fd885f5",
   "metadata": {},
   "source": [
    "### 7. Results"
   ]
  },
  {
   "cell_type": "markdown",
   "id": "b4b9be05",
   "metadata": {},
   "source": [
    "The results can be exported. Specifically, CSV files will be generated from some of the dataframes, and the same process can be applied to the GeoDataFrames. Earlier in the notebook the *outpath* folder was defined to stored out results:"
   ]
  },
  {
   "cell_type": "markdown",
   "id": "26357590",
   "metadata": {},
   "source": [
    "#### Exporting summary results as .CSV"
   ]
  },
  {
   "cell_type": "code",
   "execution_count": 57,
   "id": "308f51ad",
   "metadata": {},
   "outputs": [],
   "source": [
    "name_file = community + \"_Results\"\n",
    "results_pd.to_csv(os.path.join(outpath, name_file +\".csv\"))"
   ]
  },
  {
   "cell_type": "markdown",
   "id": "b450ac3b",
   "metadata": {},
   "source": [
    "#### Exporting simulated distribution lines into a .gpkg"
   ]
  },
  {
   "cell_type": "code",
   "execution_count": 58,
   "id": "a0e6d641",
   "metadata": {},
   "outputs": [],
   "source": [
    "name_gpd_file_d = os.path.join(outpath, \"{} distribution_grid.gpkg\".format(community))\n",
    "name_gpd_file_c = os.path.join(outpath, \"{} results.gpkg\".format(community))\n",
    "\n",
    "## Export trunk lines\n",
    "trunks_gdf.to_crs(origin_crs, inplace=True)\n",
    "trunks_gdf.to_file(name_gpd_file_d, layer='Trunk_line', driver='GPKG')\n",
    "\n",
    "## Export laterals\n",
    "secondary_gdf.to_crs(origin_crs, inplace=True)\n",
    "secondary_gdf.to_file(name_gpd_file_d, layer='Laterals', driver='GPKG')\n",
    "\n",
    "## Export service lines\n",
    "service_gdf.to_crs(origin_crs, inplace=True)\n",
    "service_gdf.to_file(name_gpd_file_d, layer='Service_lines', driver='GPKG')\n",
    "\n",
    "## Export poles\n",
    "#poles_gdf.to_crs(origin_crs, inplace=True)\n",
    "poles_gdf.to_file(name_gpd_file_d, layer='Poles', driver='GPKG')"
   ]
  },
  {
   "cell_type": "markdown",
   "id": "05b9bdda",
   "metadata": {},
   "source": [
    "#### Exporting community with results into a .gpkg"
   ]
  },
  {
   "cell_type": "code",
   "execution_count": 5,
   "id": "7405b026",
   "metadata": {},
   "outputs": [
    {
     "ename": "NameError",
     "evalue": "name 'cluster_polygons' is not defined",
     "output_type": "error",
     "traceback": [
      "\u001b[1;31m---------------------------------------------------------------------------\u001b[0m",
      "\u001b[1;31mNameError\u001b[0m                                 Traceback (most recent call last)",
      "Cell \u001b[1;32mIn[5], line 1\u001b[0m\n\u001b[1;32m----> 1\u001b[0m cluster_polygons\u001b[38;5;241m.\u001b[39mto_file(name_gpd_file_c, layer\u001b[38;5;241m=\u001b[39mcommunity, driver\u001b[38;5;241m=\u001b[39m\u001b[38;5;124m'\u001b[39m\u001b[38;5;124mGPKG\u001b[39m\u001b[38;5;124m'\u001b[39m)\n",
      "\u001b[1;31mNameError\u001b[0m: name 'cluster_polygons' is not defined"
     ]
    }
   ],
   "source": [
    "cluster_polygons.to_file(name_gpd_file_c, layer=community, driver='GPKG')"
   ]
  },
  {
   "cell_type": "markdown",
   "id": "a43c98ca-a185-494b-a0a2-7cf692d8f284",
   "metadata": {},
   "source": [
    "###Checking Errors"
   ]
  },
  {
   "cell_type": "code",
   "execution_count": 6,
   "id": "699c0290-0a74-4864-9584-808c4301b7ce",
   "metadata": {},
   "outputs": [
    {
     "data": {
      "text/plain": [
       "''"
      ]
     },
     "execution_count": 6,
     "metadata": {},
     "output_type": "execute_result"
    }
   ],
   "source": [
    "import tkinter as tk\n",
    "from tkinter import filedialog, messagebox\n",
    "root = tk.Tk()\n",
    "root.withdraw()\n",
    "root.attributes(\"-topmost\", True)"
   ]
  },
  {
   "cell_type": "code",
   "execution_count": 7,
   "id": "ff7a0a9e-1b5e-485d-b9c4-1fe97b2e468e",
   "metadata": {},
   "outputs": [],
   "source": [
    "messagebox.showinfo('OnSSET-MG', 'Select the clusters for MiniGrids')\n",
    "clusters = gpd.read_file(filedialog.askopenfilename(filetypes = ((\"vector\",[\"*.shp\", \"*.gpkg\", \"*.geojson\"]),(\"all files\",\"*.*\")))).to_crs(target_crs)"
   ]
  },
  {
   "cell_type": "code",
   "execution_count": 8,
   "id": "0e62b248-05f9-41f8-a7fe-026045d989a8",
   "metadata": {},
   "outputs": [],
   "source": [
    "messagebox.showinfo('OnSSET-MG', 'Select the clusters for MiniGrids')\n",
    "households_complete = gpd.read_file(filedialog.askopenfilename(filetypes = ((\"vector\",[\"*.shp\", \"*.gpkg\", \"*.geojson\"]),(\"all files\",\"*.*\")))).to_crs(target_crs)"
   ]
  },
  {
   "cell_type": "code",
   "execution_count": 9,
   "id": "e8e70214-837d-4006-83a9-bfdef8182759",
   "metadata": {},
   "outputs": [
    {
     "data": {
      "text/html": [
       "<div>\n",
       "<style scoped>\n",
       "    .dataframe tbody tr th:only-of-type {\n",
       "        vertical-align: middle;\n",
       "    }\n",
       "\n",
       "    .dataframe tbody tr th {\n",
       "        vertical-align: top;\n",
       "    }\n",
       "\n",
       "    .dataframe thead th {\n",
       "        text-align: right;\n",
       "    }\n",
       "</style>\n",
       "<table border=\"1\" class=\"dataframe\">\n",
       "  <thead>\n",
       "    <tr style=\"text-align: right;\">\n",
       "      <th></th>\n",
       "      <th>id</th>\n",
       "      <th>COMUNIDAD</th>\n",
       "      <th>area_m2</th>\n",
       "      <th>NUMPOINTS</th>\n",
       "      <th>geometry</th>\n",
       "    </tr>\n",
       "  </thead>\n",
       "  <tbody>\n",
       "    <tr>\n",
       "      <th>0</th>\n",
       "      <td>140</td>\n",
       "      <td>CASERÍO CHECA</td>\n",
       "      <td>1.135623764608562</td>\n",
       "      <td>276.0</td>\n",
       "      <td>MULTIPOLYGON (((602379.148 1689428.769, 601621...</td>\n",
       "    </tr>\n",
       "    <tr>\n",
       "      <th>1</th>\n",
       "      <td>141</td>\n",
       "      <td>ÁLDEA SALITRE GRANDE</td>\n",
       "      <td>0.6694772030390128</td>\n",
       "      <td>295.0</td>\n",
       "      <td>MULTIPOLYGON (((640791.882 1677523.383, 640754...</td>\n",
       "    </tr>\n",
       "    <tr>\n",
       "      <th>2</th>\n",
       "      <td>133</td>\n",
       "      <td>CASERÍO PILAS FRONTERA</td>\n",
       "      <td>2.0810196000939905</td>\n",
       "      <td>600.0</td>\n",
       "      <td>MULTIPOLYGON (((595172.080 1676625.381, 595301...</td>\n",
       "    </tr>\n",
       "    <tr>\n",
       "      <th>3</th>\n",
       "      <td>134</td>\n",
       "      <td>CASERÍO NUEVAS MARAVILLAS</td>\n",
       "      <td>1.8412998323351368</td>\n",
       "      <td>260.0</td>\n",
       "      <td>MULTIPOLYGON (((598938.013 1671878.389, 599487...</td>\n",
       "    </tr>\n",
       "    <tr>\n",
       "      <th>4</th>\n",
       "      <td>118</td>\n",
       "      <td>CASERÍO CACALEP</td>\n",
       "      <td>0.9422914443765282</td>\n",
       "      <td>275.0</td>\n",
       "      <td>MULTIPOLYGON (((656374.628 1701431.468, 655805...</td>\n",
       "    </tr>\n",
       "  </tbody>\n",
       "</table>\n",
       "</div>"
      ],
      "text/plain": [
       "    id                  COMUNIDAD             area_m2  NUMPOINTS  \\\n",
       "0  140              CASERÍO CHECA   1.135623764608562      276.0   \n",
       "1  141       ÁLDEA SALITRE GRANDE  0.6694772030390128      295.0   \n",
       "2  133     CASERÍO PILAS FRONTERA  2.0810196000939905      600.0   \n",
       "3  134  CASERÍO NUEVAS MARAVILLAS  1.8412998323351368      260.0   \n",
       "4  118            CASERÍO CACALEP  0.9422914443765282      275.0   \n",
       "\n",
       "                                            geometry  \n",
       "0  MULTIPOLYGON (((602379.148 1689428.769, 601621...  \n",
       "1  MULTIPOLYGON (((640791.882 1677523.383, 640754...  \n",
       "2  MULTIPOLYGON (((595172.080 1676625.381, 595301...  \n",
       "3  MULTIPOLYGON (((598938.013 1671878.389, 599487...  \n",
       "4  MULTIPOLYGON (((656374.628 1701431.468, 655805...  "
      ]
     },
     "execution_count": 9,
     "metadata": {},
     "output_type": "execute_result"
    }
   ],
   "source": [
    "clusters.head()"
   ]
  },
  {
   "cell_type": "code",
   "execution_count": 45,
   "id": "61d04ef7-ccee-4c03-b5f6-0dac96327988",
   "metadata": {},
   "outputs": [],
   "source": [
    "single_cluster = clusters[clusters[\"COMUNIDAD\"]==\"COMUNIDAD INDÍGENA QUEQCHI SANTA ELENA COPÓN\"]\n",
    "households_single = gpd.clip(households_complete, single_cluster)\n",
    "households_single[\"geometry\"]=households_single.centroid\n",
    "\n",
    "# This will retrieve the polygon with the attribute 'COMUNIDAD' equal to the community name. This may need updating if working with another dataset\n",
    "polygon_data = single_cluster.to_crs(target_crs)\n",
    "polygon= polygon_data.geometry.iloc[0]"
   ]
  },
  {
   "cell_type": "code",
   "execution_count": 50,
   "id": "7eeaf926-6756-4c55-92eb-1120727d5920",
   "metadata": {},
   "outputs": [
    {
     "data": {
      "text/html": [
       "<div>\n",
       "<style scoped>\n",
       "    .dataframe tbody tr th:only-of-type {\n",
       "        vertical-align: middle;\n",
       "    }\n",
       "\n",
       "    .dataframe tbody tr th {\n",
       "        vertical-align: top;\n",
       "    }\n",
       "\n",
       "    .dataframe thead th {\n",
       "        text-align: right;\n",
       "    }\n",
       "</style>\n",
       "<table border=\"1\" class=\"dataframe\">\n",
       "  <thead>\n",
       "    <tr style=\"text-align: right;\">\n",
       "      <th></th>\n",
       "      <th>id</th>\n",
       "      <th>COMUNIDAD</th>\n",
       "      <th>area_m2</th>\n",
       "      <th>NUMPOINTS</th>\n",
       "      <th>geometry</th>\n",
       "    </tr>\n",
       "  </thead>\n",
       "  <tbody>\n",
       "    <tr>\n",
       "      <th>31</th>\n",
       "      <td>49</td>\n",
       "      <td>COMUNIDAD INDÍGENA QUEQCHI SANTA ELENA COPÓN</td>\n",
       "      <td>0.2654417542733848</td>\n",
       "      <td>262.0</td>\n",
       "      <td>MULTIPOLYGON (((727638.723 1737765.070, 727918...</td>\n",
       "    </tr>\n",
       "  </tbody>\n",
       "</table>\n",
       "</div>"
      ],
      "text/plain": [
       "    id                                     COMUNIDAD             area_m2  \\\n",
       "31  49  COMUNIDAD INDÍGENA QUEQCHI SANTA ELENA COPÓN  0.2654417542733848   \n",
       "\n",
       "    NUMPOINTS                                           geometry  \n",
       "31      262.0  MULTIPOLYGON (((727638.723 1737765.070, 727918...  "
      ]
     },
     "execution_count": 50,
     "metadata": {},
     "output_type": "execute_result"
    }
   ],
   "source": [
    "single_cluster"
   ]
  },
  {
   "cell_type": "code",
   "execution_count": 46,
   "id": "f3d427cb-af63-4c0a-a8fb-937bd20e474f",
   "metadata": {},
   "outputs": [
    {
     "data": {
      "image/png": "[encoded data removed]",
      "text/plain": [
       "<Figure size 640x480 with 1 Axes>"
      ]
     },
     "metadata": {},
     "output_type": "display_data"
    },
    {
     "data": {
      "image/png": "[encoded data removed]",
      "text/plain": [
       "<Figure size 1000x1000 with 1 Axes>"
      ]
     },
     "metadata": {},
     "output_type": "display_data"
    }
   ],
   "source": [
    "# Create trunk line(s)\n",
    "trunk_lines = create_trunk_line(polygon, spacing=150, plot=True)\n",
    "\n",
    "# Simplify the trunk line(s)\n",
    "trunk_lines, intersects = simplify_trunk_lines(trunk_lines, length_removal=150, split_distance=750, plot=True)\n",
    "\n",
    "trunk_lines_gdf = gpd.GeoDataFrame(geometry=trunk_lines)"
   ]
  },
  {
   "cell_type": "code",
   "execution_count": 47,
   "id": "4c94f739-3ac4-4f7a-8efa-683d6bcb15bf",
   "metadata": {},
   "outputs": [],
   "source": [
    "voronois = voronoi_areas(trunk_lines_gdf, polygon, plot=False)\n",
    "grid_row, poles_gdf_row, service_gdf_row, secondary_gdf_row, trunks_gdf_row=\\\n",
    "        creating_grid(trunk_lines, voronois, single_cluster[\"id\"], households_single, target_crs)"
   ]
  },
  {
   "cell_type": "code",
   "execution_count": 48,
   "id": "825cce4b-d413-4d88-906b-e7986883fc90",
   "metadata": {},
   "outputs": [
    {
     "data": {
      "text/html": [
       "<div>\n",
       "<style scoped>\n",
       "    .dataframe tbody tr th:only-of-type {\n",
       "        vertical-align: middle;\n",
       "    }\n",
       "\n",
       "    .dataframe tbody tr th {\n",
       "        vertical-align: top;\n",
       "    }\n",
       "\n",
       "    .dataframe thead th {\n",
       "        text-align: right;\n",
       "    }\n",
       "</style>\n",
       "<table border=\"1\" class=\"dataframe\">\n",
       "  <thead>\n",
       "    <tr style=\"text-align: right;\">\n",
       "      <th></th>\n",
       "      <th>Length</th>\n",
       "      <th>Type</th>\n",
       "      <th>geometry</th>\n",
       "      <th>id</th>\n",
       "    </tr>\n",
       "  </thead>\n",
       "  <tbody>\n",
       "    <tr>\n",
       "      <th>0</th>\n",
       "      <td>1035.677707</td>\n",
       "      <td>Trunk Line</td>\n",
       "      <td>MULTILINESTRING ((727853.232 1737437.494, 7277...</td>\n",
       "      <td>49</td>\n",
       "    </tr>\n",
       "    <tr>\n",
       "      <th>1</th>\n",
       "      <td>2822.381589</td>\n",
       "      <td>Secondary Line</td>\n",
       "      <td>MULTILINESTRING ((727657.387 1737700.999, 7276...</td>\n",
       "      <td>49</td>\n",
       "    </tr>\n",
       "    <tr>\n",
       "      <th>2</th>\n",
       "      <td>7826.920229</td>\n",
       "      <td>Service Line</td>\n",
       "      <td>MULTILINESTRING ((727853.232 1737437.494, 7278...</td>\n",
       "      <td>49</td>\n",
       "    </tr>\n",
       "  </tbody>\n",
       "</table>\n",
       "</div>"
      ],
      "text/plain": [
       "        Length            Type  \\\n",
       "0  1035.677707      Trunk Line   \n",
       "1  2822.381589  Secondary Line   \n",
       "2  7826.920229    Service Line   \n",
       "\n",
       "                                            geometry  id  \n",
       "0  MULTILINESTRING ((727853.232 1737437.494, 7277...  49  \n",
       "1  MULTILINESTRING ((727657.387 1737700.999, 7276...  49  \n",
       "2  MULTILINESTRING ((727853.232 1737437.494, 7278...  49  "
      ]
     },
     "execution_count": 48,
     "metadata": {},
     "output_type": "execute_result"
    }
   ],
   "source": [
    "grid_row"
   ]
  },
  {
   "cell_type": "code",
   "execution_count": 49,
   "id": "909bc048-95d8-4eb4-9587-d6db8a8c3f96",
   "metadata": {},
   "outputs": [
    {
     "data": {
      "text/plain": [
       "<Axes: >"
      ]
     },
     "execution_count": 49,
     "metadata": {},
     "output_type": "execute_result"
    },
    {
     "data": {
      "image/png": "[encoded data removed]",
      "text/plain": [
       "<Figure size 640x480 with 1 Axes>"
      ]
     },
     "metadata": {},
     "output_type": "display_data"
    }
   ],
   "source": [
    "grid_row.plot()"
   ]
  },
  {
   "cell_type": "code",
   "execution_count": 15,
   "id": "73622ea3-11ae-4535-8a6c-0c94ad662882",
   "metadata": {},
   "outputs": [],
   "source": [
    "pole_dist=50"
   ]
  },
  {
   "cell_type": "code",
   "execution_count": 16,
   "id": "2c4dff60-71be-40a5-ac31-9c5f46a3ca23",
   "metadata": {},
   "outputs": [],
   "source": [
    "grid_row, poles_gdf_row, service_gdf_row, secondary_gdf_row, trunks_gdf_row=\\\n",
    "        creating_grid_method_2(trunk_lines_gdf, voronois, single_cluster[\"id\"], households_single, target_crs, pole_dist=pole_dist)"
   ]
  },
  {
   "cell_type": "code",
   "execution_count": 23,
   "id": "72e7efde-46e0-4f62-b3ef-95747d47263a",
   "metadata": {},
   "outputs": [],
   "source": [
    "for vor_regions in voronois:\n",
    "    inter=vor_regions.intersection(line)"
   ]
  },
  {
   "cell_type": "code",
   "execution_count": 28,
   "id": "ae5a023b-5972-4108-b665-42dd22c53bcc",
   "metadata": {},
   "outputs": [],
   "source": [
    "multi_trunks_len = []\n",
    "multi_trunks_len.append(MultiLineString(trunk_lines))"
   ]
  },
  {
   "cell_type": "code",
   "execution_count": 29,
   "id": "0eb33641-4cc1-43d3-a6e8-4aac05255800",
   "metadata": {},
   "outputs": [
    {
     "data": {
      "text/plain": [
       "[<MULTILINESTRING ((8e+05 1.75e+06, 8e+05 1.75e+06, 8e+05 1.75e+06, 8e+05 1.7...>]"
      ]
     },
     "execution_count": 29,
     "metadata": {},
     "output_type": "execute_result"
    }
   ],
   "source": [
    "multi_trunks_len"
   ]
  },
  {
   "cell_type": "code",
   "execution_count": 12,
   "id": "44fc629b-e032-4828-99cc-f289674a3c32",
   "metadata": {},
   "outputs": [],
   "source": [
    "def creating_grid(trunk_lines, voronois, community, households_centroids, target_crs, pole_dist=50, buffer=25):\n",
    "    trunk_p = []\n",
    "    assigned_p = []\n",
    "    lv_l = []\n",
    "    service_l = []\n",
    "    mst_p = []\n",
    "    all_p = []\n",
    "    long_services = 0\n",
    "    \n",
    "    multi_trunks = []\n",
    "    multi_trunks_len = []\n",
    "    \n",
    "    multi_secondary = []\n",
    "    multi_secondary_len = []\n",
    "    \n",
    "    multi_service = []\n",
    "    multi_service_len = []\n",
    "    \n",
    "    multi_poles = []\n",
    "    multi_all_poles = []\n",
    "\n",
    "    if len(trunk_lines) == len(voronois):\n",
    "        for id in range(len(trunk_lines)):\n",
    "            # Create candidate poles along the trunk line within the Voronoi cell\n",
    "            all_poles, trunk_poles, poles, angle_radians_w, angle_radians_l = create_candidate_poles_old(\n",
    "                voronois[id], trunk_lines[id], pole_dist, buffer=buffer, plot=False)\n",
    "        \n",
    "            # Append the newly created trunk poles and all poles to the respective lists\n",
    "            trunk_p += trunk_poles\n",
    "            all_p += all_poles\n",
    "                \n",
    "            # Clip household centroids to the current Voronoi cell\n",
    "            polygon_households = households_centroids.clip(voronois[id]).copy()  # Ensure it's a copy\n",
    "        \n",
    "            # Convert MultiPoint geometries to Point if necessary\n",
    "            polygon_households['geometry'] = polygon_households['geometry'].apply(convert_multipoint_to_point)\n",
    "        \n",
    "            # Assign households to the nearest poles and calculate service drops\n",
    "            assigned_poles, service_drops = assign_households(all_poles, polygon_households)\n",
    "        \n",
    "            # Append the assigned poles and service drops to their respective lists\n",
    "            assigned_p += all_poles\n",
    "            service_l += service_drops\n",
    "        \n",
    "            # Count service lines longer than 70 units\n",
    "            for s in service_drops:\n",
    "                if s.length > 70:\n",
    "                    long_services += 1\n",
    "        \n",
    "            # Weighting factor for the minimum spanning tree (MST)\n",
    "            weight = 0.5\n",
    "        \n",
    "            # Generate low-voltage lines (secondary lines) using MST of poles\n",
    "            lv_lines, mst_poles = lv_lines_mst(\n",
    "                all_poles, trunk_poles, assigned_poles, angle_radians_w, angle_radians_l, weight, plot=False)\n",
    "        \n",
    "            # Append the MST poles and low-voltage lines to their respective lists\n",
    "            lv_l += lv_lines\n",
    "            mst_p += mst_poles\n",
    "    \n",
    "    else:\n",
    "        for vor_regions in voronois:\n",
    "            for line in trunk_lines:\n",
    "                intersection = vor_regions.intersection(line)\n",
    "                if not intersection.is_empty and isinstance(intersection, LineString):\n",
    "                    # Calculate the percentage of overlap\n",
    "                    intersection_length = intersection.length\n",
    "                    total_line_length = line.length\n",
    "                    overlap_percentage = (intersection_length / total_line_length) * 100\n",
    "        \n",
    "                    if overlap_percentage >70:\n",
    "                        #print(f\"The line overlaps {overlap_percentage:.2f}% of its length with the polygon.\")\n",
    "                        \n",
    "                        all_poles, trunk_poles, poles, angle_radians_w, angle_radians_l =\\\n",
    "                        create_candidate_poles_old(vor_regions, line, pole_dist, buffer=25, plot=False)\n",
    "        \n",
    "                        trunk_p += trunk_poles\n",
    "                        all_p += all_poles\n",
    "                            \n",
    "                        polygon_households = households_centroids.clip(vor_regions)\n",
    "                    \n",
    "                        # Ensure households are not MultiPoint\n",
    "                        polygon_households.loc[:, 'geometry'] = polygon_households['geometry'].apply(convert_multipoint_to_point)\n",
    "                        \n",
    "                        assigned_poles, service_drops = assign_households(all_poles, polygon_households)\n",
    "                    \n",
    "                        assigned_p += all_poles\n",
    "                        service_l += service_drops\n",
    "                    \n",
    "                        for s in service_drops:\n",
    "                            if s.length > 70:\n",
    "                                long_services += 1\n",
    "                    \n",
    "                        weight = 0.5  # Weighting factor for the MST\n",
    "                    \n",
    "                        lv_lines, mst_poles = lv_lines_mst(all_poles, trunk_poles, assigned_poles, angle_radians_w, angle_radians_l, weight, plot=False)\n",
    "                    \n",
    "                        lv_l += lv_lines\n",
    "                        mst_p += mst_poles\n",
    "    \n",
    "    # Combine all generated poles into a MultiPoint geometry\n",
    "    multi_all_poles.append(MultiPoint(all_p))\n",
    "\n",
    "    # Combine the trunk lines into a MultiLineString geometry and calculate their lengths\n",
    "    multi_trunks.append(MultiLineString(trunk_lines))\n",
    "    multi_trunks_len.append(MultiLineString(trunk_lines).length)\n",
    "    \n",
    "    # Combine the secondary lines into a MultiLineString geometry and calculate their lengths\n",
    "    multi_secondary.append(MultiLineString(lv_l))\n",
    "    multi_secondary_len.append(MultiLineString(lv_l).length)\n",
    "    \n",
    "    # Combine the service lines into a MultiLineString geometry and calculate their lengths\n",
    "    multi_service.append(MultiLineString(service_l))\n",
    "    multi_service_len.append(MultiLineString(service_l).length)\n",
    "    \n",
    "    # Combine the MST poles into a MultiPoint geometry\n",
    "    multi_poles.append(MultiPoint(mst_p))\n",
    "\n",
    "    # Create GeoDataFrame for trunk lines\n",
    "    trunks_gdf = gpd.GeoDataFrame({\n",
    "        'Length': multi_trunks_len,\n",
    "        'Type': \"Trunk Line\",\n",
    "        'geometry': multi_trunks,\n",
    "        'id':  community\n",
    "    })\n",
    "    trunks_gdf.set_crs(target_crs, inplace=True)  # Set the coordinate reference system (CRS)\n",
    "\n",
    "    # Create GeoDataFrame for secondary lines\n",
    "    secondary_gdf = gpd.GeoDataFrame({\n",
    "        'Length': multi_secondary_len,\n",
    "        'Type': \"Secondary Line\",\n",
    "        'geometry': multi_secondary,\n",
    "        'id': community\n",
    "    })\n",
    "    secondary_gdf.set_crs(target_crs, inplace=True)\n",
    "\n",
    "    # Create GeoDataFrame for service lines\n",
    "    service_gdf = gpd.GeoDataFrame({\n",
    "        'Length': multi_service_len,\n",
    "        'Type': \"Service Line\",\n",
    "        'geometry': multi_service,\n",
    "        'id': community\n",
    "    })\n",
    "    service_gdf.set_crs(target_crs, inplace=True)\n",
    "\n",
    "    # Create GeoDataFrame for poles\n",
    "    poles_gdf = gpd.GeoDataFrame({\n",
    "        'geometry': multi_poles,\n",
    "        'No. Poles': [len(p.geoms) for p in multi_poles],\n",
    "        'id': community\n",
    "    })\n",
    "    poles_gdf.set_crs(target_crs, inplace=True)\n",
    "\n",
    "    # Combine all line geometries (trunk, secondary, service) into a single GeoDataFrame\n",
    "    total_grid_gdf = gpd.GeoDataFrame(pd.concat([trunks_gdf, secondary_gdf, service_gdf], ignore_index=True))\n",
    "\n",
    "    # Return the combined grid GeoDataFrame, poles GeoDataFrame, and individual line GeoDataFrames\n",
    "    return total_grid_gdf, poles_gdf, service_gdf, secondary_gdf, trunks_gdf"
   ]
  },
  {
   "cell_type": "code",
   "execution_count": 5,
   "id": "b92c2afe-6fe8-491e-9ce0-01cb9857aa15",
   "metadata": {},
   "outputs": [],
   "source": [
    "def create_trunk_line(polygon, spacing=50, plot=True):\n",
    "    \n",
    "    # Extract the boundary of the polygon\n",
    "    boundary = polygon.boundary\n",
    "    \n",
    "    # Step 3: Generate evenly spaced points along the boundary\n",
    "    # Get the length of the boundary\n",
    "    boundary_length = boundary.length\n",
    "    \n",
    "    # Generate points along the boundary\n",
    "    points = []\n",
    "    distance = 0\n",
    "    while distance < boundary_length:\n",
    "        point = boundary.interpolate(distance)\n",
    "        points.append(point)\n",
    "        distance += spacing\n",
    "    \n",
    "    # Step 4: Convert the points to a GeoDataFrame\n",
    "    points_gdf = gpd.GeoDataFrame(geometry=points)\n",
    "    \n",
    "    # Convert the list of points to a NumPy array\n",
    "    point_array = np.array([[point.x, point.y] for point in points])\n",
    "    \n",
    "    minx, miny, maxx, maxy = polygon.bounds\n",
    "    \n",
    "    # Calculate padding as a fraction of the bounding box size (e.g., 10% of the max dimension)\n",
    "    width = maxx - minx\n",
    "    height = maxy - miny\n",
    "    padding = max(width, height) * 0.1  # 10% of the larger dimension\n",
    "    \n",
    "    extra_points = np.array([\n",
    "        [minx - padding, miny - padding],\n",
    "        [maxx + padding, miny - padding],\n",
    "        [maxx + padding, maxy + padding],\n",
    "        [minx - padding, maxy + padding]\n",
    "    ])\n",
    "    \n",
    "    all_points = np.vstack([point_array, extra_points])\n",
    "    \n",
    "    vor = Voronoi(all_points, furthest_site=False)\n",
    "    \n",
    "    # Create a list to hold the polygons\n",
    "    voronoi_polygons = []\n",
    "    \n",
    "    # Iterate over Voronoi regions and intersect them with the polygon\n",
    "    for region in vor.regions:\n",
    "        #if len(region) > 2:\n",
    "        if not -1 in region and len(region) > 0:\n",
    "            # Extract the vertices of the region\n",
    "            vertices = [vor.vertices[i] for i in region]\n",
    "            # Create a polygon from the vertices\n",
    "    \n",
    "            voronoi_polygon = Polygon(vertices)\n",
    "            # Intersect the polygon with the given polygon\n",
    "            try:\n",
    "                intersection = voronoi_polygon.intersection(polygon)\n",
    "                if intersection.is_empty:\n",
    "                    continue\n",
    "                if intersection.geom_type == 'Polygon':\n",
    "                    voronoi_polygons.append(intersection)\n",
    "                elif intersection.geom_type == 'MultiPolygon':\n",
    "                    voronoi_polygons.append(intersection)\n",
    "            except:  # ToDo\n",
    "                pass\n",
    "    \n",
    "    \n",
    "    # Create a GeoDataFrame from the Voronoi polygons\n",
    "    gdf_voronoi = gpd.GeoDataFrame(geometry=voronoi_polygons)\n",
    "    \n",
    "    # Create a list to hold the line segments that do not intersect with the exterior of the single polygon\n",
    "    lines = []\n",
    "    \n",
    "    # Buffer polygon boundary by 10 m \n",
    "    #boundary_polygon = polygon.geometry.iloc[0].boundary.buffer(distance=10)\n",
    "    boundary_polygon = polygon.boundary.buffer(distance=10)  \n",
    "    \n",
    "    # Iterate over each polygon in the GeoDataFrame and remove lines from the voronoi polygons that intersect with the buffered polygon\n",
    "    for polygon in gdf_voronoi.geometry:\n",
    "        # Get the boundary of the voronoi polygon\n",
    "        polygon_boundary = polygon.boundary\n",
    "        try: # ToDo MultiPolygon???\n",
    "            # Split the boundary into line segments\n",
    "            for i in range(len(polygon_boundary.coords) - 1):\n",
    "                part_start = polygon_boundary.coords[i]\n",
    "                part_end = polygon_boundary.coords[i + 1]\n",
    "                line = LineString([part_start, part_end])\n",
    "                line_reverse = LineString([part_end, part_start])\n",
    "                # Check if the segment intersects with the exterior of the single polygon\n",
    "                if not line.intersects(boundary_polygon):\n",
    "                    if (line not in lines) & (line_reverse not in lines):\n",
    "                        lines.append(line)\n",
    "        except:\n",
    "            pass\n",
    "    \n",
    "    # Create a MultiLineString from the list of lines\n",
    "    multiline = MultiLineString(lines)\n",
    "    \n",
    "    # Create a GeoDataFrame from the MultiLineString\n",
    "    trunk_lines = gpd.GeoDataFrame(geometry=[multiline])\n",
    "    if plot:\n",
    "        # Plot the result\n",
    "        ax = gdf_voronoi.plot(alpha=0.5, edgecolor='k')\n",
    "        points_gdf.plot(ax=ax, color='blue', markersize=50, label='Boundary Points')\n",
    "        trunk_lines.plot(ax=ax, color='red', label='Trunk')\n",
    "        ax.legend()\n",
    "        \n",
    "    return trunk_lines"
   ]
  },
  {
   "cell_type": "code",
   "execution_count": 97,
   "id": "ba075b7b-cd58-43da-833b-4d1314a0c1fd",
   "metadata": {},
   "outputs": [
    {
     "name": "stdout",
     "output_type": "stream",
     "text": [
      "0 CASERÍO CHECA\n",
      "1 ÁLDEA SALITRE GRANDE\n",
      "2 CASERÍO PILAS FRONTERA\n",
      "3 CASERÍO NUEVAS MARAVILLAS\n",
      "4 CASERÍO CACALEP\n",
      "5 CASERÍO CHE CRUZ\n",
      "6 CASERÍO TUITZQUIAN\n",
      "7 CASERÍO NUEVO SALVADOR, ALDEA CHANCOL, CHIANTLA\n",
      "8 CASERÍO NUEVO SALVADOR\n",
      "9 ALDEA YAXEU\n",
      "10 CASERÍO LOMA BONITA SECTOR I Y II\n",
      "11 CANTÓN SAQUISBAJ\n",
      "12 ALDEA NUEVO MIRAMAR\n",
      "13 ALDEA JOM TZALA\n",
      "14 ALDEA NUEVO TRIUNFO\n",
      "15 CASERÍO YULAUREL\n",
      "16 ALDEA EL QUETZAL II\n",
      "17 ALDEA BUENA VISTA 15 DE MAYO\n",
      "18 ALDEA YALANHUITZ\n",
      "19 ALDEA NUEVA CONCEPCIÓN\n",
      "20 ALDEA EL PLATANAL\n",
      "21 ALDEA POJOM\n",
      "22 ALDEA RÍO AZUL\n",
      "23 ALDEA ACALPOXLAC\n",
      "24 ALDEA EL COROZO\n",
      "25 CASERÍO SIGLO XIX\n",
      "26 ALDEA NUEVO SINA\n",
      "27 ALDEA SINLAC FLOR SANTO DOMINGO\n",
      "28 ALDEA NUEVO MALACATÁN\n",
      "29 ALDEA NUEVO CUCHUMATAN\n",
      "30 COMUNIDAD INDÍGENA QUEQCHI ALDEA SANTA MARÍA SAMOCOCH\n",
      "31 COMUNIDAD INDÍGENA QUEQCHI SANTA ELENA COPÓN\n",
      "32 ALDEA QOQ\"OLA GRANDE\n",
      "33 ALDEA SAN RABINAC GRANDE\n",
      "34 ALDEA SACRABINAC LOTE TRES\n",
      "35 ALDEA SANTA CRUZ EL ZAPOTE\n",
      "36 ALDEA LOS CIMIENTOS\n",
      "37 ALDEA LA UNIÓN\n",
      "38 CASERÍO EL CEIBO\n",
      "39 CASERÍO NUEVO AMANECER\n",
      "40 CASERÍO BRISAS DE CHIQUIBUL\n",
      "41 CASERÍO SACUL ARRIBA\n",
      "42 CASERÍO LA COMPUERTA\n",
      "43 CASERÍO LINDA VISTA\n",
      "44 CASERÍO LA ARGENTINA\n",
      "45 CASERÍO MACHACA I\n",
      "46 CASERÍO CONCOMA\n",
      "47 CASERÍO EL CAOBA\n",
      "48 CASERÍO RÍO COROZAL\n",
      "49 CASERÍO SECOYAB\n",
      "50 CASERÍO SANTA AMELIA\n",
      "51 ALDEA EN NARANJO\n",
      "52 CASERÍO NIMLAJA NARANJAL\n",
      "53 ALDEA RAXAH\n",
      "54 CASERÍO PROCJA PASACUC\n",
      "55 CASERÍO JORDAN FINCA EL ZAPOTE\n",
      "56 SECTOR SAN FELIPE, CASERÍO LAS PALMAS\n",
      "57 LOTIFICACIÓN NUEVA MÁQUINA DE LA ALDEA NUEVA MÁQUINA\n",
      "58 CASERÍO LAS BRISAS CHINPANTUN\n",
      "59 CASERÍO ROCJA PURIBAL\n",
      "60 CASERÍO XALACHE\n",
      "61 ALDEA NIMLAJACOC\n",
      "62 CASERÍO LAS CONCHAS\n",
      "63 CASERÍO LA SULTANA\n",
      "64 CASERÍO SEMUY I\n",
      "65 ALDEA SAN PEDRO CANAHU\n",
      "66 CASERÍO YIQUICHE CANAHU\n",
      "67 ALDEA CAQUIHA\n",
      "68 ALDEA SECOCPUR\n",
      "69 CASERÍO SAN ISIDRO YAXCABNAL I\n",
      "70 CASERÍO LAS PROMESAS\n",
      "71 CASERÍO RÍO MOJARRAS CAMPAMAC\n",
      "72 ALDEA NUEVA AQUIL\n",
      "73 ALDEA CHAJMACAN\n",
      "74 CASERÍO NUEVA ISRAEL\n",
      "75 ALDEA CHINASAYUB\n",
      "76 ALDEA NIMLASAYUB\n",
      "77 ALDEA SIGUANHA SECTOR I\n",
      "78 CASERÍO SANTO TOMAS PURAHUB\n",
      "79 ALDEA CHILATZ I Y II\n",
      "80 ALDEA ESPERANZA CHILATZ\n",
      "81 ALDEA CHIQUELEU\n",
      "82 CASERÍO SAN ANTONIO IV\n",
      "83 ALDEA SAN LUCAS SEQUILLA\n",
      "84 ALDEA MATANZAS\n",
      "85 ALDEA SANTA BARBARA\n",
      "86 CASERÍO LOS ANGELES\n",
      "87 CASERÍO LA TURBINA\n",
      "88 CASERÍO LA ROZONA\n",
      "89 CASERÍO PUEBLO VIEJO\n",
      "90 ALDEA SAN LUCAS\n",
      "91 PARCELAMIENTO LIMÓN ZARCO\n",
      "92 CASERÍO POMBAAQ, MICROREGION I\n",
      "93 CASERÍO CHINAPANCALA, MICROREGION I\n",
      "94 ALDEA SEMOCOCH\n",
      "95 ALDEA SAN PABLO I, MICROREGION VIII\n",
      "96 ALDEA CHINEBAL,MICROREGION VIII\n",
      "97 ALDEA BOCANCHA, MICROREGIÓN VIII\n",
      "98 COMUNIDAD ALDEA PLAYA PATAXTE,MICROREGION II\n",
      "99 ALDEA GUARITAS, MICROREGIÓN II\n",
      "100 ALDEA CHAPIN ABAJO, MICROREGIÓN II\n",
      "101 CASERÍO NUEVA JERUSALEM LOTE 5\n",
      "102 ALDEA SANTO DOMINGO LOTE 10\n",
      "103 ALDEASOCELA, MICROREGIÓN III\n",
      "104 ALDEA NUEVA ESPERANZA TUNICO, MICROREGION III\n",
      "105 ALDEA LAS PACAYAS\n",
      "106 ALDEA ARENALES\n",
      "107 CASERÍO CHINAMILAGRO\n",
      "108 ALDEA CHIACAL\n",
      "109 ALDEA CHACALTE\n",
      "110 ALDEA CHAMES XICACACO\n",
      "111 ALDEA CHICANUZ\n",
      "112 ALDEA PANZAMALA\n",
      "113 CASERÍO LOS PINARES\n",
      "114 CASERÍO EL ARENAL CENTRO\n",
      "115 CASERÍO SEOCOB EL ARENAL I\n",
      "116 ALDEA SAN MIGUEL SECHOCHOC\n",
      "117 ALDEA TAPIL\n",
      "118 ALDEA SEHIX CANTZUL\n",
      "119 ALDEA SEPOCIL\n",
      "120 CASERÍO CHAJLOCOM\n",
      "121 CASERÍO SEBACH SEPAMAC\n",
      "122 CASERÍO TZALAMILA\n",
      "123 CASERÍO SANTA MARÍA CAMELIAS\n",
      "124 CASERÍO ALPES CENTRO\n",
      "125 CASERÍO TRES RÍOS\n",
      "126 CASERÍO SANTA ROSARIO\n",
      "127 CASERÍO CUMBRE SAN JULIAN\n",
      "128 CASERÍO SILLAB VOLCÁN\n",
      "129 CASERÍO SISBILÁ\n",
      "130 COMUNIDAD ANTIGUO SECAPUR\n",
      "131 CASERÍO SAN PEDRO SETEM\n",
      "132 CASERÍO SANTA CECILIA\n",
      "133 CASERÍO SESACKAR\n",
      "134 ALDEA CAXLAMPOM\n",
      "135 CASERÍO SECOLAY 1\n",
      "136 ALDEA CAQUITUL\n",
      "137 CASERÍO SAN ANTONIO SEPACUITE\n",
      "138 BARRIO POZA AZUL I\n",
      "139 PARCELAMINTO ESFUERZO 3\n",
      "140 ALDEA SACAL II\n",
      "141 CASERÍO SANTA SOFÍA\n",
      "142 CASERÍO CANGUACHA\n",
      "143 CASERÍO LA CONSTANCI A\n",
      "144 PARCELAMIENTO BOCA NUEVA\n",
      "145 ALDEA CARRIZAL GRANDE\n",
      "146 ALDEA NUEVA\n",
      "147 ALDEA SANTA GERTRUDIS\n",
      "148 ALDEA LA FLOR SE SESAJAL\n",
      "149 CASERÍO NACIEMIENTO YALMACHAC\n"
     ]
    }
   ],
   "source": [
    "for idx in clusters.index:\n",
    "    print(idx, clusters.iloc[idx].COMUNIDAD)"
   ]
  },
  {
   "cell_type": "code",
   "execution_count": null,
   "id": "c84dfd99-429f-4ee2-babb-1aee92a502b1",
   "metadata": {},
   "outputs": [],
   "source": [
    "def creating_grid(trunk_lines, voronois, community, households_centroids, target_crs, pole_dist=50, buffer=25):\n",
    "    trunk_p = []\n",
    "    assigned_p = []\n",
    "    lv_l = []\n",
    "    service_l = []\n",
    "    mst_p = []\n",
    "    all_p = []\n",
    "    long_services = 0\n",
    "    \n",
    "    multi_trunks = []\n",
    "    multi_trunks_len = []\n",
    "    \n",
    "    multi_secondary = []\n",
    "    multi_secondary_len = []\n",
    "    \n",
    "    multi_service = []\n",
    "    multi_service_len = []\n",
    "    \n",
    "    multi_poles = []\n",
    "    multi_all_poles = []\n",
    "\n",
    "    if len(trunk_lines) == len(voronois):\n",
    "        for id in range(len(trunk_lines)):\n",
    "            # Create candidate poles along the trunk line within the Voronoi cell\n",
    "            all_poles, trunk_poles, poles, angle_radians_w, angle_radians_l = create_candidate_poles_old(\n",
    "                voronois[id], trunk_lines[id], pole_dist, buffer=buffer, plot=False)\n",
    "        \n",
    "            # Append the newly created trunk poles and all poles to the respective lists\n",
    "            trunk_p += trunk_poles\n",
    "            all_p += all_poles\n",
    "                \n",
    "            # Clip household centroids to the current Voronoi cell\n",
    "            polygon_households = households_centroids.clip(voronois[id]).copy()  # Ensure it's a copy\n",
    "        \n",
    "            # Convert MultiPoint geometries to Point if necessary\n",
    "            polygon_households.loc[:, 'geometry'] = polygon_households['geometry'].apply(convert_multipoint_to_point)\n",
    "\n",
    "            # Assign households to the nearest poles and calculate service drops\n",
    "            assigned_poles, service_drops = assign_households(all_poles, polygon_households)\n",
    "        \n",
    "            # Append the assigned poles and service drops to their respective lists\n",
    "            assigned_p += all_poles\n",
    "            service_l += service_drops\n",
    "        \n",
    "            # Count service lines longer than 70 units\n",
    "            for s in service_drops:\n",
    "                if s.length > 70:\n",
    "                    long_services += 1\n",
    "        \n",
    "            # Weighting factor for the minimum spanning tree (MST)\n",
    "            weight = 0.5\n",
    "        \n",
    "            # Generate low-voltage lines (secondary lines) using MST of poles\n",
    "            lv_lines, mst_poles = lv_lines_mst(\n",
    "                all_poles, trunk_poles, assigned_poles, angle_radians_w, angle_radians_l, weight, plot=False)\n",
    "        \n",
    "            # Append the MST poles and low-voltage lines to their respective lists\n",
    "            lv_l += lv_lines\n",
    "            mst_p += mst_poles\n",
    "    \n",
    "    else:\n",
    "        for vor_regions in voronois:\n",
    "            for line in trunk_lines:\n",
    "                intersection = vor_regions.intersection(line)\n",
    "                if not intersection.is_empty and isinstance(intersection, LineString):\n",
    "                    # Calculate the percentage of overlap\n",
    "                    intersection_length = intersection.length\n",
    "                    total_line_length = line.length\n",
    "                    overlap_percentage = (intersection_length / total_line_length) * 100\n",
    "        \n",
    "                    if overlap_percentage >70:\n",
    "                        #print(f\"The line overlaps {overlap_percentage:.2f}% of its length with the polygon.\")\n",
    "                        \n",
    "                        all_poles, trunk_poles, poles, angle_radians_w, angle_radians_l =\\\n",
    "                        create_candidate_poles_old(vor_regions, line, pole_dist, buffer=25, plot=False)\n",
    "        \n",
    "                        trunk_p += trunk_poles\n",
    "                        all_p += all_poles\n",
    "                            \n",
    "                        polygon_households = households_centroids.clip(vor_regions)\n",
    "                    \n",
    "                        # Ensure households are not MultiPoint\n",
    "                        polygon_households.loc[:, 'geometry'] = polygon_households['geometry'].apply(convert_multipoint_to_point)\n",
    "                    \n",
    "                        assigned_poles, service_drops = assign_households(all_poles, polygon_households)\n",
    "                    \n",
    "                        assigned_p += all_poles\n",
    "                        service_l += service_drops\n",
    "                    \n",
    "                        for s in service_drops:\n",
    "                            if s.length > 70:\n",
    "                                long_services += 1\n",
    "                    \n",
    "                        weight = 0.5  # Weighting factor for the MST\n",
    "                    \n",
    "                        lv_lines, mst_poles = lv_lines_mst(all_poles, trunk_poles, assigned_poles, angle_radians_w, angle_radians_l, weight, plot=False)\n",
    "                    \n",
    "                        lv_l += lv_lines\n",
    "                        mst_p += mst_poles\n",
    "    \n",
    "    # Combine all generated poles into a MultiPoint geometry\n",
    "    multi_all_poles.append(MultiPoint(all_p))\n",
    "\n",
    "    # Combine the trunk lines into a MultiLineString geometry and calculate their lengths\n",
    "    multi_trunks.append(MultiLineString(trunk_lines))\n",
    "    multi_trunks_len.append(MultiLineString(trunk_lines).length)\n",
    "    \n",
    "    # Combine the secondary lines into a MultiLineString geometry and calculate their lengths\n",
    "    multi_secondary.append(MultiLineString(lv_l))\n",
    "    multi_secondary_len.append(MultiLineString(lv_l).length)\n",
    "    \n",
    "    # Combine the service lines into a MultiLineString geometry and calculate their lengths\n",
    "    multi_service.append(MultiLineString(service_l))\n",
    "    multi_service_len.append(MultiLineString(service_l).length)\n",
    "    \n",
    "    # Combine the MST poles into a MultiPoint geometry\n",
    "    multi_poles.append(MultiPoint(mst_p))\n",
    "\n",
    "    # Create GeoDataFrame for trunk lines\n",
    "    trunks_gdf = gpd.GeoDataFrame({\n",
    "        'Length': multi_trunks_len,\n",
    "        'Type': \"Trunk Line\",\n",
    "        'geometry': multi_trunks,\n",
    "        'id':  community\n",
    "    })\n",
    "    trunks_gdf.set_crs(target_crs, inplace=True)  # Set the coordinate reference system (CRS)\n",
    "\n",
    "    # Create GeoDataFrame for secondary lines\n",
    "    secondary_gdf = gpd.GeoDataFrame({\n",
    "        'Length': multi_secondary_len,\n",
    "        'Type': \"Secondary Line\",\n",
    "        'geometry': multi_secondary,\n",
    "        'id': community\n",
    "    })\n",
    "    secondary_gdf.set_crs(target_crs, inplace=True)\n",
    "\n",
    "    # Create GeoDataFrame for service lines\n",
    "    service_gdf = gpd.GeoDataFrame({\n",
    "        'Length': multi_service_len,\n",
    "        'Type': \"Service Line\",\n",
    "        'geometry': multi_service,\n",
    "        'id': community\n",
    "    })\n",
    "    service_gdf.set_crs(target_crs, inplace=True)\n",
    "\n",
    "    # Create GeoDataFrame for poles\n",
    "    poles_gdf = gpd.GeoDataFrame({\n",
    "        'geometry': multi_poles,\n",
    "        'No. Poles': [len(p.geoms) for p in multi_poles],\n",
    "        'id': community\n",
    "    })\n",
    "    poles_gdf.set_crs(target_crs, inplace=True)\n",
    "\n",
    "    # Combine all line geometries (trunk, secondary, service) into a single GeoDataFrame\n",
    "    total_grid_gdf = gpd.GeoDataFrame(pd.concat([trunks_gdf, secondary_gdf, service_gdf], ignore_index=True))\n",
    "\n",
    "    # Return the combined grid GeoDataFrame, poles GeoDataFrame, and individual line GeoDataFrames\n",
    "    return total_grid_gdf, poles_gdf, service_gdf, secondary_gdf, trunks_gdf"
   ]
  }
 ],
 "metadata": {
  "kernelspec": {
   "display_name": "Python 3 (ipykernel)",
   "language": "python",
   "name": "python3"
  },
  "language_info": {
   "codemirror_mode": {
    "name": "ipython",
    "version": 3
   },
   "file_extension": ".py",
   "mimetype": "text/x-python",
   "name": "python",
   "nbconvert_exporter": "python",
   "pygments_lexer": "ipython3",
   "version": "3.12.5"
  }
 },
 "nbformat": 4,
 "nbformat_minor": 5
}
