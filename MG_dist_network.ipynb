{
 "cells": [
  {
   "cell_type": "markdown",
   "id": "responsible-stream",
   "metadata": {},
   "source": [
    "# Import neccessary packages"
   ]
  },
  {
   "cell_type": "code",
   "execution_count": 1,
   "id": "civil-courtesy",
   "metadata": {},
   "outputs": [],
   "source": [
    "import geopandas as gpd\n",
    "import numpy as np\n",
    "import pandas as pd\n",
    "import matplotlib.pyplot as plt\n",
    "from scipy.spatial import Voronoi, cKDTree\n",
    "from shapely.geometry import LineString, Point, MultiLineString, Polygon, MultiPoint\n",
    "from shapely.ops import linemerge, nearest_points, voronoi_diagram, unary_union, split, substring\n",
    "from shapely import minimum_rotated_rectangle, unary_union\n",
    "import networkx as nx\n",
    "import math\n",
    "import warnings\n",
    "\n",
    "warnings.filterwarnings('ignore')"
   ]
  },
  {
   "cell_type": "markdown",
   "id": "adapted-rubber",
   "metadata": {},
   "source": [
    "# Import functions"
   ]
  },
  {
   "cell_type": "code",
   "execution_count": 2,
   "id": "found-hughes",
   "metadata": {},
   "outputs": [],
   "source": [
    "from dist_funcs import *"
   ]
  },
  {
   "cell_type": "markdown",
   "id": "stupid-devil",
   "metadata": {},
   "source": [
    "# Read example data"
   ]
  },
  {
   "cell_type": "code",
   "execution_count": 3,
   "id": "outstanding-calculator",
   "metadata": {},
   "outputs": [],
   "source": [
    "target_crs = 'EPSG:32736'  # Select a CRS that is in meters"
   ]
  },
  {
   "cell_type": "code",
   "execution_count": 4,
   "id": "bizarre-variety",
   "metadata": {},
   "outputs": [],
   "source": [
    "# Read and project the polygons\n",
    "cluster_polygons = gpd.read_file(r'Input_Data\\settlement_polygons.gpkg').to_crs(target_crs)\n",
    "households = gpd.read_file(r'Input_Data\\buildings.gpkg').to_crs(target_crs)"
   ]
  },
  {
   "cell_type": "markdown",
   "id": "comparable-first",
   "metadata": {},
   "source": [
    "# Example multiple location"
   ]
  },
  {
   "cell_type": "code",
   "execution_count": 6,
   "id": "absolute-recycling",
   "metadata": {},
   "outputs": [
    {
     "name": "stdout",
     "output_type": "stream",
     "text": [
      "2460 0.1 3041.1 6918.2 21850.6 0 198\n"
     ]
    }
   ],
   "source": [
    "import time\n",
    "\n",
    "# Seelect which settlement polygons tu use based on the 'Site Unique ID (VIDA)_2' column\n",
    "#fids = [20794, 300, 2460, 2885, 7695, 13999, 3425]\n",
    "fids = [2460]\n",
    "\n",
    "multi_trunks = []\n",
    "multi_trunks_len = []\n",
    "\n",
    "multi_secondary = []\n",
    "multi_secondary_len = []\n",
    "\n",
    "multi_service = []\n",
    "multi_service_len = []\n",
    "\n",
    "multi_poles = []\n",
    "multi_all_poles = []\n",
    "\n",
    "for fid in fids:\n",
    "    t1 = time.time()\n",
    "\n",
    "    # Get the polygon from the gdf of all polygons\n",
    "    polygon_data = cluster_polygons.loc[cluster_polygons['Site Unique ID (VIDA)_2'] == fid]\n",
    "    \n",
    "    # Select the geometry\n",
    "    polygon = polygon_data.geometry.iloc[0]\n",
    "\n",
    "    # Create trunk line(s)\n",
    "    trunk_lines = create_trunk_line(polygon, spacing=100, plot=False)\n",
    "\n",
    "    # Simplify the trunk line(s)\n",
    "    trunk_lines, intersects = simplify_trunk_lines(trunk_lines, length_removal=200, split_distance=750, plot=False)\n",
    "\n",
    "    trunk_lines_gdf = gpd.GeoDataFrame(geometry=trunk_lines)\n",
    "    \n",
    "    # Identify which part of the polygon belongs to which part of the trunk line(s)\n",
    "    voronois = voronoi_areas(trunk_lines_gdf, polygon, plot=False)\n",
    "\n",
    "    # Parameters for perpendicular lines\n",
    "    spacing = 50 # Spacing distance between potential candidate poles for buildings to connect to (using target CRS)\n",
    "\n",
    "    trunk_p = []\n",
    "    assigned_p = []\n",
    "    lv_l = []\n",
    "    service_l = []\n",
    "    mst_p = []\n",
    "    all_p = []\n",
    "    long_services = 0\n",
    "\n",
    "    # Iterate over each part of the trunk line \n",
    "    for id in range(len(trunk_lines)):\n",
    "        all_poles, trunk_poles, poles, angle_radians_w, angle_radians_l = create_candidate_poles(voronois[id], trunk_lines[id], spacing, buffer=25, plot=False)\n",
    "    \n",
    "        trunk_p += trunk_poles\n",
    "        all_p += all_poles\n",
    "            \n",
    "        polygon_households = households.clip(voronois[id])\n",
    "    \n",
    "        # Ensure households are not MultiPoint\n",
    "        polygon_households['geometry'] = polygon_households['geometry'].apply(convert_multipoint_to_point)\n",
    "\n",
    "        assigned_poles, service_drops = assign_households(all_poles, polygon_households)\n",
    "    \n",
    "        assigned_p += all_poles\n",
    "        service_l += service_drops\n",
    "\n",
    "        for s in service_drops:\n",
    "            if s.length > 70:\n",
    "                long_services += 1\n",
    "    \n",
    "        weight = 0.5  # Weighting factor for the MST\n",
    "    \n",
    "        lv_lines, mst_poles = lv_lines_mst(all_poles, trunk_poles, assigned_poles, angle_radians_w, angle_radians_l, weight, plot=False)\n",
    "    \n",
    "        lv_l += lv_lines\n",
    "        mst_p += mst_poles\n",
    "\n",
    "    multi_all_poles.append(MultiPoint(all_p))\n",
    "\n",
    "    multi_trunks.append(MultiLineString(trunk_lines))\n",
    "    multi_trunks_len.append(MultiLineString(trunk_lines).length)\n",
    "\n",
    "    multi_secondary.append(MultiLineString(lv_l))\n",
    "    multi_secondary_len.append(MultiLineString(lv_l).length)\n",
    "\n",
    "    multi_service.append(MultiLineString(service_l))\n",
    "    multi_service_len.append(MultiLineString(service_l).length)\n",
    "\n",
    "    multi_poles.append(MultiPoint(mst_p))\n",
    "    \n",
    "    t2 = time.time()\n",
    "    print(fid, round((t2-t1)/60, 2), round(MultiLineString(trunk_lines).length, 1), round(MultiLineString(lv_l).length, 1), \n",
    "          round(MultiLineString(service_l).length, 1), long_services, len(mst_p))"
   ]
  },
  {
   "cell_type": "markdown",
   "id": "785e0998-5048-4130-bd59-9a10a68a37e0",
   "metadata": {},
   "source": [
    "# Export example results"
   ]
  },
  {
   "cell_type": "code",
   "execution_count": 8,
   "id": "engaged-avatar",
   "metadata": {},
   "outputs": [],
   "source": [
    "trunks_gdf = gpd.GeoDataFrame()\n",
    "trunks_gdf['VIDA_id'] = fids\n",
    "trunks_gdf['Length'] = multi_trunks_len\n",
    "trunks_gdf.geometry = multi_trunks\n",
    "trunks_gdf.set_crs(target_crs, inplace=True)\n",
    "trunks_gdf.to_crs(4326, inplace=True)\n",
    "trunks_gdf.to_file(r'Output_Data\\primary_trunks.geojson')\n",
    "\n",
    "secondary_gdf = gpd.GeoDataFrame()\n",
    "secondary_gdf['VIDA_id'] = fids\n",
    "secondary_gdf['Length'] = multi_secondary_len\n",
    "secondary_gdf.geometry = multi_secondary\n",
    "secondary_gdf.set_crs(target_crs, inplace=True)\n",
    "secondary_gdf.to_crs(4326, inplace=True)\n",
    "secondary_gdf.to_file(r'Output_Data\\secondary_lines.geojson')\n",
    "\n",
    "service_gdf = gpd.GeoDataFrame()\n",
    "service_gdf['VIDA_id'] = fids\n",
    "service_gdf['Length'] = multi_service_len\n",
    "service_gdf.geometry = multi_service\n",
    "service_gdf.set_crs(target_crs, inplace=True)\n",
    "service_gdf.to_crs(4326, inplace=True)\n",
    "service_gdf.to_file(r'Output_Data\\service_drops.geojson')\n",
    "\n",
    "poles_gdf = gpd.GeoDataFrame()\n",
    "poles_gdf['VIDA_id'] = fids\n",
    "poles_gdf.geometry = multi_poles\n",
    "poles_gdf.set_crs(target_crs, inplace=True)\n",
    "poles_gdf.to_crs(4326, inplace=True)\n",
    "poles_gdf.to_file(r'Output_Data\\poles.geojson')"
   ]
  },
  {
   "cell_type": "code",
   "execution_count": null,
   "id": "clean-absolute",
   "metadata": {},
   "outputs": [],
   "source": []
  }
 ],
 "metadata": {
  "kernelspec": {
   "display_name": "Python 3 (ipykernel)",
   "language": "python",
   "name": "python3"
  },
  "language_info": {
   "codemirror_mode": {
    "name": "ipython",
    "version": 3
   },
   "file_extension": ".py",
   "mimetype": "text/x-python",
   "name": "python",
   "nbconvert_exporter": "python",
   "pygments_lexer": "ipython3",
   "version": "3.12.2"
  }
 },
 "nbformat": 4,
 "nbformat_minor": 5
}
