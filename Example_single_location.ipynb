{
 "cells": [
  {
   "cell_type": "markdown",
   "metadata": {},
   "source": [
    "This notebook provides an example to run the hybrid mini-grid optimization for a single settlement.\n",
    "Hourly PV and temperature data are retrieved from renewables.ninja, and the hourly loads are estimated based on annual demand and example load curve shapes for each Tier of the Multi-Tier Franework. Both can be replaced if better data is available."
   ]
  },
  {
   "cell_type": "markdown",
   "metadata": {},
   "source": [
    "# Import neccessary packages"
   ]
  },
  {
   "cell_type": "code",
   "execution_count": 1,
   "metadata": {},
   "outputs": [],
   "source": [
    "from hybrids import *\n",
    "#from src.mgoptimization.pso import *\n",
    "import os\n",
    "#import pulp\n",
    "from scipy.optimize import Bounds, differential_evolution\n",
    "import time"
   ]
  },
  {
   "cell_type": "markdown",
   "metadata": {},
   "source": [
    "# Location of settlement"
   ]
  },
  {
   "cell_type": "code",
   "execution_count": 2,
   "metadata": {},
   "outputs": [],
   "source": [
    "long = -3\n",
    "lat = 24"
   ]
  },
  {
   "cell_type": "markdown",
   "metadata": {},
   "source": [
    "# Retrieve solar resource data for the location"
   ]
  },
  {
   "cell_type": "markdown",
   "metadata": {},
   "source": [
    "Select where to save the PV data"
   ]
  },
  {
   "cell_type": "code",
   "execution_count": 3,
   "metadata": {},
   "outputs": [],
   "source": [
    "pv_data_folder = 'Input_Data/pv'"
   ]
  },
  {
   "cell_type": "markdown",
   "metadata": {},
   "source": [
    "Enter your renewables.ninja token"
   ]
  },
  {
   "cell_type": "code",
   "execution_count": 4,
   "metadata": {},
   "outputs": [],
   "source": [
    "token = ''"
   ]
  },
  {
   "cell_type": "markdown",
   "metadata": {},
   "source": [
    "This cell retrieves the PV data from renewables.ninja using your token"
   ]
  },
  {
   "cell_type": "code",
   "execution_count": 5,
   "metadata": {},
   "outputs": [
    {
     "name": "stdout",
     "output_type": "stream",
     "text": [
      "No token provided\n"
     ]
    }
   ],
   "source": [
    "get_pv_data(lat, long, token, pv_data_folder)"
   ]
  },
  {
   "cell_type": "code",
   "execution_count": 6,
   "metadata": {},
   "outputs": [],
   "source": [
    "hourly_ghi, hourly_temp = read_environmental_data(os.path.join(pv_data_folder, 'pv_data_lat_{}_long_{}.csv'.format(lat, long)))"
   ]
  },
  {
   "cell_type": "markdown",
   "metadata": {},
   "source": [
    "# Calculate hourly load curve\n",
    "\n",
    "The below cells estimates the load (kWh) for each hour in the year based on the annual demand, and example load curve shapes for each Tier of the Multi-Tier Framework. If the hourly load curve is already known for the settlement, replace the load_curve variable with that load curve."
   ]
  },
  {
   "cell_type": "code",
   "execution_count": 7,
   "metadata": {},
   "outputs": [],
   "source": [
    "demand = 365*361 # Total annual demand (kWh) in location\n",
    "tier = 2  # Average Tier of the Multi-Tier Framework in the location."
   ]
  },
  {
   "cell_type": "code",
   "execution_count": 8,
   "metadata": {},
   "outputs": [],
   "source": [
    "load_curve = calc_load_curve(tier, demand)"
   ]
  },
  {
   "cell_type": "markdown",
   "metadata": {},
   "source": [
    "# Run the optimization to find the best combination of PV, diesel and batteries, as well as the corresponding LCOE"
   ]
  },
  {
   "cell_type": "markdown",
   "metadata": {},
   "source": [
    "Update the costs and other techno-economic variables below"
   ]
  },
  {
   "cell_type": "code",
   "execution_count": 9,
   "metadata": {},
   "outputs": [],
   "source": [
    "def optimizer_de(diesel_price,\n",
    "              hourly_ghi,\n",
    "              hourly_temp,\n",
    "              load_curve,\n",
    "              diesel_cost=261,  # diesel generator capital cost, USD/kW rated power\n",
    "              discount_rate=0.08,\n",
    "              n_chg=0.93,  # charge efficiency of battery\n",
    "              n_dis=1,  # discharge efficiency of battery\n",
    "              battery_cost=314,  # battery capital cost, USD/kWh of storage capacity\n",
    "              pv_cost=660,  # PV panel capital cost, USD/kW peak power\n",
    "              charge_controller=142,  # PV charge controller cost, USD/kW peak power, set to 0 if already included in pv_cost\n",
    "              pv_inverter=80,  # PV inverter cost, USD/kW peak power, set to 0 if already included in pv_cost\n",
    "              pv_life=25,  # PV panel expected lifetime, years\n",
    "              diesel_life=10,  # diesel generator expected lifetime, years\n",
    "              pv_om=0.015,  # annual OM cost of PV panels\n",
    "              diesel_om=0.1,  # annual OM cost of diesel generator\n",
    "              battery_inverter_cost=539,\n",
    "              battery_inverter_life=20,\n",
    "              dod_max=0.8,  # maximum depth of discharge of battery\n",
    "              inv_eff=0.93,  # inverter_efficiency\n",
    "              lpsp_max=0.02,  # maximum loss of load allowed over the year, in share of kWh\n",
    "              diesel_limit=0.5,\n",
    "              full_life_cycles=2500,\n",
    "              start_year=2020,\n",
    "              end_year=2030,\n",
    "              ):\n",
    "\n",
    "    demand = load_curve.sum()\n",
    "\n",
    "    # The following lines defines the solution space for the Particle Swarm Optimization (PSO) algorithm\n",
    "    battery_bounds = [0, 5 * demand / 365]\n",
    "    pv_bounds = [0, 5 * max(load_curve)]\n",
    "    diesel_bounds = [0.5, max(load_curve)]\n",
    "    \n",
    "    min_bounds = np.array([pv_bounds[0], battery_bounds[0], diesel_bounds[0]])\n",
    "    max_bounds = np.array([pv_bounds[1], battery_bounds[1], diesel_bounds[1]])\n",
    "    bounds = Bounds(min_bounds, max_bounds)\n",
    "\n",
    "    #print(zip(min_bounds, max_bounds))\n",
    "    #  This creates a series of the hour numbers (0-24) for one year\n",
    "    hour_numbers = np.empty(8760)\n",
    "    for i in prange(365):\n",
    "        for j in prange(24):\n",
    "            hour_numbers[i * 24 + j] = j\n",
    "\n",
    "    def opt_func(X):\n",
    "        lcoe = find_least_cost_option(X, hourly_temp, hourly_ghi, hour_numbers,\n",
    "                                       load_curve, inv_eff, n_dis, n_chg, dod_max,\n",
    "                                       diesel_price, end_year, start_year, pv_cost, charge_controller, pv_inverter, pv_om,\n",
    "                                       diesel_cost, diesel_om, battery_inverter_life, battery_inverter_cost, diesel_life, pv_life,\n",
    "                                       battery_cost, discount_rate, lpsp_max, diesel_limit, full_life_cycles)[0]\n",
    "                                       \n",
    "        return lcoe\n",
    "\n",
    "    minimizer_kwargs = {\"method\": \"BFGS\"}\n",
    "    pv_init = sum(pv_bounds)/2\n",
    "    battery_init = sum(battery_bounds)/2\n",
    "    diesel_init = sum(diesel_bounds)/2\n",
    "    x0 = [pv_init, battery_init, diesel_init]\n",
    "    \n",
    "    #return differential_(opt_func, x0, minimizer_kwargs=minimizer_kwargs, niter=200)\n",
    "    return differential_evolution(opt_func, bounds, popsize=15, init='latinhypercube') # init='halton' on newer env\n"
   ]
  },
  {
   "cell_type": "code",
   "execution_count": 10,
   "metadata": {},
   "outputs": [],
   "source": [
    "# Define variables\n",
    "\n",
    "start_year=2024\n",
    "end_year=2039\n",
    "diesel_price=0.5 # USD/liter of diesel fuel\n",
    "discount_rate=0.08\n",
    "diesel_cost=378  # diesel generator capital cost, USD/kW rated power\n",
    "battery_cost=589  # battery capital capital cost, USD/kWh of storage capacity\n",
    "full_life_cycles=2000 # full battery cycles before failure\n",
    "battery_inverter_cost=608  # USD/kW\n",
    "pv_cost=1147  # PV panel capital cost, USD/kW peak power\n",
    "pv_inverter=0 # PV inverter cost, USD/kW peak power, set to 0 if already included in pv_cost\n",
    "charge_controller=0 # PV charge controller cost, USD/kW peak power, set to 0 if already included in pv_cost\n",
    "diesel_limit=0.5 # Maximum share of generation over a year coming from diesel generator\n",
    "lpsp_max=0.005\n",
    "inv_eff=0.93\n",
    "n_chg=0.93  # charge efficiency of battery\n",
    "n_dis=1  # discharge efficiency of battery\n",
    "dod_max=0.8  # maximum depth of discharge of battery\n",
    "pv_om=0.015  # annual OM cost of PV panels\n",
    "diesel_om=0.1  # annual OM cost of diesel generator\n",
    "battery_inverter_life=20\n",
    "pv_life=25  # PV panel expected lifetime, years\n",
    "diesel_life=10  # diesel generator expected lifetime, years"
   ]
  },
  {
   "cell_type": "code",
   "execution_count": 11,
   "metadata": {},
   "outputs": [
    {
     "name": "stdout",
     "output_type": "stream",
     "text": [
      "Best LCOE: 0.265 USD/kWh\n",
      "Best PV capacity: 37.3 kW\n",
      "Best Battery capacity: 84.9 kWh\n",
      "Best Diesel capacity: 23.7 kWh\n",
      "Optimization time: 2.51 s\n",
      "\n",
      "Best LCOE: 0.274 USD/kWh\n",
      "Best PV capacity: 37.8 kW\n",
      "Best Battery capacity: 75.4 kWh\n",
      "Best Diesel capacity: 24.1 kWh\n",
      "Optimization time: 0.54 s\n",
      "\n",
      "Best LCOE: 0.265 USD/kWh\n",
      "Best PV capacity: 37.3 kW\n",
      "Best Battery capacity: 85.0 kWh\n",
      "Best Diesel capacity: 23.7 kWh\n",
      "Optimization time: 2.94 s\n",
      "\n",
      "Best LCOE: 0.265 USD/kWh\n",
      "Best PV capacity: 37.2 kW\n",
      "Best Battery capacity: 84.8 kWh\n",
      "Best Diesel capacity: 23.7 kWh\n",
      "Optimization time: 3.54 s\n",
      "\n",
      "Best LCOE: 0.265 USD/kWh\n",
      "Best PV capacity: 37.2 kW\n",
      "Best Battery capacity: 85.1 kWh\n",
      "Best Diesel capacity: 23.8 kWh\n",
      "Optimization time: 4.03 s\n",
      "\n"
     ]
    }
   ],
   "source": [
    "# The below runs the optimization for the location, and tries to identify the best combination of PV, Diesel & Battery\n",
    "# using scipy minimization (differential evolution). This is run 5 times just for testing purposes\n",
    "for i in range(5):\n",
    "    t1 = time.time()\n",
    "    ret = optimizer_de(diesel_price=diesel_price, \n",
    "                   hourly_ghi=hourly_ghi,\n",
    "                   hourly_temp=hourly_temp,\n",
    "                   load_curve=load_curve,\n",
    "                   start_year=start_year,\n",
    "                   end_year=end_year,\n",
    "                   discount_rate=discount_rate,\n",
    "                   diesel_cost=diesel_cost,  \n",
    "                   battery_cost=battery_cost,  \n",
    "                   full_life_cycles=full_life_cycles, \n",
    "                   battery_inverter_cost=battery_inverter_cost,  \n",
    "                   pv_cost=pv_cost,  \n",
    "                   pv_inverter=pv_inverter, \n",
    "                   charge_controller=charge_controller, \n",
    "                   diesel_limit=diesel_limit, \n",
    "                   lpsp_max=lpsp_max,\n",
    "                   inv_eff=inv_eff,\n",
    "                   n_chg=n_chg,\n",
    "                   n_dis=n_dis,\n",
    "                   dod_max=dod_max,\n",
    "                   pv_om=pv_om,\n",
    "                   diesel_om=diesel_om,\n",
    "                   battery_inverter_life=battery_inverter_life,\n",
    "                   pv_life=pv_life,\n",
    "                   diesel_life=diesel_life)  \n",
    "    t2 = time.time()\n",
    "\n",
    "    print('Best LCOE: {} USD/kWh'.format(round(ret.fun, 3)))\n",
    "    print('Best PV capacity: {} kW'.format(round(ret.x[0], 1)))\n",
    "    print('Best Battery capacity: {} kWh'.format(round(ret.x[1], 1)))\n",
    "    print('Best Diesel capacity: {} kWh'.format(round(ret.x[2], 1)))\n",
    "    print('Optimization time: {} s'.format(round(t2-t1, 2)))\n",
    "    print('')"
   ]
  },
  {
   "cell_type": "markdown",
   "metadata": {},
   "source": [
    "# Run optimal solution and visualize the results for two example days"
   ]
  },
  {
   "cell_type": "code",
   "execution_count": 12,
   "metadata": {},
   "outputs": [],
   "source": [
    "import matplotlib.pyplot as plt\n",
    "import numpy as np"
   ]
  },
  {
   "cell_type": "code",
   "execution_count": 13,
   "metadata": {},
   "outputs": [
    {
     "data": {
      "text/plain": [
       "<matplotlib.legend.Legend at 0x22366507c70>"
      ]
     },
     "execution_count": 13,
     "metadata": {},
     "output_type": "execute_result"
    },
    {
     "data": {
      "image/png": "[encoded data removed]",
      "text/plain": [
       "<Figure size 864x360 with 1 Axes>"
      ]
     },
     "metadata": {
      "needs_background": "light"
     },
     "output_type": "display_data"
    }
   ],
   "source": [
    "hour_numbers = np.empty(8760)\n",
    "for i in prange(365):\n",
    "    for j in prange(24):\n",
    "        hour_numbers[i * 24 + j] = j\n",
    "        \n",
    "pv = ret.x[0]\n",
    "battery = ret.x[1]\n",
    "diesel = ret.x[2]\n",
    "\n",
    "net_load, pv_gen = pv_generation(hourly_temp, hourly_ghi, pv, load_curve, inv_eff)\n",
    "\n",
    "diesel_generation_share, battery_life, unmet_demand_share, annual_fuel_consumption, \\\n",
    "        excess_gen_share, battery_soc_curve, diesel_gen_curve = \\\n",
    "        year_simulation(battery_size=battery, diesel_capacity=diesel, net_load=net_load, hour_numbers=hour_numbers,\n",
    "                        inv_eff=inv_eff, n_dis=n_dis, n_chg=n_chg, dod_max=dod_max,\n",
    "                        annual_demand=demand, full_life_cycles=full_life_cycles)\n",
    "\n",
    "battery_soc_curve = [i * dod_max + (1 - dod_max) for i in battery_soc_curve]\n",
    "battery_usage = battery * np.array(battery_soc_curve[2400:2448])\n",
    "\n",
    "plt.figure(figsize=(12, 5))\n",
    "plt.plot(load_curve[2400:2448], label='Load (kW)')\n",
    "plt.plot(pv_gen[2400:2448], label='PV gen (kW)')\n",
    "plt.plot(battery_usage, '--', label='Battery energy stored (kWh)')\n",
    "plt.plot(diesel_gen_curve[2400:2448], '--', label='Diesel gen (kW)')\n",
    "plt.legend(loc='upper left')"
   ]
  },
  {
   "cell_type": "code",
   "execution_count": null,
   "metadata": {},
   "outputs": [],
   "source": []
  }
 ],
 "metadata": {
  "kernelspec": {
   "display_name": "Python 3",
   "language": "python",
   "name": "python3"
  },
  "language_info": {
   "codemirror_mode": {
    "name": "ipython",
    "version": 3
   },
   "file_extension": ".py",
   "mimetype": "text/x-python",
   "name": "python",
   "nbconvert_exporter": "python",
   "pygments_lexer": "ipython3",
   "version": "3.8.5"
  }
 },
 "nbformat": 4,
 "nbformat_minor": 4
}
